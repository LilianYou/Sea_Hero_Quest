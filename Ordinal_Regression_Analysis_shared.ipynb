{
  "nbformat": 4,
  "nbformat_minor": 0,
  "metadata": {
    "colab": {
      "name": "Ordinal Regression Analysis-Shared.ipynb",
      "provenance": [],
      "collapsed_sections": []
    },
    "kernelspec": {
      "name": "python3",
      "display_name": "Python 3"
    },
    "language_info": {
      "name": "python"
    }
  },
  "cells": [
    {
      "cell_type": "markdown",
      "metadata": {
        "id": "GfxjSgHJ71iV"
      },
      "source": [
        "# Characterizing self-reported navigation ability using demographic information\n",
        "\n",
        "##Ordinal Logistic Regression\n",
        "\n",
        "### read data"
      ]
    },
    {
      "cell_type": "code",
      "metadata": {
        "id": "v0KOmPux77K9"
      },
      "source": [
        "import pandas as pd\n",
        "import numpy as np\n",
        "import seaborn as sns\n",
        "import matplotlib.pyplot as plt\n"
      ],
      "execution_count": 1,
      "outputs": []
    },
    {
      "cell_type": "code",
      "metadata": {
        "colab": {
          "base_uri": "https://localhost:8080/"
        },
        "id": "Kmxz7WdKcmNV",
        "outputId": "fc5f3c27-7987-4d98-9393-03d35d4c5e30"
      },
      "source": [
        "cd /content/drive/My Drive/Data/"
      ],
      "execution_count": 2,
      "outputs": [
        {
          "output_type": "stream",
          "name": "stdout",
          "text": [
            "/content/drive/.shortcut-targets-by-id/1pS1W_QFv_TreubUVne2-kLNgsBSGwhhw/Data\n"
          ]
        }
      ]
    },
    {
      "cell_type": "code",
      "metadata": {
        "id": "W4Z2S74v9nrd"
      },
      "source": [
        "df_raw = pd.read_csv(r'2019user_cleaned.csv')"
      ],
      "execution_count": 3,
      "outputs": []
    },
    {
      "cell_type": "code",
      "metadata": {
        "id": "KELFMJOkVQmP"
      },
      "source": [
        "df = df_raw.copy()[['age','education','gender','hand','home_environment','navigating_skills','sleep','travel_time']]"
      ],
      "execution_count": 4,
      "outputs": []
    },
    {
      "cell_type": "code",
      "metadata": {
        "id": "BORt1EVO5YIl"
      },
      "source": [
        "df_model = df.copy()\n",
        "recode_map = {\"gender\": {'f': 0,'m': 1},\n",
        "                   \"hand\": {'right': 0,'left': 1},\n",
        "                   \"education\":{\"high-school\":0, \"no-formal\":0,\"college\":1,\"university\":1},\n",
        "                   \"travel_time\":{\"less-30-mins\":0, \"30-mins-to-1-hour\":1, \"hour-plus\":2},\n",
        "                   \"home_environment\":{\"rural\":0,\"suburbs\":1,\"mixed\":1,\"city\":2}}\n",
        "df_model = df_model.replace(recode_map)"
      ],
      "execution_count": 5,
      "outputs": []
    },
    {
      "cell_type": "code",
      "metadata": {
        "colab": {
          "base_uri": "https://localhost:8080/",
          "height": 205
        },
        "id": "bg90-sUx5n1H",
        "outputId": "1cca5174-6b01-413c-9ef6-f195a3e379f1"
      },
      "source": [
        "df_model.head()"
      ],
      "execution_count": 6,
      "outputs": [
        {
          "output_type": "execute_result",
          "data": {
            "text/html": [
              "<div>\n",
              "<style scoped>\n",
              "    .dataframe tbody tr th:only-of-type {\n",
              "        vertical-align: middle;\n",
              "    }\n",
              "\n",
              "    .dataframe tbody tr th {\n",
              "        vertical-align: top;\n",
              "    }\n",
              "\n",
              "    .dataframe thead th {\n",
              "        text-align: right;\n",
              "    }\n",
              "</style>\n",
              "<table border=\"1\" class=\"dataframe\">\n",
              "  <thead>\n",
              "    <tr style=\"text-align: right;\">\n",
              "      <th></th>\n",
              "      <th>age</th>\n",
              "      <th>education</th>\n",
              "      <th>gender</th>\n",
              "      <th>hand</th>\n",
              "      <th>home_environment</th>\n",
              "      <th>navigating_skills</th>\n",
              "      <th>sleep</th>\n",
              "      <th>travel_time</th>\n",
              "    </tr>\n",
              "  </thead>\n",
              "  <tbody>\n",
              "    <tr>\n",
              "      <th>0</th>\n",
              "      <td>68.0</td>\n",
              "      <td>1</td>\n",
              "      <td>0</td>\n",
              "      <td>0</td>\n",
              "      <td>2</td>\n",
              "      <td>bad</td>\n",
              "      <td>8.0</td>\n",
              "      <td>0</td>\n",
              "    </tr>\n",
              "    <tr>\n",
              "      <th>1</th>\n",
              "      <td>18.0</td>\n",
              "      <td>0</td>\n",
              "      <td>1</td>\n",
              "      <td>1</td>\n",
              "      <td>1</td>\n",
              "      <td>good</td>\n",
              "      <td>7.0</td>\n",
              "      <td>0</td>\n",
              "    </tr>\n",
              "    <tr>\n",
              "      <th>2</th>\n",
              "      <td>18.0</td>\n",
              "      <td>0</td>\n",
              "      <td>1</td>\n",
              "      <td>1</td>\n",
              "      <td>2</td>\n",
              "      <td>very-good</td>\n",
              "      <td>7.0</td>\n",
              "      <td>2</td>\n",
              "    </tr>\n",
              "    <tr>\n",
              "      <th>3</th>\n",
              "      <td>21.0</td>\n",
              "      <td>1</td>\n",
              "      <td>0</td>\n",
              "      <td>0</td>\n",
              "      <td>1</td>\n",
              "      <td>good</td>\n",
              "      <td>7.0</td>\n",
              "      <td>1</td>\n",
              "    </tr>\n",
              "    <tr>\n",
              "      <th>4</th>\n",
              "      <td>36.0</td>\n",
              "      <td>1</td>\n",
              "      <td>1</td>\n",
              "      <td>0</td>\n",
              "      <td>0</td>\n",
              "      <td>very-good</td>\n",
              "      <td>5.0</td>\n",
              "      <td>1</td>\n",
              "    </tr>\n",
              "  </tbody>\n",
              "</table>\n",
              "</div>"
            ],
            "text/plain": [
              "    age  education  gender  ...  navigating_skills  sleep travel_time\n",
              "0  68.0          1       0  ...                bad    8.0           0\n",
              "1  18.0          0       1  ...               good    7.0           0\n",
              "2  18.0          0       1  ...          very-good    7.0           2\n",
              "3  21.0          1       0  ...               good    7.0           1\n",
              "4  36.0          1       1  ...          very-good    5.0           1\n",
              "\n",
              "[5 rows x 8 columns]"
            ]
          },
          "metadata": {},
          "execution_count": 6
        }
      ]
    },
    {
      "cell_type": "code",
      "metadata": {
        "id": "mNcY55Na6OKC"
      },
      "source": [
        "from sklearn.preprocessing import StandardScaler\n",
        "sc = StandardScaler()\n",
        "df_model[['age','sleep','home_environment','travel_time']] = sc.fit_transform(df_model[['age','sleep','home_environment','travel_time']])"
      ],
      "execution_count": 7,
      "outputs": []
    },
    {
      "cell_type": "code",
      "metadata": {
        "id": "3oTBHTy4-sWH"
      },
      "source": [
        "df_model['navigating_skills'] = pd.Categorical(df_model['navigating_skills'], \n",
        "                                 categories=['very-bad','bad','good','very-good'], \n",
        "                                 ordered=True)"
      ],
      "execution_count": 8,
      "outputs": []
    },
    {
      "cell_type": "code",
      "metadata": {
        "colab": {
          "base_uri": "https://localhost:8080/",
          "height": 205
        },
        "id": "zQXVpU5g7aPW",
        "outputId": "656e5f15-cf45-4ab6-e251-1eba200ea933"
      },
      "source": [
        "df_model.head()"
      ],
      "execution_count": 9,
      "outputs": [
        {
          "output_type": "execute_result",
          "data": {
            "text/html": [
              "<div>\n",
              "<style scoped>\n",
              "    .dataframe tbody tr th:only-of-type {\n",
              "        vertical-align: middle;\n",
              "    }\n",
              "\n",
              "    .dataframe tbody tr th {\n",
              "        vertical-align: top;\n",
              "    }\n",
              "\n",
              "    .dataframe thead th {\n",
              "        text-align: right;\n",
              "    }\n",
              "</style>\n",
              "<table border=\"1\" class=\"dataframe\">\n",
              "  <thead>\n",
              "    <tr style=\"text-align: right;\">\n",
              "      <th></th>\n",
              "      <th>age</th>\n",
              "      <th>education</th>\n",
              "      <th>gender</th>\n",
              "      <th>hand</th>\n",
              "      <th>home_environment</th>\n",
              "      <th>navigating_skills</th>\n",
              "      <th>sleep</th>\n",
              "      <th>travel_time</th>\n",
              "    </tr>\n",
              "  </thead>\n",
              "  <tbody>\n",
              "    <tr>\n",
              "      <th>0</th>\n",
              "      <td>2.123644</td>\n",
              "      <td>1</td>\n",
              "      <td>0</td>\n",
              "      <td>0</td>\n",
              "      <td>1.263252</td>\n",
              "      <td>bad</td>\n",
              "      <td>0.676731</td>\n",
              "      <td>-1.086344</td>\n",
              "    </tr>\n",
              "    <tr>\n",
              "      <th>1</th>\n",
              "      <td>-1.145045</td>\n",
              "      <td>0</td>\n",
              "      <td>1</td>\n",
              "      <td>1</td>\n",
              "      <td>-0.205049</td>\n",
              "      <td>good</td>\n",
              "      <td>-0.072897</td>\n",
              "      <td>-1.086344</td>\n",
              "    </tr>\n",
              "    <tr>\n",
              "      <th>2</th>\n",
              "      <td>-1.145045</td>\n",
              "      <td>0</td>\n",
              "      <td>1</td>\n",
              "      <td>1</td>\n",
              "      <td>1.263252</td>\n",
              "      <td>very-good</td>\n",
              "      <td>-0.072897</td>\n",
              "      <td>1.437202</td>\n",
              "    </tr>\n",
              "    <tr>\n",
              "      <th>3</th>\n",
              "      <td>-0.948923</td>\n",
              "      <td>1</td>\n",
              "      <td>0</td>\n",
              "      <td>0</td>\n",
              "      <td>-0.205049</td>\n",
              "      <td>good</td>\n",
              "      <td>-0.072897</td>\n",
              "      <td>0.175429</td>\n",
              "    </tr>\n",
              "    <tr>\n",
              "      <th>4</th>\n",
              "      <td>0.031683</td>\n",
              "      <td>1</td>\n",
              "      <td>1</td>\n",
              "      <td>0</td>\n",
              "      <td>-1.673350</td>\n",
              "      <td>very-good</td>\n",
              "      <td>-1.572153</td>\n",
              "      <td>0.175429</td>\n",
              "    </tr>\n",
              "  </tbody>\n",
              "</table>\n",
              "</div>"
            ],
            "text/plain": [
              "        age  education  gender  ...  navigating_skills     sleep travel_time\n",
              "0  2.123644          1       0  ...                bad  0.676731   -1.086344\n",
              "1 -1.145045          0       1  ...               good -0.072897   -1.086344\n",
              "2 -1.145045          0       1  ...          very-good -0.072897    1.437202\n",
              "3 -0.948923          1       0  ...               good -0.072897    0.175429\n",
              "4  0.031683          1       1  ...          very-good -1.572153    0.175429\n",
              "\n",
              "[5 rows x 8 columns]"
            ]
          },
          "metadata": {},
          "execution_count": 9
        }
      ]
    },
    {
      "cell_type": "markdown",
      "metadata": {
        "id": "iEeVsf94_osF"
      },
      "source": [
        "# Ordinal Regression Model"
      ]
    },
    {
      "cell_type": "markdown",
      "metadata": {
        "id": "DGNVKa5C_WOx"
      },
      "source": [
        "\n",
        "**[Ordinal Regression](https://www.statsmodels.org/devel/generated/statsmodels.miscmodels.ordinal_model.OrderedModel.html)**\n",
        "\n",
        "[Sample Code](https://www.statsmodels.org/devel/examples/notebooks/generated/ordinal_regression.html)\n",
        "\n",
        "[Logistic Regression](https://stats.idre.ucla.edu/r/dae/ordinal-logistic-regression/)\n",
        "\n",
        "[Probit Regression](https://stats.idre.ucla.edu/stata/dae/probit-regression/)"
      ]
    },
    {
      "cell_type": "code",
      "metadata": {
        "id": "8APpowH83UUG"
      },
      "source": [
        "#!pip3 install git+https://github.com/statsmodels/statsmodels"
      ],
      "execution_count": 10,
      "outputs": []
    },
    {
      "cell_type": "code",
      "metadata": {
        "id": "7G5QRzsf2kQP"
      },
      "source": [
        "import scipy.stats as stats\n",
        "\n",
        "from statsmodels.miscmodels.ordinal_model import OrderedModel"
      ],
      "execution_count": 11,
      "outputs": []
    },
    {
      "cell_type": "code",
      "metadata": {
        "colab": {
          "base_uri": "https://localhost:8080/"
        },
        "id": "BGZ41jvmukb5",
        "outputId": "cc772bf3-9667-40be-9e12-28f0c3144eeb"
      },
      "source": [
        "# age & gender interaction\n",
        "age_gender_logit = OrderedModel.from_formula(\"navigating_skills ~ age*gender\", df_model,\n",
        "                                      distr='logit')\n",
        "res_a_g_logit = age_gender_logit.fit(method='bfgs')\n",
        "print(res_a_g_logit.summary())"
      ],
      "execution_count": 12,
      "outputs": [
        {
          "output_type": "stream",
          "name": "stdout",
          "text": [
            "Optimization terminated successfully.\n",
            "         Current function value: 0.984056\n",
            "         Iterations: 21\n",
            "         Function evaluations: 22\n",
            "         Gradient evaluations: 22\n",
            "                             OrderedModel Results                             \n",
            "==============================================================================\n",
            "Dep. Variable:      navigating_skills   Log-Likelihood:            -8.9496e+05\n",
            "Model:                   OrderedModel   AIC:                         1.790e+06\n",
            "Method:            Maximum Likelihood   BIC:                         1.790e+06\n",
            "Date:                Thu, 21 Oct 2021                                         \n",
            "Time:                        18:02:39                                         \n",
            "No. Observations:              909456                                         \n",
            "Df Residuals:                  909450                                         \n",
            "Df Model:                           6                                         \n",
            "==================================================================================\n",
            "                     coef    std err          z      P>|z|      [0.025      0.975]\n",
            "----------------------------------------------------------------------------------\n",
            "age               -0.0085      0.003     -2.984      0.003      -0.014      -0.003\n",
            "gender             0.9181      0.004    215.801      0.000       0.910       0.926\n",
            "age:gender         0.1601      0.004     38.903      0.000       0.152       0.168\n",
            "very-bad/bad      -3.5176      0.008   -458.675      0.000      -3.533      -3.503\n",
            "bad/good           0.7104      0.003    205.976      0.000       0.704       0.717\n",
            "good/very-good     1.0320      0.001    821.177      0.000       1.030       1.034\n",
            "==================================================================================\n"
          ]
        }
      ]
    },
    {
      "cell_type": "code",
      "metadata": {
        "id": "7pdSnr_WiZxh",
        "colab": {
          "base_uri": "https://localhost:8080/"
        },
        "outputId": "8f163fb8-1d3e-4afa-df1c-f7b1979e8bdf"
      },
      "source": [
        "age_gender_logit_al = OrderedModel.from_formula(\"navigating_skills ~ age*gender+hand+sleep+education+travel_time+home_environment\", df_model,\n",
        "                                      distr='logit')\n",
        "res_a_g_logit_al = age_gender_logit_al.fit(method='bfgs')\n",
        "print(res_a_g_logit_al.summary())"
      ],
      "execution_count": 13,
      "outputs": [
        {
          "output_type": "stream",
          "name": "stdout",
          "text": [
            "Optimization terminated successfully.\n",
            "         Current function value: 0.978821\n",
            "         Iterations: 34\n",
            "         Function evaluations: 35\n",
            "         Gradient evaluations: 35\n",
            "                             OrderedModel Results                             \n",
            "==============================================================================\n",
            "Dep. Variable:      navigating_skills   Log-Likelihood:            -8.9019e+05\n",
            "Model:                   OrderedModel   AIC:                         1.780e+06\n",
            "Method:            Maximum Likelihood   BIC:                         1.781e+06\n",
            "Date:                Thu, 21 Oct 2021                                         \n",
            "Time:                        18:06:03                                         \n",
            "No. Observations:              909456                                         \n",
            "Df Residuals:                  909445                                         \n",
            "Df Model:                          11                                         \n",
            "====================================================================================\n",
            "                       coef    std err          z      P>|z|      [0.025      0.975]\n",
            "------------------------------------------------------------------------------------\n",
            "age                  0.0244      0.003      8.361      0.000       0.019       0.030\n",
            "gender               0.8993      0.004    210.032      0.000       0.891       0.908\n",
            "age:gender           0.1482      0.004     35.922      0.000       0.140       0.156\n",
            "hand                -0.0210      0.007     -3.057      0.002      -0.034      -0.008\n",
            "sleep                0.0666      0.002     31.344      0.000       0.062       0.071\n",
            "education            0.1298      0.004     29.768      0.000       0.121       0.138\n",
            "travel_time          0.1864      0.002     88.368      0.000       0.182       0.191\n",
            "home_environment    -0.0305      0.002    -14.759      0.000      -0.035      -0.026\n",
            "very-bad/bad        -3.4660      0.008   -423.181      0.000      -3.482      -3.450\n",
            "bad/good             0.7127      0.003    206.940      0.000       0.706       0.719\n",
            "good/very-good       1.0402      0.001    825.601      0.000       1.038       1.043\n",
            "====================================================================================\n"
          ]
        }
      ]
    },
    {
      "cell_type": "markdown",
      "metadata": {
        "id": "qFB_XTvo7Lcr"
      },
      "source": [
        "### Individual-Level Predication"
      ]
    },
    {
      "cell_type": "code",
      "metadata": {
        "colab": {
          "base_uri": "https://localhost:8080/"
        },
        "id": "eTjW510p_0y_",
        "outputId": "90632002-26a9-4439-b5da-1c72568a14ff"
      },
      "source": [
        "res_a_g_logit_al.params"
      ],
      "execution_count": 14,
      "outputs": [
        {
          "output_type": "execute_result",
          "data": {
            "text/plain": [
              "age                 0.024392\n",
              "gender              0.899292\n",
              "age:gender          0.148210\n",
              "hand               -0.020951\n",
              "sleep               0.066574\n",
              "education           0.129803\n",
              "travel_time         0.186393\n",
              "home_environment   -0.030488\n",
              "very-bad/bad       -3.465974\n",
              "bad/good            0.712730\n",
              "good/very-good      1.040188\n",
              "dtype: float64"
            ]
          },
          "metadata": {},
          "execution_count": 14
        }
      ]
    },
    {
      "cell_type": "code",
      "metadata": {
        "colab": {
          "base_uri": "https://localhost:8080/"
        },
        "id": "oyZOBCko_IGz",
        "outputId": "e0e6eaeb-83c4-4a2f-b284-c7707f6b3fcd"
      },
      "source": [
        "test = df_model.drop(columns=['navigating_skills'])\n",
        "test['age:gender']=test['age']*test['gender']\n",
        "ynewpred = res_a_g_logit_al.model.predict(res_a_g_logit_al.params,exog=test[['age','gender','age:gender','hand','sleep','education','travel_time','home_environment']],which=\"prob\") "
      ],
      "execution_count": 15,
      "outputs": [
        {
          "output_type": "stream",
          "name": "stderr",
          "text": [
            "/usr/local/lib/python3.7/dist-packages/statsmodels/miscmodels/ordinal_model.py:419: FutureWarning: Support for multi-dimensional indexing (e.g. `obj[:, None]`) is deprecated and will be removed in a future version.  Convert to a numpy array before indexing instead.\n",
            "  xb = xb[:, None]\n"
          ]
        }
      ]
    },
    {
      "cell_type": "code",
      "metadata": {
        "id": "qtFc9owHR-Yk"
      },
      "source": [
        "y_class_raw=[]\n",
        "for i in range(ynewpred.shape[0]):\n",
        "  tmp_class = np.argmax(ynewpred[i])\n",
        "  y_class_raw.append(tmp_class)"
      ],
      "execution_count": 16,
      "outputs": []
    },
    {
      "cell_type": "code",
      "metadata": {
        "id": "L1AmFE2AJlD0"
      },
      "source": [
        "nav_map = {\"very-bad\":0, \"bad\":1,\"good\":2,\"very-good\":3}\n",
        "df_model['nav_level'] = df_model['navigating_skills'].replace(nav_map)"
      ],
      "execution_count": 17,
      "outputs": []
    },
    {
      "cell_type": "code",
      "metadata": {
        "id": "Y-ShoXcgKuNY"
      },
      "source": [
        "true_class = df_model['nav_level'].values.tolist()"
      ],
      "execution_count": 18,
      "outputs": []
    },
    {
      "cell_type": "code",
      "metadata": {
        "colab": {
          "base_uri": "https://localhost:8080/"
        },
        "id": "V_rsb0a1SnVw",
        "outputId": "f54fc870-187f-4204-a604-9d2bce0958dc"
      },
      "source": [
        "from sklearn.metrics import confusion_matrix\n",
        "confusion_matrix(true_class, y_class_raw)"
      ],
      "execution_count": 20,
      "outputs": [
        {
          "output_type": "execute_result",
          "data": {
            "text/plain": [
              "array([[     0,      0,  17731,    425],\n",
              "       [     0,      0,  99060,   2881],\n",
              "       [     0,      0, 481638,  26518],\n",
              "       [     0,      0, 252931,  28272]])"
            ]
          },
          "metadata": {},
          "execution_count": 20
        }
      ]
    },
    {
      "cell_type": "code",
      "metadata": {
        "colab": {
          "base_uri": "https://localhost:8080/"
        },
        "id": "LDVud1ZnUco-",
        "outputId": "db0a17fc-1afa-451f-f81d-228a57ac3a4b"
      },
      "source": [
        "(481638+28272)/df_model.shape[0]"
      ],
      "execution_count": 21,
      "outputs": [
        {
          "output_type": "execute_result",
          "data": {
            "text/plain": [
              "0.5606758325856336"
            ]
          },
          "metadata": {},
          "execution_count": 21
        }
      ]
    }
  ]
}