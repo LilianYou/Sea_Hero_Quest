{
  "nbformat": 4,
  "nbformat_minor": 0,
  "metadata": {
    "colab": {
      "provenance": [],
      "collapsed_sections": [],
      "mount_file_id": "1gt1y9BnUXxgq0Kr1knvWVglxqb22g8aC",
      "authorship_tag": "ABX9TyPKy2K82UQBCrkKshCKoVB/",
      "include_colab_link": true
    },
    "kernelspec": {
      "name": "python3",
      "display_name": "Python 3"
    },
    "language_info": {
      "name": "python"
    }
  },
  "cells": [
    {
      "cell_type": "markdown",
      "metadata": {
        "id": "view-in-github",
        "colab_type": "text"
      },
      "source": [
        "<a href=\"https://colab.research.google.com/github/LilianYou/Sea_Hero_Quest/blob/main/Ordinal_Regression_Analysis_Shared.ipynb\" target=\"_parent\"><img src=\"https://colab.research.google.com/assets/colab-badge.svg\" alt=\"Open In Colab\"/></a>"
      ]
    },
    {
      "cell_type": "markdown",
      "metadata": {
        "id": "GfxjSgHJ71iV"
      },
      "source": [
        "# Characterizing self-reported navigation ability using demographic information\n",
        "\n",
        "##Ordinal Logistic Regression\n",
        "\n",
        "### read data"
      ]
    },
    {
      "cell_type": "code",
      "metadata": {
        "id": "v0KOmPux77K9"
      },
      "source": [
        "import pandas as pd\n",
        "import numpy as np\n",
        "import seaborn as sns\n",
        "import matplotlib.pyplot as plt\n"
      ],
      "execution_count": 1,
      "outputs": []
    },
    {
      "cell_type": "code",
      "source": [
        "from google.colab import drive\n",
        "drive.mount('/content/drive')"
      ],
      "metadata": {
        "colab": {
          "base_uri": "https://localhost:8080/"
        },
        "id": "5VFHdvmWZGWM",
        "outputId": "8e3b440f-617c-4a52-d948-07bd7ac7e0e7"
      },
      "execution_count": 2,
      "outputs": [
        {
          "output_type": "stream",
          "name": "stdout",
          "text": [
            "Drive already mounted at /content/drive; to attempt to forcibly remount, call drive.mount(\"/content/drive\", force_remount=True).\n"
          ]
        }
      ]
    },
    {
      "cell_type": "code",
      "metadata": {
        "colab": {
          "base_uri": "https://localhost:8080/"
        },
        "id": "Kmxz7WdKcmNV",
        "outputId": "680ff0f0-337b-4188-e81b-59c8fa56c09b"
      },
      "source": [
        "cd /content/drive/My Drive/Data/"
      ],
      "execution_count": 3,
      "outputs": [
        {
          "output_type": "stream",
          "name": "stdout",
          "text": [
            "/content/drive/.shortcut-targets-by-id/1pS1W_QFv_TreubUVne2-kLNgsBSGwhhw/Data\n"
          ]
        }
      ]
    },
    {
      "cell_type": "code",
      "source": [
        "df = pd.read_csv(r'2019user_cleaned_3121970.csv')[['age','education','gender','hand','home_environment','navigating_skills','sleep','travel_time']]"
      ],
      "metadata": {
        "id": "V98msypyaKn8"
      },
      "execution_count": 4,
      "outputs": []
    },
    {
      "cell_type": "code",
      "source": [
        "df.head()"
      ],
      "metadata": {
        "colab": {
          "base_uri": "https://localhost:8080/",
          "height": 206
        },
        "id": "4F5j6H7Naow9",
        "outputId": "0f8f93d4-62f9-4287-eda7-e59b97001b0e"
      },
      "execution_count": 5,
      "outputs": [
        {
          "output_type": "execute_result",
          "data": {
            "text/plain": [
              "    age    education gender   hand home_environment navigating_skills  sleep  \\\n",
              "0  68.0      college      f  right             city               bad    8.0   \n",
              "1  21.0   university      f  right          suburbs              good    7.0   \n",
              "2  36.0   university      m  right            rural         very-good    5.0   \n",
              "3  19.0  high-school      m  right            mixed              good    8.0   \n",
              "4  61.0   university      m  right          suburbs              good    7.0   \n",
              "\n",
              "         travel_time  \n",
              "0       less-30-mins  \n",
              "1  30-mins-to-1-hour  \n",
              "2  30-mins-to-1-hour  \n",
              "3       less-30-mins  \n",
              "4       less-30-mins  "
            ],
            "text/html": [
              "\n",
              "  <div id=\"df-07f33e65-ce02-46f4-b06a-8522b730eaa6\">\n",
              "    <div class=\"colab-df-container\">\n",
              "      <div>\n",
              "<style scoped>\n",
              "    .dataframe tbody tr th:only-of-type {\n",
              "        vertical-align: middle;\n",
              "    }\n",
              "\n",
              "    .dataframe tbody tr th {\n",
              "        vertical-align: top;\n",
              "    }\n",
              "\n",
              "    .dataframe thead th {\n",
              "        text-align: right;\n",
              "    }\n",
              "</style>\n",
              "<table border=\"1\" class=\"dataframe\">\n",
              "  <thead>\n",
              "    <tr style=\"text-align: right;\">\n",
              "      <th></th>\n",
              "      <th>age</th>\n",
              "      <th>education</th>\n",
              "      <th>gender</th>\n",
              "      <th>hand</th>\n",
              "      <th>home_environment</th>\n",
              "      <th>navigating_skills</th>\n",
              "      <th>sleep</th>\n",
              "      <th>travel_time</th>\n",
              "    </tr>\n",
              "  </thead>\n",
              "  <tbody>\n",
              "    <tr>\n",
              "      <th>0</th>\n",
              "      <td>68.0</td>\n",
              "      <td>college</td>\n",
              "      <td>f</td>\n",
              "      <td>right</td>\n",
              "      <td>city</td>\n",
              "      <td>bad</td>\n",
              "      <td>8.0</td>\n",
              "      <td>less-30-mins</td>\n",
              "    </tr>\n",
              "    <tr>\n",
              "      <th>1</th>\n",
              "      <td>21.0</td>\n",
              "      <td>university</td>\n",
              "      <td>f</td>\n",
              "      <td>right</td>\n",
              "      <td>suburbs</td>\n",
              "      <td>good</td>\n",
              "      <td>7.0</td>\n",
              "      <td>30-mins-to-1-hour</td>\n",
              "    </tr>\n",
              "    <tr>\n",
              "      <th>2</th>\n",
              "      <td>36.0</td>\n",
              "      <td>university</td>\n",
              "      <td>m</td>\n",
              "      <td>right</td>\n",
              "      <td>rural</td>\n",
              "      <td>very-good</td>\n",
              "      <td>5.0</td>\n",
              "      <td>30-mins-to-1-hour</td>\n",
              "    </tr>\n",
              "    <tr>\n",
              "      <th>3</th>\n",
              "      <td>19.0</td>\n",
              "      <td>high-school</td>\n",
              "      <td>m</td>\n",
              "      <td>right</td>\n",
              "      <td>mixed</td>\n",
              "      <td>good</td>\n",
              "      <td>8.0</td>\n",
              "      <td>less-30-mins</td>\n",
              "    </tr>\n",
              "    <tr>\n",
              "      <th>4</th>\n",
              "      <td>61.0</td>\n",
              "      <td>university</td>\n",
              "      <td>m</td>\n",
              "      <td>right</td>\n",
              "      <td>suburbs</td>\n",
              "      <td>good</td>\n",
              "      <td>7.0</td>\n",
              "      <td>less-30-mins</td>\n",
              "    </tr>\n",
              "  </tbody>\n",
              "</table>\n",
              "</div>\n",
              "      <button class=\"colab-df-convert\" onclick=\"convertToInteractive('df-07f33e65-ce02-46f4-b06a-8522b730eaa6')\"\n",
              "              title=\"Convert this dataframe to an interactive table.\"\n",
              "              style=\"display:none;\">\n",
              "        \n",
              "  <svg xmlns=\"http://www.w3.org/2000/svg\" height=\"24px\"viewBox=\"0 0 24 24\"\n",
              "       width=\"24px\">\n",
              "    <path d=\"M0 0h24v24H0V0z\" fill=\"none\"/>\n",
              "    <path d=\"M18.56 5.44l.94 2.06.94-2.06 2.06-.94-2.06-.94-.94-2.06-.94 2.06-2.06.94zm-11 1L8.5 8.5l.94-2.06 2.06-.94-2.06-.94L8.5 2.5l-.94 2.06-2.06.94zm10 10l.94 2.06.94-2.06 2.06-.94-2.06-.94-.94-2.06-.94 2.06-2.06.94z\"/><path d=\"M17.41 7.96l-1.37-1.37c-.4-.4-.92-.59-1.43-.59-.52 0-1.04.2-1.43.59L10.3 9.45l-7.72 7.72c-.78.78-.78 2.05 0 2.83L4 21.41c.39.39.9.59 1.41.59.51 0 1.02-.2 1.41-.59l7.78-7.78 2.81-2.81c.8-.78.8-2.07 0-2.86zM5.41 20L4 18.59l7.72-7.72 1.47 1.35L5.41 20z\"/>\n",
              "  </svg>\n",
              "      </button>\n",
              "      \n",
              "  <style>\n",
              "    .colab-df-container {\n",
              "      display:flex;\n",
              "      flex-wrap:wrap;\n",
              "      gap: 12px;\n",
              "    }\n",
              "\n",
              "    .colab-df-convert {\n",
              "      background-color: #E8F0FE;\n",
              "      border: none;\n",
              "      border-radius: 50%;\n",
              "      cursor: pointer;\n",
              "      display: none;\n",
              "      fill: #1967D2;\n",
              "      height: 32px;\n",
              "      padding: 0 0 0 0;\n",
              "      width: 32px;\n",
              "    }\n",
              "\n",
              "    .colab-df-convert:hover {\n",
              "      background-color: #E2EBFA;\n",
              "      box-shadow: 0px 1px 2px rgba(60, 64, 67, 0.3), 0px 1px 3px 1px rgba(60, 64, 67, 0.15);\n",
              "      fill: #174EA6;\n",
              "    }\n",
              "\n",
              "    [theme=dark] .colab-df-convert {\n",
              "      background-color: #3B4455;\n",
              "      fill: #D2E3FC;\n",
              "    }\n",
              "\n",
              "    [theme=dark] .colab-df-convert:hover {\n",
              "      background-color: #434B5C;\n",
              "      box-shadow: 0px 1px 3px 1px rgba(0, 0, 0, 0.15);\n",
              "      filter: drop-shadow(0px 1px 2px rgba(0, 0, 0, 0.3));\n",
              "      fill: #FFFFFF;\n",
              "    }\n",
              "  </style>\n",
              "\n",
              "      <script>\n",
              "        const buttonEl =\n",
              "          document.querySelector('#df-07f33e65-ce02-46f4-b06a-8522b730eaa6 button.colab-df-convert');\n",
              "        buttonEl.style.display =\n",
              "          google.colab.kernel.accessAllowed ? 'block' : 'none';\n",
              "\n",
              "        async function convertToInteractive(key) {\n",
              "          const element = document.querySelector('#df-07f33e65-ce02-46f4-b06a-8522b730eaa6');\n",
              "          const dataTable =\n",
              "            await google.colab.kernel.invokeFunction('convertToInteractive',\n",
              "                                                     [key], {});\n",
              "          if (!dataTable) return;\n",
              "\n",
              "          const docLinkHtml = 'Like what you see? Visit the ' +\n",
              "            '<a target=\"_blank\" href=https://colab.research.google.com/notebooks/data_table.ipynb>data table notebook</a>'\n",
              "            + ' to learn more about interactive tables.';\n",
              "          element.innerHTML = '';\n",
              "          dataTable['output_type'] = 'display_data';\n",
              "          await google.colab.output.renderOutput(dataTable, element);\n",
              "          const docLink = document.createElement('div');\n",
              "          docLink.innerHTML = docLinkHtml;\n",
              "          element.appendChild(docLink);\n",
              "        }\n",
              "      </script>\n",
              "    </div>\n",
              "  </div>\n",
              "  "
            ]
          },
          "metadata": {},
          "execution_count": 5
        }
      ]
    },
    {
      "cell_type": "code",
      "metadata": {
        "id": "BORt1EVO5YIl"
      },
      "source": [
        "df_model = df.copy()\n",
        "recode_map = {\"gender\": {'f': 0,'m': 1},\n",
        "                   \"hand\": {'right': 0,'left': 1},\n",
        "                   \"education\":{\"high-school\":0, \"no-formal\":0,\"college\":1,\"university\":1},\n",
        "                   \"travel_time\":{\"less-30-mins\":0, \"30-mins-to-1-hour\":1, \"hour-plus\":2},\n",
        "                   \"home_environment\":{\"rural\":0,\"suburbs\":1,\"mixed\":1,\"city\":2}}\n",
        "df_model = df_model.replace(recode_map)"
      ],
      "execution_count": 6,
      "outputs": []
    },
    {
      "cell_type": "code",
      "metadata": {
        "id": "mNcY55Na6OKC"
      },
      "source": [
        "from sklearn.preprocessing import StandardScaler\n",
        "sc = StandardScaler()\n",
        "df_model[['age','sleep','home_environment','travel_time']] = sc.fit_transform(df_model[['age','sleep','home_environment','travel_time']])"
      ],
      "execution_count": 7,
      "outputs": []
    },
    {
      "cell_type": "code",
      "metadata": {
        "id": "3oTBHTy4-sWH"
      },
      "source": [
        "df_model['navigating_skills'] = pd.Categorical(df_model['navigating_skills'], \n",
        "                                 categories=['very-bad','bad','good','very-good'], \n",
        "                                 ordered=True)"
      ],
      "execution_count": 8,
      "outputs": []
    },
    {
      "cell_type": "code",
      "metadata": {
        "colab": {
          "base_uri": "https://localhost:8080/",
          "height": 206
        },
        "id": "zQXVpU5g7aPW",
        "outputId": "e3058968-e8a1-4572-bcfe-36e75b88e2b6"
      },
      "source": [
        "df_model.head()"
      ],
      "execution_count": 9,
      "outputs": [
        {
          "output_type": "execute_result",
          "data": {
            "text/plain": [
              "        age  education  gender  hand  home_environment navigating_skills  \\\n",
              "0  2.020202          1       0     0          1.275715               bad   \n",
              "1 -1.210484          1       0     0         -0.198615              good   \n",
              "2 -0.179414          1       1     0         -1.672944         very-good   \n",
              "3 -1.347960          0       1     0         -0.198615              good   \n",
              "4  1.539036          1       1     0         -0.198615              good   \n",
              "\n",
              "      sleep  travel_time  \n",
              "0  0.845968    -1.074199  \n",
              "1  0.011091     0.184414  \n",
              "2 -1.658662     0.184414  \n",
              "3  0.845968    -1.074199  \n",
              "4  0.011091    -1.074199  "
            ],
            "text/html": [
              "\n",
              "  <div id=\"df-7517bdb8-30fd-4291-9929-dbc725faa015\">\n",
              "    <div class=\"colab-df-container\">\n",
              "      <div>\n",
              "<style scoped>\n",
              "    .dataframe tbody tr th:only-of-type {\n",
              "        vertical-align: middle;\n",
              "    }\n",
              "\n",
              "    .dataframe tbody tr th {\n",
              "        vertical-align: top;\n",
              "    }\n",
              "\n",
              "    .dataframe thead th {\n",
              "        text-align: right;\n",
              "    }\n",
              "</style>\n",
              "<table border=\"1\" class=\"dataframe\">\n",
              "  <thead>\n",
              "    <tr style=\"text-align: right;\">\n",
              "      <th></th>\n",
              "      <th>age</th>\n",
              "      <th>education</th>\n",
              "      <th>gender</th>\n",
              "      <th>hand</th>\n",
              "      <th>home_environment</th>\n",
              "      <th>navigating_skills</th>\n",
              "      <th>sleep</th>\n",
              "      <th>travel_time</th>\n",
              "    </tr>\n",
              "  </thead>\n",
              "  <tbody>\n",
              "    <tr>\n",
              "      <th>0</th>\n",
              "      <td>2.020202</td>\n",
              "      <td>1</td>\n",
              "      <td>0</td>\n",
              "      <td>0</td>\n",
              "      <td>1.275715</td>\n",
              "      <td>bad</td>\n",
              "      <td>0.845968</td>\n",
              "      <td>-1.074199</td>\n",
              "    </tr>\n",
              "    <tr>\n",
              "      <th>1</th>\n",
              "      <td>-1.210484</td>\n",
              "      <td>1</td>\n",
              "      <td>0</td>\n",
              "      <td>0</td>\n",
              "      <td>-0.198615</td>\n",
              "      <td>good</td>\n",
              "      <td>0.011091</td>\n",
              "      <td>0.184414</td>\n",
              "    </tr>\n",
              "    <tr>\n",
              "      <th>2</th>\n",
              "      <td>-0.179414</td>\n",
              "      <td>1</td>\n",
              "      <td>1</td>\n",
              "      <td>0</td>\n",
              "      <td>-1.672944</td>\n",
              "      <td>very-good</td>\n",
              "      <td>-1.658662</td>\n",
              "      <td>0.184414</td>\n",
              "    </tr>\n",
              "    <tr>\n",
              "      <th>3</th>\n",
              "      <td>-1.347960</td>\n",
              "      <td>0</td>\n",
              "      <td>1</td>\n",
              "      <td>0</td>\n",
              "      <td>-0.198615</td>\n",
              "      <td>good</td>\n",
              "      <td>0.845968</td>\n",
              "      <td>-1.074199</td>\n",
              "    </tr>\n",
              "    <tr>\n",
              "      <th>4</th>\n",
              "      <td>1.539036</td>\n",
              "      <td>1</td>\n",
              "      <td>1</td>\n",
              "      <td>0</td>\n",
              "      <td>-0.198615</td>\n",
              "      <td>good</td>\n",
              "      <td>0.011091</td>\n",
              "      <td>-1.074199</td>\n",
              "    </tr>\n",
              "  </tbody>\n",
              "</table>\n",
              "</div>\n",
              "      <button class=\"colab-df-convert\" onclick=\"convertToInteractive('df-7517bdb8-30fd-4291-9929-dbc725faa015')\"\n",
              "              title=\"Convert this dataframe to an interactive table.\"\n",
              "              style=\"display:none;\">\n",
              "        \n",
              "  <svg xmlns=\"http://www.w3.org/2000/svg\" height=\"24px\"viewBox=\"0 0 24 24\"\n",
              "       width=\"24px\">\n",
              "    <path d=\"M0 0h24v24H0V0z\" fill=\"none\"/>\n",
              "    <path d=\"M18.56 5.44l.94 2.06.94-2.06 2.06-.94-2.06-.94-.94-2.06-.94 2.06-2.06.94zm-11 1L8.5 8.5l.94-2.06 2.06-.94-2.06-.94L8.5 2.5l-.94 2.06-2.06.94zm10 10l.94 2.06.94-2.06 2.06-.94-2.06-.94-.94-2.06-.94 2.06-2.06.94z\"/><path d=\"M17.41 7.96l-1.37-1.37c-.4-.4-.92-.59-1.43-.59-.52 0-1.04.2-1.43.59L10.3 9.45l-7.72 7.72c-.78.78-.78 2.05 0 2.83L4 21.41c.39.39.9.59 1.41.59.51 0 1.02-.2 1.41-.59l7.78-7.78 2.81-2.81c.8-.78.8-2.07 0-2.86zM5.41 20L4 18.59l7.72-7.72 1.47 1.35L5.41 20z\"/>\n",
              "  </svg>\n",
              "      </button>\n",
              "      \n",
              "  <style>\n",
              "    .colab-df-container {\n",
              "      display:flex;\n",
              "      flex-wrap:wrap;\n",
              "      gap: 12px;\n",
              "    }\n",
              "\n",
              "    .colab-df-convert {\n",
              "      background-color: #E8F0FE;\n",
              "      border: none;\n",
              "      border-radius: 50%;\n",
              "      cursor: pointer;\n",
              "      display: none;\n",
              "      fill: #1967D2;\n",
              "      height: 32px;\n",
              "      padding: 0 0 0 0;\n",
              "      width: 32px;\n",
              "    }\n",
              "\n",
              "    .colab-df-convert:hover {\n",
              "      background-color: #E2EBFA;\n",
              "      box-shadow: 0px 1px 2px rgba(60, 64, 67, 0.3), 0px 1px 3px 1px rgba(60, 64, 67, 0.15);\n",
              "      fill: #174EA6;\n",
              "    }\n",
              "\n",
              "    [theme=dark] .colab-df-convert {\n",
              "      background-color: #3B4455;\n",
              "      fill: #D2E3FC;\n",
              "    }\n",
              "\n",
              "    [theme=dark] .colab-df-convert:hover {\n",
              "      background-color: #434B5C;\n",
              "      box-shadow: 0px 1px 3px 1px rgba(0, 0, 0, 0.15);\n",
              "      filter: drop-shadow(0px 1px 2px rgba(0, 0, 0, 0.3));\n",
              "      fill: #FFFFFF;\n",
              "    }\n",
              "  </style>\n",
              "\n",
              "      <script>\n",
              "        const buttonEl =\n",
              "          document.querySelector('#df-7517bdb8-30fd-4291-9929-dbc725faa015 button.colab-df-convert');\n",
              "        buttonEl.style.display =\n",
              "          google.colab.kernel.accessAllowed ? 'block' : 'none';\n",
              "\n",
              "        async function convertToInteractive(key) {\n",
              "          const element = document.querySelector('#df-7517bdb8-30fd-4291-9929-dbc725faa015');\n",
              "          const dataTable =\n",
              "            await google.colab.kernel.invokeFunction('convertToInteractive',\n",
              "                                                     [key], {});\n",
              "          if (!dataTable) return;\n",
              "\n",
              "          const docLinkHtml = 'Like what you see? Visit the ' +\n",
              "            '<a target=\"_blank\" href=https://colab.research.google.com/notebooks/data_table.ipynb>data table notebook</a>'\n",
              "            + ' to learn more about interactive tables.';\n",
              "          element.innerHTML = '';\n",
              "          dataTable['output_type'] = 'display_data';\n",
              "          await google.colab.output.renderOutput(dataTable, element);\n",
              "          const docLink = document.createElement('div');\n",
              "          docLink.innerHTML = docLinkHtml;\n",
              "          element.appendChild(docLink);\n",
              "        }\n",
              "      </script>\n",
              "    </div>\n",
              "  </div>\n",
              "  "
            ]
          },
          "metadata": {},
          "execution_count": 9
        }
      ]
    },
    {
      "cell_type": "markdown",
      "metadata": {
        "id": "iEeVsf94_osF"
      },
      "source": [
        "# Ordinal Regression Model"
      ]
    },
    {
      "cell_type": "markdown",
      "metadata": {
        "id": "DGNVKa5C_WOx"
      },
      "source": [
        "\n",
        "**[Ordinal Regression](https://www.statsmodels.org/devel/generated/statsmodels.miscmodels.ordinal_model.OrderedModel.html)**\n",
        "\n",
        "[Sample Code](https://www.statsmodels.org/devel/examples/notebooks/generated/ordinal_regression.html)\n",
        "\n",
        "[Logistic Regression](https://stats.idre.ucla.edu/r/dae/ordinal-logistic-regression/)\n",
        "\n",
        "[Probit Regression](https://stats.idre.ucla.edu/stata/dae/probit-regression/)\n",
        "\n",
        "[Effect size for logistic regression](https://www.theanalysisfactor.com/effect-size-statistics-logistic-regression/)\n"
      ]
    },
    {
      "cell_type": "code",
      "source": [
        "pip install statsmodels"
      ],
      "metadata": {
        "colab": {
          "base_uri": "https://localhost:8080/"
        },
        "id": "QU8Yvd5kOBr7",
        "outputId": "5c8bd093-3f46-454b-b586-4d1d58b0c143"
      },
      "execution_count": 10,
      "outputs": [
        {
          "output_type": "stream",
          "name": "stdout",
          "text": [
            "Looking in indexes: https://pypi.org/simple, https://us-python.pkg.dev/colab-wheels/public/simple/\n",
            "Requirement already satisfied: statsmodels in /usr/local/lib/python3.7/dist-packages (0.12.2)\n",
            "Requirement already satisfied: pandas>=0.21 in /usr/local/lib/python3.7/dist-packages (from statsmodels) (1.3.5)\n",
            "Requirement already satisfied: numpy>=1.15 in /usr/local/lib/python3.7/dist-packages (from statsmodels) (1.21.6)\n",
            "Requirement already satisfied: patsy>=0.5 in /usr/local/lib/python3.7/dist-packages (from statsmodels) (0.5.2)\n",
            "Requirement already satisfied: scipy>=1.1 in /usr/local/lib/python3.7/dist-packages (from statsmodels) (1.7.3)\n",
            "Requirement already satisfied: pytz>=2017.3 in /usr/local/lib/python3.7/dist-packages (from pandas>=0.21->statsmodels) (2022.2.1)\n",
            "Requirement already satisfied: python-dateutil>=2.7.3 in /usr/local/lib/python3.7/dist-packages (from pandas>=0.21->statsmodels) (2.8.2)\n",
            "Requirement already satisfied: six in /usr/local/lib/python3.7/dist-packages (from patsy>=0.5->statsmodels) (1.15.0)\n"
          ]
        }
      ]
    },
    {
      "cell_type": "code",
      "source": [
        "pip install --upgrade --no-deps statsmodels"
      ],
      "metadata": {
        "colab": {
          "base_uri": "https://localhost:8080/",
          "height": 295
        },
        "id": "C6s6S_dgO9Be",
        "outputId": "c547f6b3-a069-47a4-868c-db2fd893f9aa"
      },
      "execution_count": 11,
      "outputs": [
        {
          "output_type": "stream",
          "name": "stdout",
          "text": [
            "Looking in indexes: https://pypi.org/simple, https://us-python.pkg.dev/colab-wheels/public/simple/\n",
            "Requirement already satisfied: statsmodels in /usr/local/lib/python3.7/dist-packages (0.12.2)\n",
            "Collecting statsmodels\n",
            "  Downloading statsmodels-0.13.2-cp37-cp37m-manylinux_2_17_x86_64.manylinux2014_x86_64.whl (9.8 MB)\n",
            "\u001b[K     |████████████████████████████████| 9.8 MB 10.2 MB/s \n",
            "\u001b[?25hInstalling collected packages: statsmodels\n",
            "  Attempting uninstall: statsmodels\n",
            "    Found existing installation: statsmodels 0.12.2\n",
            "    Uninstalling statsmodels-0.12.2:\n",
            "      Successfully uninstalled statsmodels-0.12.2\n",
            "Successfully installed statsmodels-0.13.2\n"
          ]
        },
        {
          "output_type": "display_data",
          "data": {
            "application/vnd.colab-display-data+json": {
              "pip_warning": {
                "packages": [
                  "statsmodels"
                ]
              }
            }
          },
          "metadata": {}
        }
      ]
    },
    {
      "cell_type": "code",
      "metadata": {
        "id": "7G5QRzsf2kQP"
      },
      "source": [
        "import scipy.stats as stats\n",
        "\n",
        "from statsmodels.miscmodels.ordinal_model import OrderedModel\n",
        "from statsmodels.stats.anova import anova_lm"
      ],
      "execution_count": 12,
      "outputs": []
    },
    {
      "cell_type": "code",
      "source": [
        "%%time\n",
        "age_gender_logit_al = OrderedModel.from_formula(\"navigating_skills ~ age+gender+age:gender+education+gender:education+travel_time+gender:travel_time+education:travel_time+hand+sleep+home_environment\", df_model,\n",
        "                                      distr='logit')\n",
        "res_a_g_logit_al = age_gender_logit_al.fit(method='bfgs')\n",
        "print(res_a_g_logit_al.summary())"
      ],
      "metadata": {
        "colab": {
          "base_uri": "https://localhost:8080/"
        },
        "id": "g68FV6-899pZ",
        "outputId": "0ac9d4be-da1d-4954-eb26-73c8041b5624"
      },
      "execution_count": 13,
      "outputs": [
        {
          "output_type": "stream",
          "name": "stdout",
          "text": [
            "Optimization terminated successfully.\n",
            "         Current function value: 0.988688\n",
            "         Iterations: 53\n",
            "         Function evaluations: 54\n",
            "         Gradient evaluations: 54\n",
            "                             OrderedModel Results                             \n",
            "==============================================================================\n",
            "Dep. Variable:      navigating_skills   Log-Likelihood:            -7.6290e+05\n",
            "Model:                   OrderedModel   AIC:                         1.526e+06\n",
            "Method:            Maximum Likelihood   BIC:                         1.526e+06\n",
            "Date:                Sat, 24 Sep 2022                                         \n",
            "Time:                        16:59:30                                         \n",
            "No. Observations:              771628                                         \n",
            "Df Residuals:                  771614                                         \n",
            "Df Model:                          14                                         \n",
            "=========================================================================================\n",
            "                            coef    std err          z      P>|z|      [0.025      0.975]\n",
            "-----------------------------------------------------------------------------------------\n",
            "age                       0.0589      0.003     18.643      0.000       0.053       0.065\n",
            "gender                    0.8512      0.009    100.122      0.000       0.835       0.868\n",
            "age:gender                0.0705      0.005     15.624      0.000       0.062       0.079\n",
            "education                 0.0445      0.007      6.112      0.000       0.030       0.059\n",
            "gender:education          0.1381      0.010     13.873      0.000       0.119       0.158\n",
            "travel_time               0.3244      0.005     66.721      0.000       0.315       0.334\n",
            "gender:travel_time       -0.0819      0.005    -17.977      0.000      -0.091      -0.073\n",
            "education:travel_time    -0.1377      0.005    -27.982      0.000      -0.147      -0.128\n",
            "hand                     -0.0244      0.007     -3.274      0.001      -0.039      -0.010\n",
            "sleep                     0.0546      0.002     24.108      0.000       0.050       0.059\n",
            "home_environment         -0.0392      0.002    -17.541      0.000      -0.044      -0.035\n",
            "very-bad/bad             -3.4700      0.010   -356.198      0.000      -3.489      -3.451\n",
            "bad/good                  0.7137      0.004    194.351      0.000       0.707       0.721\n",
            "good/very-good            1.0162      0.001    732.514      0.000       1.013       1.019\n",
            "=========================================================================================\n",
            "CPU times: user 6min 52s, sys: 3min 32s, total: 10min 25s\n",
            "Wall time: 6min 11s\n"
          ]
        }
      ]
    },
    {
      "cell_type": "code",
      "source": [
        "sum = pd.DataFrame.from_records(res_a_g_logit_al.summary().tables[1].data)\n",
        "header = sum.iloc[0] # grab the first row for the header\n",
        "sum = sum[1:] # take the data less the header row\n",
        "sum.columns = header\n",
        "sum"
      ],
      "metadata": {
        "colab": {
          "base_uri": "https://localhost:8080/",
          "height": 488
        },
        "id": "CwTgXxMhA4t4",
        "outputId": "05ca21cd-3ee0-4eba-be85-a0e0f6b409d6"
      },
      "execution_count": 14,
      "outputs": [
        {
          "output_type": "execute_result",
          "data": {
            "text/plain": [
              "0                                coef    std err          z   P>|z|  \\\n",
              "1                     age      0.0589      0.003     18.643   0.000   \n",
              "2                  gender      0.8512      0.009    100.122   0.000   \n",
              "3              age:gender      0.0705      0.005     15.624   0.000   \n",
              "4               education      0.0445      0.007      6.112   0.000   \n",
              "5        gender:education      0.1381      0.010     13.873   0.000   \n",
              "6             travel_time      0.3244      0.005     66.721   0.000   \n",
              "7      gender:travel_time     -0.0819      0.005    -17.977   0.000   \n",
              "8   education:travel_time     -0.1377      0.005    -27.982   0.000   \n",
              "9                    hand     -0.0244      0.007     -3.274   0.001   \n",
              "10                  sleep      0.0546      0.002     24.108   0.000   \n",
              "11       home_environment     -0.0392      0.002    -17.541   0.000   \n",
              "12           very-bad/bad     -3.4700      0.010   -356.198   0.000   \n",
              "13               bad/good      0.7137      0.004    194.351   0.000   \n",
              "14         good/very-good      1.0162      0.001    732.514   0.000   \n",
              "\n",
              "0      [0.025     0.975]  \n",
              "1       0.053      0.065  \n",
              "2       0.835      0.868  \n",
              "3       0.062      0.079  \n",
              "4       0.030      0.059  \n",
              "5       0.119      0.158  \n",
              "6       0.315      0.334  \n",
              "7      -0.091     -0.073  \n",
              "8      -0.147     -0.128  \n",
              "9      -0.039     -0.010  \n",
              "10      0.050      0.059  \n",
              "11     -0.044     -0.035  \n",
              "12     -3.489     -3.451  \n",
              "13      0.707      0.721  \n",
              "14      1.013      1.019  "
            ],
            "text/html": [
              "\n",
              "  <div id=\"df-d1c457fe-a9f3-42ac-9e70-a45d07f85e52\">\n",
              "    <div class=\"colab-df-container\">\n",
              "      <div>\n",
              "<style scoped>\n",
              "    .dataframe tbody tr th:only-of-type {\n",
              "        vertical-align: middle;\n",
              "    }\n",
              "\n",
              "    .dataframe tbody tr th {\n",
              "        vertical-align: top;\n",
              "    }\n",
              "\n",
              "    .dataframe thead th {\n",
              "        text-align: right;\n",
              "    }\n",
              "</style>\n",
              "<table border=\"1\" class=\"dataframe\">\n",
              "  <thead>\n",
              "    <tr style=\"text-align: right;\">\n",
              "      <th></th>\n",
              "      <th></th>\n",
              "      <th>coef</th>\n",
              "      <th>std err</th>\n",
              "      <th>z</th>\n",
              "      <th>P&gt;|z|</th>\n",
              "      <th>[0.025</th>\n",
              "      <th>0.975]</th>\n",
              "    </tr>\n",
              "  </thead>\n",
              "  <tbody>\n",
              "    <tr>\n",
              "      <th>1</th>\n",
              "      <td>age</td>\n",
              "      <td>0.0589</td>\n",
              "      <td>0.003</td>\n",
              "      <td>18.643</td>\n",
              "      <td>0.000</td>\n",
              "      <td>0.053</td>\n",
              "      <td>0.065</td>\n",
              "    </tr>\n",
              "    <tr>\n",
              "      <th>2</th>\n",
              "      <td>gender</td>\n",
              "      <td>0.8512</td>\n",
              "      <td>0.009</td>\n",
              "      <td>100.122</td>\n",
              "      <td>0.000</td>\n",
              "      <td>0.835</td>\n",
              "      <td>0.868</td>\n",
              "    </tr>\n",
              "    <tr>\n",
              "      <th>3</th>\n",
              "      <td>age:gender</td>\n",
              "      <td>0.0705</td>\n",
              "      <td>0.005</td>\n",
              "      <td>15.624</td>\n",
              "      <td>0.000</td>\n",
              "      <td>0.062</td>\n",
              "      <td>0.079</td>\n",
              "    </tr>\n",
              "    <tr>\n",
              "      <th>4</th>\n",
              "      <td>education</td>\n",
              "      <td>0.0445</td>\n",
              "      <td>0.007</td>\n",
              "      <td>6.112</td>\n",
              "      <td>0.000</td>\n",
              "      <td>0.030</td>\n",
              "      <td>0.059</td>\n",
              "    </tr>\n",
              "    <tr>\n",
              "      <th>5</th>\n",
              "      <td>gender:education</td>\n",
              "      <td>0.1381</td>\n",
              "      <td>0.010</td>\n",
              "      <td>13.873</td>\n",
              "      <td>0.000</td>\n",
              "      <td>0.119</td>\n",
              "      <td>0.158</td>\n",
              "    </tr>\n",
              "    <tr>\n",
              "      <th>6</th>\n",
              "      <td>travel_time</td>\n",
              "      <td>0.3244</td>\n",
              "      <td>0.005</td>\n",
              "      <td>66.721</td>\n",
              "      <td>0.000</td>\n",
              "      <td>0.315</td>\n",
              "      <td>0.334</td>\n",
              "    </tr>\n",
              "    <tr>\n",
              "      <th>7</th>\n",
              "      <td>gender:travel_time</td>\n",
              "      <td>-0.0819</td>\n",
              "      <td>0.005</td>\n",
              "      <td>-17.977</td>\n",
              "      <td>0.000</td>\n",
              "      <td>-0.091</td>\n",
              "      <td>-0.073</td>\n",
              "    </tr>\n",
              "    <tr>\n",
              "      <th>8</th>\n",
              "      <td>education:travel_time</td>\n",
              "      <td>-0.1377</td>\n",
              "      <td>0.005</td>\n",
              "      <td>-27.982</td>\n",
              "      <td>0.000</td>\n",
              "      <td>-0.147</td>\n",
              "      <td>-0.128</td>\n",
              "    </tr>\n",
              "    <tr>\n",
              "      <th>9</th>\n",
              "      <td>hand</td>\n",
              "      <td>-0.0244</td>\n",
              "      <td>0.007</td>\n",
              "      <td>-3.274</td>\n",
              "      <td>0.001</td>\n",
              "      <td>-0.039</td>\n",
              "      <td>-0.010</td>\n",
              "    </tr>\n",
              "    <tr>\n",
              "      <th>10</th>\n",
              "      <td>sleep</td>\n",
              "      <td>0.0546</td>\n",
              "      <td>0.002</td>\n",
              "      <td>24.108</td>\n",
              "      <td>0.000</td>\n",
              "      <td>0.050</td>\n",
              "      <td>0.059</td>\n",
              "    </tr>\n",
              "    <tr>\n",
              "      <th>11</th>\n",
              "      <td>home_environment</td>\n",
              "      <td>-0.0392</td>\n",
              "      <td>0.002</td>\n",
              "      <td>-17.541</td>\n",
              "      <td>0.000</td>\n",
              "      <td>-0.044</td>\n",
              "      <td>-0.035</td>\n",
              "    </tr>\n",
              "    <tr>\n",
              "      <th>12</th>\n",
              "      <td>very-bad/bad</td>\n",
              "      <td>-3.4700</td>\n",
              "      <td>0.010</td>\n",
              "      <td>-356.198</td>\n",
              "      <td>0.000</td>\n",
              "      <td>-3.489</td>\n",
              "      <td>-3.451</td>\n",
              "    </tr>\n",
              "    <tr>\n",
              "      <th>13</th>\n",
              "      <td>bad/good</td>\n",
              "      <td>0.7137</td>\n",
              "      <td>0.004</td>\n",
              "      <td>194.351</td>\n",
              "      <td>0.000</td>\n",
              "      <td>0.707</td>\n",
              "      <td>0.721</td>\n",
              "    </tr>\n",
              "    <tr>\n",
              "      <th>14</th>\n",
              "      <td>good/very-good</td>\n",
              "      <td>1.0162</td>\n",
              "      <td>0.001</td>\n",
              "      <td>732.514</td>\n",
              "      <td>0.000</td>\n",
              "      <td>1.013</td>\n",
              "      <td>1.019</td>\n",
              "    </tr>\n",
              "  </tbody>\n",
              "</table>\n",
              "</div>\n",
              "      <button class=\"colab-df-convert\" onclick=\"convertToInteractive('df-d1c457fe-a9f3-42ac-9e70-a45d07f85e52')\"\n",
              "              title=\"Convert this dataframe to an interactive table.\"\n",
              "              style=\"display:none;\">\n",
              "        \n",
              "  <svg xmlns=\"http://www.w3.org/2000/svg\" height=\"24px\"viewBox=\"0 0 24 24\"\n",
              "       width=\"24px\">\n",
              "    <path d=\"M0 0h24v24H0V0z\" fill=\"none\"/>\n",
              "    <path d=\"M18.56 5.44l.94 2.06.94-2.06 2.06-.94-2.06-.94-.94-2.06-.94 2.06-2.06.94zm-11 1L8.5 8.5l.94-2.06 2.06-.94-2.06-.94L8.5 2.5l-.94 2.06-2.06.94zm10 10l.94 2.06.94-2.06 2.06-.94-2.06-.94-.94-2.06-.94 2.06-2.06.94z\"/><path d=\"M17.41 7.96l-1.37-1.37c-.4-.4-.92-.59-1.43-.59-.52 0-1.04.2-1.43.59L10.3 9.45l-7.72 7.72c-.78.78-.78 2.05 0 2.83L4 21.41c.39.39.9.59 1.41.59.51 0 1.02-.2 1.41-.59l7.78-7.78 2.81-2.81c.8-.78.8-2.07 0-2.86zM5.41 20L4 18.59l7.72-7.72 1.47 1.35L5.41 20z\"/>\n",
              "  </svg>\n",
              "      </button>\n",
              "      \n",
              "  <style>\n",
              "    .colab-df-container {\n",
              "      display:flex;\n",
              "      flex-wrap:wrap;\n",
              "      gap: 12px;\n",
              "    }\n",
              "\n",
              "    .colab-df-convert {\n",
              "      background-color: #E8F0FE;\n",
              "      border: none;\n",
              "      border-radius: 50%;\n",
              "      cursor: pointer;\n",
              "      display: none;\n",
              "      fill: #1967D2;\n",
              "      height: 32px;\n",
              "      padding: 0 0 0 0;\n",
              "      width: 32px;\n",
              "    }\n",
              "\n",
              "    .colab-df-convert:hover {\n",
              "      background-color: #E2EBFA;\n",
              "      box-shadow: 0px 1px 2px rgba(60, 64, 67, 0.3), 0px 1px 3px 1px rgba(60, 64, 67, 0.15);\n",
              "      fill: #174EA6;\n",
              "    }\n",
              "\n",
              "    [theme=dark] .colab-df-convert {\n",
              "      background-color: #3B4455;\n",
              "      fill: #D2E3FC;\n",
              "    }\n",
              "\n",
              "    [theme=dark] .colab-df-convert:hover {\n",
              "      background-color: #434B5C;\n",
              "      box-shadow: 0px 1px 3px 1px rgba(0, 0, 0, 0.15);\n",
              "      filter: drop-shadow(0px 1px 2px rgba(0, 0, 0, 0.3));\n",
              "      fill: #FFFFFF;\n",
              "    }\n",
              "  </style>\n",
              "\n",
              "      <script>\n",
              "        const buttonEl =\n",
              "          document.querySelector('#df-d1c457fe-a9f3-42ac-9e70-a45d07f85e52 button.colab-df-convert');\n",
              "        buttonEl.style.display =\n",
              "          google.colab.kernel.accessAllowed ? 'block' : 'none';\n",
              "\n",
              "        async function convertToInteractive(key) {\n",
              "          const element = document.querySelector('#df-d1c457fe-a9f3-42ac-9e70-a45d07f85e52');\n",
              "          const dataTable =\n",
              "            await google.colab.kernel.invokeFunction('convertToInteractive',\n",
              "                                                     [key], {});\n",
              "          if (!dataTable) return;\n",
              "\n",
              "          const docLinkHtml = 'Like what you see? Visit the ' +\n",
              "            '<a target=\"_blank\" href=https://colab.research.google.com/notebooks/data_table.ipynb>data table notebook</a>'\n",
              "            + ' to learn more about interactive tables.';\n",
              "          element.innerHTML = '';\n",
              "          dataTable['output_type'] = 'display_data';\n",
              "          await google.colab.output.renderOutput(dataTable, element);\n",
              "          const docLink = document.createElement('div');\n",
              "          docLink.innerHTML = docLinkHtml;\n",
              "          element.appendChild(docLink);\n",
              "        }\n",
              "      </script>\n",
              "    </div>\n",
              "  </div>\n",
              "  "
            ]
          },
          "metadata": {},
          "execution_count": 14
        }
      ]
    },
    {
      "cell_type": "code",
      "source": [
        "sum['coef'] = sum['coef'].astype('float')"
      ],
      "metadata": {
        "id": "3rOcRNrRC0gB"
      },
      "execution_count": 15,
      "outputs": []
    },
    {
      "cell_type": "markdown",
      "source": [
        "## Calculate & Interpret Effect Size"
      ],
      "metadata": {
        "id": "IkFm17YUa2H4"
      }
    },
    {
      "cell_type": "code",
      "source": [
        "import numpy as np\n",
        "np.exp(sum['coef'])"
      ],
      "metadata": {
        "colab": {
          "base_uri": "https://localhost:8080/"
        },
        "id": "diJ3YreuCsY9",
        "outputId": "37f8f0de-d68a-4cd7-a72f-50b04e925a48"
      },
      "execution_count": 16,
      "outputs": [
        {
          "output_type": "execute_result",
          "data": {
            "text/plain": [
              "1     1.060669\n",
              "2     2.342456\n",
              "3     1.073045\n",
              "4     1.045505\n",
              "5     1.148090\n",
              "6     1.383200\n",
              "7     0.921364\n",
              "8     0.871360\n",
              "9     0.975895\n",
              "10    1.056118\n",
              "11    0.961558\n",
              "12    0.031117\n",
              "13    2.041531\n",
              "14    2.762677\n",
              "Name: coef, dtype: float64"
            ]
          },
          "metadata": {},
          "execution_count": 16
        }
      ]
    },
    {
      "cell_type": "code",
      "source": [
        "import numpy as np\n",
        "print('age:', np.exp(0.787))\n",
        "print('gender:', np.exp(0.787))\n",
        "print('gender-l:', np.exp(0.773))\n",
        "print('gender-u:', np.exp(0.801))\n",
        "print('age by gender:', np.exp(0.137))\n",
        "print('age by gender-l:', np.exp(0.129))\n",
        "print('age by gender-u:', np.exp(0.145))"
      ],
      "metadata": {
        "id": "59yELNy8_QL6",
        "colab": {
          "base_uri": "https://localhost:8080/"
        },
        "outputId": "1dd1307e-12a9-4612-ece1-b81b3c37af85"
      },
      "execution_count": 17,
      "outputs": [
        {
          "output_type": "stream",
          "name": "stdout",
          "text": [
            "age: 2.196796142353235\n",
            "gender: 2.196796142353235\n",
            "gender-l: 2.1662552812206535\n",
            "gender-u: 2.2277675825624406\n",
            "age by gender: 1.1468281485203982\n",
            "age by gender-l: 1.1376901241657316\n",
            "age by gender-u: 1.1560395702680215\n"
          ]
        }
      ]
    },
    {
      "cell_type": "markdown",
      "metadata": {
        "id": "PEYdfoL5L8sp"
      },
      "source": [
        "[Model Preformance Parmeters](https://www.statsmodels.org/dev/generated/statsmodels.discrete.discrete_model.LogitResults.html)\n",
        "\n",
        "[Pseduo R square](http://thestatsgeek.com/2014/02/08/r-squared-in-logistic-regression/)\n"
      ]
    },
    {
      "cell_type": "code",
      "metadata": {
        "id": "do5f3mr78xfX"
      },
      "source": [
        "llm1 = res_a_g_logit_al.llf"
      ],
      "execution_count": 18,
      "outputs": []
    },
    {
      "cell_type": "code",
      "metadata": {
        "id": "npcfeVF_8xfe"
      },
      "source": [
        "llm0 = res_a_g_logit_al.llnull"
      ],
      "execution_count": 19,
      "outputs": []
    },
    {
      "cell_type": "code",
      "metadata": {
        "colab": {
          "base_uri": "https://localhost:8080/"
        },
        "outputId": "9c2d47a0-cc72-4a1f-b12b-891287cc35a2",
        "id": "Gwy1S7Ku8xff"
      },
      "source": [
        "res_a_g_logit_al.llr"
      ],
      "execution_count": 20,
      "outputs": [
        {
          "output_type": "execute_result",
          "data": {
            "text/plain": [
              "55302.18050145591"
            ]
          },
          "metadata": {},
          "execution_count": 20
        }
      ]
    },
    {
      "cell_type": "code",
      "metadata": {
        "colab": {
          "base_uri": "https://localhost:8080/"
        },
        "outputId": "d26dce1d-4a14-463a-f161-4ee92d13403a",
        "id": "qRL7_Dgt8xff"
      },
      "source": [
        "res_a_g_logit_al.llr_pvalue"
      ],
      "execution_count": 21,
      "outputs": [
        {
          "output_type": "execute_result",
          "data": {
            "text/plain": [
              "0.0"
            ]
          },
          "metadata": {},
          "execution_count": 21
        }
      ]
    },
    {
      "cell_type": "code",
      "source": [
        "from scipy.stats.distributions import chi2\n",
        "def likelihood_ratio(llmin, llmax):\n",
        "    return(2*(llmax-llmin))\n",
        "\n",
        "\n",
        "LR = likelihood_ratio(llm0,llm1)\n",
        "\n",
        "print(\"Chi-square:\", LR)\n",
        "print(\"p:\",chi2.sf(LR, 12)) # L2 has 12 DoF more than L1"
      ],
      "metadata": {
        "colab": {
          "base_uri": "https://localhost:8080/"
        },
        "id": "dYBd5EdA9fjC",
        "outputId": "3815addc-02bd-4e79-cef8-acab49876f3c"
      },
      "execution_count": 22,
      "outputs": [
        {
          "output_type": "stream",
          "name": "stdout",
          "text": [
            "Chi-square: 55302.18050145591\n",
            "p: 0.0\n"
          ]
        }
      ]
    },
    {
      "cell_type": "code",
      "metadata": {
        "colab": {
          "base_uri": "https://localhost:8080/"
        },
        "outputId": "4bbb695d-1515-499d-a864-abd8e67935ce",
        "id": "aeMwcAnM8xff"
      },
      "source": [
        "res_a_g_logit_al.prsquared"
      ],
      "execution_count": 23,
      "outputs": [
        {
          "output_type": "execute_result",
          "data": {
            "text/plain": [
              "0.034977010674459574"
            ]
          },
          "metadata": {},
          "execution_count": 23
        }
      ]
    }
  ]
}