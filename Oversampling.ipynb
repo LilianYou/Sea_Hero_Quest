{
  "nbformat": 4,
  "nbformat_minor": 0,
  "metadata": {
    "colab": {
      "name": "Oversampling.ipynb",
      "provenance": [],
      "collapsed_sections": []
    },
    "kernelspec": {
      "name": "python3",
      "display_name": "Python 3"
    },
    "language_info": {
      "name": "python"
    }
  },
  "cells": [
    {
      "cell_type": "code",
      "metadata": {
        "id": "iLbwYN26R1bI",
        "colab": {
          "base_uri": "https://localhost:8080/"
        },
        "outputId": "4457d18f-b29d-483d-ade4-25cc21580bfa"
      },
      "source": [
        "from google.colab import drive\n",
        "import pandas as pd\n",
        "import numpy as np\n",
        "import seaborn as sns\n",
        "drive.mount('/content/drive')"
      ],
      "execution_count": null,
      "outputs": [
        {
          "output_type": "stream",
          "name": "stdout",
          "text": [
            "Mounted at /content/drive\n"
          ]
        }
      ]
    },
    {
      "cell_type": "code",
      "metadata": {
        "id": "Q4KHvtgMWgg2"
      },
      "source": [
        "df = pd.read_csv('/content/drive/My Drive/SHQ/Data/cfa_test_df2.csv')"
      ],
      "execution_count": null,
      "outputs": []
    },
    {
      "cell_type": "code",
      "metadata": {
        "colab": {
          "base_uri": "https://localhost:8080/",
          "height": 206
        },
        "id": "H0KuCw5oXV0d",
        "outputId": "a9640f4c-74ac-45ee-87d3-319154e65f58"
      },
      "source": [
        "df.head()"
      ],
      "execution_count": null,
      "outputs": [
        {
          "output_type": "execute_result",
          "data": {
            "text/html": [
              "<div>\n",
              "<style scoped>\n",
              "    .dataframe tbody tr th:only-of-type {\n",
              "        vertical-align: middle;\n",
              "    }\n",
              "\n",
              "    .dataframe tbody tr th {\n",
              "        vertical-align: top;\n",
              "    }\n",
              "\n",
              "    .dataframe thead th {\n",
              "        text-align: right;\n",
              "    }\n",
              "</style>\n",
              "<table border=\"1\" class=\"dataframe\">\n",
              "  <thead>\n",
              "    <tr style=\"text-align: right;\">\n",
              "      <th></th>\n",
              "      <th>age</th>\n",
              "      <th>gender</th>\n",
              "      <th>hand</th>\n",
              "      <th>navigating_skills</th>\n",
              "      <th>sleep</th>\n",
              "      <th>edu_level</th>\n",
              "      <th>commute_level</th>\n",
              "      <th>home_env</th>\n",
              "    </tr>\n",
              "  </thead>\n",
              "  <tbody>\n",
              "    <tr>\n",
              "      <th>0</th>\n",
              "      <td>68.0</td>\n",
              "      <td>0</td>\n",
              "      <td>0</td>\n",
              "      <td>1</td>\n",
              "      <td>8.0</td>\n",
              "      <td>0</td>\n",
              "      <td>0</td>\n",
              "      <td>2</td>\n",
              "    </tr>\n",
              "    <tr>\n",
              "      <th>1</th>\n",
              "      <td>18.0</td>\n",
              "      <td>1</td>\n",
              "      <td>1</td>\n",
              "      <td>2</td>\n",
              "      <td>7.0</td>\n",
              "      <td>1</td>\n",
              "      <td>0</td>\n",
              "      <td>1</td>\n",
              "    </tr>\n",
              "    <tr>\n",
              "      <th>2</th>\n",
              "      <td>18.0</td>\n",
              "      <td>1</td>\n",
              "      <td>1</td>\n",
              "      <td>3</td>\n",
              "      <td>7.0</td>\n",
              "      <td>1</td>\n",
              "      <td>2</td>\n",
              "      <td>2</td>\n",
              "    </tr>\n",
              "    <tr>\n",
              "      <th>3</th>\n",
              "      <td>21.0</td>\n",
              "      <td>0</td>\n",
              "      <td>0</td>\n",
              "      <td>2</td>\n",
              "      <td>7.0</td>\n",
              "      <td>0</td>\n",
              "      <td>1</td>\n",
              "      <td>1</td>\n",
              "    </tr>\n",
              "    <tr>\n",
              "      <th>4</th>\n",
              "      <td>36.0</td>\n",
              "      <td>1</td>\n",
              "      <td>0</td>\n",
              "      <td>3</td>\n",
              "      <td>5.0</td>\n",
              "      <td>0</td>\n",
              "      <td>1</td>\n",
              "      <td>0</td>\n",
              "    </tr>\n",
              "  </tbody>\n",
              "</table>\n",
              "</div>"
            ],
            "text/plain": [
              "    age  gender  hand  ...  edu_level  commute_level  home_env\n",
              "0  68.0       0     0  ...          0              0         2\n",
              "1  18.0       1     1  ...          1              0         1\n",
              "2  18.0       1     1  ...          1              2         2\n",
              "3  21.0       0     0  ...          0              1         1\n",
              "4  36.0       1     0  ...          0              1         0\n",
              "\n",
              "[5 rows x 8 columns]"
            ]
          },
          "metadata": {},
          "execution_count": 3
        }
      ]
    },
    {
      "cell_type": "code",
      "metadata": {
        "id": "iSu5MsKyX6M3"
      },
      "source": [
        "# convert some variables to categorical variables and then dummy\n",
        "\n",
        "test_df = df.copy()\n",
        "navigation_skills_mapper = {0: 'very bad', 1: 'bad', 2: 'good', 3: 'very good'}\n",
        "test_df['navigating_skills'] = test_df['navigating_skills'].replace(navigation_skills_mapper)\n",
        "\n",
        "commute_level_mapper = {0: 'less 30 min', 1: '30 min to 1 h', 2: 'hour plus'}\n",
        "test_df['commute_level'] = test_df['commute_level'].replace(commute_level_mapper)\n",
        "\n",
        "env_level_mapper = {0: 'rural', 1: 'mixed', 2: 'urban'}\n",
        "test_df['home_env'] = test_df['home_env'].replace(env_level_mapper)\n",
        "\n",
        "test_df = pd.get_dummies(test_df, columns= [\"commute_level\", \"home_env\"])\n",
        "\n",
        "test_df['hand'] = test_df['hand'].astype(str)\n",
        "test_df['gender']= test_df['gender'].astype(str)\n",
        "test_df['edu_level'] = test_df['edu_level'].astype(str)\n",
        "test_df['commute_level_30 min to 1 h'] = test_df['commute_level_30 min to 1 h'].astype(str)\n",
        "test_df['commute_level_hour plus'] = test_df['commute_level_hour plus'].astype(str)\n",
        "test_df['commute_level_less 30 min'] = test_df['commute_level_less 30 min'].astype(str)\n",
        "test_df['home_env_mixed'] = test_df['home_env_mixed'].astype(str)\n",
        "test_df['home_env_rural'] = test_df['home_env_rural'].astype(str)\n",
        "test_df['home_env_urban'] = test_df['home_env_urban'].astype(str)\n",
        "\n"
      ],
      "execution_count": null,
      "outputs": []
    },
    {
      "cell_type": "code",
      "metadata": {
        "colab": {
          "base_uri": "https://localhost:8080/"
        },
        "id": "NdW0ejiNZjoz",
        "outputId": "32006b79-7ecd-46e6-86c0-a1284c6e8ab4"
      },
      "source": [
        "test_df.info()"
      ],
      "execution_count": null,
      "outputs": [
        {
          "output_type": "stream",
          "name": "stdout",
          "text": [
            "<class 'pandas.core.frame.DataFrame'>\n",
            "RangeIndex: 909456 entries, 0 to 909455\n",
            "Data columns (total 12 columns):\n",
            " #   Column                       Non-Null Count   Dtype  \n",
            "---  ------                       --------------   -----  \n",
            " 0   age                          909456 non-null  float64\n",
            " 1   gender                       909456 non-null  object \n",
            " 2   hand                         909456 non-null  object \n",
            " 3   navigating_skills            909456 non-null  object \n",
            " 4   sleep                        909456 non-null  float64\n",
            " 5   edu_level                    909456 non-null  object \n",
            " 6   commute_level_30 min to 1 h  909456 non-null  object \n",
            " 7   commute_level_hour plus      909456 non-null  object \n",
            " 8   commute_level_less 30 min    909456 non-null  object \n",
            " 9   home_env_mixed               909456 non-null  object \n",
            " 10  home_env_rural               909456 non-null  object \n",
            " 11  home_env_urban               909456 non-null  object \n",
            "dtypes: float64(2), object(10)\n",
            "memory usage: 83.3+ MB\n"
          ]
        }
      ]
    },
    {
      "cell_type": "code",
      "metadata": {
        "id": "MYT4RanKdrX0"
      },
      "source": [
        "df = test_df.copy()"
      ],
      "execution_count": null,
      "outputs": []
    },
    {
      "cell_type": "markdown",
      "metadata": {
        "id": "0aubi03XGRH3"
      },
      "source": [
        "## Oversampling"
      ]
    },
    {
      "cell_type": "code",
      "metadata": {
        "colab": {
          "base_uri": "https://localhost:8080/"
        },
        "id": "x9naoNRjHji0",
        "outputId": "49389192-61b5-47aa-baa7-dc1dc867c630"
      },
      "source": [
        "!pip uninstall scikit-learn -y\n"
      ],
      "execution_count": null,
      "outputs": [
        {
          "output_type": "stream",
          "name": "stdout",
          "text": [
            "Found existing installation: scikit-learn 1.0\n",
            "Uninstalling scikit-learn-1.0:\n",
            "  Successfully uninstalled scikit-learn-1.0\n"
          ]
        }
      ]
    },
    {
      "cell_type": "code",
      "metadata": {
        "colab": {
          "base_uri": "https://localhost:8080/",
          "height": 242
        },
        "id": "NZPm9gkUIQsh",
        "outputId": "4f908359-abdd-4560-f809-e25bb281a466"
      },
      "source": [
        "!pip install -U scikit-learn\n"
      ],
      "execution_count": null,
      "outputs": [
        {
          "output_type": "stream",
          "name": "stdout",
          "text": [
            "Collecting scikit-learn\n",
            "  Using cached scikit_learn-1.0-cp37-cp37m-manylinux_2_12_x86_64.manylinux2010_x86_64.whl (23.1 MB)\n",
            "Requirement already satisfied: joblib>=0.11 in /usr/local/lib/python3.7/dist-packages (from scikit-learn) (1.0.1)\n",
            "Requirement already satisfied: scipy>=1.1.0 in /usr/local/lib/python3.7/dist-packages (from scikit-learn) (1.4.1)\n",
            "Requirement already satisfied: numpy>=1.14.6 in /usr/local/lib/python3.7/dist-packages (from scikit-learn) (1.19.5)\n",
            "Requirement already satisfied: threadpoolctl>=2.0.0 in /usr/local/lib/python3.7/dist-packages (from scikit-learn) (2.2.0)\n",
            "Installing collected packages: scikit-learn\n",
            "Successfully installed scikit-learn-1.0\n"
          ]
        },
        {
          "output_type": "display_data",
          "data": {
            "application/vnd.colab-display-data+json": {
              "pip_warning": {
                "packages": [
                  "sklearn"
                ]
              }
            }
          },
          "metadata": {}
        }
      ]
    },
    {
      "cell_type": "code",
      "metadata": {
        "colab": {
          "base_uri": "https://localhost:8080/",
          "height": 36
        },
        "id": "RIhjHz4YIRp5",
        "outputId": "38194239-5fc4-4a3d-8189-0e6272fb55e7"
      },
      "source": [
        "import sklearn\n",
        "\n",
        "sklearn.__version__"
      ],
      "execution_count": null,
      "outputs": [
        {
          "output_type": "execute_result",
          "data": {
            "application/vnd.google.colaboratory.intrinsic+json": {
              "type": "string"
            },
            "text/plain": [
              "'1.0'"
            ]
          },
          "metadata": {},
          "execution_count": 1
        }
      ]
    },
    {
      "cell_type": "code",
      "metadata": {
        "id": "I_PQu1puGT51"
      },
      "source": [
        "from sklearn.inspection import partial_dependence\n",
        "from sklearn.inspection import plot_partial_dependence, PartialDependenceDisplay\n",
        "from sklearn.model_selection import train_test_split, RepeatedStratifiedKFold, cross_val_score\n",
        "from sklearn.ensemble import RandomForestRegressor, RandomForestClassifier\n",
        "from sklearn.metrics import accuracy_score\n",
        "\n",
        "from xgboost import XGBClassifier\n",
        "\n",
        "import matplotlib.pyplot as plt\n",
        "\n",
        "from time import time\n"
      ],
      "execution_count": null,
      "outputs": []
    },
    {
      "cell_type": "code",
      "metadata": {
        "colab": {
          "base_uri": "https://localhost:8080/",
          "height": 556
        },
        "id": "VphV2DYK7D-D",
        "outputId": "91e82d3f-cdc2-4473-f6d6-fcd93ad6a7b3"
      },
      "source": [
        "# summarize distribution\n",
        "from collections import Counter\n",
        "from matplotlib import pyplot\n",
        "from sklearn.preprocessing import LabelEncoder\n",
        "\n",
        "\n",
        "# label encode the target variable\n",
        "y = LabelEncoder().fit_transform(y)\n",
        "\n",
        "counter = Counter(y)\n",
        "for k,v in counter.items():\n",
        "\tper = v / len(y) * 100\n",
        "\tprint('Class=%d, n=%d (%.3f%%)' % (k, v, per))\n",
        "# plot the distribution\n",
        "pyplot.bar(counter.keys(), counter.values())\n",
        "pyplot.show()"
      ],
      "execution_count": null,
      "outputs": [
        {
          "output_type": "stream",
          "name": "stdout",
          "text": [
            "Class=1, n=101941 (11.209%)\n",
            "Class=2, n=508156 (55.875%)\n",
            "Class=3, n=281203 (30.920%)\n",
            "Class=0, n=18156 (1.996%)\n"
          ]
        },
        {
          "output_type": "display_data",
          "data": {
            "image/png": "[encoded data removed]",
            "text/plain": [
              "<Figure size 864x576 with 1 Axes>"
            ]
          },
          "metadata": {
            "needs_background": "light"
          }
        }
      ]
    },
    {
      "cell_type": "code",
      "metadata": {
        "colab": {
          "base_uri": "https://localhost:8080/"
        },
        "id": "yk5IPb9C7yNy",
        "outputId": "04861462-da58-4e4c-f0a9-83d4488d46c9"
      },
      "source": [
        "!pip install -U imbalanced-learn\n"
      ],
      "execution_count": null,
      "outputs": [
        {
          "output_type": "stream",
          "name": "stdout",
          "text": [
            "Requirement already satisfied: imbalanced-learn in /usr/local/lib/python3.7/dist-packages (0.4.3)\n",
            "Collecting imbalanced-learn\n",
            "  Downloading imbalanced_learn-0.8.1-py3-none-any.whl (189 kB)\n",
            "\u001b[K     |████████████████████████████████| 189 kB 4.2 MB/s \n",
            "\u001b[?25hRequirement already satisfied: joblib>=0.11 in /usr/local/lib/python3.7/dist-packages (from imbalanced-learn) (1.0.1)\n",
            "Requirement already satisfied: scikit-learn>=0.24 in /usr/local/lib/python3.7/dist-packages (from imbalanced-learn) (1.0)\n",
            "Requirement already satisfied: scipy>=0.19.1 in /usr/local/lib/python3.7/dist-packages (from imbalanced-learn) (1.4.1)\n",
            "Requirement already satisfied: numpy>=1.13.3 in /usr/local/lib/python3.7/dist-packages (from imbalanced-learn) (1.19.5)\n",
            "Requirement already satisfied: threadpoolctl>=2.0.0 in /usr/local/lib/python3.7/dist-packages (from scikit-learn>=0.24->imbalanced-learn) (2.2.0)\n",
            "Installing collected packages: imbalanced-learn\n",
            "  Attempting uninstall: imbalanced-learn\n",
            "    Found existing installation: imbalanced-learn 0.4.3\n",
            "    Uninstalling imbalanced-learn-0.4.3:\n",
            "      Successfully uninstalled imbalanced-learn-0.4.3\n",
            "Successfully installed imbalanced-learn-0.8.1\n"
          ]
        }
      ]
    },
    {
      "cell_type": "code",
      "metadata": {
        "colab": {
          "base_uri": "https://localhost:8080/"
        },
        "id": "syGXoV9v7sjy",
        "outputId": "6e359236-7008-4e7f-e399-770249b35ea4"
      },
      "source": [
        "# check version number\n",
        "import imblearn\n",
        "print(imblearn.__version__)\n",
        "\n"
      ],
      "execution_count": null,
      "outputs": [
        {
          "output_type": "stream",
          "name": "stdout",
          "text": [
            "0.8.1\n"
          ]
        }
      ]
    },
    {
      "cell_type": "markdown",
      "metadata": {
        "id": "nteOpekHQI9n"
      },
      "source": [
        "## Method1: SMOTE"
      ]
    },
    {
      "cell_type": "code",
      "metadata": {
        "id": "6Ymg3UnH86bD"
      },
      "source": [
        "from imblearn.over_sampling import SMOTE\n"
      ],
      "execution_count": null,
      "outputs": []
    },
    {
      "cell_type": "code",
      "metadata": {
        "colab": {
          "base_uri": "https://localhost:8080/",
          "height": 335
        },
        "id": "hgBcIa7T7lUE",
        "outputId": "263fbb0b-1e5c-4914-b3f1-4e7074be7b5e"
      },
      "source": [
        "# transform the dataset\n",
        "y = LabelEncoder().fit_transform(y)\n",
        "\n",
        "oversample = SMOTE()\n",
        "Xo, yo = oversample.fit_resample(X, y)\n",
        "# summarize distribution\n",
        "counter = Counter(yo)\n",
        "for k,v in counter.items():\n",
        "\tper = v / len(yo) * 100\n",
        "\tprint('Class=%d, n=%d (%.3f%%)' % (k, v, per))\n",
        "# plot the distribution\n",
        "pyplot.bar(counter.keys(), counter.values())\n",
        "pyplot.show()"
      ],
      "execution_count": null,
      "outputs": [
        {
          "output_type": "stream",
          "name": "stdout",
          "text": [
            "Class=0, n=508156 (25.000%)\n",
            "Class=1, n=508156 (25.000%)\n",
            "Class=3, n=508156 (25.000%)\n",
            "Class=2, n=508156 (25.000%)\n"
          ]
        },
        {
          "output_type": "display_data",
          "data": {
            "image/png": "[encoded data removed]",
            "text/plain": [
              "<Figure size 432x288 with 1 Axes>"
            ]
          },
          "metadata": {
            "needs_background": "light"
          }
        }
      ]
    },
    {
      "cell_type": "code",
      "metadata": {
        "id": "XFMM5AhJ6oEg"
      },
      "source": [
        "test_df = df.copy()"
      ],
      "execution_count": null,
      "outputs": []
    },
    {
      "cell_type": "code",
      "metadata": {
        "id": "oiSIfkjaIo4z"
      },
      "source": [
        "df_train, df_test = train_test_split(test_df, test_size=0.20)\n",
        "\n",
        "features = ['age', 'gender', 'hand', 'navigating_skills', 'sleep', 'edu_level',\n",
        "       'commute_level_30 min to 1 h', 'commute_level_hour plus',\n",
        "       'commute_level_less 30 min', 'home_env_mixed', 'home_env_rural',\n",
        "       'home_env_urban']\n",
        "df_train = df_train[features]\n",
        "df_test = df_test[features]\n",
        "\n",
        "X_train, y_train = df_train.drop('navigating_skills',axis=1), df_train['navigating_skills']\n",
        "X_test, y_test = df_test.drop('navigating_skills',axis=1), df_test['navigating_skills']\n"
      ],
      "execution_count": null,
      "outputs": []
    },
    {
      "cell_type": "markdown",
      "metadata": {
        "id": "KrP8qyaGSULP"
      },
      "source": [
        "## Method2. Auto-Banlance Setting"
      ]
    },
    {
      "cell_type": "code",
      "metadata": {
        "colab": {
          "base_uri": "https://localhost:8080/"
        },
        "id": "6A-T8UhHJCAj",
        "outputId": "756dd066-45c8-4b3f-edd6-7016bffbcbb7"
      },
      "source": [
        "model_rf = RandomForestClassifier(class_weight=\"balanced\")\n",
        "model_rf.fit(X_train, y_train)"
      ],
      "execution_count": null,
      "outputs": [
        {
          "output_type": "execute_result",
          "data": {
            "text/plain": [
              "RandomForestClassifier(class_weight='balanced')"
            ]
          },
          "metadata": {},
          "execution_count": 123
        }
      ]
    },
    {
      "cell_type": "code",
      "metadata": {
        "id": "ev-9e_HTMVFI"
      },
      "source": [
        "x_train = X_train.astype(int)\n"
      ],
      "execution_count": null,
      "outputs": []
    },
    {
      "cell_type": "code",
      "metadata": {
        "id": "03OuFzSnQJ0N"
      },
      "source": [
        "test_df = df.copy()\n",
        "\n",
        "navigation_skills_mapper = {'very bad': 0, 'bad': 1, 'good': 2, 'very good': 3}\n",
        "test_df['navigating_skills'] = test_df['navigating_skills'].replace(navigation_skills_mapper)"
      ],
      "execution_count": null,
      "outputs": []
    },
    {
      "cell_type": "code",
      "metadata": {
        "colab": {
          "base_uri": "https://localhost:8080/",
          "height": 206
        },
        "id": "GgEJnjpRgPOC",
        "outputId": "ed53db03-6962-42c0-9868-4f3709309859"
      },
      "source": [
        "test_df = df.copy()\n",
        "test_df.head()"
      ],
      "execution_count": null,
      "outputs": [
        {
          "output_type": "execute_result",
          "data": {
            "text/html": [
              "<div>\n",
              "<style scoped>\n",
              "    .dataframe tbody tr th:only-of-type {\n",
              "        vertical-align: middle;\n",
              "    }\n",
              "\n",
              "    .dataframe tbody tr th {\n",
              "        vertical-align: top;\n",
              "    }\n",
              "\n",
              "    .dataframe thead th {\n",
              "        text-align: right;\n",
              "    }\n",
              "</style>\n",
              "<table border=\"1\" class=\"dataframe\">\n",
              "  <thead>\n",
              "    <tr style=\"text-align: right;\">\n",
              "      <th></th>\n",
              "      <th>age</th>\n",
              "      <th>gender</th>\n",
              "      <th>hand</th>\n",
              "      <th>navigating_skills</th>\n",
              "      <th>sleep</th>\n",
              "      <th>edu_level</th>\n",
              "      <th>commute_level_30 min to 1 h</th>\n",
              "      <th>commute_level_hour plus</th>\n",
              "      <th>commute_level_less 30 min</th>\n",
              "      <th>home_env_mixed</th>\n",
              "      <th>home_env_rural</th>\n",
              "      <th>home_env_urban</th>\n",
              "    </tr>\n",
              "  </thead>\n",
              "  <tbody>\n",
              "    <tr>\n",
              "      <th>0</th>\n",
              "      <td>68.0</td>\n",
              "      <td>0</td>\n",
              "      <td>0</td>\n",
              "      <td>bad</td>\n",
              "      <td>8.0</td>\n",
              "      <td>0</td>\n",
              "      <td>0</td>\n",
              "      <td>0</td>\n",
              "      <td>1</td>\n",
              "      <td>0</td>\n",
              "      <td>0</td>\n",
              "      <td>1</td>\n",
              "    </tr>\n",
              "    <tr>\n",
              "      <th>1</th>\n",
              "      <td>18.0</td>\n",
              "      <td>1</td>\n",
              "      <td>1</td>\n",
              "      <td>good</td>\n",
              "      <td>7.0</td>\n",
              "      <td>1</td>\n",
              "      <td>0</td>\n",
              "      <td>0</td>\n",
              "      <td>1</td>\n",
              "      <td>1</td>\n",
              "      <td>0</td>\n",
              "      <td>0</td>\n",
              "    </tr>\n",
              "    <tr>\n",
              "      <th>2</th>\n",
              "      <td>18.0</td>\n",
              "      <td>1</td>\n",
              "      <td>1</td>\n",
              "      <td>very good</td>\n",
              "      <td>7.0</td>\n",
              "      <td>1</td>\n",
              "      <td>0</td>\n",
              "      <td>1</td>\n",
              "      <td>0</td>\n",
              "      <td>0</td>\n",
              "      <td>0</td>\n",
              "      <td>1</td>\n",
              "    </tr>\n",
              "    <tr>\n",
              "      <th>3</th>\n",
              "      <td>21.0</td>\n",
              "      <td>0</td>\n",
              "      <td>0</td>\n",
              "      <td>good</td>\n",
              "      <td>7.0</td>\n",
              "      <td>0</td>\n",
              "      <td>1</td>\n",
              "      <td>0</td>\n",
              "      <td>0</td>\n",
              "      <td>1</td>\n",
              "      <td>0</td>\n",
              "      <td>0</td>\n",
              "    </tr>\n",
              "    <tr>\n",
              "      <th>4</th>\n",
              "      <td>36.0</td>\n",
              "      <td>1</td>\n",
              "      <td>0</td>\n",
              "      <td>very good</td>\n",
              "      <td>5.0</td>\n",
              "      <td>0</td>\n",
              "      <td>1</td>\n",
              "      <td>0</td>\n",
              "      <td>0</td>\n",
              "      <td>0</td>\n",
              "      <td>1</td>\n",
              "      <td>0</td>\n",
              "    </tr>\n",
              "  </tbody>\n",
              "</table>\n",
              "</div>"
            ],
            "text/plain": [
              "    age gender hand  ... home_env_mixed  home_env_rural home_env_urban\n",
              "0  68.0      0    0  ...              0               0              1\n",
              "1  18.0      1    1  ...              1               0              0\n",
              "2  18.0      1    1  ...              0               0              1\n",
              "3  21.0      0    0  ...              1               0              0\n",
              "4  36.0      1    0  ...              0               1              0\n",
              "\n",
              "[5 rows x 12 columns]"
            ]
          },
          "metadata": {},
          "execution_count": 60
        }
      ]
    },
    {
      "cell_type": "code",
      "metadata": {
        "colab": {
          "base_uri": "https://localhost:8080/",
          "height": 243
        },
        "id": "hu6jHCFxdHuZ",
        "outputId": "9d914424-71ed-45a5-9c12-5f1cb751ff78"
      },
      "source": [
        "test_df = pd.get_dummies(test_df, columns= [\"navigating_skills\"])\n",
        "test_df.head()"
      ],
      "execution_count": null,
      "outputs": [
        {
          "output_type": "execute_result",
          "data": {
            "text/html": [
              "<div>\n",
              "<style scoped>\n",
              "    .dataframe tbody tr th:only-of-type {\n",
              "        vertical-align: middle;\n",
              "    }\n",
              "\n",
              "    .dataframe tbody tr th {\n",
              "        vertical-align: top;\n",
              "    }\n",
              "\n",
              "    .dataframe thead th {\n",
              "        text-align: right;\n",
              "    }\n",
              "</style>\n",
              "<table border=\"1\" class=\"dataframe\">\n",
              "  <thead>\n",
              "    <tr style=\"text-align: right;\">\n",
              "      <th></th>\n",
              "      <th>age</th>\n",
              "      <th>gender</th>\n",
              "      <th>hand</th>\n",
              "      <th>sleep</th>\n",
              "      <th>edu_level</th>\n",
              "      <th>commute_level_30 min to 1 h</th>\n",
              "      <th>commute_level_hour plus</th>\n",
              "      <th>commute_level_less 30 min</th>\n",
              "      <th>home_env_mixed</th>\n",
              "      <th>home_env_rural</th>\n",
              "      <th>home_env_urban</th>\n",
              "      <th>navigating_skills_bad</th>\n",
              "      <th>navigating_skills_good</th>\n",
              "      <th>navigating_skills_very bad</th>\n",
              "      <th>navigating_skills_very good</th>\n",
              "    </tr>\n",
              "  </thead>\n",
              "  <tbody>\n",
              "    <tr>\n",
              "      <th>0</th>\n",
              "      <td>68.0</td>\n",
              "      <td>0</td>\n",
              "      <td>0</td>\n",
              "      <td>8.0</td>\n",
              "      <td>0</td>\n",
              "      <td>0</td>\n",
              "      <td>0</td>\n",
              "      <td>1</td>\n",
              "      <td>0</td>\n",
              "      <td>0</td>\n",
              "      <td>1</td>\n",
              "      <td>1</td>\n",
              "      <td>0</td>\n",
              "      <td>0</td>\n",
              "      <td>0</td>\n",
              "    </tr>\n",
              "    <tr>\n",
              "      <th>1</th>\n",
              "      <td>18.0</td>\n",
              "      <td>1</td>\n",
              "      <td>1</td>\n",
              "      <td>7.0</td>\n",
              "      <td>1</td>\n",
              "      <td>0</td>\n",
              "      <td>0</td>\n",
              "      <td>1</td>\n",
              "      <td>1</td>\n",
              "      <td>0</td>\n",
              "      <td>0</td>\n",
              "      <td>0</td>\n",
              "      <td>1</td>\n",
              "      <td>0</td>\n",
              "      <td>0</td>\n",
              "    </tr>\n",
              "    <tr>\n",
              "      <th>2</th>\n",
              "      <td>18.0</td>\n",
              "      <td>1</td>\n",
              "      <td>1</td>\n",
              "      <td>7.0</td>\n",
              "      <td>1</td>\n",
              "      <td>0</td>\n",
              "      <td>1</td>\n",
              "      <td>0</td>\n",
              "      <td>0</td>\n",
              "      <td>0</td>\n",
              "      <td>1</td>\n",
              "      <td>0</td>\n",
              "      <td>0</td>\n",
              "      <td>0</td>\n",
              "      <td>1</td>\n",
              "    </tr>\n",
              "    <tr>\n",
              "      <th>3</th>\n",
              "      <td>21.0</td>\n",
              "      <td>0</td>\n",
              "      <td>0</td>\n",
              "      <td>7.0</td>\n",
              "      <td>0</td>\n",
              "      <td>1</td>\n",
              "      <td>0</td>\n",
              "      <td>0</td>\n",
              "      <td>1</td>\n",
              "      <td>0</td>\n",
              "      <td>0</td>\n",
              "      <td>0</td>\n",
              "      <td>1</td>\n",
              "      <td>0</td>\n",
              "      <td>0</td>\n",
              "    </tr>\n",
              "    <tr>\n",
              "      <th>4</th>\n",
              "      <td>36.0</td>\n",
              "      <td>1</td>\n",
              "      <td>0</td>\n",
              "      <td>5.0</td>\n",
              "      <td>0</td>\n",
              "      <td>1</td>\n",
              "      <td>0</td>\n",
              "      <td>0</td>\n",
              "      <td>0</td>\n",
              "      <td>1</td>\n",
              "      <td>0</td>\n",
              "      <td>0</td>\n",
              "      <td>0</td>\n",
              "      <td>0</td>\n",
              "      <td>1</td>\n",
              "    </tr>\n",
              "  </tbody>\n",
              "</table>\n",
              "</div>"
            ],
            "text/plain": [
              "    age gender  ... navigating_skills_very bad  navigating_skills_very good\n",
              "0  68.0      0  ...                          0                            0\n",
              "1  18.0      1  ...                          0                            0\n",
              "2  18.0      1  ...                          0                            1\n",
              "3  21.0      0  ...                          0                            0\n",
              "4  36.0      1  ...                          0                            1\n",
              "\n",
              "[5 rows x 15 columns]"
            ]
          },
          "metadata": {},
          "execution_count": 61
        }
      ]
    },
    {
      "cell_type": "code",
      "metadata": {
        "id": "DR21f0xDhcKP"
      },
      "source": [
        "df_train, df_test = train_test_split(test_df, test_size=0.20)\n",
        "\n",
        "features = ['age', 'gender', 'hand', 'sleep', 'edu_level',\n",
        "       'commute_level_30 min to 1 h', 'commute_level_hour plus',\n",
        "       'commute_level_less 30 min', 'home_env_mixed', 'home_env_rural',\n",
        "       'home_env_urban', 'navigating_skills_bad', 'navigating_skills_good',\t'navigating_skills_very bad',\t'navigating_skills_very good']\n",
        "df_train = df_train[features]\n",
        "df_test = df_test[features]\n",
        "\n",
        "X_train, y_train = df_train.drop(['navigating_skills_bad', 'navigating_skills_good',\t'navigating_skills_very bad',\t'navigating_skills_very good'],axis=1), df_train[['navigating_skills_bad', 'navigating_skills_good',\t'navigating_skills_very bad',\t'navigating_skills_very good']]\n",
        "X_test, y_test = df_test.drop(['navigating_skills_bad', 'navigating_skills_good',\t'navigating_skills_very bad',\t'navigating_skills_very good'],axis=1), df_test[['navigating_skills_bad', 'navigating_skills_good',\t'navigating_skills_very bad',\t'navigating_skills_very good']]\n",
        "\n"
      ],
      "execution_count": null,
      "outputs": []
    },
    {
      "cell_type": "code",
      "metadata": {
        "colab": {
          "base_uri": "https://localhost:8080/"
        },
        "id": "KK0bILqMxIk0",
        "outputId": "dc954135-d2ba-4388-859f-d9d7fd5698f4"
      },
      "source": [
        "test_df.info()"
      ],
      "execution_count": null,
      "outputs": [
        {
          "output_type": "stream",
          "name": "stdout",
          "text": [
            "<class 'pandas.core.frame.DataFrame'>\n",
            "RangeIndex: 909456 entries, 0 to 909455\n",
            "Data columns (total 15 columns):\n",
            " #   Column                       Non-Null Count   Dtype  \n",
            "---  ------                       --------------   -----  \n",
            " 0   age                          909456 non-null  float64\n",
            " 1   gender                       909456 non-null  object \n",
            " 2   hand                         909456 non-null  object \n",
            " 3   sleep                        909456 non-null  float64\n",
            " 4   edu_level                    909456 non-null  object \n",
            " 5   commute_level_30 min to 1 h  909456 non-null  object \n",
            " 6   commute_level_hour plus      909456 non-null  object \n",
            " 7   commute_level_less 30 min    909456 non-null  object \n",
            " 8   home_env_mixed               909456 non-null  object \n",
            " 9   home_env_rural               909456 non-null  object \n",
            " 10  home_env_urban               909456 non-null  object \n",
            " 11  navigating_skills_bad        909456 non-null  uint8  \n",
            " 12  navigating_skills_good       909456 non-null  uint8  \n",
            " 13  navigating_skills_very bad   909456 non-null  uint8  \n",
            " 14  navigating_skills_very good  909456 non-null  uint8  \n",
            "dtypes: float64(2), object(9), uint8(4)\n",
            "memory usage: 79.8+ MB\n"
          ]
        }
      ]
    },
    {
      "cell_type": "code",
      "metadata": {
        "colab": {
          "base_uri": "https://localhost:8080/"
        },
        "id": "GqdcfL-gyEAP",
        "outputId": "9a896924-e40b-42e1-f8a7-1cb9469d1e0d"
      },
      "source": [
        "len(test_df)/len(test_df[test_df['navigating_skills_very good'] == 1])"
      ],
      "execution_count": null,
      "outputs": [
        {
          "output_type": "execute_result",
          "data": {
            "text/plain": [
              "3.234161797704861"
            ]
          },
          "metadata": {},
          "execution_count": 102
        }
      ]
    },
    {
      "cell_type": "markdown",
      "metadata": {
        "id": "IMIxA_2_RWw9"
      },
      "source": [
        "## Method3: Manually Adjust Category Weight Settings"
      ]
    },
    {
      "cell_type": "code",
      "metadata": {
        "colab": {
          "base_uri": "https://localhost:8080/"
        },
        "id": "IwzI35a8iIpS",
        "outputId": "8d4038a5-e9f0-4abd-aa44-46e7fe3c0e59"
      },
      "source": [
        "model_rf = RandomForestClassifier(class_weight= [{0: 1, 1: 7.9}, {0: 1, 1: 0.78}, {0: 1, 1: 49}, {0: 1, 1: 2.23}]) #[{'navigating_skills_bad':20273,'navigating_skills_good':101544, 'navigating_skills_very bad':3643,\t'navigating_skills_very good':56432 }])\n",
        "model_rf.fit(X_train, y_train)"
      ],
      "execution_count": null,
      "outputs": [
        {
          "output_type": "execute_result",
          "data": {
            "text/plain": [
              "RandomForestClassifier(class_weight=[{0: 1, 1: 7.9}, {0: 1, 1: 0.78},\n",
              "                                     {0: 1, 1: 49}, {0: 1, 1: 2.23}])"
            ]
          },
          "metadata": {},
          "execution_count": 103
        }
      ]
    },
    {
      "cell_type": "code",
      "metadata": {
        "colab": {
          "base_uri": "https://localhost:8080/",
          "height": 423
        },
        "id": "yItRFs7olJ_-",
        "outputId": "2c217729-caff-4b56-c76b-774673d54a09"
      },
      "source": [
        "X_train"
      ],
      "execution_count": null,
      "outputs": [
        {
          "output_type": "execute_result",
          "data": {
            "text/html": [
              "<div>\n",
              "<style scoped>\n",
              "    .dataframe tbody tr th:only-of-type {\n",
              "        vertical-align: middle;\n",
              "    }\n",
              "\n",
              "    .dataframe tbody tr th {\n",
              "        vertical-align: top;\n",
              "    }\n",
              "\n",
              "    .dataframe thead th {\n",
              "        text-align: right;\n",
              "    }\n",
              "</style>\n",
              "<table border=\"1\" class=\"dataframe\">\n",
              "  <thead>\n",
              "    <tr style=\"text-align: right;\">\n",
              "      <th></th>\n",
              "      <th>age</th>\n",
              "      <th>gender</th>\n",
              "      <th>hand</th>\n",
              "      <th>sleep</th>\n",
              "      <th>edu_level</th>\n",
              "      <th>commute_level_30 min to 1 h</th>\n",
              "      <th>commute_level_hour plus</th>\n",
              "      <th>commute_level_less 30 min</th>\n",
              "      <th>home_env_mixed</th>\n",
              "      <th>home_env_rural</th>\n",
              "      <th>home_env_urban</th>\n",
              "    </tr>\n",
              "  </thead>\n",
              "  <tbody>\n",
              "    <tr>\n",
              "      <th>812989</th>\n",
              "      <td>35.0</td>\n",
              "      <td>0</td>\n",
              "      <td>0</td>\n",
              "      <td>8.0</td>\n",
              "      <td>0</td>\n",
              "      <td>1</td>\n",
              "      <td>0</td>\n",
              "      <td>0</td>\n",
              "      <td>1</td>\n",
              "      <td>0</td>\n",
              "      <td>0</td>\n",
              "    </tr>\n",
              "    <tr>\n",
              "      <th>368513</th>\n",
              "      <td>49.0</td>\n",
              "      <td>0</td>\n",
              "      <td>0</td>\n",
              "      <td>4.0</td>\n",
              "      <td>0</td>\n",
              "      <td>0</td>\n",
              "      <td>1</td>\n",
              "      <td>0</td>\n",
              "      <td>1</td>\n",
              "      <td>0</td>\n",
              "      <td>0</td>\n",
              "    </tr>\n",
              "    <tr>\n",
              "      <th>523783</th>\n",
              "      <td>49.0</td>\n",
              "      <td>1</td>\n",
              "      <td>1</td>\n",
              "      <td>6.0</td>\n",
              "      <td>1</td>\n",
              "      <td>1</td>\n",
              "      <td>0</td>\n",
              "      <td>0</td>\n",
              "      <td>1</td>\n",
              "      <td>0</td>\n",
              "      <td>0</td>\n",
              "    </tr>\n",
              "    <tr>\n",
              "      <th>97194</th>\n",
              "      <td>22.0</td>\n",
              "      <td>0</td>\n",
              "      <td>0</td>\n",
              "      <td>8.0</td>\n",
              "      <td>1</td>\n",
              "      <td>1</td>\n",
              "      <td>0</td>\n",
              "      <td>0</td>\n",
              "      <td>1</td>\n",
              "      <td>0</td>\n",
              "      <td>0</td>\n",
              "    </tr>\n",
              "    <tr>\n",
              "      <th>538200</th>\n",
              "      <td>49.0</td>\n",
              "      <td>0</td>\n",
              "      <td>1</td>\n",
              "      <td>6.0</td>\n",
              "      <td>0</td>\n",
              "      <td>0</td>\n",
              "      <td>0</td>\n",
              "      <td>1</td>\n",
              "      <td>1</td>\n",
              "      <td>0</td>\n",
              "      <td>0</td>\n",
              "    </tr>\n",
              "    <tr>\n",
              "      <th>...</th>\n",
              "      <td>...</td>\n",
              "      <td>...</td>\n",
              "      <td>...</td>\n",
              "      <td>...</td>\n",
              "      <td>...</td>\n",
              "      <td>...</td>\n",
              "      <td>...</td>\n",
              "      <td>...</td>\n",
              "      <td>...</td>\n",
              "      <td>...</td>\n",
              "      <td>...</td>\n",
              "    </tr>\n",
              "    <tr>\n",
              "      <th>284220</th>\n",
              "      <td>19.0</td>\n",
              "      <td>1</td>\n",
              "      <td>0</td>\n",
              "      <td>8.0</td>\n",
              "      <td>1</td>\n",
              "      <td>0</td>\n",
              "      <td>0</td>\n",
              "      <td>1</td>\n",
              "      <td>1</td>\n",
              "      <td>0</td>\n",
              "      <td>0</td>\n",
              "    </tr>\n",
              "    <tr>\n",
              "      <th>41905</th>\n",
              "      <td>37.0</td>\n",
              "      <td>1</td>\n",
              "      <td>0</td>\n",
              "      <td>8.0</td>\n",
              "      <td>0</td>\n",
              "      <td>1</td>\n",
              "      <td>0</td>\n",
              "      <td>0</td>\n",
              "      <td>1</td>\n",
              "      <td>0</td>\n",
              "      <td>0</td>\n",
              "    </tr>\n",
              "    <tr>\n",
              "      <th>842980</th>\n",
              "      <td>50.0</td>\n",
              "      <td>0</td>\n",
              "      <td>0</td>\n",
              "      <td>6.0</td>\n",
              "      <td>0</td>\n",
              "      <td>1</td>\n",
              "      <td>0</td>\n",
              "      <td>0</td>\n",
              "      <td>1</td>\n",
              "      <td>0</td>\n",
              "      <td>0</td>\n",
              "    </tr>\n",
              "    <tr>\n",
              "      <th>198220</th>\n",
              "      <td>57.0</td>\n",
              "      <td>1</td>\n",
              "      <td>0</td>\n",
              "      <td>7.0</td>\n",
              "      <td>0</td>\n",
              "      <td>0</td>\n",
              "      <td>0</td>\n",
              "      <td>1</td>\n",
              "      <td>0</td>\n",
              "      <td>0</td>\n",
              "      <td>1</td>\n",
              "    </tr>\n",
              "    <tr>\n",
              "      <th>3209</th>\n",
              "      <td>18.0</td>\n",
              "      <td>0</td>\n",
              "      <td>0</td>\n",
              "      <td>6.0</td>\n",
              "      <td>0</td>\n",
              "      <td>0</td>\n",
              "      <td>0</td>\n",
              "      <td>1</td>\n",
              "      <td>1</td>\n",
              "      <td>0</td>\n",
              "      <td>0</td>\n",
              "    </tr>\n",
              "  </tbody>\n",
              "</table>\n",
              "<p>727564 rows × 11 columns</p>\n",
              "</div>"
            ],
            "text/plain": [
              "         age gender hand  ...  home_env_mixed home_env_rural home_env_urban\n",
              "812989  35.0      0    0  ...               1              0              0\n",
              "368513  49.0      0    0  ...               1              0              0\n",
              "523783  49.0      1    1  ...               1              0              0\n",
              "97194   22.0      0    0  ...               1              0              0\n",
              "538200  49.0      0    1  ...               1              0              0\n",
              "...      ...    ...  ...  ...             ...            ...            ...\n",
              "284220  19.0      1    0  ...               1              0              0\n",
              "41905   37.0      1    0  ...               1              0              0\n",
              "842980  50.0      0    0  ...               1              0              0\n",
              "198220  57.0      1    0  ...               0              0              1\n",
              "3209    18.0      0    0  ...               1              0              0\n",
              "\n",
              "[727564 rows x 11 columns]"
            ]
          },
          "metadata": {},
          "execution_count": 74
        }
      ]
    },
    {
      "cell_type": "code",
      "metadata": {
        "colab": {
          "base_uri": "https://localhost:8080/"
        },
        "id": "BzuW-bxIQhqz",
        "outputId": "c1268552-7b24-4722-80d2-dc575e0f764a"
      },
      "source": [
        "model_rf = RandomForestClassifier()\n",
        "model_rf.fit(X_train, y_train)"
      ],
      "execution_count": null,
      "outputs": [
        {
          "output_type": "execute_result",
          "data": {
            "text/plain": [
              "RandomForestClassifier()"
            ]
          },
          "metadata": {},
          "execution_count": 11
        }
      ]
    },
    {
      "cell_type": "code",
      "metadata": {
        "id": "MfzShl9NPYC1"
      },
      "source": [
        "predictions = model_rf.predict_proba(X_test)\n"
      ],
      "execution_count": null,
      "outputs": []
    },
    {
      "cell_type": "code",
      "metadata": {
        "id": "71hzHpLuDsPC"
      },
      "source": [
        "def confusion_matrix_scorer(clf, X, y):\n",
        "    y_pred = clf.predict(X)\n",
        "    cm = confusion_matrix(y, y_pred)\n",
        "    return {'tn': cm[0, 0], 'fp': cm[0, 1],\n",
        "            'fn': cm[1, 0], 'tp': cm[1, 1]}\n",
        "cv_results = cross_validate(svm, X, y, cv=5,\n",
        "                            scoring=confusion_matrix_scorer)"
      ],
      "execution_count": null,
      "outputs": []
    },
    {
      "cell_type": "code",
      "metadata": {
        "id": "pUGE_rIujN1D"
      },
      "source": [
        "df_test2 = df_test.copy()\n",
        "df_test2['gender'] = df_test2['gender'].astype(int)\n",
        "df_test2['hand'] = df_test2['hand'].astype(int)\n",
        "df_test2['edu_level'] = df_test2['edu_level'].astype(int)\n",
        "df_test2['commute_level_30 min to 1 h'] = df_test2['commute_level_30 min to 1 h'].astype(int)\n",
        "df_test2['commute_level_hour plus'] = df_test2['commute_level_hour plus'].astype(int)\n",
        "df_test2['commute_level_less 30 min'] = df_test2['commute_level_less 30 min'].astype(int)\n",
        "df_test2['home_env_mixed'] = df_test2['home_env_mixed'].astype(int)\n",
        "df_test2['home_env_rural'] = df_test2['home_env_rural'].astype(int)\n",
        "df_test2['home_env_urban'] = df_test2['home_env_urban'].astype(int)\n"
      ],
      "execution_count": null,
      "outputs": []
    },
    {
      "cell_type": "code",
      "metadata": {
        "id": "QOQ7t5iGivj6"
      },
      "source": [
        "df_train, df_test = train_test_split(df_test2, test_size=0.20)\n",
        "\n",
        "#features = ['age', 'gender', 'hand', 'navigating_skills', 'sleep', 'edu_level', 'commute_level', 'home_env']\n",
        "features = ['age', 'gender', 'hand', 'navigating_skills', 'sleep', 'edu_level', 'commute_level_30 min to 1 h', 'commute_level_hour plus', 'commute_level_less 30 min', 'home_env_mixed', 'home_env_rural', 'home_env_urban']\n",
        "\n",
        "\n",
        "df_train = df_train[features]\n",
        "df_test = df_test[features]\n",
        "\n",
        "X_train, y_train = df_train.drop('navigating_skills',axis=1), df_train['navigating_skills']\n",
        "X_test, y_test = df_test.drop('navigating_skills',axis=1), df_test['navigating_skills']"
      ],
      "execution_count": null,
      "outputs": []
    },
    {
      "cell_type": "code",
      "metadata": {
        "colab": {
          "base_uri": "https://localhost:8080/"
        },
        "id": "jyEPMkGJiN_r",
        "outputId": "496e5f9a-f5a4-45a9-b59a-735d388e80e6"
      },
      "source": [
        "model = XGBClassifier()\n",
        "model.fit(X_train, y_train)\n",
        "# make predictions for test data\n",
        "y_pred = model.predict(X_test)\n",
        "#predictions = [round(value) for value in y_pred]\n",
        "# evaluate predictions\n",
        "accuracy = accuracy_score(y_test, y_pred)\n",
        "print(\"Accuracy: %.2f%%\" % (accuracy * 100.0))"
      ],
      "execution_count": null,
      "outputs": [
        {
          "output_type": "stream",
          "name": "stdout",
          "text": [
            "Accuracy: 56.17%\n"
          ]
        }
      ]
    },
    {
      "cell_type": "code",
      "metadata": {
        "colab": {
          "base_uri": "https://localhost:8080/"
        },
        "id": "gOdLdJWobbqS",
        "outputId": "cdbf69a2-a38e-4c7d-dc1e-8c1b52c340a0"
      },
      "source": [
        "from sklearn.metrics import classification_report, confusion_matrix, accuracy_score\n",
        "\n",
        "\n",
        "print(confusion_matrix(y_test, model_rf.predict(X_test)))\n"
      ],
      "execution_count": null,
      "outputs": [
        {
          "output_type": "stream",
          "name": "stdout",
          "text": [
            "[[ 6763  3511  5249  4970]\n",
            " [24257 21584 19778 35877]\n",
            " [ 1208   589   996   782]\n",
            " [ 8896  9907  8046 29479]]\n"
          ]
        }
      ]
    },
    {
      "cell_type": "code",
      "metadata": {
        "colab": {
          "base_uri": "https://localhost:8080/"
        },
        "id": "tIScWqUvbuFn",
        "outputId": "840a94a1-406f-4203-e7ce-f72136799fe6"
      },
      "source": [
        "print(classification_report(y_test, model_rf.predict(X_test)))\n"
      ],
      "execution_count": null,
      "outputs": [
        {
          "output_type": "stream",
          "name": "stdout",
          "text": [
            "              precision    recall  f1-score   support\n",
            "\n",
            "         bad       0.16      0.32      0.22     20273\n",
            "        good       0.61      0.22      0.32    101544\n",
            "    very bad       0.03      0.30      0.06      3643\n",
            "   very good       0.42      0.53      0.46     56432\n",
            "\n",
            "    accuracy                           0.33    181892\n",
            "   macro avg       0.30      0.34      0.26    181892\n",
            "weighted avg       0.49      0.33      0.35    181892\n",
            "\n"
          ]
        }
      ]
    },
    {
      "cell_type": "code",
      "metadata": {
        "colab": {
          "base_uri": "https://localhost:8080/"
        },
        "id": "8rvEJd5BcHZ6",
        "outputId": "dcf0342a-6449-4241-dd4c-268410bebc82"
      },
      "source": [
        "print(classification_report(y_test, model_rf.predict(X_test)))\n"
      ],
      "execution_count": null,
      "outputs": [
        {
          "output_type": "stream",
          "name": "stdout",
          "text": [
            "              precision    recall  f1-score   support\n",
            "\n",
            "         bad       0.16      0.33      0.22     20493\n",
            "        good       0.61      0.21      0.31    101496\n",
            "    very bad       0.03      0.28      0.05      3575\n",
            "   very good       0.41      0.52      0.46     56328\n",
            "\n",
            "    accuracy                           0.32    181892\n",
            "   macro avg       0.30      0.34      0.26    181892\n",
            "weighted avg       0.49      0.32      0.34    181892\n",
            "\n"
          ]
        }
      ]
    },
    {
      "cell_type": "code",
      "metadata": {
        "colab": {
          "base_uri": "https://localhost:8080/"
        },
        "id": "Zf00uDSdN7dC",
        "outputId": "6677c4fb-7037-4fed-cf23-cb73aeebacf7"
      },
      "source": [
        "accuracy = accuracy_score(y_test, model_rf.predict(X_test))\n",
        "print(\"Accuracy: %.2f%%\" % (accuracy * 100.0))"
      ],
      "execution_count": null,
      "outputs": [
        {
          "output_type": "stream",
          "name": "stdout",
          "text": [
            "Accuracy: 55.80%\n"
          ]
        }
      ]
    },
    {
      "cell_type": "code",
      "metadata": {
        "colab": {
          "base_uri": "https://localhost:8080/"
        },
        "id": "yjJDlGs7mFIP",
        "outputId": "5888e2ba-2c04-43a4-b316-2915d474c8ee"
      },
      "source": [
        "from sklearn.metrics import classification_report, confusion_matrix, accuracy_score\n",
        "\n",
        "print(classification_report(y_test, y_pred))\n"
      ],
      "execution_count": null,
      "outputs": [
        {
          "output_type": "stream",
          "name": "stdout",
          "text": [
            "              precision    recall  f1-score   support\n",
            "\n",
            "         bad       0.00      0.00      0.00       829\n",
            "        good       0.57      0.95      0.71      4062\n",
            "    very bad       0.00      0.00      0.00       132\n",
            "   very good       0.49      0.11      0.18      2253\n",
            "\n",
            "    accuracy                           0.56      7276\n",
            "   macro avg       0.26      0.26      0.22      7276\n",
            "weighted avg       0.47      0.56      0.45      7276\n",
            "\n"
          ]
        },
        {
          "output_type": "stream",
          "name": "stderr",
          "text": [
            "/usr/local/lib/python3.7/dist-packages/sklearn/metrics/_classification.py:1308: UndefinedMetricWarning: Precision and F-score are ill-defined and being set to 0.0 in labels with no predicted samples. Use `zero_division` parameter to control this behavior.\n",
            "  _warn_prf(average, modifier, msg_start, len(result))\n",
            "/usr/local/lib/python3.7/dist-packages/sklearn/metrics/_classification.py:1308: UndefinedMetricWarning: Precision and F-score are ill-defined and being set to 0.0 in labels with no predicted samples. Use `zero_division` parameter to control this behavior.\n",
            "  _warn_prf(average, modifier, msg_start, len(result))\n",
            "/usr/local/lib/python3.7/dist-packages/sklearn/metrics/_classification.py:1308: UndefinedMetricWarning: Precision and F-score are ill-defined and being set to 0.0 in labels with no predicted samples. Use `zero_division` parameter to control this behavior.\n",
            "  _warn_prf(average, modifier, msg_start, len(result))\n"
          ]
        }
      ]
    },
    {
      "cell_type": "code",
      "metadata": {
        "colab": {
          "base_uri": "https://localhost:8080/"
        },
        "id": "8_GsTI4ebPCG",
        "outputId": "6a952bed-ba48-4e6b-b29c-cd2267463db2"
      },
      "source": [
        "print(accuracy_score(y_test,  model_rf.predict(X_test)))\n"
      ],
      "execution_count": null,
      "outputs": [
        {
          "output_type": "stream",
          "name": "stdout",
          "text": [
            "0.5499967013392563\n"
          ]
        }
      ]
    },
    {
      "cell_type": "code",
      "metadata": {
        "id": "hwu2uf2s_QEp"
      },
      "source": [
        "from sklearn.metrics import confusion_matrix\n",
        "cm = pd.DataFrame(confusion_matrix(y_test, predicted), columns=iris.target_names, index=iris.target_names)\n",
        "sns.heatmap(cm, annot=True)"
      ],
      "execution_count": null,
      "outputs": []
    },
    {
      "cell_type": "code",
      "metadata": {
        "colab": {
          "base_uri": "https://localhost:8080/"
        },
        "id": "dcPl-t1t-8bX",
        "outputId": "4dfe9442-6eb3-492e-d6d2-8eec5dc5b826"
      },
      "source": [
        "model_rf"
      ],
      "execution_count": null,
      "outputs": [
        {
          "output_type": "execute_result",
          "data": {
            "text/plain": [
              "RandomForestClassifier(class_weight='balanced')"
            ]
          },
          "metadata": {},
          "execution_count": 127
        }
      ]
    },
    {
      "cell_type": "code",
      "metadata": {
        "colab": {
          "base_uri": "https://localhost:8080/"
        },
        "id": "0A6Y1nXa7ZIu",
        "outputId": "ad2b1f04-dd4d-4003-f288-b43bbc8d0eb9"
      },
      "source": [
        "print(accuracy_score(y_test,  model_rf.predict(X_test)))\n"
      ],
      "execution_count": null,
      "outputs": [
        {
          "output_type": "stream",
          "name": "stdout",
          "text": [
            "0.3233897037802652\n"
          ]
        }
      ]
    },
    {
      "cell_type": "code",
      "metadata": {
        "id": "U0eZnM_toDXW"
      },
      "source": [
        ""
      ],
      "execution_count": null,
      "outputs": []
    }
  ]
}