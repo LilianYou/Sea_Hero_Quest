{
  "nbformat": 4,
  "nbformat_minor": 0,
  "metadata": {
    "colab": {
      "provenance": [],
      "collapsed_sections": [],
      "include_colab_link": true
    },
    "kernelspec": {
      "name": "python3",
      "display_name": "Python 3"
    },
    "language_info": {
      "name": "python"
    }
  },
  "cells": [
    {
      "cell_type": "markdown",
      "metadata": {
        "id": "view-in-github",
        "colab_type": "text"
      },
      "source": [
        "<a href=\"https://colab.research.google.com/github/LilianYou/Sea_Hero_Quest/blob/main/DemographicsAnalysis_shared.ipynb\" target=\"_parent\"><img src=\"https://colab.research.google.com/assets/colab-badge.svg\" alt=\"Open In Colab\"/></a>"
      ]
    },
    {
      "cell_type": "markdown",
      "metadata": {
        "id": "GfxjSgHJ71iV"
      },
      "source": [
        "# Characterizing self-reported navigation ability using demographic information\n",
        "\n",
        "## Exploratary Analysis\n",
        "\n",
        "### read data"
      ]
    },
    {
      "cell_type": "code",
      "metadata": {
        "id": "v0KOmPux77K9"
      },
      "source": [
        "import pandas as pd\n",
        "import numpy as np\n",
        "import matplotlib.pyplot as plt\n",
        "import seaborn as sns\n",
        "from scipy import stats\n",
        "\n"
      ],
      "execution_count": null,
      "outputs": []
    },
    {
      "cell_type": "code",
      "metadata": {
        "colab": {
          "base_uri": "https://localhost:8080/"
        },
        "id": "H817dnQYBh5L",
        "outputId": "282f1a0a-69fe-4015-a35e-ce4157e5acb6"
      },
      "source": [
        "from google.colab import drive\n",
        "drive.mount('/content/drive')"
      ],
      "execution_count": null,
      "outputs": [
        {
          "output_type": "stream",
          "name": "stdout",
          "text": [
            "Mounted at /content/drive\n"
          ]
        }
      ]
    },
    {
      "cell_type": "code",
      "metadata": {
        "colab": {
          "base_uri": "https://localhost:8080/"
        },
        "id": "mfRE_mp_BgAu",
        "outputId": "c34ff05d-93e3-41a2-ed2f-16fdde612e0d"
      },
      "source": [
        "cd /content/drive/My Drive/Data/"
      ],
      "execution_count": null,
      "outputs": [
        {
          "output_type": "stream",
          "name": "stdout",
          "text": [
            "/content/drive/.shortcut-targets-by-id/1pS1W_QFv_TreubUVne2-kLNgsBSGwhhw/Data\n"
          ]
        }
      ]
    },
    {
      "cell_type": "code",
      "metadata": {
        "id": "W4Z2S74v9nrd"
      },
      "source": [
        "df_raw = pd.read_csv(r'2019user_cleaned_3121970.csv')"
      ],
      "execution_count": null,
      "outputs": []
    },
    {
      "cell_type": "code",
      "metadata": {
        "id": "XHFB-uCL_i8E",
        "colab": {
          "base_uri": "https://localhost:8080/"
        },
        "outputId": "785fcd8c-64b7-4734-93ef-3f7568ee9fc4"
      },
      "source": [
        "df_raw.info()"
      ],
      "execution_count": null,
      "outputs": [
        {
          "output_type": "stream",
          "name": "stdout",
          "text": [
            "<class 'pandas.core.frame.DataFrame'>\n",
            "RangeIndex: 771628 entries, 0 to 771627\n",
            "Data columns (total 10 columns):\n",
            " #   Column             Non-Null Count   Dtype  \n",
            "---  ------             --------------   -----  \n",
            " 0   uuid               771628 non-null  object \n",
            " 1   age                771628 non-null  float64\n",
            " 2   education          771628 non-null  object \n",
            " 3   gender             771628 non-null  object \n",
            " 4   hand               771628 non-null  object \n",
            " 5   home_environment   771628 non-null  object \n",
            " 6   location           771628 non-null  object \n",
            " 7   navigating_skills  771628 non-null  object \n",
            " 8   sleep              771628 non-null  float64\n",
            " 9   travel_time        771628 non-null  object \n",
            "dtypes: float64(2), object(8)\n",
            "memory usage: 58.9+ MB\n"
          ]
        }
      ]
    },
    {
      "cell_type": "markdown",
      "metadata": {
        "id": "EsoOm2lKsvC6"
      },
      "source": [
        "### Age & Sleep"
      ]
    },
    {
      "cell_type": "code",
      "metadata": {
        "colab": {
          "base_uri": "https://localhost:8080/",
          "height": 300
        },
        "id": "i7x-UmguU2e_",
        "outputId": "802a1e88-2911-492d-c073-5fc564b215af"
      },
      "source": [
        "df_raw.describe()"
      ],
      "execution_count": null,
      "outputs": [
        {
          "output_type": "execute_result",
          "data": {
            "text/plain": [
              "                 age          sleep\n",
              "count  771628.000000  771628.000000\n",
              "mean       38.610113       6.986715\n",
              "std        14.548005       1.197783\n",
              "min        19.000000       3.000000\n",
              "25%        26.000000       6.000000\n",
              "50%        36.000000       7.000000\n",
              "75%        50.000000       8.000000\n",
              "max        70.000000      12.000000"
            ],
            "text/html": [
              "\n",
              "  <div id=\"df-b0b7cfc3-7abd-4f71-8780-ce692e5e27f8\">\n",
              "    <div class=\"colab-df-container\">\n",
              "      <div>\n",
              "<style scoped>\n",
              "    .dataframe tbody tr th:only-of-type {\n",
              "        vertical-align: middle;\n",
              "    }\n",
              "\n",
              "    .dataframe tbody tr th {\n",
              "        vertical-align: top;\n",
              "    }\n",
              "\n",
              "    .dataframe thead th {\n",
              "        text-align: right;\n",
              "    }\n",
              "</style>\n",
              "<table border=\"1\" class=\"dataframe\">\n",
              "  <thead>\n",
              "    <tr style=\"text-align: right;\">\n",
              "      <th></th>\n",
              "      <th>age</th>\n",
              "      <th>sleep</th>\n",
              "    </tr>\n",
              "  </thead>\n",
              "  <tbody>\n",
              "    <tr>\n",
              "      <th>count</th>\n",
              "      <td>771628.000000</td>\n",
              "      <td>771628.000000</td>\n",
              "    </tr>\n",
              "    <tr>\n",
              "      <th>mean</th>\n",
              "      <td>38.610113</td>\n",
              "      <td>6.986715</td>\n",
              "    </tr>\n",
              "    <tr>\n",
              "      <th>std</th>\n",
              "      <td>14.548005</td>\n",
              "      <td>1.197783</td>\n",
              "    </tr>\n",
              "    <tr>\n",
              "      <th>min</th>\n",
              "      <td>19.000000</td>\n",
              "      <td>3.000000</td>\n",
              "    </tr>\n",
              "    <tr>\n",
              "      <th>25%</th>\n",
              "      <td>26.000000</td>\n",
              "      <td>6.000000</td>\n",
              "    </tr>\n",
              "    <tr>\n",
              "      <th>50%</th>\n",
              "      <td>36.000000</td>\n",
              "      <td>7.000000</td>\n",
              "    </tr>\n",
              "    <tr>\n",
              "      <th>75%</th>\n",
              "      <td>50.000000</td>\n",
              "      <td>8.000000</td>\n",
              "    </tr>\n",
              "    <tr>\n",
              "      <th>max</th>\n",
              "      <td>70.000000</td>\n",
              "      <td>12.000000</td>\n",
              "    </tr>\n",
              "  </tbody>\n",
              "</table>\n",
              "</div>\n",
              "      <button class=\"colab-df-convert\" onclick=\"convertToInteractive('df-b0b7cfc3-7abd-4f71-8780-ce692e5e27f8')\"\n",
              "              title=\"Convert this dataframe to an interactive table.\"\n",
              "              style=\"display:none;\">\n",
              "        \n",
              "  <svg xmlns=\"http://www.w3.org/2000/svg\" height=\"24px\"viewBox=\"0 0 24 24\"\n",
              "       width=\"24px\">\n",
              "    <path d=\"M0 0h24v24H0V0z\" fill=\"none\"/>\n",
              "    <path d=\"M18.56 5.44l.94 2.06.94-2.06 2.06-.94-2.06-.94-.94-2.06-.94 2.06-2.06.94zm-11 1L8.5 8.5l.94-2.06 2.06-.94-2.06-.94L8.5 2.5l-.94 2.06-2.06.94zm10 10l.94 2.06.94-2.06 2.06-.94-2.06-.94-.94-2.06-.94 2.06-2.06.94z\"/><path d=\"M17.41 7.96l-1.37-1.37c-.4-.4-.92-.59-1.43-.59-.52 0-1.04.2-1.43.59L10.3 9.45l-7.72 7.72c-.78.78-.78 2.05 0 2.83L4 21.41c.39.39.9.59 1.41.59.51 0 1.02-.2 1.41-.59l7.78-7.78 2.81-2.81c.8-.78.8-2.07 0-2.86zM5.41 20L4 18.59l7.72-7.72 1.47 1.35L5.41 20z\"/>\n",
              "  </svg>\n",
              "      </button>\n",
              "      \n",
              "  <style>\n",
              "    .colab-df-container {\n",
              "      display:flex;\n",
              "      flex-wrap:wrap;\n",
              "      gap: 12px;\n",
              "    }\n",
              "\n",
              "    .colab-df-convert {\n",
              "      background-color: #E8F0FE;\n",
              "      border: none;\n",
              "      border-radius: 50%;\n",
              "      cursor: pointer;\n",
              "      display: none;\n",
              "      fill: #1967D2;\n",
              "      height: 32px;\n",
              "      padding: 0 0 0 0;\n",
              "      width: 32px;\n",
              "    }\n",
              "\n",
              "    .colab-df-convert:hover {\n",
              "      background-color: #E2EBFA;\n",
              "      box-shadow: 0px 1px 2px rgba(60, 64, 67, 0.3), 0px 1px 3px 1px rgba(60, 64, 67, 0.15);\n",
              "      fill: #174EA6;\n",
              "    }\n",
              "\n",
              "    [theme=dark] .colab-df-convert {\n",
              "      background-color: #3B4455;\n",
              "      fill: #D2E3FC;\n",
              "    }\n",
              "\n",
              "    [theme=dark] .colab-df-convert:hover {\n",
              "      background-color: #434B5C;\n",
              "      box-shadow: 0px 1px 3px 1px rgba(0, 0, 0, 0.15);\n",
              "      filter: drop-shadow(0px 1px 2px rgba(0, 0, 0, 0.3));\n",
              "      fill: #FFFFFF;\n",
              "    }\n",
              "  </style>\n",
              "\n",
              "      <script>\n",
              "        const buttonEl =\n",
              "          document.querySelector('#df-b0b7cfc3-7abd-4f71-8780-ce692e5e27f8 button.colab-df-convert');\n",
              "        buttonEl.style.display =\n",
              "          google.colab.kernel.accessAllowed ? 'block' : 'none';\n",
              "\n",
              "        async function convertToInteractive(key) {\n",
              "          const element = document.querySelector('#df-b0b7cfc3-7abd-4f71-8780-ce692e5e27f8');\n",
              "          const dataTable =\n",
              "            await google.colab.kernel.invokeFunction('convertToInteractive',\n",
              "                                                     [key], {});\n",
              "          if (!dataTable) return;\n",
              "\n",
              "          const docLinkHtml = 'Like what you see? Visit the ' +\n",
              "            '<a target=\"_blank\" href=https://colab.research.google.com/notebooks/data_table.ipynb>data table notebook</a>'\n",
              "            + ' to learn more about interactive tables.';\n",
              "          element.innerHTML = '';\n",
              "          dataTable['output_type'] = 'display_data';\n",
              "          await google.colab.output.renderOutput(dataTable, element);\n",
              "          const docLink = document.createElement('div');\n",
              "          docLink.innerHTML = docLinkHtml;\n",
              "          element.appendChild(docLink);\n",
              "        }\n",
              "      </script>\n",
              "    </div>\n",
              "  </div>\n",
              "  "
            ]
          },
          "metadata": {},
          "execution_count": 7
        }
      ]
    },
    {
      "cell_type": "code",
      "source": [
        "df_raw.gender.value_counts()"
      ],
      "metadata": {
        "id": "BNwoagi57rid",
        "outputId": "53ccb5ea-e2c2-40f7-f074-decb5bc25d51",
        "colab": {
          "base_uri": "https://localhost:8080/"
        }
      },
      "execution_count": null,
      "outputs": [
        {
          "output_type": "execute_result",
          "data": {
            "text/plain": [
              "m    404455\n",
              "f    367173\n",
              "Name: gender, dtype: int64"
            ]
          },
          "metadata": {},
          "execution_count": 9
        }
      ]
    },
    {
      "cell_type": "code",
      "metadata": {
        "id": "KELFMJOkVQmP"
      },
      "source": [
        "df = df_raw.copy()[['age','education','gender','hand','home_environment','navigating_skills','sleep','travel_time']]"
      ],
      "execution_count": null,
      "outputs": []
    },
    {
      "cell_type": "code",
      "metadata": {
        "colab": {
          "base_uri": "https://localhost:8080/",
          "height": 353
        },
        "id": "ggg1hN-pYLBG",
        "outputId": "b7192d00-f635-4929-dcf3-bcfa9b8f8c8f"
      },
      "source": [
        "plt.style.use('seaborn')\n",
        "sns.set(font_scale = 4, rc = {'figure.figsize':(15,8)})\n",
        "sns.histplot(data=df,x=\"age\",binwidth = 5)\n",
        "plt.savefig('age_distri.png',bbox_inches = 'tight')"
      ],
      "execution_count": null,
      "outputs": [
        {
          "output_type": "display_data",
          "data": {
            "text/plain": [
              "<Figure size 1080x576 with 1 Axes>"
            ],
            "image/png": "[encoded data removed]"
          },
          "metadata": {}
        }
      ]
    },
    {
      "cell_type": "code",
      "metadata": {
        "colab": {
          "base_uri": "https://localhost:8080/",
          "height": 365
        },
        "id": "tnvGK3WjYE25",
        "outputId": "d0222181-4210-4dcd-f4de-ed8013c1c9be"
      },
      "source": [
        "sns.histplot(data=df,x=\"sleep\",binwidth = 1)"
      ],
      "execution_count": null,
      "outputs": [
        {
          "output_type": "execute_result",
          "data": {
            "text/plain": [
              "<matplotlib.axes._subplots.AxesSubplot at 0x7f4370521ad0>"
            ]
          },
          "metadata": {},
          "execution_count": 13
        },
        {
          "output_type": "display_data",
          "data": {
            "text/plain": [
              "<Figure size 1080x576 with 1 Axes>"
            ],
            "image/png": "[encoded data removed]"
          },
          "metadata": {}
        }
      ]
    },
    {
      "cell_type": "code",
      "metadata": {
        "colab": {
          "base_uri": "https://localhost:8080/"
        },
        "id": "bEkqF9FI2Q1z",
        "outputId": "c9f3f0da-89bf-42f1-e94a-b1344e18efd5"
      },
      "source": [
        "df[['age','sleep']].median()"
      ],
      "execution_count": null,
      "outputs": [
        {
          "output_type": "execute_result",
          "data": {
            "text/plain": [
              "age      36.0\n",
              "sleep     7.0\n",
              "dtype: float64"
            ]
          },
          "metadata": {},
          "execution_count": 10
        }
      ]
    },
    {
      "cell_type": "markdown",
      "metadata": {
        "id": "a2I_Yie9tD3F"
      },
      "source": [
        "### Gender"
      ]
    },
    {
      "cell_type": "code",
      "metadata": {
        "colab": {
          "base_uri": "https://localhost:8080/"
        },
        "id": "kQgWZ6onWwTE",
        "outputId": "aab307e4-ed70-409a-f4f3-ddef0ffe4ab6"
      },
      "source": [
        "df[\"gender\"].value_counts()/df.shape[0]"
      ],
      "execution_count": null,
      "outputs": [
        {
          "output_type": "execute_result",
          "data": {
            "text/plain": [
              "m    0.524158\n",
              "f    0.475842\n",
              "Name: gender, dtype: float64"
            ]
          },
          "metadata": {},
          "execution_count": 11
        }
      ]
    },
    {
      "cell_type": "markdown",
      "metadata": {
        "id": "Itc9QGFwtGP7"
      },
      "source": [
        "### Education"
      ]
    },
    {
      "cell_type": "code",
      "metadata": {
        "id": "C0Ch6N31I3xc"
      },
      "source": [
        "#recode\n",
        "df['education'] = df['education'].apply(lambda x: 'tertiary' if x=='college'or x == 'university' else 'secondary')\n",
        "df['education'] = pd.Categorical(df['education'], \n",
        "                                 categories=['secondary','tertiary'], ordered=True)"
      ],
      "execution_count": null,
      "outputs": []
    },
    {
      "cell_type": "code",
      "metadata": {
        "colab": {
          "base_uri": "https://localhost:8080/"
        },
        "id": "9zxhcHD1UoQ6",
        "outputId": "a10bead3-d805-4f0a-897b-e4d81bffeee9"
      },
      "source": [
        "df[\"education\"].value_counts()/df.shape[0]"
      ],
      "execution_count": null,
      "outputs": [
        {
          "output_type": "execute_result",
          "data": {
            "text/plain": [
              "tertiary     0.717698\n",
              "secondary    0.282302\n",
              "Name: education, dtype: float64"
            ]
          },
          "metadata": {},
          "execution_count": 13
        }
      ]
    },
    {
      "cell_type": "code",
      "metadata": {
        "colab": {
          "base_uri": "https://localhost:8080/",
          "height": 386
        },
        "id": "2fy0M1UsU8so",
        "outputId": "fda1e611-25e5-40e4-a9c1-8962793d87ae"
      },
      "source": [
        "sns.catplot(x=\"education\", kind=\"count\", palette=\"ch:.25\", data=df)"
      ],
      "execution_count": null,
      "outputs": [
        {
          "output_type": "execute_result",
          "data": {
            "text/plain": [
              "<seaborn.axisgrid.FacetGrid at 0x7f32b30c1b50>"
            ]
          },
          "metadata": {},
          "execution_count": 14
        },
        {
          "output_type": "display_data",
          "data": {
            "text/plain": [
              "<Figure size 360x360 with 1 Axes>"
            ],
            "image/png": "[encoded data removed]"
          },
          "metadata": {
            "needs_background": "light"
          }
        }
      ]
    },
    {
      "cell_type": "markdown",
      "metadata": {
        "id": "fYqL0exeuRIb"
      },
      "source": [
        "### Handedness"
      ]
    },
    {
      "cell_type": "code",
      "metadata": {
        "colab": {
          "base_uri": "https://localhost:8080/"
        },
        "id": "rvsdFCHTW6My",
        "outputId": "bd116ecf-1a9c-474c-f8de-5ee26b63ef26"
      },
      "source": [
        "df[\"hand\"].value_counts()/df.shape[0]"
      ],
      "execution_count": null,
      "outputs": [
        {
          "output_type": "execute_result",
          "data": {
            "text/plain": [
              "right    0.900954\n",
              "left     0.099046\n",
              "Name: hand, dtype: float64"
            ]
          },
          "metadata": {},
          "execution_count": 15
        }
      ]
    },
    {
      "cell_type": "markdown",
      "metadata": {
        "id": "RCCxsUpduXP4"
      },
      "source": [
        "### Home Environment"
      ]
    },
    {
      "cell_type": "code",
      "metadata": {
        "colab": {
          "base_uri": "https://localhost:8080/"
        },
        "id": "QjCkfvbqXBDi",
        "outputId": "b1282e38-7651-45a4-d70d-851d1e94545e"
      },
      "source": [
        "df['home_environment'].value_counts()/df.shape[0]"
      ],
      "execution_count": null,
      "outputs": [
        {
          "output_type": "execute_result",
          "data": {
            "text/plain": [
              "suburbs    0.318619\n",
              "city       0.306460\n",
              "mixed      0.203177\n",
              "rural      0.171745\n",
              "Name: home_environment, dtype: float64"
            ]
          },
          "metadata": {},
          "execution_count": 16
        }
      ]
    },
    {
      "cell_type": "code",
      "metadata": {
        "colab": {
          "base_uri": "https://localhost:8080/",
          "height": 386
        },
        "id": "y_mGtI-rW7vo",
        "outputId": "404d25af-2345-4bcf-9125-8387f3a62bb6"
      },
      "source": [
        "sns.catplot(x=\"home_environment\", kind=\"count\", palette=\"ch:.25\", data=df)"
      ],
      "execution_count": null,
      "outputs": [
        {
          "output_type": "execute_result",
          "data": {
            "text/plain": [
              "<seaborn.axisgrid.FacetGrid at 0x7f32ad82f690>"
            ]
          },
          "metadata": {},
          "execution_count": 17
        },
        {
          "output_type": "display_data",
          "data": {
            "text/plain": [
              "<Figure size 360x360 with 1 Axes>"
            ],
            "image/png": "[encoded data removed]"
          },
          "metadata": {
            "needs_background": "light"
          }
        }
      ]
    },
    {
      "cell_type": "markdown",
      "metadata": {
        "id": "bEOjh5Ktub6d"
      },
      "source": [
        "### Self-reported Navigating Skills (SRNS)"
      ]
    },
    {
      "cell_type": "code",
      "metadata": {
        "id": "oUWAF23nXV4B"
      },
      "source": [
        "df['navigating_skills'] = pd.Categorical(df['navigating_skills'], \n",
        "                                 categories=['very-bad','bad','good','very-good'], \n",
        "                                 ordered=True)"
      ],
      "execution_count": null,
      "outputs": []
    },
    {
      "cell_type": "code",
      "metadata": {
        "colab": {
          "base_uri": "https://localhost:8080/"
        },
        "id": "AxEgi4c8XHHh",
        "outputId": "dc4694bb-495d-4961-bff0-a8ff2cea1d5b"
      },
      "source": [
        "df['navigating_skills'].value_counts()/df.shape[0]"
      ],
      "execution_count": null,
      "outputs": [
        {
          "output_type": "execute_result",
          "data": {
            "text/plain": [
              "good         0.545329\n",
              "very-good    0.318606\n",
              "bad          0.115356\n",
              "very-bad     0.020709\n",
              "Name: navigating_skills, dtype: float64"
            ]
          },
          "metadata": {},
          "execution_count": 14
        }
      ]
    },
    {
      "cell_type": "code",
      "metadata": {
        "colab": {
          "base_uri": "https://localhost:8080/",
          "height": 310
        },
        "id": "WyObA84KXOcp",
        "outputId": "ac30d5a3-fc12-43e6-904d-044b4ef02525"
      },
      "source": [
        "plt.style.use('seaborn')\n",
        "sns.set(font_scale = 3)\n",
        "ax = sns.catplot(x=\"navigating_skills\", kind=\"count\", palette=\"light:b\",data=df,height=6, aspect=2)\n",
        "ax.set(xlabel='self-reported navigation ability')\n",
        "plt.savefig('hs_self_reported_navigating_skills.png',bbox_inches = 'tight')"
      ],
      "execution_count": null,
      "outputs": [
        {
          "output_type": "display_data",
          "data": {
            "text/plain": [
              "<Figure size 864x432 with 1 Axes>"
            ],
            "image/png": "[encoded data removed]"
          },
          "metadata": {}
        }
      ]
    },
    {
      "cell_type": "markdown",
      "metadata": {
        "id": "4YEGLM6Jujou"
      },
      "source": [
        "### Daily Commute Time"
      ]
    },
    {
      "cell_type": "code",
      "metadata": {
        "id": "Ocy3CKQ6XzLe"
      },
      "source": [
        "df['travel_time'] = pd.Categorical(df['travel_time'], \n",
        "                                 categories=['less-30-mins','30-mins-to-1-hour','hour-plus'], \n",
        "                                 ordered=True)"
      ],
      "execution_count": null,
      "outputs": []
    },
    {
      "cell_type": "code",
      "metadata": {
        "colab": {
          "base_uri": "https://localhost:8080/"
        },
        "id": "tfuQ2YZXXopQ",
        "outputId": "fcc9dc32-22b6-4f29-896a-d68fff99791f"
      },
      "source": [
        "df['travel_time'].value_counts()/df.shape[0]"
      ],
      "execution_count": null,
      "outputs": [
        {
          "output_type": "execute_result",
          "data": {
            "text/plain": [
              "less-30-mins         0.399630\n",
              "30-mins-to-1-hour    0.347261\n",
              "hour-plus            0.253109\n",
              "Name: travel_time, dtype: float64"
            ]
          },
          "metadata": {},
          "execution_count": 22
        }
      ]
    },
    {
      "cell_type": "code",
      "metadata": {
        "colab": {
          "base_uri": "https://localhost:8080/",
          "height": 386
        },
        "id": "3cqQcMVQYAXO",
        "outputId": "87cbf3f3-f85d-4dd3-ff6f-ac3df04f1de6"
      },
      "source": [
        "sns.catplot(x=\"travel_time\", kind=\"count\", palette=\"ch:.25\", data=df)"
      ],
      "execution_count": null,
      "outputs": [
        {
          "output_type": "execute_result",
          "data": {
            "text/plain": [
              "<seaborn.axisgrid.FacetGrid at 0x7f32b07be9d0>"
            ]
          },
          "metadata": {},
          "execution_count": 23
        },
        {
          "output_type": "display_data",
          "data": {
            "text/plain": [
              "<Figure size 360x360 with 1 Axes>"
            ],
            "image/png": "[encoded data removed]"
          },
          "metadata": {
            "needs_background": "light"
          }
        }
      ]
    },
    {
      "cell_type": "markdown",
      "metadata": {
        "id": "dt2vE6hRwFpQ"
      },
      "source": [
        "### Bivariate spearman correlation"
      ]
    },
    {
      "cell_type": "code",
      "metadata": {
        "colab": {
          "base_uri": "https://localhost:8080/",
          "height": 305
        },
        "id": "GZ8p2PQIwrKj",
        "outputId": "bfaf2470-3066-4197-c79c-f7b9a9cc07dc"
      },
      "source": [
        "df.head()"
      ],
      "execution_count": null,
      "outputs": [
        {
          "output_type": "execute_result",
          "data": {
            "text/plain": [
              "    age  education gender   hand home_environment navigating_skills  sleep  \\\n",
              "0  68.0   tertiary      f  right             city               bad    8.0   \n",
              "1  21.0   tertiary      f  right          suburbs              good    7.0   \n",
              "2  36.0   tertiary      m  right            rural         very-good    5.0   \n",
              "3  19.0  secondary      m  right            mixed              good    8.0   \n",
              "4  61.0   tertiary      m  right          suburbs              good    7.0   \n",
              "\n",
              "         travel_time  \n",
              "0       less-30-mins  \n",
              "1  30-mins-to-1-hour  \n",
              "2  30-mins-to-1-hour  \n",
              "3       less-30-mins  \n",
              "4       less-30-mins  "
            ],
            "text/html": [
              "\n",
              "  <div id=\"df-c478a0d3-6665-47c9-af92-59b18bed8b64\">\n",
              "    <div class=\"colab-df-container\">\n",
              "      <div>\n",
              "<style scoped>\n",
              "    .dataframe tbody tr th:only-of-type {\n",
              "        vertical-align: middle;\n",
              "    }\n",
              "\n",
              "    .dataframe tbody tr th {\n",
              "        vertical-align: top;\n",
              "    }\n",
              "\n",
              "    .dataframe thead th {\n",
              "        text-align: right;\n",
              "    }\n",
              "</style>\n",
              "<table border=\"1\" class=\"dataframe\">\n",
              "  <thead>\n",
              "    <tr style=\"text-align: right;\">\n",
              "      <th></th>\n",
              "      <th>age</th>\n",
              "      <th>education</th>\n",
              "      <th>gender</th>\n",
              "      <th>hand</th>\n",
              "      <th>home_environment</th>\n",
              "      <th>navigating_skills</th>\n",
              "      <th>sleep</th>\n",
              "      <th>travel_time</th>\n",
              "    </tr>\n",
              "  </thead>\n",
              "  <tbody>\n",
              "    <tr>\n",
              "      <th>0</th>\n",
              "      <td>68.0</td>\n",
              "      <td>tertiary</td>\n",
              "      <td>f</td>\n",
              "      <td>right</td>\n",
              "      <td>city</td>\n",
              "      <td>bad</td>\n",
              "      <td>8.0</td>\n",
              "      <td>less-30-mins</td>\n",
              "    </tr>\n",
              "    <tr>\n",
              "      <th>1</th>\n",
              "      <td>21.0</td>\n",
              "      <td>tertiary</td>\n",
              "      <td>f</td>\n",
              "      <td>right</td>\n",
              "      <td>suburbs</td>\n",
              "      <td>good</td>\n",
              "      <td>7.0</td>\n",
              "      <td>30-mins-to-1-hour</td>\n",
              "    </tr>\n",
              "    <tr>\n",
              "      <th>2</th>\n",
              "      <td>36.0</td>\n",
              "      <td>tertiary</td>\n",
              "      <td>m</td>\n",
              "      <td>right</td>\n",
              "      <td>rural</td>\n",
              "      <td>very-good</td>\n",
              "      <td>5.0</td>\n",
              "      <td>30-mins-to-1-hour</td>\n",
              "    </tr>\n",
              "    <tr>\n",
              "      <th>3</th>\n",
              "      <td>19.0</td>\n",
              "      <td>secondary</td>\n",
              "      <td>m</td>\n",
              "      <td>right</td>\n",
              "      <td>mixed</td>\n",
              "      <td>good</td>\n",
              "      <td>8.0</td>\n",
              "      <td>less-30-mins</td>\n",
              "    </tr>\n",
              "    <tr>\n",
              "      <th>4</th>\n",
              "      <td>61.0</td>\n",
              "      <td>tertiary</td>\n",
              "      <td>m</td>\n",
              "      <td>right</td>\n",
              "      <td>suburbs</td>\n",
              "      <td>good</td>\n",
              "      <td>7.0</td>\n",
              "      <td>less-30-mins</td>\n",
              "    </tr>\n",
              "  </tbody>\n",
              "</table>\n",
              "</div>\n",
              "      <button class=\"colab-df-convert\" onclick=\"convertToInteractive('df-c478a0d3-6665-47c9-af92-59b18bed8b64')\"\n",
              "              title=\"Convert this dataframe to an interactive table.\"\n",
              "              style=\"display:none;\">\n",
              "        \n",
              "  <svg xmlns=\"http://www.w3.org/2000/svg\" height=\"24px\"viewBox=\"0 0 24 24\"\n",
              "       width=\"24px\">\n",
              "    <path d=\"M0 0h24v24H0V0z\" fill=\"none\"/>\n",
              "    <path d=\"M18.56 5.44l.94 2.06.94-2.06 2.06-.94-2.06-.94-.94-2.06-.94 2.06-2.06.94zm-11 1L8.5 8.5l.94-2.06 2.06-.94-2.06-.94L8.5 2.5l-.94 2.06-2.06.94zm10 10l.94 2.06.94-2.06 2.06-.94-2.06-.94-.94-2.06-.94 2.06-2.06.94z\"/><path d=\"M17.41 7.96l-1.37-1.37c-.4-.4-.92-.59-1.43-.59-.52 0-1.04.2-1.43.59L10.3 9.45l-7.72 7.72c-.78.78-.78 2.05 0 2.83L4 21.41c.39.39.9.59 1.41.59.51 0 1.02-.2 1.41-.59l7.78-7.78 2.81-2.81c.8-.78.8-2.07 0-2.86zM5.41 20L4 18.59l7.72-7.72 1.47 1.35L5.41 20z\"/>\n",
              "  </svg>\n",
              "      </button>\n",
              "      \n",
              "  <style>\n",
              "    .colab-df-container {\n",
              "      display:flex;\n",
              "      flex-wrap:wrap;\n",
              "      gap: 12px;\n",
              "    }\n",
              "\n",
              "    .colab-df-convert {\n",
              "      background-color: #E8F0FE;\n",
              "      border: none;\n",
              "      border-radius: 50%;\n",
              "      cursor: pointer;\n",
              "      display: none;\n",
              "      fill: #1967D2;\n",
              "      height: 32px;\n",
              "      padding: 0 0 0 0;\n",
              "      width: 32px;\n",
              "    }\n",
              "\n",
              "    .colab-df-convert:hover {\n",
              "      background-color: #E2EBFA;\n",
              "      box-shadow: 0px 1px 2px rgba(60, 64, 67, 0.3), 0px 1px 3px 1px rgba(60, 64, 67, 0.15);\n",
              "      fill: #174EA6;\n",
              "    }\n",
              "\n",
              "    [theme=dark] .colab-df-convert {\n",
              "      background-color: #3B4455;\n",
              "      fill: #D2E3FC;\n",
              "    }\n",
              "\n",
              "    [theme=dark] .colab-df-convert:hover {\n",
              "      background-color: #434B5C;\n",
              "      box-shadow: 0px 1px 3px 1px rgba(0, 0, 0, 0.15);\n",
              "      filter: drop-shadow(0px 1px 2px rgba(0, 0, 0, 0.3));\n",
              "      fill: #FFFFFF;\n",
              "    }\n",
              "  </style>\n",
              "\n",
              "      <script>\n",
              "        const buttonEl =\n",
              "          document.querySelector('#df-c478a0d3-6665-47c9-af92-59b18bed8b64 button.colab-df-convert');\n",
              "        buttonEl.style.display =\n",
              "          google.colab.kernel.accessAllowed ? 'block' : 'none';\n",
              "\n",
              "        async function convertToInteractive(key) {\n",
              "          const element = document.querySelector('#df-c478a0d3-6665-47c9-af92-59b18bed8b64');\n",
              "          const dataTable =\n",
              "            await google.colab.kernel.invokeFunction('convertToInteractive',\n",
              "                                                     [key], {});\n",
              "          if (!dataTable) return;\n",
              "\n",
              "          const docLinkHtml = 'Like what you see? Visit the ' +\n",
              "            '<a target=\"_blank\" href=https://colab.research.google.com/notebooks/data_table.ipynb>data table notebook</a>'\n",
              "            + ' to learn more about interactive tables.';\n",
              "          element.innerHTML = '';\n",
              "          dataTable['output_type'] = 'display_data';\n",
              "          await google.colab.output.renderOutput(dataTable, element);\n",
              "          const docLink = document.createElement('div');\n",
              "          docLink.innerHTML = docLinkHtml;\n",
              "          element.appendChild(docLink);\n",
              "        }\n",
              "      </script>\n",
              "    </div>\n",
              "  </div>\n",
              "  "
            ]
          },
          "metadata": {},
          "execution_count": 24
        }
      ]
    },
    {
      "cell_type": "code",
      "metadata": {
        "id": "ApfYKFtDxYco"
      },
      "source": [
        "df_model = df.copy()\n",
        "recode_map = {\"gender\": {'f': 0,'m': 1},\n",
        "                   \"hand\": {'right': 0,'left': 1},\n",
        "                   \"education\":{\"secondary\":0, \"tertiary\":1},\n",
        "                   \"travel_time\":{\"less-30-mins\":0, \"30-mins-to-1-hour\":1, \"hour-plus\":2},\n",
        "                   \"home_environment\":{\"rural\":0,\"suburbs\":1,\"mixed\":1,\"city\":2}}\n",
        "df_model = df_model.replace(recode_map)\n"
      ],
      "execution_count": null,
      "outputs": []
    },
    {
      "cell_type": "code",
      "source": [
        "df_model.head()"
      ],
      "metadata": {
        "colab": {
          "base_uri": "https://localhost:8080/",
          "height": 270
        },
        "id": "P3Sf2xjlkKfG",
        "outputId": "0020e56b-fc29-40e1-ffaf-1082f45877a7"
      },
      "execution_count": null,
      "outputs": [
        {
          "output_type": "execute_result",
          "data": {
            "text/plain": [
              "    age  education  gender  hand  home_environment navigating_skills  sleep  \\\n",
              "0  68.0          1       0     0                 2               bad    8.0   \n",
              "1  21.0          1       0     0                 1              good    7.0   \n",
              "2  36.0          1       1     0                 0         very-good    5.0   \n",
              "3  19.0          0       1     0                 1              good    8.0   \n",
              "4  61.0          1       1     0                 1              good    7.0   \n",
              "\n",
              "   travel_time  \n",
              "0            0  \n",
              "1            1  \n",
              "2            1  \n",
              "3            0  \n",
              "4            0  "
            ],
            "text/html": [
              "\n",
              "  <div id=\"df-7a8adac1-80ae-498d-a6ce-643c9aa1edad\">\n",
              "    <div class=\"colab-df-container\">\n",
              "      <div>\n",
              "<style scoped>\n",
              "    .dataframe tbody tr th:only-of-type {\n",
              "        vertical-align: middle;\n",
              "    }\n",
              "\n",
              "    .dataframe tbody tr th {\n",
              "        vertical-align: top;\n",
              "    }\n",
              "\n",
              "    .dataframe thead th {\n",
              "        text-align: right;\n",
              "    }\n",
              "</style>\n",
              "<table border=\"1\" class=\"dataframe\">\n",
              "  <thead>\n",
              "    <tr style=\"text-align: right;\">\n",
              "      <th></th>\n",
              "      <th>age</th>\n",
              "      <th>education</th>\n",
              "      <th>gender</th>\n",
              "      <th>hand</th>\n",
              "      <th>home_environment</th>\n",
              "      <th>navigating_skills</th>\n",
              "      <th>sleep</th>\n",
              "      <th>travel_time</th>\n",
              "    </tr>\n",
              "  </thead>\n",
              "  <tbody>\n",
              "    <tr>\n",
              "      <th>0</th>\n",
              "      <td>68.0</td>\n",
              "      <td>1</td>\n",
              "      <td>0</td>\n",
              "      <td>0</td>\n",
              "      <td>2</td>\n",
              "      <td>bad</td>\n",
              "      <td>8.0</td>\n",
              "      <td>0</td>\n",
              "    </tr>\n",
              "    <tr>\n",
              "      <th>1</th>\n",
              "      <td>21.0</td>\n",
              "      <td>1</td>\n",
              "      <td>0</td>\n",
              "      <td>0</td>\n",
              "      <td>1</td>\n",
              "      <td>good</td>\n",
              "      <td>7.0</td>\n",
              "      <td>1</td>\n",
              "    </tr>\n",
              "    <tr>\n",
              "      <th>2</th>\n",
              "      <td>36.0</td>\n",
              "      <td>1</td>\n",
              "      <td>1</td>\n",
              "      <td>0</td>\n",
              "      <td>0</td>\n",
              "      <td>very-good</td>\n",
              "      <td>5.0</td>\n",
              "      <td>1</td>\n",
              "    </tr>\n",
              "    <tr>\n",
              "      <th>3</th>\n",
              "      <td>19.0</td>\n",
              "      <td>0</td>\n",
              "      <td>1</td>\n",
              "      <td>0</td>\n",
              "      <td>1</td>\n",
              "      <td>good</td>\n",
              "      <td>8.0</td>\n",
              "      <td>0</td>\n",
              "    </tr>\n",
              "    <tr>\n",
              "      <th>4</th>\n",
              "      <td>61.0</td>\n",
              "      <td>1</td>\n",
              "      <td>1</td>\n",
              "      <td>0</td>\n",
              "      <td>1</td>\n",
              "      <td>good</td>\n",
              "      <td>7.0</td>\n",
              "      <td>0</td>\n",
              "    </tr>\n",
              "  </tbody>\n",
              "</table>\n",
              "</div>\n",
              "      <button class=\"colab-df-convert\" onclick=\"convertToInteractive('df-7a8adac1-80ae-498d-a6ce-643c9aa1edad')\"\n",
              "              title=\"Convert this dataframe to an interactive table.\"\n",
              "              style=\"display:none;\">\n",
              "        \n",
              "  <svg xmlns=\"http://www.w3.org/2000/svg\" height=\"24px\"viewBox=\"0 0 24 24\"\n",
              "       width=\"24px\">\n",
              "    <path d=\"M0 0h24v24H0V0z\" fill=\"none\"/>\n",
              "    <path d=\"M18.56 5.44l.94 2.06.94-2.06 2.06-.94-2.06-.94-.94-2.06-.94 2.06-2.06.94zm-11 1L8.5 8.5l.94-2.06 2.06-.94-2.06-.94L8.5 2.5l-.94 2.06-2.06.94zm10 10l.94 2.06.94-2.06 2.06-.94-2.06-.94-.94-2.06-.94 2.06-2.06.94z\"/><path d=\"M17.41 7.96l-1.37-1.37c-.4-.4-.92-.59-1.43-.59-.52 0-1.04.2-1.43.59L10.3 9.45l-7.72 7.72c-.78.78-.78 2.05 0 2.83L4 21.41c.39.39.9.59 1.41.59.51 0 1.02-.2 1.41-.59l7.78-7.78 2.81-2.81c.8-.78.8-2.07 0-2.86zM5.41 20L4 18.59l7.72-7.72 1.47 1.35L5.41 20z\"/>\n",
              "  </svg>\n",
              "      </button>\n",
              "      \n",
              "  <style>\n",
              "    .colab-df-container {\n",
              "      display:flex;\n",
              "      flex-wrap:wrap;\n",
              "      gap: 12px;\n",
              "    }\n",
              "\n",
              "    .colab-df-convert {\n",
              "      background-color: #E8F0FE;\n",
              "      border: none;\n",
              "      border-radius: 50%;\n",
              "      cursor: pointer;\n",
              "      display: none;\n",
              "      fill: #1967D2;\n",
              "      height: 32px;\n",
              "      padding: 0 0 0 0;\n",
              "      width: 32px;\n",
              "    }\n",
              "\n",
              "    .colab-df-convert:hover {\n",
              "      background-color: #E2EBFA;\n",
              "      box-shadow: 0px 1px 2px rgba(60, 64, 67, 0.3), 0px 1px 3px 1px rgba(60, 64, 67, 0.15);\n",
              "      fill: #174EA6;\n",
              "    }\n",
              "\n",
              "    [theme=dark] .colab-df-convert {\n",
              "      background-color: #3B4455;\n",
              "      fill: #D2E3FC;\n",
              "    }\n",
              "\n",
              "    [theme=dark] .colab-df-convert:hover {\n",
              "      background-color: #434B5C;\n",
              "      box-shadow: 0px 1px 3px 1px rgba(0, 0, 0, 0.15);\n",
              "      filter: drop-shadow(0px 1px 2px rgba(0, 0, 0, 0.3));\n",
              "      fill: #FFFFFF;\n",
              "    }\n",
              "  </style>\n",
              "\n",
              "      <script>\n",
              "        const buttonEl =\n",
              "          document.querySelector('#df-7a8adac1-80ae-498d-a6ce-643c9aa1edad button.colab-df-convert');\n",
              "        buttonEl.style.display =\n",
              "          google.colab.kernel.accessAllowed ? 'block' : 'none';\n",
              "\n",
              "        async function convertToInteractive(key) {\n",
              "          const element = document.querySelector('#df-7a8adac1-80ae-498d-a6ce-643c9aa1edad');\n",
              "          const dataTable =\n",
              "            await google.colab.kernel.invokeFunction('convertToInteractive',\n",
              "                                                     [key], {});\n",
              "          if (!dataTable) return;\n",
              "\n",
              "          const docLinkHtml = 'Like what you see? Visit the ' +\n",
              "            '<a target=\"_blank\" href=https://colab.research.google.com/notebooks/data_table.ipynb>data table notebook</a>'\n",
              "            + ' to learn more about interactive tables.';\n",
              "          element.innerHTML = '';\n",
              "          dataTable['output_type'] = 'display_data';\n",
              "          await google.colab.output.renderOutput(dataTable, element);\n",
              "          const docLink = document.createElement('div');\n",
              "          docLink.innerHTML = docLinkHtml;\n",
              "          element.appendChild(docLink);\n",
              "        }\n",
              "      </script>\n",
              "    </div>\n",
              "  </div>\n",
              "  "
            ]
          },
          "metadata": {},
          "execution_count": 26
        }
      ]
    },
    {
      "cell_type": "code",
      "source": [
        "print(stats.spearmanr(df_model.age,df_model.sleep))\n",
        "print(stats.spearmanr(df_model.age,df_model.education))"
      ],
      "metadata": {
        "colab": {
          "base_uri": "https://localhost:8080/"
        },
        "id": "paVMuhZ8kP9j",
        "outputId": "354d79fd-4a8e-40c5-8da5-3af70c9e56e1"
      },
      "execution_count": null,
      "outputs": [
        {
          "output_type": "stream",
          "name": "stdout",
          "text": [
            "SpearmanrResult(correlation=-0.1200571891013105, pvalue=0.0)\n",
            "SpearmanrResult(correlation=-0.0237331439285974, pvalue=1.5034643294471859e-96)\n"
          ]
        }
      ]
    },
    {
      "cell_type": "code",
      "metadata": {
        "colab": {
          "base_uri": "https://localhost:8080/",
          "height": 333
        },
        "id": "_PhLGyX6wFBn",
        "outputId": "78114462-31cf-42b7-cc27-e139189279a5"
      },
      "source": [
        "df_model.corr(method= 'spearman')"
      ],
      "execution_count": null,
      "outputs": [
        {
          "output_type": "execute_result",
          "data": {
            "text/plain": [
              "                       age  education    gender      hand  home_environment  \\\n",
              "age               1.000000  -0.023733 -0.055903 -0.012966         -0.052783   \n",
              "education        -0.023733   1.000000 -0.008282 -0.006270          0.020896   \n",
              "gender           -0.055903  -0.008282  1.000000  0.031291          0.047229   \n",
              "hand             -0.012966  -0.006270  0.031291  1.000000         -0.016572   \n",
              "home_environment -0.052783   0.020896  0.047229 -0.016572          1.000000   \n",
              "sleep            -0.120057  -0.018880 -0.059097  0.003371          0.000591   \n",
              "travel_time      -0.146072   0.007738  0.111290 -0.015410          0.068498   \n",
              "\n",
              "                     sleep  travel_time  \n",
              "age              -0.120057    -0.146072  \n",
              "education        -0.018880     0.007738  \n",
              "gender           -0.059097     0.111290  \n",
              "hand              0.003371    -0.015410  \n",
              "home_environment  0.000591     0.068498  \n",
              "sleep             1.000000    -0.063806  \n",
              "travel_time      -0.063806     1.000000  "
            ],
            "text/html": [
              "\n",
              "  <div id=\"df-913eeffb-f413-4553-bbd2-f122b84ebcae\">\n",
              "    <div class=\"colab-df-container\">\n",
              "      <div>\n",
              "<style scoped>\n",
              "    .dataframe tbody tr th:only-of-type {\n",
              "        vertical-align: middle;\n",
              "    }\n",
              "\n",
              "    .dataframe tbody tr th {\n",
              "        vertical-align: top;\n",
              "    }\n",
              "\n",
              "    .dataframe thead th {\n",
              "        text-align: right;\n",
              "    }\n",
              "</style>\n",
              "<table border=\"1\" class=\"dataframe\">\n",
              "  <thead>\n",
              "    <tr style=\"text-align: right;\">\n",
              "      <th></th>\n",
              "      <th>age</th>\n",
              "      <th>education</th>\n",
              "      <th>gender</th>\n",
              "      <th>hand</th>\n",
              "      <th>home_environment</th>\n",
              "      <th>sleep</th>\n",
              "      <th>travel_time</th>\n",
              "    </tr>\n",
              "  </thead>\n",
              "  <tbody>\n",
              "    <tr>\n",
              "      <th>age</th>\n",
              "      <td>1.000000</td>\n",
              "      <td>-0.023733</td>\n",
              "      <td>-0.055903</td>\n",
              "      <td>-0.012966</td>\n",
              "      <td>-0.052783</td>\n",
              "      <td>-0.120057</td>\n",
              "      <td>-0.146072</td>\n",
              "    </tr>\n",
              "    <tr>\n",
              "      <th>education</th>\n",
              "      <td>-0.023733</td>\n",
              "      <td>1.000000</td>\n",
              "      <td>-0.008282</td>\n",
              "      <td>-0.006270</td>\n",
              "      <td>0.020896</td>\n",
              "      <td>-0.018880</td>\n",
              "      <td>0.007738</td>\n",
              "    </tr>\n",
              "    <tr>\n",
              "      <th>gender</th>\n",
              "      <td>-0.055903</td>\n",
              "      <td>-0.008282</td>\n",
              "      <td>1.000000</td>\n",
              "      <td>0.031291</td>\n",
              "      <td>0.047229</td>\n",
              "      <td>-0.059097</td>\n",
              "      <td>0.111290</td>\n",
              "    </tr>\n",
              "    <tr>\n",
              "      <th>hand</th>\n",
              "      <td>-0.012966</td>\n",
              "      <td>-0.006270</td>\n",
              "      <td>0.031291</td>\n",
              "      <td>1.000000</td>\n",
              "      <td>-0.016572</td>\n",
              "      <td>0.003371</td>\n",
              "      <td>-0.015410</td>\n",
              "    </tr>\n",
              "    <tr>\n",
              "      <th>home_environment</th>\n",
              "      <td>-0.052783</td>\n",
              "      <td>0.020896</td>\n",
              "      <td>0.047229</td>\n",
              "      <td>-0.016572</td>\n",
              "      <td>1.000000</td>\n",
              "      <td>0.000591</td>\n",
              "      <td>0.068498</td>\n",
              "    </tr>\n",
              "    <tr>\n",
              "      <th>sleep</th>\n",
              "      <td>-0.120057</td>\n",
              "      <td>-0.018880</td>\n",
              "      <td>-0.059097</td>\n",
              "      <td>0.003371</td>\n",
              "      <td>0.000591</td>\n",
              "      <td>1.000000</td>\n",
              "      <td>-0.063806</td>\n",
              "    </tr>\n",
              "    <tr>\n",
              "      <th>travel_time</th>\n",
              "      <td>-0.146072</td>\n",
              "      <td>0.007738</td>\n",
              "      <td>0.111290</td>\n",
              "      <td>-0.015410</td>\n",
              "      <td>0.068498</td>\n",
              "      <td>-0.063806</td>\n",
              "      <td>1.000000</td>\n",
              "    </tr>\n",
              "  </tbody>\n",
              "</table>\n",
              "</div>\n",
              "      <button class=\"colab-df-convert\" onclick=\"convertToInteractive('df-913eeffb-f413-4553-bbd2-f122b84ebcae')\"\n",
              "              title=\"Convert this dataframe to an interactive table.\"\n",
              "              style=\"display:none;\">\n",
              "        \n",
              "  <svg xmlns=\"http://www.w3.org/2000/svg\" height=\"24px\"viewBox=\"0 0 24 24\"\n",
              "       width=\"24px\">\n",
              "    <path d=\"M0 0h24v24H0V0z\" fill=\"none\"/>\n",
              "    <path d=\"M18.56 5.44l.94 2.06.94-2.06 2.06-.94-2.06-.94-.94-2.06-.94 2.06-2.06.94zm-11 1L8.5 8.5l.94-2.06 2.06-.94-2.06-.94L8.5 2.5l-.94 2.06-2.06.94zm10 10l.94 2.06.94-2.06 2.06-.94-2.06-.94-.94-2.06-.94 2.06-2.06.94z\"/><path d=\"M17.41 7.96l-1.37-1.37c-.4-.4-.92-.59-1.43-.59-.52 0-1.04.2-1.43.59L10.3 9.45l-7.72 7.72c-.78.78-.78 2.05 0 2.83L4 21.41c.39.39.9.59 1.41.59.51 0 1.02-.2 1.41-.59l7.78-7.78 2.81-2.81c.8-.78.8-2.07 0-2.86zM5.41 20L4 18.59l7.72-7.72 1.47 1.35L5.41 20z\"/>\n",
              "  </svg>\n",
              "      </button>\n",
              "      \n",
              "  <style>\n",
              "    .colab-df-container {\n",
              "      display:flex;\n",
              "      flex-wrap:wrap;\n",
              "      gap: 12px;\n",
              "    }\n",
              "\n",
              "    .colab-df-convert {\n",
              "      background-color: #E8F0FE;\n",
              "      border: none;\n",
              "      border-radius: 50%;\n",
              "      cursor: pointer;\n",
              "      display: none;\n",
              "      fill: #1967D2;\n",
              "      height: 32px;\n",
              "      padding: 0 0 0 0;\n",
              "      width: 32px;\n",
              "    }\n",
              "\n",
              "    .colab-df-convert:hover {\n",
              "      background-color: #E2EBFA;\n",
              "      box-shadow: 0px 1px 2px rgba(60, 64, 67, 0.3), 0px 1px 3px 1px rgba(60, 64, 67, 0.15);\n",
              "      fill: #174EA6;\n",
              "    }\n",
              "\n",
              "    [theme=dark] .colab-df-convert {\n",
              "      background-color: #3B4455;\n",
              "      fill: #D2E3FC;\n",
              "    }\n",
              "\n",
              "    [theme=dark] .colab-df-convert:hover {\n",
              "      background-color: #434B5C;\n",
              "      box-shadow: 0px 1px 3px 1px rgba(0, 0, 0, 0.15);\n",
              "      filter: drop-shadow(0px 1px 2px rgba(0, 0, 0, 0.3));\n",
              "      fill: #FFFFFF;\n",
              "    }\n",
              "  </style>\n",
              "\n",
              "      <script>\n",
              "        const buttonEl =\n",
              "          document.querySelector('#df-913eeffb-f413-4553-bbd2-f122b84ebcae button.colab-df-convert');\n",
              "        buttonEl.style.display =\n",
              "          google.colab.kernel.accessAllowed ? 'block' : 'none';\n",
              "\n",
              "        async function convertToInteractive(key) {\n",
              "          const element = document.querySelector('#df-913eeffb-f413-4553-bbd2-f122b84ebcae');\n",
              "          const dataTable =\n",
              "            await google.colab.kernel.invokeFunction('convertToInteractive',\n",
              "                                                     [key], {});\n",
              "          if (!dataTable) return;\n",
              "\n",
              "          const docLinkHtml = 'Like what you see? Visit the ' +\n",
              "            '<a target=\"_blank\" href=https://colab.research.google.com/notebooks/data_table.ipynb>data table notebook</a>'\n",
              "            + ' to learn more about interactive tables.';\n",
              "          element.innerHTML = '';\n",
              "          dataTable['output_type'] = 'display_data';\n",
              "          await google.colab.output.renderOutput(dataTable, element);\n",
              "          const docLink = document.createElement('div');\n",
              "          docLink.innerHTML = docLinkHtml;\n",
              "          element.appendChild(docLink);\n",
              "        }\n",
              "      </script>\n",
              "    </div>\n",
              "  </div>\n",
              "  "
            ]
          },
          "metadata": {},
          "execution_count": 28
        }
      ]
    },
    {
      "cell_type": "code",
      "source": [
        "def self_nav_num(rating):\n",
        "    if rating == 'very-good':\n",
        "      return '3'\n",
        "    elif rating == 'good':\n",
        "      return '2'\n",
        "    elif rating == 'bad':\n",
        "      return '1'\n",
        "    else:\n",
        "      return '0'\n",
        "\n",
        "df_model['nav_num'] = df_model['navigating_skills'].apply(self_nav_num)\n",
        "\n",
        "df_model['nav_num'] = pd.Categorical(df_model['nav_num'], \n",
        "                                 categories=['0','1','2','3'], \n",
        "                                 ordered=True)"
      ],
      "metadata": {
        "id": "kS44qXnCNQ9j"
      },
      "execution_count": null,
      "outputs": []
    },
    {
      "cell_type": "code",
      "source": [
        "df_model.head()"
      ],
      "metadata": {
        "colab": {
          "base_uri": "https://localhost:8080/",
          "height": 270
        },
        "id": "rG9EmXccOPRg",
        "outputId": "027a3e34-9613-479c-818a-2d453bd48280"
      },
      "execution_count": null,
      "outputs": [
        {
          "output_type": "execute_result",
          "data": {
            "text/plain": [
              "    age  education  gender  hand  home_environment navigating_skills  sleep  \\\n",
              "0  68.0          1       0     0                 2               bad    8.0   \n",
              "1  21.0          1       0     0                 1              good    7.0   \n",
              "2  36.0          1       1     0                 0         very-good    5.0   \n",
              "3  19.0          0       1     0                 1              good    8.0   \n",
              "4  61.0          1       1     0                 1              good    7.0   \n",
              "\n",
              "   travel_time nav_num  \n",
              "0            0       1  \n",
              "1            1       2  \n",
              "2            1       3  \n",
              "3            0       2  \n",
              "4            0       2  "
            ],
            "text/html": [
              "\n",
              "  <div id=\"df-2e3fe2e2-a923-4196-9b0b-0feedca9f5ef\">\n",
              "    <div class=\"colab-df-container\">\n",
              "      <div>\n",
              "<style scoped>\n",
              "    .dataframe tbody tr th:only-of-type {\n",
              "        vertical-align: middle;\n",
              "    }\n",
              "\n",
              "    .dataframe tbody tr th {\n",
              "        vertical-align: top;\n",
              "    }\n",
              "\n",
              "    .dataframe thead th {\n",
              "        text-align: right;\n",
              "    }\n",
              "</style>\n",
              "<table border=\"1\" class=\"dataframe\">\n",
              "  <thead>\n",
              "    <tr style=\"text-align: right;\">\n",
              "      <th></th>\n",
              "      <th>age</th>\n",
              "      <th>education</th>\n",
              "      <th>gender</th>\n",
              "      <th>hand</th>\n",
              "      <th>home_environment</th>\n",
              "      <th>navigating_skills</th>\n",
              "      <th>sleep</th>\n",
              "      <th>travel_time</th>\n",
              "      <th>nav_num</th>\n",
              "    </tr>\n",
              "  </thead>\n",
              "  <tbody>\n",
              "    <tr>\n",
              "      <th>0</th>\n",
              "      <td>68.0</td>\n",
              "      <td>1</td>\n",
              "      <td>0</td>\n",
              "      <td>0</td>\n",
              "      <td>2</td>\n",
              "      <td>bad</td>\n",
              "      <td>8.0</td>\n",
              "      <td>0</td>\n",
              "      <td>1</td>\n",
              "    </tr>\n",
              "    <tr>\n",
              "      <th>1</th>\n",
              "      <td>21.0</td>\n",
              "      <td>1</td>\n",
              "      <td>0</td>\n",
              "      <td>0</td>\n",
              "      <td>1</td>\n",
              "      <td>good</td>\n",
              "      <td>7.0</td>\n",
              "      <td>1</td>\n",
              "      <td>2</td>\n",
              "    </tr>\n",
              "    <tr>\n",
              "      <th>2</th>\n",
              "      <td>36.0</td>\n",
              "      <td>1</td>\n",
              "      <td>1</td>\n",
              "      <td>0</td>\n",
              "      <td>0</td>\n",
              "      <td>very-good</td>\n",
              "      <td>5.0</td>\n",
              "      <td>1</td>\n",
              "      <td>3</td>\n",
              "    </tr>\n",
              "    <tr>\n",
              "      <th>3</th>\n",
              "      <td>19.0</td>\n",
              "      <td>0</td>\n",
              "      <td>1</td>\n",
              "      <td>0</td>\n",
              "      <td>1</td>\n",
              "      <td>good</td>\n",
              "      <td>8.0</td>\n",
              "      <td>0</td>\n",
              "      <td>2</td>\n",
              "    </tr>\n",
              "    <tr>\n",
              "      <th>4</th>\n",
              "      <td>61.0</td>\n",
              "      <td>1</td>\n",
              "      <td>1</td>\n",
              "      <td>0</td>\n",
              "      <td>1</td>\n",
              "      <td>good</td>\n",
              "      <td>7.0</td>\n",
              "      <td>0</td>\n",
              "      <td>2</td>\n",
              "    </tr>\n",
              "  </tbody>\n",
              "</table>\n",
              "</div>\n",
              "      <button class=\"colab-df-convert\" onclick=\"convertToInteractive('df-2e3fe2e2-a923-4196-9b0b-0feedca9f5ef')\"\n",
              "              title=\"Convert this dataframe to an interactive table.\"\n",
              "              style=\"display:none;\">\n",
              "        \n",
              "  <svg xmlns=\"http://www.w3.org/2000/svg\" height=\"24px\"viewBox=\"0 0 24 24\"\n",
              "       width=\"24px\">\n",
              "    <path d=\"M0 0h24v24H0V0z\" fill=\"none\"/>\n",
              "    <path d=\"M18.56 5.44l.94 2.06.94-2.06 2.06-.94-2.06-.94-.94-2.06-.94 2.06-2.06.94zm-11 1L8.5 8.5l.94-2.06 2.06-.94-2.06-.94L8.5 2.5l-.94 2.06-2.06.94zm10 10l.94 2.06.94-2.06 2.06-.94-2.06-.94-.94-2.06-.94 2.06-2.06.94z\"/><path d=\"M17.41 7.96l-1.37-1.37c-.4-.4-.92-.59-1.43-.59-.52 0-1.04.2-1.43.59L10.3 9.45l-7.72 7.72c-.78.78-.78 2.05 0 2.83L4 21.41c.39.39.9.59 1.41.59.51 0 1.02-.2 1.41-.59l7.78-7.78 2.81-2.81c.8-.78.8-2.07 0-2.86zM5.41 20L4 18.59l7.72-7.72 1.47 1.35L5.41 20z\"/>\n",
              "  </svg>\n",
              "      </button>\n",
              "      \n",
              "  <style>\n",
              "    .colab-df-container {\n",
              "      display:flex;\n",
              "      flex-wrap:wrap;\n",
              "      gap: 12px;\n",
              "    }\n",
              "\n",
              "    .colab-df-convert {\n",
              "      background-color: #E8F0FE;\n",
              "      border: none;\n",
              "      border-radius: 50%;\n",
              "      cursor: pointer;\n",
              "      display: none;\n",
              "      fill: #1967D2;\n",
              "      height: 32px;\n",
              "      padding: 0 0 0 0;\n",
              "      width: 32px;\n",
              "    }\n",
              "\n",
              "    .colab-df-convert:hover {\n",
              "      background-color: #E2EBFA;\n",
              "      box-shadow: 0px 1px 2px rgba(60, 64, 67, 0.3), 0px 1px 3px 1px rgba(60, 64, 67, 0.15);\n",
              "      fill: #174EA6;\n",
              "    }\n",
              "\n",
              "    [theme=dark] .colab-df-convert {\n",
              "      background-color: #3B4455;\n",
              "      fill: #D2E3FC;\n",
              "    }\n",
              "\n",
              "    [theme=dark] .colab-df-convert:hover {\n",
              "      background-color: #434B5C;\n",
              "      box-shadow: 0px 1px 3px 1px rgba(0, 0, 0, 0.15);\n",
              "      filter: drop-shadow(0px 1px 2px rgba(0, 0, 0, 0.3));\n",
              "      fill: #FFFFFF;\n",
              "    }\n",
              "  </style>\n",
              "\n",
              "      <script>\n",
              "        const buttonEl =\n",
              "          document.querySelector('#df-2e3fe2e2-a923-4196-9b0b-0feedca9f5ef button.colab-df-convert');\n",
              "        buttonEl.style.display =\n",
              "          google.colab.kernel.accessAllowed ? 'block' : 'none';\n",
              "\n",
              "        async function convertToInteractive(key) {\n",
              "          const element = document.querySelector('#df-2e3fe2e2-a923-4196-9b0b-0feedca9f5ef');\n",
              "          const dataTable =\n",
              "            await google.colab.kernel.invokeFunction('convertToInteractive',\n",
              "                                                     [key], {});\n",
              "          if (!dataTable) return;\n",
              "\n",
              "          const docLinkHtml = 'Like what you see? Visit the ' +\n",
              "            '<a target=\"_blank\" href=https://colab.research.google.com/notebooks/data_table.ipynb>data table notebook</a>'\n",
              "            + ' to learn more about interactive tables.';\n",
              "          element.innerHTML = '';\n",
              "          dataTable['output_type'] = 'display_data';\n",
              "          await google.colab.output.renderOutput(dataTable, element);\n",
              "          const docLink = document.createElement('div');\n",
              "          docLink.innerHTML = docLinkHtml;\n",
              "          element.appendChild(docLink);\n",
              "        }\n",
              "      </script>\n",
              "    </div>\n",
              "  </div>\n",
              "  "
            ]
          },
          "metadata": {},
          "execution_count": 33
        }
      ]
    },
    {
      "cell_type": "code",
      "source": [
        "df_model.to_csv(\"2019_cleaned_demographics_3121970.csv\",index=False)"
      ],
      "metadata": {
        "id": "zl1XlyKUKOWf"
      },
      "execution_count": null,
      "outputs": []
    }
  ]
}