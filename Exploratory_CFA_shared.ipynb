{
  "nbformat": 4,
  "nbformat_minor": 0,
  "metadata": {
    "colab": {
      "name": "Exploratory_CFA_shared.ipynb",
      "provenance": [],
      "collapsed_sections": []
    },
    "kernelspec": {
      "name": "python3",
      "display_name": "Python 3"
    },
    "language_info": {
      "name": "python"
    }
  },
  "cells": [
    {
      "cell_type": "markdown",
      "metadata": {
        "id": "GfxjSgHJ71iV"
      },
      "source": [
        "## Factor Analyses with Cross-Validation\n",
        "\n",
        "### read data"
      ]
    },
    {
      "cell_type": "code",
      "metadata": {
        "id": "v0KOmPux77K9",
        "colab": {
          "base_uri": "https://localhost:8080/"
        },
        "outputId": "6210add6-62cd-43c4-fe31-37ad40cc4af3"
      },
      "source": [
        "from google.colab import drive\n",
        "import pandas as pd\n",
        "import numpy as np\n",
        "import seaborn as sns\n",
        "drive.mount('/content/drive')\n"
      ],
      "execution_count": null,
      "outputs": [
        {
          "output_type": "stream",
          "name": "stdout",
          "text": [
            "Mounted at /content/drive\n"
          ]
        }
      ]
    },
    {
      "cell_type": "code",
      "metadata": {
        "id": "W4Z2S74v9nrd"
      },
      "source": [
        "df0 = pd.read_csv('/content/drive/My Drive/SHQ/Data/cfa_test_df2.csv')"
      ],
      "execution_count": null,
      "outputs": []
    },
    {
      "cell_type": "code",
      "metadata": {
        "colab": {
          "base_uri": "https://localhost:8080/",
          "height": 351
        },
        "id": "FmY7hzo2nACY",
        "outputId": "76b2a11e-195c-42f3-ae04-ffca17ff4b37"
      },
      "source": [
        "# MinMax scaled\n",
        "from sklearn.preprocessing import scale,RobustScaler,StandardScaler, MinMaxScaler\n",
        "\n",
        "scaler = MinMaxScaler(feature_range=(0,1))\n",
        "scaler.fit(df0)\n",
        "df2 = scaler.transform(df0)\n",
        "df2 = pd.DataFrame(df2,index=df0.index, columns=['age',\t'gender',\t'hand',\t'navigating_skills',\t'sleep',\t'edu_level',\t'commute_level',\t'home_env'])\n",
        "df2[:10]"
      ],
      "execution_count": null,
      "outputs": [
        {
          "output_type": "execute_result",
          "data": {
            "text/html": [
              "<div>\n",
              "<style scoped>\n",
              "    .dataframe tbody tr th:only-of-type {\n",
              "        vertical-align: middle;\n",
              "    }\n",
              "\n",
              "    .dataframe tbody tr th {\n",
              "        vertical-align: top;\n",
              "    }\n",
              "\n",
              "    .dataframe thead th {\n",
              "        text-align: right;\n",
              "    }\n",
              "</style>\n",
              "<table border=\"1\" class=\"dataframe\">\n",
              "  <thead>\n",
              "    <tr style=\"text-align: right;\">\n",
              "      <th></th>\n",
              "      <th>age</th>\n",
              "      <th>gender</th>\n",
              "      <th>hand</th>\n",
              "      <th>navigating_skills</th>\n",
              "      <th>sleep</th>\n",
              "      <th>edu_level</th>\n",
              "      <th>commute_level</th>\n",
              "      <th>home_env</th>\n",
              "    </tr>\n",
              "  </thead>\n",
              "  <tbody>\n",
              "    <tr>\n",
              "      <th>0</th>\n",
              "      <td>0.961538</td>\n",
              "      <td>0.0</td>\n",
              "      <td>0.0</td>\n",
              "      <td>0.333333</td>\n",
              "      <td>0.636364</td>\n",
              "      <td>1.0</td>\n",
              "      <td>0.0</td>\n",
              "      <td>1.0</td>\n",
              "    </tr>\n",
              "    <tr>\n",
              "      <th>1</th>\n",
              "      <td>0.000000</td>\n",
              "      <td>1.0</td>\n",
              "      <td>1.0</td>\n",
              "      <td>1.000000</td>\n",
              "      <td>0.545455</td>\n",
              "      <td>0.5</td>\n",
              "      <td>1.0</td>\n",
              "      <td>1.0</td>\n",
              "    </tr>\n",
              "    <tr>\n",
              "      <th>2</th>\n",
              "      <td>0.057692</td>\n",
              "      <td>0.0</td>\n",
              "      <td>0.0</td>\n",
              "      <td>0.666667</td>\n",
              "      <td>0.545455</td>\n",
              "      <td>1.0</td>\n",
              "      <td>0.5</td>\n",
              "      <td>0.5</td>\n",
              "    </tr>\n",
              "    <tr>\n",
              "      <th>3</th>\n",
              "      <td>0.346154</td>\n",
              "      <td>1.0</td>\n",
              "      <td>0.0</td>\n",
              "      <td>1.000000</td>\n",
              "      <td>0.363636</td>\n",
              "      <td>1.0</td>\n",
              "      <td>0.5</td>\n",
              "      <td>0.0</td>\n",
              "    </tr>\n",
              "    <tr>\n",
              "      <th>4</th>\n",
              "      <td>0.826923</td>\n",
              "      <td>1.0</td>\n",
              "      <td>0.0</td>\n",
              "      <td>0.666667</td>\n",
              "      <td>0.545455</td>\n",
              "      <td>1.0</td>\n",
              "      <td>0.0</td>\n",
              "      <td>0.5</td>\n",
              "    </tr>\n",
              "    <tr>\n",
              "      <th>5</th>\n",
              "      <td>0.211538</td>\n",
              "      <td>1.0</td>\n",
              "      <td>0.0</td>\n",
              "      <td>1.000000</td>\n",
              "      <td>0.545455</td>\n",
              "      <td>1.0</td>\n",
              "      <td>1.0</td>\n",
              "      <td>0.0</td>\n",
              "    </tr>\n",
              "    <tr>\n",
              "      <th>6</th>\n",
              "      <td>0.019231</td>\n",
              "      <td>0.0</td>\n",
              "      <td>0.0</td>\n",
              "      <td>0.333333</td>\n",
              "      <td>0.636364</td>\n",
              "      <td>1.0</td>\n",
              "      <td>0.0</td>\n",
              "      <td>0.5</td>\n",
              "    </tr>\n",
              "    <tr>\n",
              "      <th>7</th>\n",
              "      <td>0.384615</td>\n",
              "      <td>1.0</td>\n",
              "      <td>0.0</td>\n",
              "      <td>0.666667</td>\n",
              "      <td>0.545455</td>\n",
              "      <td>1.0</td>\n",
              "      <td>0.0</td>\n",
              "      <td>0.0</td>\n",
              "    </tr>\n",
              "    <tr>\n",
              "      <th>8</th>\n",
              "      <td>0.403846</td>\n",
              "      <td>1.0</td>\n",
              "      <td>0.0</td>\n",
              "      <td>1.000000</td>\n",
              "      <td>0.454545</td>\n",
              "      <td>1.0</td>\n",
              "      <td>0.0</td>\n",
              "      <td>1.0</td>\n",
              "    </tr>\n",
              "    <tr>\n",
              "      <th>9</th>\n",
              "      <td>0.019231</td>\n",
              "      <td>1.0</td>\n",
              "      <td>1.0</td>\n",
              "      <td>0.666667</td>\n",
              "      <td>0.545455</td>\n",
              "      <td>1.0</td>\n",
              "      <td>1.0</td>\n",
              "      <td>1.0</td>\n",
              "    </tr>\n",
              "  </tbody>\n",
              "</table>\n",
              "</div>"
            ],
            "text/plain": [
              "        age  gender  hand  ...  edu_level  commute_level  home_env\n",
              "0  0.961538     0.0   0.0  ...        1.0            0.0       1.0\n",
              "1  0.000000     1.0   1.0  ...        0.5            1.0       1.0\n",
              "2  0.057692     0.0   0.0  ...        1.0            0.5       0.5\n",
              "3  0.346154     1.0   0.0  ...        1.0            0.5       0.0\n",
              "4  0.826923     1.0   0.0  ...        1.0            0.0       0.5\n",
              "5  0.211538     1.0   0.0  ...        1.0            1.0       0.0\n",
              "6  0.019231     0.0   0.0  ...        1.0            0.0       0.5\n",
              "7  0.384615     1.0   0.0  ...        1.0            0.0       0.0\n",
              "8  0.403846     1.0   0.0  ...        1.0            0.0       1.0\n",
              "9  0.019231     1.0   1.0  ...        1.0            1.0       1.0\n",
              "\n",
              "[10 rows x 8 columns]"
            ]
          },
          "metadata": {},
          "execution_count": 6
        }
      ]
    },
    {
      "cell_type": "code",
      "metadata": {
        "colab": {
          "base_uri": "https://localhost:8080/",
          "height": 290
        },
        "id": "OSjlgsevpK-s",
        "outputId": "c6713564-7282-40e0-d6da-a148251119f3"
      },
      "source": [
        "df2.corr(method= 'pearson')"
      ],
      "execution_count": null,
      "outputs": [
        {
          "output_type": "execute_result",
          "data": {
            "text/html": [
              "<div>\n",
              "<style scoped>\n",
              "    .dataframe tbody tr th:only-of-type {\n",
              "        vertical-align: middle;\n",
              "    }\n",
              "\n",
              "    .dataframe tbody tr th {\n",
              "        vertical-align: top;\n",
              "    }\n",
              "\n",
              "    .dataframe thead th {\n",
              "        text-align: right;\n",
              "    }\n",
              "</style>\n",
              "<table border=\"1\" class=\"dataframe\">\n",
              "  <thead>\n",
              "    <tr style=\"text-align: right;\">\n",
              "      <th></th>\n",
              "      <th>age</th>\n",
              "      <th>gender</th>\n",
              "      <th>hand</th>\n",
              "      <th>navigating_skills</th>\n",
              "      <th>sleep</th>\n",
              "      <th>edu_level</th>\n",
              "      <th>commute_level</th>\n",
              "      <th>home_env</th>\n",
              "    </tr>\n",
              "  </thead>\n",
              "  <tbody>\n",
              "    <tr>\n",
              "      <th>age</th>\n",
              "      <td>1.000000</td>\n",
              "      <td>-0.061458</td>\n",
              "      <td>-0.017613</td>\n",
              "      <td>0.014327</td>\n",
              "      <td>-0.191835</td>\n",
              "      <td>0.160053</td>\n",
              "      <td>-0.136713</td>\n",
              "      <td>-0.066694</td>\n",
              "    </tr>\n",
              "    <tr>\n",
              "      <th>gender</th>\n",
              "      <td>-0.061458</td>\n",
              "      <td>1.000000</td>\n",
              "      <td>0.033235</td>\n",
              "      <td>0.222620</td>\n",
              "      <td>-0.033392</td>\n",
              "      <td>-0.022885</td>\n",
              "      <td>0.096337</td>\n",
              "      <td>0.053757</td>\n",
              "    </tr>\n",
              "    <tr>\n",
              "      <th>hand</th>\n",
              "      <td>-0.017613</td>\n",
              "      <td>0.033235</td>\n",
              "      <td>1.000000</td>\n",
              "      <td>0.000529</td>\n",
              "      <td>0.004828</td>\n",
              "      <td>-0.013871</td>\n",
              "      <td>-0.013935</td>\n",
              "      <td>-0.015420</td>\n",
              "    </tr>\n",
              "    <tr>\n",
              "      <th>navigating_skills</th>\n",
              "      <td>0.014327</td>\n",
              "      <td>0.222620</td>\n",
              "      <td>0.000529</td>\n",
              "      <td>1.000000</td>\n",
              "      <td>0.012352</td>\n",
              "      <td>0.024558</td>\n",
              "      <td>0.106794</td>\n",
              "      <td>-0.002030</td>\n",
              "    </tr>\n",
              "    <tr>\n",
              "      <th>sleep</th>\n",
              "      <td>-0.191835</td>\n",
              "      <td>-0.033392</td>\n",
              "      <td>0.004828</td>\n",
              "      <td>0.012352</td>\n",
              "      <td>1.000000</td>\n",
              "      <td>-0.142516</td>\n",
              "      <td>-0.040041</td>\n",
              "      <td>0.009176</td>\n",
              "    </tr>\n",
              "    <tr>\n",
              "      <th>edu_level</th>\n",
              "      <td>0.160053</td>\n",
              "      <td>-0.022885</td>\n",
              "      <td>-0.013871</td>\n",
              "      <td>0.024558</td>\n",
              "      <td>-0.142516</td>\n",
              "      <td>1.000000</td>\n",
              "      <td>0.014972</td>\n",
              "      <td>0.005328</td>\n",
              "    </tr>\n",
              "    <tr>\n",
              "      <th>commute_level</th>\n",
              "      <td>-0.136713</td>\n",
              "      <td>0.096337</td>\n",
              "      <td>-0.013935</td>\n",
              "      <td>0.106794</td>\n",
              "      <td>-0.040041</td>\n",
              "      <td>0.014972</td>\n",
              "      <td>1.000000</td>\n",
              "      <td>0.062389</td>\n",
              "    </tr>\n",
              "    <tr>\n",
              "      <th>home_env</th>\n",
              "      <td>-0.066694</td>\n",
              "      <td>0.053757</td>\n",
              "      <td>-0.015420</td>\n",
              "      <td>-0.002030</td>\n",
              "      <td>0.009176</td>\n",
              "      <td>0.005328</td>\n",
              "      <td>0.062389</td>\n",
              "      <td>1.000000</td>\n",
              "    </tr>\n",
              "  </tbody>\n",
              "</table>\n",
              "</div>"
            ],
            "text/plain": [
              "                        age    gender  ...  commute_level  home_env\n",
              "age                1.000000 -0.061458  ...      -0.136713 -0.066694\n",
              "gender            -0.061458  1.000000  ...       0.096337  0.053757\n",
              "hand              -0.017613  0.033235  ...      -0.013935 -0.015420\n",
              "navigating_skills  0.014327  0.222620  ...       0.106794 -0.002030\n",
              "sleep             -0.191835 -0.033392  ...      -0.040041  0.009176\n",
              "edu_level          0.160053 -0.022885  ...       0.014972  0.005328\n",
              "commute_level     -0.136713  0.096337  ...       1.000000  0.062389\n",
              "home_env          -0.066694  0.053757  ...       0.062389  1.000000\n",
              "\n",
              "[8 rows x 8 columns]"
            ]
          },
          "metadata": {},
          "execution_count": 7
        }
      ]
    },
    {
      "cell_type": "code",
      "metadata": {
        "colab": {
          "base_uri": "https://localhost:8080/",
          "height": 200
        },
        "id": "xvSGPslxntEa",
        "outputId": "3f144ac4-9f68-4529-b574-c5c9613e5402"
      },
      "source": [
        "df = df2.drop(['navigating_skills'],axis=1)\n",
        "df.head()"
      ],
      "execution_count": null,
      "outputs": [
        {
          "output_type": "execute_result",
          "data": {
            "text/html": [
              "<div>\n",
              "<style scoped>\n",
              "    .dataframe tbody tr th:only-of-type {\n",
              "        vertical-align: middle;\n",
              "    }\n",
              "\n",
              "    .dataframe tbody tr th {\n",
              "        vertical-align: top;\n",
              "    }\n",
              "\n",
              "    .dataframe thead th {\n",
              "        text-align: right;\n",
              "    }\n",
              "</style>\n",
              "<table border=\"1\" class=\"dataframe\">\n",
              "  <thead>\n",
              "    <tr style=\"text-align: right;\">\n",
              "      <th></th>\n",
              "      <th>age</th>\n",
              "      <th>gender</th>\n",
              "      <th>hand</th>\n",
              "      <th>sleep</th>\n",
              "      <th>edu_level</th>\n",
              "      <th>commute_level</th>\n",
              "      <th>home_env</th>\n",
              "    </tr>\n",
              "  </thead>\n",
              "  <tbody>\n",
              "    <tr>\n",
              "      <th>0</th>\n",
              "      <td>0.961538</td>\n",
              "      <td>0.0</td>\n",
              "      <td>0.0</td>\n",
              "      <td>0.636364</td>\n",
              "      <td>1.0</td>\n",
              "      <td>0.0</td>\n",
              "      <td>1.0</td>\n",
              "    </tr>\n",
              "    <tr>\n",
              "      <th>1</th>\n",
              "      <td>0.000000</td>\n",
              "      <td>1.0</td>\n",
              "      <td>1.0</td>\n",
              "      <td>0.545455</td>\n",
              "      <td>0.5</td>\n",
              "      <td>1.0</td>\n",
              "      <td>1.0</td>\n",
              "    </tr>\n",
              "    <tr>\n",
              "      <th>2</th>\n",
              "      <td>0.057692</td>\n",
              "      <td>0.0</td>\n",
              "      <td>0.0</td>\n",
              "      <td>0.545455</td>\n",
              "      <td>1.0</td>\n",
              "      <td>0.5</td>\n",
              "      <td>0.5</td>\n",
              "    </tr>\n",
              "    <tr>\n",
              "      <th>3</th>\n",
              "      <td>0.346154</td>\n",
              "      <td>1.0</td>\n",
              "      <td>0.0</td>\n",
              "      <td>0.363636</td>\n",
              "      <td>1.0</td>\n",
              "      <td>0.5</td>\n",
              "      <td>0.0</td>\n",
              "    </tr>\n",
              "    <tr>\n",
              "      <th>4</th>\n",
              "      <td>0.826923</td>\n",
              "      <td>1.0</td>\n",
              "      <td>0.0</td>\n",
              "      <td>0.545455</td>\n",
              "      <td>1.0</td>\n",
              "      <td>0.0</td>\n",
              "      <td>0.5</td>\n",
              "    </tr>\n",
              "  </tbody>\n",
              "</table>\n",
              "</div>"
            ],
            "text/plain": [
              "        age  gender  hand     sleep  edu_level  commute_level  home_env\n",
              "0  0.961538     0.0   0.0  0.636364        1.0            0.0       1.0\n",
              "1  0.000000     1.0   1.0  0.545455        0.5            1.0       1.0\n",
              "2  0.057692     0.0   0.0  0.545455        1.0            0.5       0.5\n",
              "3  0.346154     1.0   0.0  0.363636        1.0            0.5       0.0\n",
              "4  0.826923     1.0   0.0  0.545455        1.0            0.0       0.5"
            ]
          },
          "metadata": {},
          "execution_count": 8
        }
      ]
    },
    {
      "cell_type": "markdown",
      "metadata": {
        "id": "CguvY1OFeCfA"
      },
      "source": [
        "# Split Data in Half"
      ]
    },
    {
      "cell_type": "code",
      "metadata": {
        "id": "A8UaRhpIeIGO"
      },
      "source": [
        "from sklearn.model_selection import train_test_split\n"
      ],
      "execution_count": null,
      "outputs": []
    },
    {
      "cell_type": "code",
      "metadata": {
        "id": "tk7NFyH8eIe_"
      },
      "source": [
        "x_train ,x_test = train_test_split(df,test_size=0.5)"
      ],
      "execution_count": null,
      "outputs": []
    },
    {
      "cell_type": "markdown",
      "metadata": {
        "id": "wn_fYUXjpetq"
      },
      "source": [
        "# EFA"
      ]
    },
    {
      "cell_type": "code",
      "metadata": {
        "colab": {
          "base_uri": "https://localhost:8080/"
        },
        "id": "LzKlnd2ppwOJ",
        "outputId": "f7163e62-1dc4-478e-ee63-71294c6224de"
      },
      "source": [
        "# pip install factor_analyzer==0.2.3\n",
        "\n",
        "!pip install factor_analyzer"
      ],
      "execution_count": null,
      "outputs": [
        {
          "output_type": "stream",
          "name": "stdout",
          "text": [
            "Collecting factor_analyzer\n",
            "  Downloading factor_analyzer-0.3.2.tar.gz (40 kB)\n",
            "\u001b[?25l\r\u001b[K     |████████▏                       | 10 kB 4.7 MB/s eta 0:00:01\r\u001b[K     |████████████████▍               | 20 kB 7.7 MB/s eta 0:00:01\r\u001b[K     |████████████████████████▌       | 30 kB 10.4 MB/s eta 0:00:01\r\u001b[K     |████████████████████████████████| 40 kB 2.5 MB/s \n",
            "\u001b[?25hRequirement already satisfied: pandas in /usr/local/lib/python3.7/dist-packages (from factor_analyzer) (1.1.5)\n",
            "Requirement already satisfied: scipy in /usr/local/lib/python3.7/dist-packages (from factor_analyzer) (1.4.1)\n",
            "Requirement already satisfied: numpy in /usr/local/lib/python3.7/dist-packages (from factor_analyzer) (1.19.5)\n",
            "Requirement already satisfied: scikit-learn in /usr/local/lib/python3.7/dist-packages (from factor_analyzer) (0.22.2.post1)\n",
            "Requirement already satisfied: pytz>=2017.2 in /usr/local/lib/python3.7/dist-packages (from pandas->factor_analyzer) (2018.9)\n",
            "Requirement already satisfied: python-dateutil>=2.7.3 in /usr/local/lib/python3.7/dist-packages (from pandas->factor_analyzer) (2.8.2)\n",
            "Requirement already satisfied: six>=1.5 in /usr/local/lib/python3.7/dist-packages (from python-dateutil>=2.7.3->pandas->factor_analyzer) (1.15.0)\n",
            "Requirement already satisfied: joblib>=0.11 in /usr/local/lib/python3.7/dist-packages (from scikit-learn->factor_analyzer) (1.0.1)\n",
            "Building wheels for collected packages: factor-analyzer\n",
            "  Building wheel for factor-analyzer (setup.py) ... \u001b[?25l\u001b[?25hdone\n",
            "  Created wheel for factor-analyzer: filename=factor_analyzer-0.3.2-py3-none-any.whl size=40395 sha256=94edda354fe6714f73efe057e4ec5d49394caeca9034fd905aee5e8a4e2ba134\n",
            "  Stored in directory: /root/.cache/pip/wheels/8d/9e/4c/fd4cb92cecf157b13702cc0907e5c56ddc48e5388134dc9f1a\n",
            "Successfully built factor-analyzer\n",
            "Installing collected packages: factor-analyzer\n",
            "Successfully installed factor-analyzer-0.3.2\n"
          ]
        }
      ]
    },
    {
      "cell_type": "code",
      "metadata": {
        "colab": {
          "base_uri": "https://localhost:8080/"
        },
        "id": "5vYvuXVRphT4",
        "outputId": "27d3dd0c-b165-4dff-f4b1-c2c0c30592b6"
      },
      "source": [
        "from factor_analyzer import FactorAnalyzer\n",
        "\n",
        "from factor_analyzer.factor_analyzer import calculate_bartlett_sphericity\n",
        "chi_square_value,p_value=calculate_bartlett_sphericity(df)\n",
        "chi_square_value, p_value"
      ],
      "execution_count": null,
      "outputs": [
        {
          "output_type": "execute_result",
          "data": {
            "text/plain": [
              "(91530.77925954635, 0.0)"
            ]
          },
          "metadata": {},
          "execution_count": 10
        }
      ]
    },
    {
      "cell_type": "code",
      "metadata": {
        "colab": {
          "base_uri": "https://localhost:8080/"
        },
        "id": "AKuXTW-WphZe",
        "outputId": "2e663f3d-666c-42e8-f289-d112f095a107"
      },
      "source": [
        "from factor_analyzer.factor_analyzer import calculate_kmo\n",
        "kmo_all,kmo_model=calculate_kmo(df)\n",
        "\n",
        "kmo_model"
      ],
      "execution_count": null,
      "outputs": [
        {
          "output_type": "stream",
          "name": "stderr",
          "text": [
            "/usr/local/lib/python3.7/dist-packages/factor_analyzer/utils.py:248: UserWarning: The inverse of the variance-covariance matrix was calculated using the Moore-Penrose generalized matrix inversion, due to its determinant being at or very close to zero.\n",
            "  warnings.warn('The inverse of the variance-covariance matrix '\n"
          ]
        },
        {
          "output_type": "execute_result",
          "data": {
            "text/plain": [
              "0.5398407094060127"
            ]
          },
          "metadata": {},
          "execution_count": 11
        }
      ]
    },
    {
      "cell_type": "code",
      "metadata": {
        "id": "eh88y7cDphgm",
        "colab": {
          "base_uri": "https://localhost:8080/"
        },
        "outputId": "3f930f5e-3909-4886-e90e-301464732cca"
      },
      "source": [
        "fa = FactorAnalyzer(n_factors=3, rotation= 'oblimin', method= 'ml')\n",
        "#fa.fit(df_model4_standardized)\n",
        "#fa.analyze(x_train, 7, rotation=None, method='ml') # 'minres' , 'principal'\n",
        "fa.fit(df)\n",
        "\n",
        "# eigen_values, vectors = fa.get_eigenvalues()\n",
        "# Check Eigenvalues\n",
        "#ev, v = fa.get_eigenvalues()\n",
        "#ev"
      ],
      "execution_count": null,
      "outputs": [
        {
          "output_type": "execute_result",
          "data": {
            "text/plain": [
              "FactorAnalyzer(bounds=(0.005, 1), impute='median', is_corr_matrix=False,\n",
              "               method='ml', n_factors=3, rotation='oblimin', rotation_kwargs={},\n",
              "               use_smc=True)"
            ]
          },
          "metadata": {},
          "execution_count": 12
        }
      ]
    },
    {
      "cell_type": "code",
      "metadata": {
        "colab": {
          "base_uri": "https://localhost:8080/"
        },
        "id": "_Xkf9-6M8Xsz",
        "outputId": "9f448cda-af6a-4a7a-8b3d-d34d17d53057"
      },
      "source": [
        "fa.loadings_"
      ],
      "execution_count": null,
      "outputs": [
        {
          "output_type": "execute_result",
          "data": {
            "text/plain": [
              "array([[-5.28103743e-03,  6.03929785e-01, -7.88770388e-02],\n",
              "       [ 9.97623627e-01,  3.65335710e-04, -6.53874953e-04],\n",
              "       [ 3.79463294e-02, -2.25173566e-02, -4.12104527e-02],\n",
              "       [-2.32227911e-02, -3.69112240e-01, -2.44964613e-01],\n",
              "       [-2.84642815e-02,  2.97610911e-01,  1.79502276e-01],\n",
              "       [ 2.71128314e-02, -1.38165774e-01,  3.89254655e-01],\n",
              "       [ 3.03081084e-02, -7.99540581e-02,  1.16208399e-01]])"
            ]
          },
          "metadata": {},
          "execution_count": 13
        }
      ]
    },
    {
      "cell_type": "code",
      "metadata": {
        "colab": {
          "base_uri": "https://localhost:8080/"
        },
        "id": "SyutbJNe8b0-",
        "outputId": "880ce7bb-d569-43c5-fe1a-85479e06245e"
      },
      "source": [
        "calculate_bartlett_sphericity(df)"
      ],
      "execution_count": null,
      "outputs": [
        {
          "output_type": "execute_result",
          "data": {
            "text/plain": [
              "(91530.77925954635, 0.0)"
            ]
          },
          "metadata": {},
          "execution_count": 15
        }
      ]
    },
    {
      "cell_type": "code",
      "metadata": {
        "colab": {
          "base_uri": "https://localhost:8080/"
        },
        "id": "kVetFAGP_AAO",
        "outputId": "20e96f79-f677-49cf-c3d6-1c647dd7aad7"
      },
      "source": [
        "calculate_kmo(df)"
      ],
      "execution_count": null,
      "outputs": [
        {
          "output_type": "stream",
          "name": "stderr",
          "text": [
            "/usr/local/lib/python3.7/dist-packages/factor_analyzer/utils.py:248: UserWarning: The inverse of the variance-covariance matrix was calculated using the Moore-Penrose generalized matrix inversion, due to its determinant being at or very close to zero.\n",
            "  warnings.warn('The inverse of the variance-covariance matrix '\n"
          ]
        },
        {
          "output_type": "execute_result",
          "data": {
            "text/plain": [
              "(array([0.53403878, 0.55116018, 0.48610219, 0.53807768, 0.58001171,\n",
              "        0.49490794, 0.58221476]), 0.5398407094060127)"
            ]
          },
          "metadata": {},
          "execution_count": 17
        }
      ]
    },
    {
      "cell_type": "code",
      "metadata": {
        "colab": {
          "base_uri": "https://localhost:8080/"
        },
        "id": "0rNCOPAtphm4",
        "outputId": "47afef9d-ff11-45d9-b858-c48b71bc65b3"
      },
      "source": [
        "fa.get_eigenvalues()"
      ],
      "execution_count": null,
      "outputs": [
        {
          "output_type": "execute_result",
          "data": {
            "text/plain": [
              "(array([1.36066718, 1.17067716, 1.01946007, 0.95176797, 0.91640268,\n",
              "        0.84538523, 0.73563971]),\n",
              " array([ 1.0235927 ,  0.60242207,  0.2493546 ,  0.02772085,  0.00748928,\n",
              "        -0.00952142, -0.02062466]))"
            ]
          },
          "metadata": {},
          "execution_count": 18
        }
      ]
    },
    {
      "cell_type": "code",
      "metadata": {
        "colab": {
          "base_uri": "https://localhost:8080/"
        },
        "id": "WJs_rolACYCa",
        "outputId": "9c8a0698-3195-4abf-a3d7-917e9c13d33c"
      },
      "source": [
        "fa.get_factor_variance()"
      ],
      "execution_count": null,
      "outputs": [
        {
          "output_type": "execute_result",
          "data": {
            "text/plain": [
              "(array([0.99972391, 0.61553688, 0.26517262]),\n",
              " array([0.1428177 , 0.08793384, 0.0378818 ]),\n",
              " array([0.1428177 , 0.23075154, 0.26863335]))"
            ]
          },
          "metadata": {},
          "execution_count": 19
        }
      ]
    },
    {
      "cell_type": "code",
      "metadata": {
        "colab": {
          "base_uri": "https://localhost:8080/"
        },
        "id": "7IYw8oHRDZwO",
        "outputId": "118501d8-7bf3-4991-f6f6-cb2ba8203eca"
      },
      "source": [
        "unique = fa.get_uniquenesses()"
      ],
      "execution_count": null,
      "outputs": [
        {
          "output_type": "execute_result",
          "data": {
            "text/plain": [
              "array([0.62901934, 0.00474654, 0.99635474, 0.80320919, 0.87839646,\n",
              "       0.82865593, 0.97918438])"
            ]
          },
          "metadata": {},
          "execution_count": 20
        }
      ]
    },
    {
      "cell_type": "code",
      "metadata": {
        "colab": {
          "base_uri": "https://localhost:8080/"
        },
        "id": "VK_FknJpw3q-",
        "outputId": "066da124-4345-4879-8b70-0e1ae016fbfc"
      },
      "source": [
        "common = fa.get_communalities()"
      ],
      "execution_count": null,
      "outputs": [
        {
          "output_type": "execute_result",
          "data": {
            "text/plain": [
              "array([0.37098066, 0.99525346, 0.00364526, 0.19679081, 0.12160354,\n",
              "       0.17134407, 0.02081562])"
            ]
          },
          "metadata": {},
          "execution_count": 21
        }
      ]
    },
    {
      "cell_type": "code",
      "metadata": {
        "id": "6qHS402AyIJN"
      },
      "source": [
        "variance_composite = pd.DataFrame({'unique': [0.62901934, 0.00474654, 0.99635474, 0.80320919, 0.87839646,\n",
        "       0.82865593, 0.97918438], 'common': [0.37098066, 0.99525346, 0.00364526, 0.19679081, 0.12160354,\n",
        "       0.17134407, 0.02081562]} , index=['age',\t'gender',\t'hand',\t'sleep',\t'edu_level',\t'commute_level',\t'home_env'],)"
      ],
      "execution_count": null,
      "outputs": []
    },
    {
      "cell_type": "code",
      "metadata": {
        "colab": {
          "base_uri": "https://localhost:8080/",
          "height": 260
        },
        "id": "RxxAahEAzhdK",
        "outputId": "e1f240d4-b4f2-4eb6-af1a-44d9c31487c0"
      },
      "source": [
        "variance_composite"
      ],
      "execution_count": null,
      "outputs": [
        {
          "output_type": "execute_result",
          "data": {
            "text/html": [
              "<div>\n",
              "<style scoped>\n",
              "    .dataframe tbody tr th:only-of-type {\n",
              "        vertical-align: middle;\n",
              "    }\n",
              "\n",
              "    .dataframe tbody tr th {\n",
              "        vertical-align: top;\n",
              "    }\n",
              "\n",
              "    .dataframe thead th {\n",
              "        text-align: right;\n",
              "    }\n",
              "</style>\n",
              "<table border=\"1\" class=\"dataframe\">\n",
              "  <thead>\n",
              "    <tr style=\"text-align: right;\">\n",
              "      <th></th>\n",
              "      <th>unique</th>\n",
              "      <th>common</th>\n",
              "    </tr>\n",
              "  </thead>\n",
              "  <tbody>\n",
              "    <tr>\n",
              "      <th>age</th>\n",
              "      <td>0.629019</td>\n",
              "      <td>0.370981</td>\n",
              "    </tr>\n",
              "    <tr>\n",
              "      <th>gender</th>\n",
              "      <td>0.004747</td>\n",
              "      <td>0.995253</td>\n",
              "    </tr>\n",
              "    <tr>\n",
              "      <th>hand</th>\n",
              "      <td>0.996355</td>\n",
              "      <td>0.003645</td>\n",
              "    </tr>\n",
              "    <tr>\n",
              "      <th>sleep</th>\n",
              "      <td>0.803209</td>\n",
              "      <td>0.196791</td>\n",
              "    </tr>\n",
              "    <tr>\n",
              "      <th>edu_level</th>\n",
              "      <td>0.878396</td>\n",
              "      <td>0.121604</td>\n",
              "    </tr>\n",
              "    <tr>\n",
              "      <th>commute_level</th>\n",
              "      <td>0.828656</td>\n",
              "      <td>0.171344</td>\n",
              "    </tr>\n",
              "    <tr>\n",
              "      <th>home_env</th>\n",
              "      <td>0.979184</td>\n",
              "      <td>0.020816</td>\n",
              "    </tr>\n",
              "  </tbody>\n",
              "</table>\n",
              "</div>"
            ],
            "text/plain": [
              "                 unique    common\n",
              "age            0.629019  0.370981\n",
              "gender         0.004747  0.995253\n",
              "hand           0.996355  0.003645\n",
              "sleep          0.803209  0.196791\n",
              "edu_level      0.878396  0.121604\n",
              "commute_level  0.828656  0.171344\n",
              "home_env       0.979184  0.020816"
            ]
          },
          "metadata": {},
          "execution_count": 27
        }
      ]
    },
    {
      "cell_type": "code",
      "metadata": {
        "colab": {
          "base_uri": "https://localhost:8080/"
        },
        "id": "N8Z9GR1RTd7p",
        "outputId": "9f532fea-470b-461e-8556-da58113c723d"
      },
      "source": [
        "0.99525346/fa.get_communalities().sum()"
      ],
      "execution_count": null,
      "outputs": [
        {
          "output_type": "execute_result",
          "data": {
            "text/plain": [
              "0.5292681194152565"
            ]
          },
          "metadata": {},
          "execution_count": 29
        }
      ]
    },
    {
      "cell_type": "code",
      "metadata": {
        "id": "VRf4nA-FqlJe"
      },
      "source": [
        "import matplotlib.pyplot as plt"
      ],
      "execution_count": null,
      "outputs": []
    },
    {
      "cell_type": "code",
      "metadata": {
        "colab": {
          "base_uri": "https://localhost:8080/",
          "height": 295
        },
        "id": "bGkpI0cJphsN",
        "outputId": "5df9ab40-d247-4199-cf75-dccb3d56a803"
      },
      "source": [
        "plt.scatter(range(1,x_train.shape[1]+1),eigen_values)\n",
        "plt.plot(range(1,x_train.shape[1]+1),eigen_values)\n",
        "plt.title('Scree Plot')\n",
        "plt.xlabel('Factors')\n",
        "plt.ylabel('Eigenvalue')\n",
        "plt.grid()\n",
        "plt.show()"
      ],
      "execution_count": null,
      "outputs": [
        {
          "output_type": "display_data",
          "data": {
            "image/png": "[encoded data removed]",
            "text/plain": [
              "<Figure size 432x288 with 1 Axes>"
            ]
          },
          "metadata": {
            "needs_background": "light"
          }
        }
      ]
    },
    {
      "cell_type": "code",
      "metadata": {
        "id": "6L42G3Uxqvxf"
      },
      "source": [
        "fa = FactorAnalyzer()\n",
        "\n",
        "fa.analyze(x_train, 3, rotation=\"oblimin\", method='ml')\n"
      ],
      "execution_count": null,
      "outputs": []
    },
    {
      "cell_type": "code",
      "metadata": {
        "colab": {
          "base_uri": "https://localhost:8080/",
          "height": 260
        },
        "id": "1M6jywHmqv80",
        "outputId": "08a37b11-ec6f-40ab-c7ea-0eff6695782e"
      },
      "source": [
        "fa.loadings"
      ],
      "execution_count": null,
      "outputs": [
        {
          "output_type": "execute_result",
          "data": {
            "text/html": [
              "<div>\n",
              "<style scoped>\n",
              "    .dataframe tbody tr th:only-of-type {\n",
              "        vertical-align: middle;\n",
              "    }\n",
              "\n",
              "    .dataframe tbody tr th {\n",
              "        vertical-align: top;\n",
              "    }\n",
              "\n",
              "    .dataframe thead th {\n",
              "        text-align: right;\n",
              "    }\n",
              "</style>\n",
              "<table border=\"1\" class=\"dataframe\">\n",
              "  <thead>\n",
              "    <tr style=\"text-align: right;\">\n",
              "      <th></th>\n",
              "      <th>Factor1</th>\n",
              "      <th>Factor2</th>\n",
              "      <th>Factor3</th>\n",
              "    </tr>\n",
              "  </thead>\n",
              "  <tbody>\n",
              "    <tr>\n",
              "      <th>age</th>\n",
              "      <td>-0.004852</td>\n",
              "      <td>0.602823</td>\n",
              "      <td>-0.080538</td>\n",
              "    </tr>\n",
              "    <tr>\n",
              "      <th>gender</th>\n",
              "      <td>0.997618</td>\n",
              "      <td>0.000405</td>\n",
              "      <td>-0.000611</td>\n",
              "    </tr>\n",
              "    <tr>\n",
              "      <th>hand</th>\n",
              "      <td>0.035972</td>\n",
              "      <td>-0.021124</td>\n",
              "      <td>-0.039276</td>\n",
              "    </tr>\n",
              "    <tr>\n",
              "      <th>sleep</th>\n",
              "      <td>-0.022713</td>\n",
              "      <td>-0.371454</td>\n",
              "      <td>-0.244780</td>\n",
              "    </tr>\n",
              "    <tr>\n",
              "      <th>edu_level</th>\n",
              "      <td>-0.030475</td>\n",
              "      <td>0.297785</td>\n",
              "      <td>0.178009</td>\n",
              "    </tr>\n",
              "    <tr>\n",
              "      <th>commute_level</th>\n",
              "      <td>0.027796</td>\n",
              "      <td>-0.138420</td>\n",
              "      <td>0.389710</td>\n",
              "    </tr>\n",
              "    <tr>\n",
              "      <th>home_env</th>\n",
              "      <td>0.030059</td>\n",
              "      <td>-0.079344</td>\n",
              "      <td>0.115590</td>\n",
              "    </tr>\n",
              "  </tbody>\n",
              "</table>\n",
              "</div>"
            ],
            "text/plain": [
              "                Factor1   Factor2   Factor3\n",
              "age           -0.004852  0.602823 -0.080538\n",
              "gender         0.997618  0.000405 -0.000611\n",
              "hand           0.035972 -0.021124 -0.039276\n",
              "sleep         -0.022713 -0.371454 -0.244780\n",
              "edu_level     -0.030475  0.297785  0.178009\n",
              "commute_level  0.027796 -0.138420  0.389710\n",
              "home_env       0.030059 -0.079344  0.115590"
            ]
          },
          "metadata": {},
          "execution_count": 20
        }
      ]
    },
    {
      "cell_type": "code",
      "metadata": {
        "colab": {
          "base_uri": "https://localhost:8080/",
          "height": 138
        },
        "id": "0tOwAJxnrO6i",
        "outputId": "4c482953-0057-4968-ed2d-ee57ee35dd09"
      },
      "source": [
        "fa.get_factor_variance()\n"
      ],
      "execution_count": null,
      "outputs": [
        {
          "output_type": "execute_result",
          "data": {
            "text/html": [
              "<div>\n",
              "<style scoped>\n",
              "    .dataframe tbody tr th:only-of-type {\n",
              "        vertical-align: middle;\n",
              "    }\n",
              "\n",
              "    .dataframe tbody tr th {\n",
              "        vertical-align: top;\n",
              "    }\n",
              "\n",
              "    .dataframe thead th {\n",
              "        text-align: right;\n",
              "    }\n",
              "</style>\n",
              "<table border=\"1\" class=\"dataframe\">\n",
              "  <thead>\n",
              "    <tr style=\"text-align: right;\">\n",
              "      <th></th>\n",
              "      <th>Factor1</th>\n",
              "      <th>Factor2</th>\n",
              "      <th>Factor3</th>\n",
              "    </tr>\n",
              "  </thead>\n",
              "  <tbody>\n",
              "    <tr>\n",
              "      <th>SS Loadings</th>\n",
              "      <td>0.999681</td>\n",
              "      <td>0.615952</td>\n",
              "      <td>0.264869</td>\n",
              "    </tr>\n",
              "    <tr>\n",
              "      <th>Proportion Var</th>\n",
              "      <td>0.142812</td>\n",
              "      <td>0.087993</td>\n",
              "      <td>0.037838</td>\n",
              "    </tr>\n",
              "    <tr>\n",
              "      <th>Cumulative Var</th>\n",
              "      <td>0.142812</td>\n",
              "      <td>0.230805</td>\n",
              "      <td>0.268643</td>\n",
              "    </tr>\n",
              "  </tbody>\n",
              "</table>\n",
              "</div>"
            ],
            "text/plain": [
              "                 Factor1   Factor2   Factor3\n",
              "SS Loadings     0.999681  0.615952  0.264869\n",
              "Proportion Var  0.142812  0.087993  0.037838\n",
              "Cumulative Var  0.142812  0.230805  0.268643"
            ]
          },
          "metadata": {},
          "execution_count": 21
        }
      ]
    },
    {
      "cell_type": "code",
      "metadata": {
        "colab": {
          "base_uri": "https://localhost:8080/"
        },
        "id": "j8P9_w84rY1y",
        "outputId": "1f9bab0c-f908-47d1-eef9-6309c76e65e5"
      },
      "source": [
        "fa.phi "
      ],
      "execution_count": null,
      "outputs": [
        {
          "output_type": "execute_result",
          "data": {
            "text/plain": [
              "array([[ 1.        , -0.07294579,  0.15097097],\n",
              "       [-0.07294579,  1.        , -0.08701442],\n",
              "       [ 0.15097097, -0.08701442,  1.        ]])"
            ]
          },
          "metadata": {},
          "execution_count": 22
        }
      ]
    },
    {
      "cell_type": "code",
      "metadata": {
        "id": "6-rMgja3GNuk"
      },
      "source": [
        "from factor_analyzer import (ConfirmatoryFactorAnalyzer,\n",
        "...                              ModelSpecificationParser)"
      ],
      "execution_count": null,
      "outputs": []
    },
    {
      "cell_type": "code",
      "metadata": {
        "id": "jRMpartJGXOv"
      },
      "source": [
        "model_dict = {\"F1\": [\"gender\"], \"F2\": [\"age\", \"sleep\"], \"F3\": [\"commute_level\"]}"
      ],
      "execution_count": null,
      "outputs": []
    },
    {
      "cell_type": "code",
      "metadata": {
        "id": "9_bh396UGXmK"
      },
      "source": [
        "model_spec = ModelSpecificationParser.parse_model_specification_from_dict(x_test, model_dict)"
      ],
      "execution_count": null,
      "outputs": []
    },
    {
      "cell_type": "code",
      "metadata": {
        "id": "6SXjPJXLIf2r"
      },
      "source": [
        "cfa = ConfirmatoryFactorAnalyzer(model_spec, disp=False)"
      ],
      "execution_count": null,
      "outputs": []
    },
    {
      "cell_type": "code",
      "metadata": {
        "colab": {
          "base_uri": "https://localhost:8080/",
          "height": 200
        },
        "id": "LY_ZFa9NI-Gl",
        "outputId": "aa4e3d3e-b2dd-4a70-a030-31a837ee075c"
      },
      "source": [
        "x_test2 = x_test.drop(['hand', 'edu_level', 'home_env' ],axis=1)\n",
        "x_test2.head()"
      ],
      "execution_count": null,
      "outputs": [
        {
          "output_type": "execute_result",
          "data": {
            "text/html": [
              "<div>\n",
              "<style scoped>\n",
              "    .dataframe tbody tr th:only-of-type {\n",
              "        vertical-align: middle;\n",
              "    }\n",
              "\n",
              "    .dataframe tbody tr th {\n",
              "        vertical-align: top;\n",
              "    }\n",
              "\n",
              "    .dataframe thead th {\n",
              "        text-align: right;\n",
              "    }\n",
              "</style>\n",
              "<table border=\"1\" class=\"dataframe\">\n",
              "  <thead>\n",
              "    <tr style=\"text-align: right;\">\n",
              "      <th></th>\n",
              "      <th>age</th>\n",
              "      <th>gender</th>\n",
              "      <th>sleep</th>\n",
              "      <th>commute_level</th>\n",
              "    </tr>\n",
              "  </thead>\n",
              "  <tbody>\n",
              "    <tr>\n",
              "      <th>164964</th>\n",
              "      <td>0.615385</td>\n",
              "      <td>1.0</td>\n",
              "      <td>0.545455</td>\n",
              "      <td>1.0</td>\n",
              "    </tr>\n",
              "    <tr>\n",
              "      <th>122320</th>\n",
              "      <td>0.846154</td>\n",
              "      <td>0.0</td>\n",
              "      <td>0.545455</td>\n",
              "      <td>0.5</td>\n",
              "    </tr>\n",
              "    <tr>\n",
              "      <th>593762</th>\n",
              "      <td>0.673077</td>\n",
              "      <td>0.0</td>\n",
              "      <td>0.545455</td>\n",
              "      <td>1.0</td>\n",
              "    </tr>\n",
              "    <tr>\n",
              "      <th>414139</th>\n",
              "      <td>0.442308</td>\n",
              "      <td>0.0</td>\n",
              "      <td>0.636364</td>\n",
              "      <td>0.5</td>\n",
              "    </tr>\n",
              "    <tr>\n",
              "      <th>614287</th>\n",
              "      <td>0.884615</td>\n",
              "      <td>1.0</td>\n",
              "      <td>0.545455</td>\n",
              "      <td>1.0</td>\n",
              "    </tr>\n",
              "  </tbody>\n",
              "</table>\n",
              "</div>"
            ],
            "text/plain": [
              "             age  gender     sleep  commute_level\n",
              "164964  0.615385     1.0  0.545455            1.0\n",
              "122320  0.846154     0.0  0.545455            0.5\n",
              "593762  0.673077     0.0  0.545455            1.0\n",
              "414139  0.442308     0.0  0.636364            0.5\n",
              "614287  0.884615     1.0  0.545455            1.0"
            ]
          },
          "metadata": {},
          "execution_count": 49
        }
      ]
    },
    {
      "cell_type": "code",
      "metadata": {
        "colab": {
          "base_uri": "https://localhost:8080/"
        },
        "id": "MMeup0ZSIf_f",
        "outputId": "6979c50a-0011-4329-db93-5d18f9a9a99f"
      },
      "source": [
        "cfa.fit(x_test2)"
      ],
      "execution_count": null,
      "outputs": [
        {
          "output_type": "execute_result",
          "data": {
            "text/plain": [
              "ConfirmatoryFactorAnalyzer(bounds=None, disp=False, impute='median',\n",
              "                           is_cov_matrix=False, max_iter=200, n_obs=360672,\n",
              "                           specification=<factor_analyzer.confirmatory_factor_analyzer.ModelSpecification object at 0x7fdcb72ed310>,\n",
              "                           tol=None)"
            ]
          },
          "metadata": {},
          "execution_count": 50
        }
      ]
    },
    {
      "cell_type": "code",
      "metadata": {
        "colab": {
          "base_uri": "https://localhost:8080/"
        },
        "id": "0kXwxlnmIm7r",
        "outputId": "9129925d-c0e3-4c31-94e7-f829a867227d"
      },
      "source": [
        "cfa.loadings_"
      ],
      "execution_count": null,
      "outputs": [
        {
          "output_type": "execute_result",
          "data": {
            "text/plain": [
              "array([[ 14.65829855,   0.        ,   0.        ],\n",
              "       [  0.        ,  -3.77814198,   0.        ],\n",
              "       [  0.        , -18.5289094 ,   0.        ],\n",
              "       [  0.        ,   0.        ,  15.52481291]])"
            ]
          },
          "metadata": {},
          "execution_count": 51
        }
      ]
    },
    {
      "cell_type": "code",
      "metadata": {
        "colab": {
          "base_uri": "https://localhost:8080/"
        },
        "id": "N_4bfNFXInEt",
        "outputId": "d80f7825-dc62-48c0-87fa-d0cccc9c73ea"
      },
      "source": [
        "cfa.factor_varcovs_"
      ],
      "execution_count": null,
      "outputs": [
        {
          "output_type": "execute_result",
          "data": {
            "text/plain": [
              "array([[ 1.        , -1.77341281,  3.14722542],\n",
              "       [-1.77341281,  1.        , -2.3487513 ],\n",
              "       [ 3.14722542, -2.3487513 ,  1.        ]])"
            ]
          },
          "metadata": {},
          "execution_count": 52
        }
      ]
    },
    {
      "cell_type": "code",
      "metadata": {
        "colab": {
          "base_uri": "https://localhost:8080/"
        },
        "id": "JpLrcpMAJwM_",
        "outputId": "c4cf21a0-a54d-485f-b533-aafee68255d0"
      },
      "source": [
        "cfa.get_model_implied_cov()"
      ],
      "execution_count": null,
      "outputs": [
        {
          "output_type": "execute_result",
          "data": {
            "text/plain": [
              "array([[207.72745443,  98.2136106 , 481.66297155, 716.20572443],\n",
              "       [ 98.2136106 ,  22.10936194,  70.00485041, 137.76588403],\n",
              "       [481.66297155,  70.00485041, 351.79272106, 675.63675419],\n",
              "       [716.20572443, 137.76588403, 675.63675419, 233.20487252]])"
            ]
          },
          "metadata": {},
          "execution_count": 54
        }
      ]
    },
    {
      "cell_type": "markdown",
      "metadata": {
        "id": "rn54R1hVxkZO"
      },
      "source": [
        "# Confirmatory Factor Analysis"
      ]
    },
    {
      "cell_type": "code",
      "metadata": {
        "id": "3Ewdtrf42i-k",
        "colab": {
          "base_uri": "https://localhost:8080/"
        },
        "outputId": "69055e8b-aa09-47bc-921e-a91319019aba"
      },
      "source": [
        "! pip install semopy"
      ],
      "execution_count": null,
      "outputs": [
        {
          "output_type": "stream",
          "name": "stdout",
          "text": [
            "Collecting semopy\n",
            "  Downloading semopy-2.3.8.tar.gz (1.6 MB)\n",
            "\u001b[?25l\r\u001b[K     |▏                               | 10 kB 24.6 MB/s eta 0:00:01\r\u001b[K     |▍                               | 20 kB 27.1 MB/s eta 0:00:01\r\u001b[K     |▋                               | 30 kB 31.3 MB/s eta 0:00:01\r\u001b[K     |▉                               | 40 kB 24.3 MB/s eta 0:00:01\r\u001b[K     |█                               | 51 kB 9.4 MB/s eta 0:00:01\r\u001b[K     |█▏                              | 61 kB 9.8 MB/s eta 0:00:01\r\u001b[K     |█▍                              | 71 kB 8.5 MB/s eta 0:00:01\r\u001b[K     |█▋                              | 81 kB 9.3 MB/s eta 0:00:01\r\u001b[K     |█▉                              | 92 kB 9.2 MB/s eta 0:00:01\r\u001b[K     |██                              | 102 kB 8.4 MB/s eta 0:00:01\r\u001b[K     |██▏                             | 112 kB 8.4 MB/s eta 0:00:01\r\u001b[K     |██▍                             | 122 kB 8.4 MB/s eta 0:00:01\r\u001b[K     |██▋                             | 133 kB 8.4 MB/s eta 0:00:01\r\u001b[K     |██▉                             | 143 kB 8.4 MB/s eta 0:00:01\r\u001b[K     |███                             | 153 kB 8.4 MB/s eta 0:00:01\r\u001b[K     |███▏                            | 163 kB 8.4 MB/s eta 0:00:01\r\u001b[K     |███▍                            | 174 kB 8.4 MB/s eta 0:00:01\r\u001b[K     |███▋                            | 184 kB 8.4 MB/s eta 0:00:01\r\u001b[K     |███▉                            | 194 kB 8.4 MB/s eta 0:00:01\r\u001b[K     |████                            | 204 kB 8.4 MB/s eta 0:00:01\r\u001b[K     |████▏                           | 215 kB 8.4 MB/s eta 0:00:01\r\u001b[K     |████▍                           | 225 kB 8.4 MB/s eta 0:00:01\r\u001b[K     |████▋                           | 235 kB 8.4 MB/s eta 0:00:01\r\u001b[K     |████▉                           | 245 kB 8.4 MB/s eta 0:00:01\r\u001b[K     |█████                           | 256 kB 8.4 MB/s eta 0:00:01\r\u001b[K     |█████▏                          | 266 kB 8.4 MB/s eta 0:00:01\r\u001b[K     |█████▍                          | 276 kB 8.4 MB/s eta 0:00:01\r\u001b[K     |█████▋                          | 286 kB 8.4 MB/s eta 0:00:01\r\u001b[K     |█████▉                          | 296 kB 8.4 MB/s eta 0:00:01\r\u001b[K     |██████                          | 307 kB 8.4 MB/s eta 0:00:01\r\u001b[K     |██████▏                         | 317 kB 8.4 MB/s eta 0:00:01\r\u001b[K     |██████▍                         | 327 kB 8.4 MB/s eta 0:00:01\r\u001b[K     |██████▋                         | 337 kB 8.4 MB/s eta 0:00:01\r\u001b[K     |██████▉                         | 348 kB 8.4 MB/s eta 0:00:01\r\u001b[K     |███████                         | 358 kB 8.4 MB/s eta 0:00:01\r\u001b[K     |███████▏                        | 368 kB 8.4 MB/s eta 0:00:01\r\u001b[K     |███████▍                        | 378 kB 8.4 MB/s eta 0:00:01\r\u001b[K     |███████▋                        | 389 kB 8.4 MB/s eta 0:00:01\r\u001b[K     |███████▉                        | 399 kB 8.4 MB/s eta 0:00:01\r\u001b[K     |████████                        | 409 kB 8.4 MB/s eta 0:00:01\r\u001b[K     |████████▏                       | 419 kB 8.4 MB/s eta 0:00:01\r\u001b[K     |████████▍                       | 430 kB 8.4 MB/s eta 0:00:01\r\u001b[K     |████████▋                       | 440 kB 8.4 MB/s eta 0:00:01\r\u001b[K     |████████▉                       | 450 kB 8.4 MB/s eta 0:00:01\r\u001b[K     |█████████                       | 460 kB 8.4 MB/s eta 0:00:01\r\u001b[K     |█████████▏                      | 471 kB 8.4 MB/s eta 0:00:01\r\u001b[K     |█████████▍                      | 481 kB 8.4 MB/s eta 0:00:01\r\u001b[K     |█████████▋                      | 491 kB 8.4 MB/s eta 0:00:01\r\u001b[K     |█████████▉                      | 501 kB 8.4 MB/s eta 0:00:01\r\u001b[K     |██████████                      | 512 kB 8.4 MB/s eta 0:00:01\r\u001b[K     |██████████▏                     | 522 kB 8.4 MB/s eta 0:00:01\r\u001b[K     |██████████▍                     | 532 kB 8.4 MB/s eta 0:00:01\r\u001b[K     |██████████▋                     | 542 kB 8.4 MB/s eta 0:00:01\r\u001b[K     |██████████▉                     | 552 kB 8.4 MB/s eta 0:00:01\r\u001b[K     |███████████                     | 563 kB 8.4 MB/s eta 0:00:01\r\u001b[K     |███████████▎                    | 573 kB 8.4 MB/s eta 0:00:01\r\u001b[K     |███████████▍                    | 583 kB 8.4 MB/s eta 0:00:01\r\u001b[K     |███████████▋                    | 593 kB 8.4 MB/s eta 0:00:01\r\u001b[K     |███████████▉                    | 604 kB 8.4 MB/s eta 0:00:01\r\u001b[K     |████████████                    | 614 kB 8.4 MB/s eta 0:00:01\r\u001b[K     |████████████▎                   | 624 kB 8.4 MB/s eta 0:00:01\r\u001b[K     |████████████▍                   | 634 kB 8.4 MB/s eta 0:00:01\r\u001b[K     |████████████▋                   | 645 kB 8.4 MB/s eta 0:00:01\r\u001b[K     |████████████▉                   | 655 kB 8.4 MB/s eta 0:00:01\r\u001b[K     |█████████████                   | 665 kB 8.4 MB/s eta 0:00:01\r\u001b[K     |█████████████▎                  | 675 kB 8.4 MB/s eta 0:00:01\r\u001b[K     |█████████████▍                  | 686 kB 8.4 MB/s eta 0:00:01\r\u001b[K     |█████████████▋                  | 696 kB 8.4 MB/s eta 0:00:01\r\u001b[K     |█████████████▉                  | 706 kB 8.4 MB/s eta 0:00:01\r\u001b[K     |██████████████                  | 716 kB 8.4 MB/s eta 0:00:01\r\u001b[K     |██████████████▎                 | 727 kB 8.4 MB/s eta 0:00:01\r\u001b[K     |██████████████▍                 | 737 kB 8.4 MB/s eta 0:00:01\r\u001b[K     |██████████████▋                 | 747 kB 8.4 MB/s eta 0:00:01\r\u001b[K     |██████████████▉                 | 757 kB 8.4 MB/s eta 0:00:01\r\u001b[K     |███████████████                 | 768 kB 8.4 MB/s eta 0:00:01\r\u001b[K     |███████████████▎                | 778 kB 8.4 MB/s eta 0:00:01\r\u001b[K     |███████████████▍                | 788 kB 8.4 MB/s eta 0:00:01\r\u001b[K     |███████████████▋                | 798 kB 8.4 MB/s eta 0:00:01\r\u001b[K     |███████████████▉                | 808 kB 8.4 MB/s eta 0:00:01\r\u001b[K     |████████████████                | 819 kB 8.4 MB/s eta 0:00:01\r\u001b[K     |████████████████▎               | 829 kB 8.4 MB/s eta 0:00:01\r\u001b[K     |████████████████▍               | 839 kB 8.4 MB/s eta 0:00:01\r\u001b[K     |████████████████▋               | 849 kB 8.4 MB/s eta 0:00:01\r\u001b[K     |████████████████▉               | 860 kB 8.4 MB/s eta 0:00:01\r\u001b[K     |█████████████████               | 870 kB 8.4 MB/s eta 0:00:01\r\u001b[K     |█████████████████▎              | 880 kB 8.4 MB/s eta 0:00:01\r\u001b[K     |█████████████████▍              | 890 kB 8.4 MB/s eta 0:00:01\r\u001b[K     |█████████████████▋              | 901 kB 8.4 MB/s eta 0:00:01\r\u001b[K     |█████████████████▉              | 911 kB 8.4 MB/s eta 0:00:01\r\u001b[K     |██████████████████              | 921 kB 8.4 MB/s eta 0:00:01\r\u001b[K     |██████████████████▎             | 931 kB 8.4 MB/s eta 0:00:01\r\u001b[K     |██████████████████▍             | 942 kB 8.4 MB/s eta 0:00:01\r\u001b[K     |██████████████████▋             | 952 kB 8.4 MB/s eta 0:00:01\r\u001b[K     |██████████████████▉             | 962 kB 8.4 MB/s eta 0:00:01\r\u001b[K     |███████████████████             | 972 kB 8.4 MB/s eta 0:00:01\r\u001b[K     |███████████████████▎            | 983 kB 8.4 MB/s eta 0:00:01\r\u001b[K     |███████████████████▍            | 993 kB 8.4 MB/s eta 0:00:01\r\u001b[K     |███████████████████▋            | 1.0 MB 8.4 MB/s eta 0:00:01\r\u001b[K     |███████████████████▉            | 1.0 MB 8.4 MB/s eta 0:00:01\r\u001b[K     |████████████████████            | 1.0 MB 8.4 MB/s eta 0:00:01\r\u001b[K     |████████████████████▎           | 1.0 MB 8.4 MB/s eta 0:00:01\r\u001b[K     |████████████████████▍           | 1.0 MB 8.4 MB/s eta 0:00:01\r\u001b[K     |████████████████████▋           | 1.1 MB 8.4 MB/s eta 0:00:01\r\u001b[K     |████████████████████▉           | 1.1 MB 8.4 MB/s eta 0:00:01\r\u001b[K     |█████████████████████           | 1.1 MB 8.4 MB/s eta 0:00:01\r\u001b[K     |█████████████████████▎          | 1.1 MB 8.4 MB/s eta 0:00:01\r\u001b[K     |█████████████████████▍          | 1.1 MB 8.4 MB/s eta 0:00:01\r\u001b[K     |█████████████████████▋          | 1.1 MB 8.4 MB/s eta 0:00:01\r\u001b[K     |█████████████████████▉          | 1.1 MB 8.4 MB/s eta 0:00:01\r\u001b[K     |██████████████████████          | 1.1 MB 8.4 MB/s eta 0:00:01\r\u001b[K     |██████████████████████▎         | 1.1 MB 8.4 MB/s eta 0:00:01\r\u001b[K     |██████████████████████▌         | 1.1 MB 8.4 MB/s eta 0:00:01\r\u001b[K     |██████████████████████▋         | 1.2 MB 8.4 MB/s eta 0:00:01\r\u001b[K     |██████████████████████▉         | 1.2 MB 8.4 MB/s eta 0:00:01\r\u001b[K     |███████████████████████         | 1.2 MB 8.4 MB/s eta 0:00:01\r\u001b[K     |███████████████████████▎        | 1.2 MB 8.4 MB/s eta 0:00:01\r\u001b[K     |███████████████████████▌        | 1.2 MB 8.4 MB/s eta 0:00:01\r\u001b[K     |███████████████████████▋        | 1.2 MB 8.4 MB/s eta 0:00:01\r\u001b[K     |███████████████████████▉        | 1.2 MB 8.4 MB/s eta 0:00:01\r\u001b[K     |████████████████████████        | 1.2 MB 8.4 MB/s eta 0:00:01\r\u001b[K     |████████████████████████▎       | 1.2 MB 8.4 MB/s eta 0:00:01\r\u001b[K     |████████████████████████▌       | 1.2 MB 8.4 MB/s eta 0:00:01\r\u001b[K     |████████████████████████▋       | 1.3 MB 8.4 MB/s eta 0:00:01\r\u001b[K     |████████████████████████▉       | 1.3 MB 8.4 MB/s eta 0:00:01\r\u001b[K     |█████████████████████████       | 1.3 MB 8.4 MB/s eta 0:00:01\r\u001b[K     |█████████████████████████▎      | 1.3 MB 8.4 MB/s eta 0:00:01\r\u001b[K     |█████████████████████████▌      | 1.3 MB 8.4 MB/s eta 0:00:01\r\u001b[K     |█████████████████████████▋      | 1.3 MB 8.4 MB/s eta 0:00:01\r\u001b[K     |█████████████████████████▉      | 1.3 MB 8.4 MB/s eta 0:00:01\r\u001b[K     |██████████████████████████      | 1.3 MB 8.4 MB/s eta 0:00:01\r\u001b[K     |██████████████████████████▎     | 1.3 MB 8.4 MB/s eta 0:00:01\r\u001b[K     |██████████████████████████▌     | 1.4 MB 8.4 MB/s eta 0:00:01\r\u001b[K     |██████████████████████████▋     | 1.4 MB 8.4 MB/s eta 0:00:01\r\u001b[K     |██████████████████████████▉     | 1.4 MB 8.4 MB/s eta 0:00:01\r\u001b[K     |███████████████████████████     | 1.4 MB 8.4 MB/s eta 0:00:01\r\u001b[K     |███████████████████████████▎    | 1.4 MB 8.4 MB/s eta 0:00:01\r\u001b[K     |███████████████████████████▌    | 1.4 MB 8.4 MB/s eta 0:00:01\r\u001b[K     |███████████████████████████▋    | 1.4 MB 8.4 MB/s eta 0:00:01\r\u001b[K     |███████████████████████████▉    | 1.4 MB 8.4 MB/s eta 0:00:01\r\u001b[K     |████████████████████████████    | 1.4 MB 8.4 MB/s eta 0:00:01\r\u001b[K     |████████████████████████████▎   | 1.4 MB 8.4 MB/s eta 0:00:01\r\u001b[K     |████████████████████████████▌   | 1.5 MB 8.4 MB/s eta 0:00:01\r\u001b[K     |████████████████████████████▋   | 1.5 MB 8.4 MB/s eta 0:00:01\r\u001b[K     |████████████████████████████▉   | 1.5 MB 8.4 MB/s eta 0:00:01\r\u001b[K     |█████████████████████████████   | 1.5 MB 8.4 MB/s eta 0:00:01\r\u001b[K     |█████████████████████████████▎  | 1.5 MB 8.4 MB/s eta 0:00:01\r\u001b[K     |█████████████████████████████▌  | 1.5 MB 8.4 MB/s eta 0:00:01\r\u001b[K     |█████████████████████████████▋  | 1.5 MB 8.4 MB/s eta 0:00:01\r\u001b[K     |█████████████████████████████▉  | 1.5 MB 8.4 MB/s eta 0:00:01\r\u001b[K     |██████████████████████████████  | 1.5 MB 8.4 MB/s eta 0:00:01\r\u001b[K     |██████████████████████████████▎ | 1.5 MB 8.4 MB/s eta 0:00:01\r\u001b[K     |██████████████████████████████▌ | 1.6 MB 8.4 MB/s eta 0:00:01\r\u001b[K     |██████████████████████████████▋ | 1.6 MB 8.4 MB/s eta 0:00:01\r\u001b[K     |██████████████████████████████▉ | 1.6 MB 8.4 MB/s eta 0:00:01\r\u001b[K     |███████████████████████████████ | 1.6 MB 8.4 MB/s eta 0:00:01\r\u001b[K     |███████████████████████████████▎| 1.6 MB 8.4 MB/s eta 0:00:01\r\u001b[K     |███████████████████████████████▌| 1.6 MB 8.4 MB/s eta 0:00:01\r\u001b[K     |███████████████████████████████▋| 1.6 MB 8.4 MB/s eta 0:00:01\r\u001b[K     |███████████████████████████████▉| 1.6 MB 8.4 MB/s eta 0:00:01\r\u001b[K     |████████████████████████████████| 1.6 MB 8.4 MB/s \n",
            "\u001b[?25hRequirement already satisfied: scipy in /usr/local/lib/python3.7/dist-packages (from semopy) (1.4.1)\n",
            "Requirement already satisfied: numpy in /usr/local/lib/python3.7/dist-packages (from semopy) (1.19.5)\n",
            "Requirement already satisfied: pandas in /usr/local/lib/python3.7/dist-packages (from semopy) (1.1.5)\n",
            "Requirement already satisfied: sympy in /usr/local/lib/python3.7/dist-packages (from semopy) (1.7.1)\n",
            "Requirement already satisfied: sklearn in /usr/local/lib/python3.7/dist-packages (from semopy) (0.0)\n",
            "Requirement already satisfied: statsmodels in /usr/local/lib/python3.7/dist-packages (from semopy) (0.10.2)\n",
            "Requirement already satisfied: python-dateutil>=2.7.3 in /usr/local/lib/python3.7/dist-packages (from pandas->semopy) (2.8.2)\n",
            "Requirement already satisfied: pytz>=2017.2 in /usr/local/lib/python3.7/dist-packages (from pandas->semopy) (2018.9)\n",
            "Requirement already satisfied: six>=1.5 in /usr/local/lib/python3.7/dist-packages (from python-dateutil>=2.7.3->pandas->semopy) (1.15.0)\n",
            "Requirement already satisfied: scikit-learn in /usr/local/lib/python3.7/dist-packages (from sklearn->semopy) (0.22.2.post1)\n",
            "Requirement already satisfied: joblib>=0.11 in /usr/local/lib/python3.7/dist-packages (from scikit-learn->sklearn->semopy) (1.0.1)\n",
            "Requirement already satisfied: patsy>=0.4.0 in /usr/local/lib/python3.7/dist-packages (from statsmodels->semopy) (0.5.1)\n",
            "Requirement already satisfied: mpmath>=0.19 in /usr/local/lib/python3.7/dist-packages (from sympy->semopy) (1.2.1)\n",
            "Building wheels for collected packages: semopy\n",
            "  Building wheel for semopy (setup.py) ... \u001b[?25l\u001b[?25hdone\n",
            "  Created wheel for semopy: filename=semopy-2.3.8-py3-none-any.whl size=1657762 sha256=08ac0f87d026e17c39edb62cfe8ec67abe96233eb1034c2912d3060197458d86\n",
            "  Stored in directory: /root/.cache/pip/wheels/3c/d2/37/1f3c77633ab4bb7ed196e153f77b1cc719ecd510cb75a4baef\n",
            "Successfully built semopy\n",
            "Installing collected packages: semopy\n",
            "Successfully installed semopy-2.3.8\n"
          ]
        }
      ]
    },
    {
      "cell_type": "code",
      "metadata": {
        "colab": {
          "base_uri": "https://localhost:8080/"
        },
        "id": "kLxYeDyQu2ca",
        "outputId": "99e64633-69aa-4ce2-c525-c72fa9bc2ac8"
      },
      "source": [
        "from semopy import Model\n",
        "from semopy import calc_stats, semplot"
      ],
      "execution_count": null,
      "outputs": [
        {
          "output_type": "stream",
          "name": "stderr",
          "text": [
            "/usr/local/lib/python3.7/dist-packages/statsmodels/tools/_testing.py:19: FutureWarning: pandas.util.testing is deprecated. Use the functions in the public API at pandas.testing instead.\n",
            "  import pandas.util.testing as tm\n"
          ]
        }
      ]
    },
    {
      "cell_type": "code",
      "metadata": {
        "id": "Syc85Z_ku2j0"
      },
      "source": [
        "# old model\n",
        "mod = \"\"\"\n",
        "        Factor1 =~ navigating_skills\n",
        "        Factor2 =~ age\n",
        "        Factor3 =~ sleep + commute_level\n",
        "      \"\"\""
      ],
      "execution_count": null,
      "outputs": []
    },
    {
      "cell_type": "code",
      "metadata": {
        "id": "9W8keQm0plBL"
      },
      "source": [
        "mod = \"\"\"\n",
        "        Factor1 =~ gender\n",
        "        Factor2 =~ age + sleep\n",
        "        Factor3 =~ commute_level\n",
        "      \"\"\""
      ],
      "execution_count": null,
      "outputs": []
    },
    {
      "cell_type": "code",
      "metadata": {
        "id": "921woduhpzCj"
      },
      "source": [
        "mod = \"\"\"\n",
        "        Factor1 =~ gender\n",
        "        Factor2 =~ age + sleep + edu_level\n",
        "        Factor3 =~ commute_level\n",
        "      \"\"\""
      ],
      "execution_count": null,
      "outputs": []
    },
    {
      "cell_type": "code",
      "metadata": {
        "colab": {
          "base_uri": "https://localhost:8080/"
        },
        "id": "Hyd2Ju0iu2nK",
        "outputId": "5d29c935-e2d4-4dc9-bca7-dc30c00d3319"
      },
      "source": [
        "m = Model(mod)\n",
        "res = m.fit(x_test2) # , obj=\"MLW\", solver=\"SLSQP\"\n",
        "stats = calc_stats(m)\n",
        "print(stats.T)"
      ],
      "execution_count": null,
      "outputs": [
        {
          "output_type": "stream",
          "name": "stdout",
          "text": [
            "                      Value\n",
            "DoF               -1.000000\n",
            "DoF Baseline       6.000000\n",
            "chi2            2178.378708\n",
            "chi2 p-value            NaN\n",
            "chi2 Baseline  26551.411354\n",
            "CFI                0.917900\n",
            "GFI                0.917956\n",
            "AGFI               1.492263\n",
            "NFI                0.917956\n",
            "TLI                1.492600\n",
            "RMSEA                   NaN\n",
            "AIC               21.987920\n",
            "BIC              140.740887\n",
            "LogLik             0.006040\n"
          ]
        },
        {
          "output_type": "stream",
          "name": "stderr",
          "text": [
            "/usr/local/lib/python3.7/dist-packages/semopy/stats.py:386: RuntimeWarning: invalid value encountered in sqrt\n",
            "  return np.sqrt((chi2 / dof - 1) / (model.n_samples - 1))\n"
          ]
        }
      ]
    },
    {
      "cell_type": "code",
      "metadata": {
        "colab": {
          "base_uri": "https://localhost:8080/"
        },
        "id": "LADaGoQFtYJi",
        "outputId": "31ca45f2-873a-47da-b5e0-83ab1fa9f04b"
      },
      "source": [
        "m = Model(mod)\n",
        "res = m.fit(x_test2) # , obj=\"MLW\", solver=\"SLSQP\"\n",
        "stats = calc_stats(m)\n",
        "print(stats.T)"
      ],
      "execution_count": null,
      "outputs": [
        {
          "output_type": "stream",
          "name": "stdout",
          "text": [
            "                      Value\n",
            "DoF               -1.000000\n",
            "DoF Baseline       6.000000\n",
            "chi2            2178.378708\n",
            "chi2 p-value            NaN\n",
            "chi2 Baseline  26551.411354\n",
            "CFI                0.917900\n",
            "GFI                0.917956\n",
            "AGFI               1.492263\n",
            "NFI                0.917956\n",
            "TLI                1.492600\n",
            "RMSEA                   NaN\n",
            "AIC               21.987920\n",
            "BIC              140.740887\n",
            "LogLik             0.006040\n"
          ]
        },
        {
          "output_type": "stream",
          "name": "stderr",
          "text": [
            "/usr/local/lib/python3.7/dist-packages/semopy/stats.py:386: RuntimeWarning: invalid value encountered in sqrt\n",
            "  return np.sqrt((chi2 / dof - 1) / (model.n_samples - 1))\n"
          ]
        }
      ]
    },
    {
      "cell_type": "code",
      "metadata": {
        "colab": {
          "base_uri": "https://localhost:8080/"
        },
        "id": "-Y_-e_Q1q-BJ",
        "outputId": "6bbc1b67-695c-475e-809d-e392984286a5"
      },
      "source": [
        "# get covariance matrix\n",
        "cov_m = m.inspect(mode='mx')['Psi']\n",
        "print(cov_m)"
      ],
      "execution_count": null,
      "outputs": [
        {
          "output_type": "stream",
          "name": "stdout",
          "text": [
            "          Factor1   Factor2   Factor3\n",
            "Factor1  0.087340 -0.008904  0.018892\n",
            "Factor2 -0.008904  0.087816 -0.015956\n",
            "Factor3  0.018892 -0.015956  0.069680\n"
          ]
        }
      ]
    },
    {
      "cell_type": "code",
      "metadata": {
        "colab": {
          "base_uri": "https://localhost:8080/"
        },
        "id": "usoSghxVtheY",
        "outputId": "2d2b07c3-e9c8-40e6-8a08-674c41f74736"
      },
      "source": [
        "# get covariance matrix\n",
        "cov_m = m.inspect(mode='mx')['Psi']\n",
        "print(cov_m)"
      ],
      "execution_count": null,
      "outputs": [
        {
          "output_type": "stream",
          "name": "stdout",
          "text": [
            "          Factor1   Factor2   Factor3\n",
            "Factor1  0.105579 -0.008524  0.019131\n",
            "Factor2 -0.008524  0.057753 -0.014430\n",
            "Factor3  0.019131 -0.014430  0.069051\n"
          ]
        }
      ]
    },
    {
      "cell_type": "code",
      "metadata": {
        "id": "4amnZnNPvRCY"
      },
      "source": [
        "#pd.DataFrame(np.corrcoef(factors.T), columns = ['Factor1', 'Factor2', 'Factor3'], index = ['Factor1', 'Factor2', 'Factor3'])"
      ],
      "execution_count": null,
      "outputs": []
    },
    {
      "cell_type": "code",
      "metadata": {
        "colab": {
          "base_uri": "https://localhost:8080/",
          "height": 487
        },
        "id": "kqY-HqPbvRJo",
        "outputId": "1ee147d2-7278-4f44-c09c-f9790faa9159"
      },
      "source": [
        "estimates = m.inspect()\n",
        "\n",
        "estimates"
      ],
      "execution_count": null,
      "outputs": [
        {
          "output_type": "stream",
          "name": "stderr",
          "text": [
            "WARNING:root:Fisher Information Matrix is not PD.Moore-Penrose inverse will be used instead of Cholesky decomposition. See 10.1109/TSP.2012.2208105.\n"
          ]
        },
        {
          "output_type": "execute_result",
          "data": {
            "text/html": [
              "<div>\n",
              "<style scoped>\n",
              "    .dataframe tbody tr th:only-of-type {\n",
              "        vertical-align: middle;\n",
              "    }\n",
              "\n",
              "    .dataframe tbody tr th {\n",
              "        vertical-align: top;\n",
              "    }\n",
              "\n",
              "    .dataframe thead th {\n",
              "        text-align: right;\n",
              "    }\n",
              "</style>\n",
              "<table border=\"1\" class=\"dataframe\">\n",
              "  <thead>\n",
              "    <tr style=\"text-align: right;\">\n",
              "      <th></th>\n",
              "      <th>lval</th>\n",
              "      <th>op</th>\n",
              "      <th>rval</th>\n",
              "      <th>Estimate</th>\n",
              "      <th>Std. Err</th>\n",
              "      <th>z-value</th>\n",
              "      <th>p-value</th>\n",
              "    </tr>\n",
              "  </thead>\n",
              "  <tbody>\n",
              "    <tr>\n",
              "      <th>0</th>\n",
              "      <td>gender</td>\n",
              "      <td>~</td>\n",
              "      <td>Factor1</td>\n",
              "      <td>1.000000</td>\n",
              "      <td>-</td>\n",
              "      <td>-</td>\n",
              "      <td>-</td>\n",
              "    </tr>\n",
              "    <tr>\n",
              "      <th>1</th>\n",
              "      <td>age</td>\n",
              "      <td>~</td>\n",
              "      <td>Factor2</td>\n",
              "      <td>1.000000</td>\n",
              "      <td>-</td>\n",
              "      <td>-</td>\n",
              "      <td>-</td>\n",
              "    </tr>\n",
              "    <tr>\n",
              "      <th>2</th>\n",
              "      <td>sleep</td>\n",
              "      <td>~</td>\n",
              "      <td>Factor2</td>\n",
              "      <td>-0.078360</td>\n",
              "      <td>0.00464012</td>\n",
              "      <td>-16.8874</td>\n",
              "      <td>0</td>\n",
              "    </tr>\n",
              "    <tr>\n",
              "      <th>3</th>\n",
              "      <td>commute_level</td>\n",
              "      <td>~</td>\n",
              "      <td>Factor3</td>\n",
              "      <td>1.000000</td>\n",
              "      <td>-</td>\n",
              "      <td>-</td>\n",
              "      <td>-</td>\n",
              "    </tr>\n",
              "    <tr>\n",
              "      <th>4</th>\n",
              "      <td>Factor3</td>\n",
              "      <td>~~</td>\n",
              "      <td>Factor3</td>\n",
              "      <td>0.069680</td>\n",
              "      <td>0.000185271</td>\n",
              "      <td>376.095</td>\n",
              "      <td>0</td>\n",
              "    </tr>\n",
              "    <tr>\n",
              "      <th>5</th>\n",
              "      <td>Factor3</td>\n",
              "      <td>~~</td>\n",
              "      <td>Factor1</td>\n",
              "      <td>0.018892</td>\n",
              "      <td>0.00033139</td>\n",
              "      <td>57.0084</td>\n",
              "      <td>0</td>\n",
              "    </tr>\n",
              "    <tr>\n",
              "      <th>6</th>\n",
              "      <td>Factor3</td>\n",
              "      <td>~~</td>\n",
              "      <td>Factor2</td>\n",
              "      <td>-0.015956</td>\n",
              "      <td>0.000197531</td>\n",
              "      <td>-80.7771</td>\n",
              "      <td>0</td>\n",
              "    </tr>\n",
              "    <tr>\n",
              "      <th>7</th>\n",
              "      <td>Factor1</td>\n",
              "      <td>~~</td>\n",
              "      <td>Factor1</td>\n",
              "      <td>0.087340</td>\n",
              "      <td>0.000293703</td>\n",
              "      <td>297.375</td>\n",
              "      <td>0</td>\n",
              "    </tr>\n",
              "    <tr>\n",
              "      <th>8</th>\n",
              "      <td>Factor1</td>\n",
              "      <td>~~</td>\n",
              "      <td>Factor2</td>\n",
              "      <td>-0.008904</td>\n",
              "      <td>0.000246891</td>\n",
              "      <td>-36.0629</td>\n",
              "      <td>0</td>\n",
              "    </tr>\n",
              "    <tr>\n",
              "      <th>9</th>\n",
              "      <td>Factor2</td>\n",
              "      <td>~~</td>\n",
              "      <td>Factor2</td>\n",
              "      <td>0.087816</td>\n",
              "      <td>0.0051502</td>\n",
              "      <td>17.051</td>\n",
              "      <td>0</td>\n",
              "    </tr>\n",
              "    <tr>\n",
              "      <th>10</th>\n",
              "      <td>sleep</td>\n",
              "      <td>~~</td>\n",
              "      <td>sleep</td>\n",
              "      <td>0.014098</td>\n",
              "      <td>4.58326e-05</td>\n",
              "      <td>307.606</td>\n",
              "      <td>0</td>\n",
              "    </tr>\n",
              "    <tr>\n",
              "      <th>11</th>\n",
              "      <td>commute_level</td>\n",
              "      <td>~~</td>\n",
              "      <td>commute_level</td>\n",
              "      <td>0.087675</td>\n",
              "      <td>0.000185271</td>\n",
              "      <td>473.225</td>\n",
              "      <td>0</td>\n",
              "    </tr>\n",
              "    <tr>\n",
              "      <th>12</th>\n",
              "      <td>age</td>\n",
              "      <td>~~</td>\n",
              "      <td>age</td>\n",
              "      <td>0.000000</td>\n",
              "      <td>0.00514604</td>\n",
              "      <td>0</td>\n",
              "      <td>1</td>\n",
              "    </tr>\n",
              "    <tr>\n",
              "      <th>13</th>\n",
              "      <td>gender</td>\n",
              "      <td>~~</td>\n",
              "      <td>gender</td>\n",
              "      <td>0.162108</td>\n",
              "      <td>0.000293703</td>\n",
              "      <td>551.944</td>\n",
              "      <td>0</td>\n",
              "    </tr>\n",
              "  </tbody>\n",
              "</table>\n",
              "</div>"
            ],
            "text/plain": [
              "             lval  op           rval  Estimate     Std. Err  z-value p-value\n",
              "0          gender   ~        Factor1  1.000000            -        -       -\n",
              "1             age   ~        Factor2  1.000000            -        -       -\n",
              "2           sleep   ~        Factor2 -0.078360   0.00464012 -16.8874       0\n",
              "3   commute_level   ~        Factor3  1.000000            -        -       -\n",
              "4         Factor3  ~~        Factor3  0.069680  0.000185271  376.095       0\n",
              "5         Factor3  ~~        Factor1  0.018892   0.00033139  57.0084       0\n",
              "6         Factor3  ~~        Factor2 -0.015956  0.000197531 -80.7771       0\n",
              "7         Factor1  ~~        Factor1  0.087340  0.000293703  297.375       0\n",
              "8         Factor1  ~~        Factor2 -0.008904  0.000246891 -36.0629       0\n",
              "9         Factor2  ~~        Factor2  0.087816    0.0051502   17.051       0\n",
              "10          sleep  ~~          sleep  0.014098  4.58326e-05  307.606       0\n",
              "11  commute_level  ~~  commute_level  0.087675  0.000185271  473.225       0\n",
              "12            age  ~~            age  0.000000   0.00514604        0       1\n",
              "13         gender  ~~         gender  0.162108  0.000293703  551.944       0"
            ]
          },
          "metadata": {},
          "execution_count": 63
        }
      ]
    },
    {
      "cell_type": "code",
      "metadata": {
        "id": "L4-Du9B2qd5t"
      },
      "source": [
        ""
      ],
      "execution_count": null,
      "outputs": []
    },
    {
      "cell_type": "code",
      "metadata": {
        "colab": {
          "base_uri": "https://localhost:8080/"
        },
        "id": "597VBj_2vaWr",
        "outputId": "3272fe6d-00e7-4ed4-e64f-d84fe1daec9a"
      },
      "source": [
        "g = semplot(m, \"/content/drive/My Drive/SHQ/Data/e-cfa.png\")"
      ],
      "execution_count": null,
      "outputs": [
        {
          "output_type": "stream",
          "name": "stderr",
          "text": [
            "WARNING:root:Fisher Information Matrix is not PD.Moore-Penrose inverse will be used instead of Cholesky decomposition. See 10.1109/TSP.2012.2208105.\n"
          ]
        }
      ]
    },
    {
      "cell_type": "markdown",
      "metadata": {
        "id": "_CdSkwDwuOO5"
      },
      "source": [
        "# get factor score"
      ]
    },
    {
      "cell_type": "code",
      "metadata": {
        "id": "RYfLOinGuFOc"
      },
      "source": [
        "from factor_analyzer import FactorAnalyzer\n"
      ],
      "execution_count": null,
      "outputs": []
    },
    {
      "cell_type": "code",
      "metadata": {
        "id": "Ke8Y62YkuM8O"
      },
      "source": [
        "fa = FactorAnalyzer()\n",
        "#fa.set_params(n_factors='blahblahblah!', rotation='refer the docs')\n",
        "\n",
        "fa.analyze(df, n_factors=3, rotation=\"oblimin\", method='ml')\n",
        "#fa.fit(df)\n",
        "#fa.transform(df)"
      ],
      "execution_count": null,
      "outputs": []
    },
    {
      "cell_type": "code",
      "metadata": {
        "colab": {
          "base_uri": "https://localhost:8080/",
          "height": 408
        },
        "id": "3Gl9KOE-yOG3",
        "outputId": "d8d0f06e-bce8-4141-e28b-67d8b5057bc9"
      },
      "source": [
        "factor_scores = fa.get_scores(df)\n",
        "factor_scores"
      ],
      "execution_count": null,
      "outputs": [
        {
          "output_type": "execute_result",
          "data": {
            "text/html": [
              "<div>\n",
              "<style scoped>\n",
              "    .dataframe tbody tr th:only-of-type {\n",
              "        vertical-align: middle;\n",
              "    }\n",
              "\n",
              "    .dataframe tbody tr th {\n",
              "        vertical-align: top;\n",
              "    }\n",
              "\n",
              "    .dataframe thead th {\n",
              "        text-align: right;\n",
              "    }\n",
              "</style>\n",
              "<table border=\"1\" class=\"dataframe\">\n",
              "  <thead>\n",
              "    <tr style=\"text-align: right;\">\n",
              "      <th></th>\n",
              "      <th>Factor1</th>\n",
              "      <th>Factor2</th>\n",
              "      <th>Factor3</th>\n",
              "    </tr>\n",
              "  </thead>\n",
              "  <tbody>\n",
              "    <tr>\n",
              "      <th>0</th>\n",
              "      <td>-1.043892</td>\n",
              "      <td>1.139645</td>\n",
              "      <td>-0.700289</td>\n",
              "    </tr>\n",
              "    <tr>\n",
              "      <th>1</th>\n",
              "      <td>0.957154</td>\n",
              "      <td>-1.034636</td>\n",
              "      <td>0.654426</td>\n",
              "    </tr>\n",
              "    <tr>\n",
              "      <th>2</th>\n",
              "      <td>-1.041553</td>\n",
              "      <td>-0.346103</td>\n",
              "      <td>0.186113</td>\n",
              "    </tr>\n",
              "    <tr>\n",
              "      <th>3</th>\n",
              "      <td>0.954573</td>\n",
              "      <td>0.501439</td>\n",
              "      <td>0.451959</td>\n",
              "    </tr>\n",
              "    <tr>\n",
              "      <th>4</th>\n",
              "      <td>0.952795</td>\n",
              "      <td>1.074199</td>\n",
              "      <td>-0.403255</td>\n",
              "    </tr>\n",
              "    <tr>\n",
              "      <th>...</th>\n",
              "      <td>...</td>\n",
              "      <td>...</td>\n",
              "      <td>...</td>\n",
              "    </tr>\n",
              "    <tr>\n",
              "      <th>721338</th>\n",
              "      <td>0.955438</td>\n",
              "      <td>0.341113</td>\n",
              "      <td>0.298009</td>\n",
              "    </tr>\n",
              "    <tr>\n",
              "      <th>721339</th>\n",
              "      <td>0.953644</td>\n",
              "      <td>0.941057</td>\n",
              "      <td>-0.042250</td>\n",
              "    </tr>\n",
              "    <tr>\n",
              "      <th>721340</th>\n",
              "      <td>-1.043231</td>\n",
              "      <td>0.716170</td>\n",
              "      <td>-0.705603</td>\n",
              "    </tr>\n",
              "    <tr>\n",
              "      <th>721341</th>\n",
              "      <td>0.955248</td>\n",
              "      <td>0.536877</td>\n",
              "      <td>0.770695</td>\n",
              "    </tr>\n",
              "    <tr>\n",
              "      <th>721342</th>\n",
              "      <td>0.956001</td>\n",
              "      <td>0.234394</td>\n",
              "      <td>0.645459</td>\n",
              "    </tr>\n",
              "  </tbody>\n",
              "</table>\n",
              "<p>721343 rows × 3 columns</p>\n",
              "</div>"
            ],
            "text/plain": [
              "         Factor1   Factor2   Factor3\n",
              "0      -1.043892  1.139645 -0.700289\n",
              "1       0.957154 -1.034636  0.654426\n",
              "2      -1.041553 -0.346103  0.186113\n",
              "3       0.954573  0.501439  0.451959\n",
              "4       0.952795  1.074199 -0.403255\n",
              "...          ...       ...       ...\n",
              "721338  0.955438  0.341113  0.298009\n",
              "721339  0.953644  0.941057 -0.042250\n",
              "721340 -1.043231  0.716170 -0.705603\n",
              "721341  0.955248  0.536877  0.770695\n",
              "721342  0.956001  0.234394  0.645459\n",
              "\n",
              "[721343 rows x 3 columns]"
            ]
          },
          "metadata": {},
          "execution_count": 60
        }
      ]
    },
    {
      "cell_type": "code",
      "metadata": {
        "colab": {
          "base_uri": "https://localhost:8080/",
          "height": 408
        },
        "id": "hQip-lmzywbl",
        "outputId": "c1955ab8-ec15-494a-b8f6-1455936009fd"
      },
      "source": [
        "factor_scores['navigating_skills_scaled'] = df2['navigating_skills']\n",
        "factor_scores['navigating_skills'] = df0['navigating_skills']\n",
        "factor_scores"
      ],
      "execution_count": null,
      "outputs": [
        {
          "output_type": "execute_result",
          "data": {
            "text/html": [
              "<div>\n",
              "<style scoped>\n",
              "    .dataframe tbody tr th:only-of-type {\n",
              "        vertical-align: middle;\n",
              "    }\n",
              "\n",
              "    .dataframe tbody tr th {\n",
              "        vertical-align: top;\n",
              "    }\n",
              "\n",
              "    .dataframe thead th {\n",
              "        text-align: right;\n",
              "    }\n",
              "</style>\n",
              "<table border=\"1\" class=\"dataframe\">\n",
              "  <thead>\n",
              "    <tr style=\"text-align: right;\">\n",
              "      <th></th>\n",
              "      <th>Factor1</th>\n",
              "      <th>Factor2</th>\n",
              "      <th>Factor3</th>\n",
              "      <th>navigating_skills_scaled</th>\n",
              "      <th>navigating_skills</th>\n",
              "    </tr>\n",
              "  </thead>\n",
              "  <tbody>\n",
              "    <tr>\n",
              "      <th>0</th>\n",
              "      <td>-1.043892</td>\n",
              "      <td>1.139645</td>\n",
              "      <td>-0.700289</td>\n",
              "      <td>0.333333</td>\n",
              "      <td>1</td>\n",
              "    </tr>\n",
              "    <tr>\n",
              "      <th>1</th>\n",
              "      <td>0.957154</td>\n",
              "      <td>-1.034636</td>\n",
              "      <td>0.654426</td>\n",
              "      <td>1.000000</td>\n",
              "      <td>3</td>\n",
              "    </tr>\n",
              "    <tr>\n",
              "      <th>2</th>\n",
              "      <td>-1.041553</td>\n",
              "      <td>-0.346103</td>\n",
              "      <td>0.186113</td>\n",
              "      <td>0.666667</td>\n",
              "      <td>2</td>\n",
              "    </tr>\n",
              "    <tr>\n",
              "      <th>3</th>\n",
              "      <td>0.954573</td>\n",
              "      <td>0.501439</td>\n",
              "      <td>0.451959</td>\n",
              "      <td>1.000000</td>\n",
              "      <td>3</td>\n",
              "    </tr>\n",
              "    <tr>\n",
              "      <th>4</th>\n",
              "      <td>0.952795</td>\n",
              "      <td>1.074199</td>\n",
              "      <td>-0.403255</td>\n",
              "      <td>0.666667</td>\n",
              "      <td>2</td>\n",
              "    </tr>\n",
              "    <tr>\n",
              "      <th>...</th>\n",
              "      <td>...</td>\n",
              "      <td>...</td>\n",
              "      <td>...</td>\n",
              "      <td>...</td>\n",
              "      <td>...</td>\n",
              "    </tr>\n",
              "    <tr>\n",
              "      <th>721338</th>\n",
              "      <td>0.955438</td>\n",
              "      <td>0.341113</td>\n",
              "      <td>0.298009</td>\n",
              "      <td>0.666667</td>\n",
              "      <td>2</td>\n",
              "    </tr>\n",
              "    <tr>\n",
              "      <th>721339</th>\n",
              "      <td>0.953644</td>\n",
              "      <td>0.941057</td>\n",
              "      <td>-0.042250</td>\n",
              "      <td>0.666667</td>\n",
              "      <td>2</td>\n",
              "    </tr>\n",
              "    <tr>\n",
              "      <th>721340</th>\n",
              "      <td>-1.043231</td>\n",
              "      <td>0.716170</td>\n",
              "      <td>-0.705603</td>\n",
              "      <td>1.000000</td>\n",
              "      <td>3</td>\n",
              "    </tr>\n",
              "    <tr>\n",
              "      <th>721341</th>\n",
              "      <td>0.955248</td>\n",
              "      <td>0.536877</td>\n",
              "      <td>0.770695</td>\n",
              "      <td>0.666667</td>\n",
              "      <td>2</td>\n",
              "    </tr>\n",
              "    <tr>\n",
              "      <th>721342</th>\n",
              "      <td>0.956001</td>\n",
              "      <td>0.234394</td>\n",
              "      <td>0.645459</td>\n",
              "      <td>1.000000</td>\n",
              "      <td>3</td>\n",
              "    </tr>\n",
              "  </tbody>\n",
              "</table>\n",
              "<p>721343 rows × 5 columns</p>\n",
              "</div>"
            ],
            "text/plain": [
              "         Factor1   Factor2  ...  navigating_skills_scaled  navigating_skills\n",
              "0      -1.043892  1.139645  ...                  0.333333                  1\n",
              "1       0.957154 -1.034636  ...                  1.000000                  3\n",
              "2      -1.041553 -0.346103  ...                  0.666667                  2\n",
              "3       0.954573  0.501439  ...                  1.000000                  3\n",
              "4       0.952795  1.074199  ...                  0.666667                  2\n",
              "...          ...       ...  ...                       ...                ...\n",
              "721338  0.955438  0.341113  ...                  0.666667                  2\n",
              "721339  0.953644  0.941057  ...                  0.666667                  2\n",
              "721340 -1.043231  0.716170  ...                  1.000000                  3\n",
              "721341  0.955248  0.536877  ...                  0.666667                  2\n",
              "721342  0.956001  0.234394  ...                  1.000000                  3\n",
              "\n",
              "[721343 rows x 5 columns]"
            ]
          },
          "metadata": {},
          "execution_count": 63
        }
      ]
    },
    {
      "cell_type": "code",
      "metadata": {
        "id": "oZkZwtB2zqP5"
      },
      "source": [
        "factor_scores.to_csv('/content/drive/My Drive/SHQ/Data/factor_scores.csv', index=False)"
      ],
      "execution_count": null,
      "outputs": []
    },
    {
      "cell_type": "code",
      "metadata": {
        "id": "SeFNFQzmQmzF"
      },
      "source": [
        "factor_scores = pd.read_csv('/content/drive/My Drive/SHQ/Data/factor_scores.csv')"
      ],
      "execution_count": null,
      "outputs": []
    },
    {
      "cell_type": "code",
      "metadata": {
        "colab": {
          "base_uri": "https://localhost:8080/",
          "height": 408
        },
        "id": "CyrkEdKUQsaw",
        "outputId": "84823e28-927b-4046-81be-61863aeacab8"
      },
      "source": [
        "factor_scores"
      ],
      "execution_count": null,
      "outputs": [
        {
          "output_type": "execute_result",
          "data": {
            "text/html": [
              "<div>\n",
              "<style scoped>\n",
              "    .dataframe tbody tr th:only-of-type {\n",
              "        vertical-align: middle;\n",
              "    }\n",
              "\n",
              "    .dataframe tbody tr th {\n",
              "        vertical-align: top;\n",
              "    }\n",
              "\n",
              "    .dataframe thead th {\n",
              "        text-align: right;\n",
              "    }\n",
              "</style>\n",
              "<table border=\"1\" class=\"dataframe\">\n",
              "  <thead>\n",
              "    <tr style=\"text-align: right;\">\n",
              "      <th></th>\n",
              "      <th>Factor1</th>\n",
              "      <th>Factor2</th>\n",
              "      <th>Factor3</th>\n",
              "      <th>navigating_skills_scaled</th>\n",
              "      <th>navigating_skills</th>\n",
              "    </tr>\n",
              "  </thead>\n",
              "  <tbody>\n",
              "    <tr>\n",
              "      <th>0</th>\n",
              "      <td>-1.043892</td>\n",
              "      <td>1.139645</td>\n",
              "      <td>-0.700289</td>\n",
              "      <td>0.333333</td>\n",
              "      <td>1</td>\n",
              "    </tr>\n",
              "    <tr>\n",
              "      <th>1</th>\n",
              "      <td>0.957154</td>\n",
              "      <td>-1.034636</td>\n",
              "      <td>0.654426</td>\n",
              "      <td>1.000000</td>\n",
              "      <td>3</td>\n",
              "    </tr>\n",
              "    <tr>\n",
              "      <th>2</th>\n",
              "      <td>-1.041553</td>\n",
              "      <td>-0.346103</td>\n",
              "      <td>0.186113</td>\n",
              "      <td>0.666667</td>\n",
              "      <td>2</td>\n",
              "    </tr>\n",
              "    <tr>\n",
              "      <th>3</th>\n",
              "      <td>0.954573</td>\n",
              "      <td>0.501439</td>\n",
              "      <td>0.451959</td>\n",
              "      <td>1.000000</td>\n",
              "      <td>3</td>\n",
              "    </tr>\n",
              "    <tr>\n",
              "      <th>4</th>\n",
              "      <td>0.952795</td>\n",
              "      <td>1.074199</td>\n",
              "      <td>-0.403255</td>\n",
              "      <td>0.666667</td>\n",
              "      <td>2</td>\n",
              "    </tr>\n",
              "    <tr>\n",
              "      <th>...</th>\n",
              "      <td>...</td>\n",
              "      <td>...</td>\n",
              "      <td>...</td>\n",
              "      <td>...</td>\n",
              "      <td>...</td>\n",
              "    </tr>\n",
              "    <tr>\n",
              "      <th>721338</th>\n",
              "      <td>0.955438</td>\n",
              "      <td>0.341113</td>\n",
              "      <td>0.298009</td>\n",
              "      <td>0.666667</td>\n",
              "      <td>2</td>\n",
              "    </tr>\n",
              "    <tr>\n",
              "      <th>721339</th>\n",
              "      <td>0.953644</td>\n",
              "      <td>0.941057</td>\n",
              "      <td>-0.042250</td>\n",
              "      <td>0.666667</td>\n",
              "      <td>2</td>\n",
              "    </tr>\n",
              "    <tr>\n",
              "      <th>721340</th>\n",
              "      <td>-1.043231</td>\n",
              "      <td>0.716170</td>\n",
              "      <td>-0.705603</td>\n",
              "      <td>1.000000</td>\n",
              "      <td>3</td>\n",
              "    </tr>\n",
              "    <tr>\n",
              "      <th>721341</th>\n",
              "      <td>0.955248</td>\n",
              "      <td>0.536877</td>\n",
              "      <td>0.770695</td>\n",
              "      <td>0.666667</td>\n",
              "      <td>2</td>\n",
              "    </tr>\n",
              "    <tr>\n",
              "      <th>721342</th>\n",
              "      <td>0.956001</td>\n",
              "      <td>0.234394</td>\n",
              "      <td>0.645459</td>\n",
              "      <td>1.000000</td>\n",
              "      <td>3</td>\n",
              "    </tr>\n",
              "  </tbody>\n",
              "</table>\n",
              "<p>721343 rows × 5 columns</p>\n",
              "</div>"
            ],
            "text/plain": [
              "         Factor1   Factor2  ...  navigating_skills_scaled  navigating_skills\n",
              "0      -1.043892  1.139645  ...                  0.333333                  1\n",
              "1       0.957154 -1.034636  ...                  1.000000                  3\n",
              "2      -1.041553 -0.346103  ...                  0.666667                  2\n",
              "3       0.954573  0.501439  ...                  1.000000                  3\n",
              "4       0.952795  1.074199  ...                  0.666667                  2\n",
              "...          ...       ...  ...                       ...                ...\n",
              "721338  0.955438  0.341113  ...                  0.666667                  2\n",
              "721339  0.953644  0.941057  ...                  0.666667                  2\n",
              "721340 -1.043231  0.716170  ...                  1.000000                  3\n",
              "721341  0.955248  0.536877  ...                  0.666667                  2\n",
              "721342  0.956001  0.234394  ...                  1.000000                  3\n",
              "\n",
              "[721343 rows x 5 columns]"
            ]
          },
          "metadata": {},
          "execution_count": 5
        }
      ]
    }
  ]
}