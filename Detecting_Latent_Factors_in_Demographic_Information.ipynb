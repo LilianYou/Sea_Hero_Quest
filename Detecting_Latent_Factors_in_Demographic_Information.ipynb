{
  "nbformat": 4,
  "nbformat_minor": 0,
  "metadata": {
    "colab": {
      "name": "Detecting Latent Factors in Demographic Information.ipynb",
      "provenance": [],
      "authorship_tag": "ABX9TyMX0prWlKmR6ItspYw5GKDT",
      "include_colab_link": true
    },
    "kernelspec": {
      "name": "python3",
      "display_name": "Python 3"
    },
    "language_info": {
      "name": "python"
    }
  },
  "cells": [
    {
      "cell_type": "markdown",
      "metadata": {
        "id": "view-in-github",
        "colab_type": "text"
      },
      "source": [
        "<a href=\"https://colab.research.google.com/github/LilianYou/Sea_Hero_Quest/blob/main/Detecting_Latent_Factors_in_Demographic_Information.ipynb\" target=\"_parent\"><img src=\"https://colab.research.google.com/assets/colab-badge.svg\" alt=\"Open In Colab\"/></a>"
      ]
    },
    {
      "cell_type": "markdown",
      "metadata": {
        "id": "3bgNuuHSsiHT"
      },
      "source": [
        "## read data"
      ]
    },
    {
      "cell_type": "code",
      "metadata": {
        "colab": {
          "base_uri": "https://localhost:8080/"
        },
        "id": "F1_Bt6h-sbqe",
        "outputId": "f81ec506-41ed-4ecf-e913-38dea4e0f499"
      },
      "source": [
        "from google.colab import drive\n",
        "import pandas as pd\n",
        "import numpy as np\n",
        "import seaborn as sns\n",
        "import matplotlib.pyplot as plt\n",
        "drive.mount('/content/drive')"
      ],
      "execution_count": 3,
      "outputs": [
        {
          "output_type": "stream",
          "name": "stdout",
          "text": [
            "Drive already mounted at /content/drive; to attempt to forcibly remount, call drive.mount(\"/content/drive\", force_remount=True).\n"
          ]
        }
      ]
    },
    {
      "cell_type": "code",
      "metadata": {
        "id": "MLWXbF3msrE3"
      },
      "source": [
        "df_raw = pd.read_csv('/content/drive/My Drive/SHQ/Data/2019_cleaned_demographics.csv')"
      ],
      "execution_count": 4,
      "outputs": []
    },
    {
      "cell_type": "code",
      "metadata": {
        "colab": {
          "base_uri": "https://localhost:8080/"
        },
        "id": "G_3B_yYFstA_",
        "outputId": "79559097-51f1-4647-8f77-070d73594490"
      },
      "source": [
        "df_raw.info()"
      ],
      "execution_count": 5,
      "outputs": [
        {
          "output_type": "stream",
          "name": "stdout",
          "text": [
            "<class 'pandas.core.frame.DataFrame'>\n",
            "RangeIndex: 909456 entries, 0 to 909455\n",
            "Data columns (total 9 columns):\n",
            " #   Column             Non-Null Count   Dtype  \n",
            "---  ------             --------------   -----  \n",
            " 0   uuid               909456 non-null  object \n",
            " 1   age                909456 non-null  float64\n",
            " 2   gender             909456 non-null  int64  \n",
            " 3   hand               909456 non-null  int64  \n",
            " 4   navigating_skills  909456 non-null  int64  \n",
            " 5   sleep              909456 non-null  float64\n",
            " 6   edu_level          909456 non-null  int64  \n",
            " 7   commute_level      909456 non-null  int64  \n",
            " 8   home_env           909456 non-null  int64  \n",
            "dtypes: float64(2), int64(6), object(1)\n",
            "memory usage: 62.4+ MB\n"
          ]
        }
      ]
    },
    {
      "cell_type": "code",
      "metadata": {
        "colab": {
          "base_uri": "https://localhost:8080/",
          "height": 290
        },
        "id": "xdzKuP6asx8s",
        "outputId": "6b237d10-a7ff-4194-cef9-e98b8cf1e424"
      },
      "source": [
        "df_raw.describe()"
      ],
      "execution_count": 6,
      "outputs": [
        {
          "output_type": "execute_result",
          "data": {
            "text/html": [
              "<div>\n",
              "<style scoped>\n",
              "    .dataframe tbody tr th:only-of-type {\n",
              "        vertical-align: middle;\n",
              "    }\n",
              "\n",
              "    .dataframe tbody tr th {\n",
              "        vertical-align: top;\n",
              "    }\n",
              "\n",
              "    .dataframe thead th {\n",
              "        text-align: right;\n",
              "    }\n",
              "</style>\n",
              "<table border=\"1\" class=\"dataframe\">\n",
              "  <thead>\n",
              "    <tr style=\"text-align: right;\">\n",
              "      <th></th>\n",
              "      <th>age</th>\n",
              "      <th>gender</th>\n",
              "      <th>hand</th>\n",
              "      <th>navigating_skills</th>\n",
              "      <th>sleep</th>\n",
              "      <th>edu_level</th>\n",
              "      <th>commute_level</th>\n",
              "      <th>home_env</th>\n",
              "    </tr>\n",
              "  </thead>\n",
              "  <tbody>\n",
              "    <tr>\n",
              "      <th>count</th>\n",
              "      <td>909456.000000</td>\n",
              "      <td>909456.000000</td>\n",
              "      <td>909456.000000</td>\n",
              "      <td>909456.000000</td>\n",
              "      <td>909456.000000</td>\n",
              "      <td>909456.000000</td>\n",
              "      <td>909456.000000</td>\n",
              "      <td>909456.000000</td>\n",
              "    </tr>\n",
              "    <tr>\n",
              "      <th>mean</th>\n",
              "      <td>35.515352</td>\n",
              "      <td>0.523502</td>\n",
              "      <td>0.100805</td>\n",
              "      <td>2.157182</td>\n",
              "      <td>7.097244</td>\n",
              "      <td>0.647577</td>\n",
              "      <td>0.860966</td>\n",
              "      <td>1.139651</td>\n",
              "    </tr>\n",
              "    <tr>\n",
              "      <th>std</th>\n",
              "      <td>15.296664</td>\n",
              "      <td>0.499448</td>\n",
              "      <td>0.301071</td>\n",
              "      <td>0.690245</td>\n",
              "      <td>1.333995</td>\n",
              "      <td>0.477725</td>\n",
              "      <td>0.792536</td>\n",
              "      <td>0.681060</td>\n",
              "    </tr>\n",
              "    <tr>\n",
              "      <th>min</th>\n",
              "      <td>18.000000</td>\n",
              "      <td>0.000000</td>\n",
              "      <td>0.000000</td>\n",
              "      <td>0.000000</td>\n",
              "      <td>1.000000</td>\n",
              "      <td>0.000000</td>\n",
              "      <td>0.000000</td>\n",
              "      <td>0.000000</td>\n",
              "    </tr>\n",
              "    <tr>\n",
              "      <th>25%</th>\n",
              "      <td>21.000000</td>\n",
              "      <td>0.000000</td>\n",
              "      <td>0.000000</td>\n",
              "      <td>2.000000</td>\n",
              "      <td>6.000000</td>\n",
              "      <td>0.000000</td>\n",
              "      <td>0.000000</td>\n",
              "      <td>1.000000</td>\n",
              "    </tr>\n",
              "    <tr>\n",
              "      <th>50%</th>\n",
              "      <td>32.000000</td>\n",
              "      <td>1.000000</td>\n",
              "      <td>0.000000</td>\n",
              "      <td>2.000000</td>\n",
              "      <td>7.000000</td>\n",
              "      <td>1.000000</td>\n",
              "      <td>1.000000</td>\n",
              "      <td>1.000000</td>\n",
              "    </tr>\n",
              "    <tr>\n",
              "      <th>75%</th>\n",
              "      <td>48.000000</td>\n",
              "      <td>1.000000</td>\n",
              "      <td>0.000000</td>\n",
              "      <td>3.000000</td>\n",
              "      <td>8.000000</td>\n",
              "      <td>1.000000</td>\n",
              "      <td>2.000000</td>\n",
              "      <td>2.000000</td>\n",
              "    </tr>\n",
              "    <tr>\n",
              "      <th>max</th>\n",
              "      <td>70.000000</td>\n",
              "      <td>1.000000</td>\n",
              "      <td>1.000000</td>\n",
              "      <td>3.000000</td>\n",
              "      <td>12.000000</td>\n",
              "      <td>1.000000</td>\n",
              "      <td>2.000000</td>\n",
              "      <td>2.000000</td>\n",
              "    </tr>\n",
              "  </tbody>\n",
              "</table>\n",
              "</div>"
            ],
            "text/plain": [
              "                 age         gender  ...  commute_level       home_env\n",
              "count  909456.000000  909456.000000  ...  909456.000000  909456.000000\n",
              "mean       35.515352       0.523502  ...       0.860966       1.139651\n",
              "std        15.296664       0.499448  ...       0.792536       0.681060\n",
              "min        18.000000       0.000000  ...       0.000000       0.000000\n",
              "25%        21.000000       0.000000  ...       0.000000       1.000000\n",
              "50%        32.000000       1.000000  ...       1.000000       1.000000\n",
              "75%        48.000000       1.000000  ...       2.000000       2.000000\n",
              "max        70.000000       1.000000  ...       2.000000       2.000000\n",
              "\n",
              "[8 rows x 8 columns]"
            ]
          },
          "metadata": {},
          "execution_count": 6
        }
      ]
    },
    {
      "cell_type": "code",
      "metadata": {
        "id": "hgdobh87s4ov"
      },
      "source": [
        "df = df_raw.copy()"
      ],
      "execution_count": 7,
      "outputs": []
    },
    {
      "cell_type": "markdown",
      "metadata": {
        "id": "sDHXOFyas9Sw"
      },
      "source": [
        "#Step 1. Bivariate Correlation"
      ]
    },
    {
      "cell_type": "code",
      "metadata": {
        "colab": {
          "base_uri": "https://localhost:8080/",
          "height": 408
        },
        "id": "X3-ZyjkktEwI",
        "outputId": "25a2d241-89c5-4423-b45a-92ef094e8428"
      },
      "source": [
        "df"
      ],
      "execution_count": 8,
      "outputs": [
        {
          "output_type": "execute_result",
          "data": {
            "text/html": [
              "<div>\n",
              "<style scoped>\n",
              "    .dataframe tbody tr th:only-of-type {\n",
              "        vertical-align: middle;\n",
              "    }\n",
              "\n",
              "    .dataframe tbody tr th {\n",
              "        vertical-align: top;\n",
              "    }\n",
              "\n",
              "    .dataframe thead th {\n",
              "        text-align: right;\n",
              "    }\n",
              "</style>\n",
              "<table border=\"1\" class=\"dataframe\">\n",
              "  <thead>\n",
              "    <tr style=\"text-align: right;\">\n",
              "      <th></th>\n",
              "      <th>uuid</th>\n",
              "      <th>age</th>\n",
              "      <th>gender</th>\n",
              "      <th>hand</th>\n",
              "      <th>navigating_skills</th>\n",
              "      <th>sleep</th>\n",
              "      <th>edu_level</th>\n",
              "      <th>commute_level</th>\n",
              "      <th>home_env</th>\n",
              "    </tr>\n",
              "  </thead>\n",
              "  <tbody>\n",
              "    <tr>\n",
              "      <th>0</th>\n",
              "      <td>30a73f52-9bfd-4310-b284-58a896428c0a</td>\n",
              "      <td>68.0</td>\n",
              "      <td>0</td>\n",
              "      <td>0</td>\n",
              "      <td>1</td>\n",
              "      <td>8.0</td>\n",
              "      <td>1</td>\n",
              "      <td>0</td>\n",
              "      <td>2</td>\n",
              "    </tr>\n",
              "    <tr>\n",
              "      <th>1</th>\n",
              "      <td>e1cecc23-b523-42f8-9b58-520ae053b48e</td>\n",
              "      <td>18.0</td>\n",
              "      <td>1</td>\n",
              "      <td>1</td>\n",
              "      <td>2</td>\n",
              "      <td>7.0</td>\n",
              "      <td>0</td>\n",
              "      <td>0</td>\n",
              "      <td>1</td>\n",
              "    </tr>\n",
              "    <tr>\n",
              "      <th>2</th>\n",
              "      <td>630e35e4-5e01-4031-9cfa-e555e06ca152</td>\n",
              "      <td>18.0</td>\n",
              "      <td>1</td>\n",
              "      <td>1</td>\n",
              "      <td>3</td>\n",
              "      <td>7.0</td>\n",
              "      <td>0</td>\n",
              "      <td>2</td>\n",
              "      <td>2</td>\n",
              "    </tr>\n",
              "    <tr>\n",
              "      <th>3</th>\n",
              "      <td>01a3a9d6-e579-40fc-ab44-085bdb397a83</td>\n",
              "      <td>21.0</td>\n",
              "      <td>0</td>\n",
              "      <td>0</td>\n",
              "      <td>2</td>\n",
              "      <td>7.0</td>\n",
              "      <td>1</td>\n",
              "      <td>1</td>\n",
              "      <td>1</td>\n",
              "    </tr>\n",
              "    <tr>\n",
              "      <th>4</th>\n",
              "      <td>65ce6dcb-6668-445d-9c2f-479f83e73ba5</td>\n",
              "      <td>36.0</td>\n",
              "      <td>1</td>\n",
              "      <td>0</td>\n",
              "      <td>3</td>\n",
              "      <td>5.0</td>\n",
              "      <td>1</td>\n",
              "      <td>1</td>\n",
              "      <td>0</td>\n",
              "    </tr>\n",
              "    <tr>\n",
              "      <th>...</th>\n",
              "      <td>...</td>\n",
              "      <td>...</td>\n",
              "      <td>...</td>\n",
              "      <td>...</td>\n",
              "      <td>...</td>\n",
              "      <td>...</td>\n",
              "      <td>...</td>\n",
              "      <td>...</td>\n",
              "      <td>...</td>\n",
              "    </tr>\n",
              "    <tr>\n",
              "      <th>909451</th>\n",
              "      <td>65f025b9-0c49-4c91-9a62-39a4176275bc</td>\n",
              "      <td>50.0</td>\n",
              "      <td>1</td>\n",
              "      <td>1</td>\n",
              "      <td>2</td>\n",
              "      <td>6.0</td>\n",
              "      <td>0</td>\n",
              "      <td>2</td>\n",
              "      <td>0</td>\n",
              "    </tr>\n",
              "    <tr>\n",
              "      <th>909452</th>\n",
              "      <td>3d8fbb2c-c658-4305-a97a-23d25d36843f</td>\n",
              "      <td>68.0</td>\n",
              "      <td>1</td>\n",
              "      <td>0</td>\n",
              "      <td>2</td>\n",
              "      <td>8.0</td>\n",
              "      <td>1</td>\n",
              "      <td>1</td>\n",
              "      <td>2</td>\n",
              "    </tr>\n",
              "    <tr>\n",
              "      <th>909453</th>\n",
              "      <td>c7588ab8-cdaa-48fa-9e1c-e81a36d085c4</td>\n",
              "      <td>59.0</td>\n",
              "      <td>0</td>\n",
              "      <td>0</td>\n",
              "      <td>3</td>\n",
              "      <td>7.0</td>\n",
              "      <td>0</td>\n",
              "      <td>0</td>\n",
              "      <td>2</td>\n",
              "    </tr>\n",
              "    <tr>\n",
              "      <th>909454</th>\n",
              "      <td>f810f840-63b0-422b-8fc9-c160113bc481</td>\n",
              "      <td>48.0</td>\n",
              "      <td>1</td>\n",
              "      <td>0</td>\n",
              "      <td>2</td>\n",
              "      <td>6.0</td>\n",
              "      <td>1</td>\n",
              "      <td>2</td>\n",
              "      <td>1</td>\n",
              "    </tr>\n",
              "    <tr>\n",
              "      <th>909455</th>\n",
              "      <td>884104c6-5f35-4e02-8f54-e28618cff129</td>\n",
              "      <td>47.0</td>\n",
              "      <td>1</td>\n",
              "      <td>1</td>\n",
              "      <td>3</td>\n",
              "      <td>7.0</td>\n",
              "      <td>1</td>\n",
              "      <td>2</td>\n",
              "      <td>2</td>\n",
              "    </tr>\n",
              "  </tbody>\n",
              "</table>\n",
              "<p>909456 rows × 9 columns</p>\n",
              "</div>"
            ],
            "text/plain": [
              "                                        uuid   age  ...  commute_level  home_env\n",
              "0       30a73f52-9bfd-4310-b284-58a896428c0a  68.0  ...              0         2\n",
              "1       e1cecc23-b523-42f8-9b58-520ae053b48e  18.0  ...              0         1\n",
              "2       630e35e4-5e01-4031-9cfa-e555e06ca152  18.0  ...              2         2\n",
              "3       01a3a9d6-e579-40fc-ab44-085bdb397a83  21.0  ...              1         1\n",
              "4       65ce6dcb-6668-445d-9c2f-479f83e73ba5  36.0  ...              1         0\n",
              "...                                      ...   ...  ...            ...       ...\n",
              "909451  65f025b9-0c49-4c91-9a62-39a4176275bc  50.0  ...              2         0\n",
              "909452  3d8fbb2c-c658-4305-a97a-23d25d36843f  68.0  ...              1         2\n",
              "909453  c7588ab8-cdaa-48fa-9e1c-e81a36d085c4  59.0  ...              0         2\n",
              "909454  f810f840-63b0-422b-8fc9-c160113bc481  48.0  ...              2         1\n",
              "909455  884104c6-5f35-4e02-8f54-e28618cff129  47.0  ...              2         2\n",
              "\n",
              "[909456 rows x 9 columns]"
            ]
          },
          "metadata": {},
          "execution_count": 8
        }
      ]
    },
    {
      "cell_type": "code",
      "metadata": {
        "id": "_Irl03KKtGec"
      },
      "source": [
        "df_model = df.copy()"
      ],
      "execution_count": 9,
      "outputs": []
    },
    {
      "cell_type": "code",
      "metadata": {
        "colab": {
          "base_uri": "https://localhost:8080/",
          "height": 408
        },
        "id": "mYQp3e6NtKOb",
        "outputId": "dc54ef1b-860c-4a36-993a-c99b2dd2bb5b"
      },
      "source": [
        "df_model"
      ],
      "execution_count": 10,
      "outputs": [
        {
          "output_type": "execute_result",
          "data": {
            "text/html": [
              "<div>\n",
              "<style scoped>\n",
              "    .dataframe tbody tr th:only-of-type {\n",
              "        vertical-align: middle;\n",
              "    }\n",
              "\n",
              "    .dataframe tbody tr th {\n",
              "        vertical-align: top;\n",
              "    }\n",
              "\n",
              "    .dataframe thead th {\n",
              "        text-align: right;\n",
              "    }\n",
              "</style>\n",
              "<table border=\"1\" class=\"dataframe\">\n",
              "  <thead>\n",
              "    <tr style=\"text-align: right;\">\n",
              "      <th></th>\n",
              "      <th>uuid</th>\n",
              "      <th>age</th>\n",
              "      <th>gender</th>\n",
              "      <th>hand</th>\n",
              "      <th>navigating_skills</th>\n",
              "      <th>sleep</th>\n",
              "      <th>edu_level</th>\n",
              "      <th>commute_level</th>\n",
              "      <th>home_env</th>\n",
              "    </tr>\n",
              "  </thead>\n",
              "  <tbody>\n",
              "    <tr>\n",
              "      <th>0</th>\n",
              "      <td>30a73f52-9bfd-4310-b284-58a896428c0a</td>\n",
              "      <td>68.0</td>\n",
              "      <td>0</td>\n",
              "      <td>0</td>\n",
              "      <td>1</td>\n",
              "      <td>8.0</td>\n",
              "      <td>1</td>\n",
              "      <td>0</td>\n",
              "      <td>2</td>\n",
              "    </tr>\n",
              "    <tr>\n",
              "      <th>1</th>\n",
              "      <td>e1cecc23-b523-42f8-9b58-520ae053b48e</td>\n",
              "      <td>18.0</td>\n",
              "      <td>1</td>\n",
              "      <td>1</td>\n",
              "      <td>2</td>\n",
              "      <td>7.0</td>\n",
              "      <td>0</td>\n",
              "      <td>0</td>\n",
              "      <td>1</td>\n",
              "    </tr>\n",
              "    <tr>\n",
              "      <th>2</th>\n",
              "      <td>630e35e4-5e01-4031-9cfa-e555e06ca152</td>\n",
              "      <td>18.0</td>\n",
              "      <td>1</td>\n",
              "      <td>1</td>\n",
              "      <td>3</td>\n",
              "      <td>7.0</td>\n",
              "      <td>0</td>\n",
              "      <td>2</td>\n",
              "      <td>2</td>\n",
              "    </tr>\n",
              "    <tr>\n",
              "      <th>3</th>\n",
              "      <td>01a3a9d6-e579-40fc-ab44-085bdb397a83</td>\n",
              "      <td>21.0</td>\n",
              "      <td>0</td>\n",
              "      <td>0</td>\n",
              "      <td>2</td>\n",
              "      <td>7.0</td>\n",
              "      <td>1</td>\n",
              "      <td>1</td>\n",
              "      <td>1</td>\n",
              "    </tr>\n",
              "    <tr>\n",
              "      <th>4</th>\n",
              "      <td>65ce6dcb-6668-445d-9c2f-479f83e73ba5</td>\n",
              "      <td>36.0</td>\n",
              "      <td>1</td>\n",
              "      <td>0</td>\n",
              "      <td>3</td>\n",
              "      <td>5.0</td>\n",
              "      <td>1</td>\n",
              "      <td>1</td>\n",
              "      <td>0</td>\n",
              "    </tr>\n",
              "    <tr>\n",
              "      <th>...</th>\n",
              "      <td>...</td>\n",
              "      <td>...</td>\n",
              "      <td>...</td>\n",
              "      <td>...</td>\n",
              "      <td>...</td>\n",
              "      <td>...</td>\n",
              "      <td>...</td>\n",
              "      <td>...</td>\n",
              "      <td>...</td>\n",
              "    </tr>\n",
              "    <tr>\n",
              "      <th>909451</th>\n",
              "      <td>65f025b9-0c49-4c91-9a62-39a4176275bc</td>\n",
              "      <td>50.0</td>\n",
              "      <td>1</td>\n",
              "      <td>1</td>\n",
              "      <td>2</td>\n",
              "      <td>6.0</td>\n",
              "      <td>0</td>\n",
              "      <td>2</td>\n",
              "      <td>0</td>\n",
              "    </tr>\n",
              "    <tr>\n",
              "      <th>909452</th>\n",
              "      <td>3d8fbb2c-c658-4305-a97a-23d25d36843f</td>\n",
              "      <td>68.0</td>\n",
              "      <td>1</td>\n",
              "      <td>0</td>\n",
              "      <td>2</td>\n",
              "      <td>8.0</td>\n",
              "      <td>1</td>\n",
              "      <td>1</td>\n",
              "      <td>2</td>\n",
              "    </tr>\n",
              "    <tr>\n",
              "      <th>909453</th>\n",
              "      <td>c7588ab8-cdaa-48fa-9e1c-e81a36d085c4</td>\n",
              "      <td>59.0</td>\n",
              "      <td>0</td>\n",
              "      <td>0</td>\n",
              "      <td>3</td>\n",
              "      <td>7.0</td>\n",
              "      <td>0</td>\n",
              "      <td>0</td>\n",
              "      <td>2</td>\n",
              "    </tr>\n",
              "    <tr>\n",
              "      <th>909454</th>\n",
              "      <td>f810f840-63b0-422b-8fc9-c160113bc481</td>\n",
              "      <td>48.0</td>\n",
              "      <td>1</td>\n",
              "      <td>0</td>\n",
              "      <td>2</td>\n",
              "      <td>6.0</td>\n",
              "      <td>1</td>\n",
              "      <td>2</td>\n",
              "      <td>1</td>\n",
              "    </tr>\n",
              "    <tr>\n",
              "      <th>909455</th>\n",
              "      <td>884104c6-5f35-4e02-8f54-e28618cff129</td>\n",
              "      <td>47.0</td>\n",
              "      <td>1</td>\n",
              "      <td>1</td>\n",
              "      <td>3</td>\n",
              "      <td>7.0</td>\n",
              "      <td>1</td>\n",
              "      <td>2</td>\n",
              "      <td>2</td>\n",
              "    </tr>\n",
              "  </tbody>\n",
              "</table>\n",
              "<p>909456 rows × 9 columns</p>\n",
              "</div>"
            ],
            "text/plain": [
              "                                        uuid   age  ...  commute_level  home_env\n",
              "0       30a73f52-9bfd-4310-b284-58a896428c0a  68.0  ...              0         2\n",
              "1       e1cecc23-b523-42f8-9b58-520ae053b48e  18.0  ...              0         1\n",
              "2       630e35e4-5e01-4031-9cfa-e555e06ca152  18.0  ...              2         2\n",
              "3       01a3a9d6-e579-40fc-ab44-085bdb397a83  21.0  ...              1         1\n",
              "4       65ce6dcb-6668-445d-9c2f-479f83e73ba5  36.0  ...              1         0\n",
              "...                                      ...   ...  ...            ...       ...\n",
              "909451  65f025b9-0c49-4c91-9a62-39a4176275bc  50.0  ...              2         0\n",
              "909452  3d8fbb2c-c658-4305-a97a-23d25d36843f  68.0  ...              1         2\n",
              "909453  c7588ab8-cdaa-48fa-9e1c-e81a36d085c4  59.0  ...              0         2\n",
              "909454  f810f840-63b0-422b-8fc9-c160113bc481  48.0  ...              2         1\n",
              "909455  884104c6-5f35-4e02-8f54-e28618cff129  47.0  ...              2         2\n",
              "\n",
              "[909456 rows x 9 columns]"
            ]
          },
          "metadata": {},
          "execution_count": 10
        }
      ]
    },
    {
      "cell_type": "code",
      "metadata": {
        "colab": {
          "base_uri": "https://localhost:8080/",
          "height": 290
        },
        "id": "JSz4qSM4tNlp",
        "outputId": "e033d24c-54d8-4289-d277-88feaaecbcd0"
      },
      "source": [
        "df_model.corr(method= 'spearman')"
      ],
      "execution_count": 11,
      "outputs": [
        {
          "output_type": "execute_result",
          "data": {
            "text/html": [
              "<div>\n",
              "<style scoped>\n",
              "    .dataframe tbody tr th:only-of-type {\n",
              "        vertical-align: middle;\n",
              "    }\n",
              "\n",
              "    .dataframe tbody tr th {\n",
              "        vertical-align: top;\n",
              "    }\n",
              "\n",
              "    .dataframe thead th {\n",
              "        text-align: right;\n",
              "    }\n",
              "</style>\n",
              "<table border=\"1\" class=\"dataframe\">\n",
              "  <thead>\n",
              "    <tr style=\"text-align: right;\">\n",
              "      <th></th>\n",
              "      <th>age</th>\n",
              "      <th>gender</th>\n",
              "      <th>hand</th>\n",
              "      <th>navigating_skills</th>\n",
              "      <th>sleep</th>\n",
              "      <th>edu_level</th>\n",
              "      <th>commute_level</th>\n",
              "      <th>home_env</th>\n",
              "    </tr>\n",
              "  </thead>\n",
              "  <tbody>\n",
              "    <tr>\n",
              "      <th>age</th>\n",
              "      <td>1.000000</td>\n",
              "      <td>-0.038304</td>\n",
              "      <td>-0.017071</td>\n",
              "      <td>0.033042</td>\n",
              "      <td>-0.215235</td>\n",
              "      <td>0.199023</td>\n",
              "      <td>-0.120294</td>\n",
              "      <td>-0.049480</td>\n",
              "    </tr>\n",
              "    <tr>\n",
              "      <th>gender</th>\n",
              "      <td>-0.038304</td>\n",
              "      <td>1.000000</td>\n",
              "      <td>0.031973</td>\n",
              "      <td>0.226121</td>\n",
              "      <td>-0.044463</td>\n",
              "      <td>-0.012156</td>\n",
              "      <td>0.098331</td>\n",
              "      <td>0.046558</td>\n",
              "    </tr>\n",
              "    <tr>\n",
              "      <th>hand</th>\n",
              "      <td>-0.017071</td>\n",
              "      <td>0.031973</td>\n",
              "      <td>1.000000</td>\n",
              "      <td>0.001885</td>\n",
              "      <td>0.005509</td>\n",
              "      <td>-0.010738</td>\n",
              "      <td>-0.012994</td>\n",
              "      <td>-0.014665</td>\n",
              "    </tr>\n",
              "    <tr>\n",
              "      <th>navigating_skills</th>\n",
              "      <td>0.033042</td>\n",
              "      <td>0.226121</td>\n",
              "      <td>0.001885</td>\n",
              "      <td>1.000000</td>\n",
              "      <td>0.005942</td>\n",
              "      <td>0.033837</td>\n",
              "      <td>0.104755</td>\n",
              "      <td>0.000013</td>\n",
              "    </tr>\n",
              "    <tr>\n",
              "      <th>sleep</th>\n",
              "      <td>-0.215235</td>\n",
              "      <td>-0.044463</td>\n",
              "      <td>0.005509</td>\n",
              "      <td>0.005942</td>\n",
              "      <td>1.000000</td>\n",
              "      <td>-0.098573</td>\n",
              "      <td>-0.051843</td>\n",
              "      <td>0.006560</td>\n",
              "    </tr>\n",
              "    <tr>\n",
              "      <th>edu_level</th>\n",
              "      <td>0.199023</td>\n",
              "      <td>-0.012156</td>\n",
              "      <td>-0.010738</td>\n",
              "      <td>0.033837</td>\n",
              "      <td>-0.098573</td>\n",
              "      <td>1.000000</td>\n",
              "      <td>0.011680</td>\n",
              "      <td>0.012358</td>\n",
              "    </tr>\n",
              "    <tr>\n",
              "      <th>commute_level</th>\n",
              "      <td>-0.120294</td>\n",
              "      <td>0.098331</td>\n",
              "      <td>-0.012994</td>\n",
              "      <td>0.104755</td>\n",
              "      <td>-0.051843</td>\n",
              "      <td>0.011680</td>\n",
              "      <td>1.000000</td>\n",
              "      <td>0.058622</td>\n",
              "    </tr>\n",
              "    <tr>\n",
              "      <th>home_env</th>\n",
              "      <td>-0.049480</td>\n",
              "      <td>0.046558</td>\n",
              "      <td>-0.014665</td>\n",
              "      <td>0.000013</td>\n",
              "      <td>0.006560</td>\n",
              "      <td>0.012358</td>\n",
              "      <td>0.058622</td>\n",
              "      <td>1.000000</td>\n",
              "    </tr>\n",
              "  </tbody>\n",
              "</table>\n",
              "</div>"
            ],
            "text/plain": [
              "                        age    gender  ...  commute_level  home_env\n",
              "age                1.000000 -0.038304  ...      -0.120294 -0.049480\n",
              "gender            -0.038304  1.000000  ...       0.098331  0.046558\n",
              "hand              -0.017071  0.031973  ...      -0.012994 -0.014665\n",
              "navigating_skills  0.033042  0.226121  ...       0.104755  0.000013\n",
              "sleep             -0.215235 -0.044463  ...      -0.051843  0.006560\n",
              "edu_level          0.199023 -0.012156  ...       0.011680  0.012358\n",
              "commute_level     -0.120294  0.098331  ...       1.000000  0.058622\n",
              "home_env          -0.049480  0.046558  ...       0.058622  1.000000\n",
              "\n",
              "[8 rows x 8 columns]"
            ]
          },
          "metadata": {},
          "execution_count": 11
        }
      ]
    },
    {
      "cell_type": "code",
      "metadata": {
        "id": "2CgisWEztNzt"
      },
      "source": [
        "df_model = df_model.rename(columns = {\"age\": \"age\", \"gender\": \"gender\", \"hand\":\"hand\", \"navigating_skills\": \"nav skills\", \"sleep\": \"sleep\", \"edu_level\": \"edu\", \"commute_level\":\"commute\", \"home_env\":\"env\"})"
      ],
      "execution_count": 12,
      "outputs": []
    },
    {
      "cell_type": "code",
      "metadata": {
        "colab": {
          "base_uri": "https://localhost:8080/",
          "height": 408
        },
        "id": "FYxT-MvvtSS2",
        "outputId": "71a8b01b-17cc-4162-d73c-e1456e3efd2f"
      },
      "source": [
        "df_model = df_model.drop(['uuid'], axis= 1)\n",
        "df_model"
      ],
      "execution_count": 13,
      "outputs": [
        {
          "output_type": "execute_result",
          "data": {
            "text/html": [
              "<div>\n",
              "<style scoped>\n",
              "    .dataframe tbody tr th:only-of-type {\n",
              "        vertical-align: middle;\n",
              "    }\n",
              "\n",
              "    .dataframe tbody tr th {\n",
              "        vertical-align: top;\n",
              "    }\n",
              "\n",
              "    .dataframe thead th {\n",
              "        text-align: right;\n",
              "    }\n",
              "</style>\n",
              "<table border=\"1\" class=\"dataframe\">\n",
              "  <thead>\n",
              "    <tr style=\"text-align: right;\">\n",
              "      <th></th>\n",
              "      <th>age</th>\n",
              "      <th>gender</th>\n",
              "      <th>hand</th>\n",
              "      <th>nav skills</th>\n",
              "      <th>sleep</th>\n",
              "      <th>edu</th>\n",
              "      <th>commute</th>\n",
              "      <th>env</th>\n",
              "    </tr>\n",
              "  </thead>\n",
              "  <tbody>\n",
              "    <tr>\n",
              "      <th>0</th>\n",
              "      <td>68.0</td>\n",
              "      <td>0</td>\n",
              "      <td>0</td>\n",
              "      <td>1</td>\n",
              "      <td>8.0</td>\n",
              "      <td>1</td>\n",
              "      <td>0</td>\n",
              "      <td>2</td>\n",
              "    </tr>\n",
              "    <tr>\n",
              "      <th>1</th>\n",
              "      <td>18.0</td>\n",
              "      <td>1</td>\n",
              "      <td>1</td>\n",
              "      <td>2</td>\n",
              "      <td>7.0</td>\n",
              "      <td>0</td>\n",
              "      <td>0</td>\n",
              "      <td>1</td>\n",
              "    </tr>\n",
              "    <tr>\n",
              "      <th>2</th>\n",
              "      <td>18.0</td>\n",
              "      <td>1</td>\n",
              "      <td>1</td>\n",
              "      <td>3</td>\n",
              "      <td>7.0</td>\n",
              "      <td>0</td>\n",
              "      <td>2</td>\n",
              "      <td>2</td>\n",
              "    </tr>\n",
              "    <tr>\n",
              "      <th>3</th>\n",
              "      <td>21.0</td>\n",
              "      <td>0</td>\n",
              "      <td>0</td>\n",
              "      <td>2</td>\n",
              "      <td>7.0</td>\n",
              "      <td>1</td>\n",
              "      <td>1</td>\n",
              "      <td>1</td>\n",
              "    </tr>\n",
              "    <tr>\n",
              "      <th>4</th>\n",
              "      <td>36.0</td>\n",
              "      <td>1</td>\n",
              "      <td>0</td>\n",
              "      <td>3</td>\n",
              "      <td>5.0</td>\n",
              "      <td>1</td>\n",
              "      <td>1</td>\n",
              "      <td>0</td>\n",
              "    </tr>\n",
              "    <tr>\n",
              "      <th>...</th>\n",
              "      <td>...</td>\n",
              "      <td>...</td>\n",
              "      <td>...</td>\n",
              "      <td>...</td>\n",
              "      <td>...</td>\n",
              "      <td>...</td>\n",
              "      <td>...</td>\n",
              "      <td>...</td>\n",
              "    </tr>\n",
              "    <tr>\n",
              "      <th>909451</th>\n",
              "      <td>50.0</td>\n",
              "      <td>1</td>\n",
              "      <td>1</td>\n",
              "      <td>2</td>\n",
              "      <td>6.0</td>\n",
              "      <td>0</td>\n",
              "      <td>2</td>\n",
              "      <td>0</td>\n",
              "    </tr>\n",
              "    <tr>\n",
              "      <th>909452</th>\n",
              "      <td>68.0</td>\n",
              "      <td>1</td>\n",
              "      <td>0</td>\n",
              "      <td>2</td>\n",
              "      <td>8.0</td>\n",
              "      <td>1</td>\n",
              "      <td>1</td>\n",
              "      <td>2</td>\n",
              "    </tr>\n",
              "    <tr>\n",
              "      <th>909453</th>\n",
              "      <td>59.0</td>\n",
              "      <td>0</td>\n",
              "      <td>0</td>\n",
              "      <td>3</td>\n",
              "      <td>7.0</td>\n",
              "      <td>0</td>\n",
              "      <td>0</td>\n",
              "      <td>2</td>\n",
              "    </tr>\n",
              "    <tr>\n",
              "      <th>909454</th>\n",
              "      <td>48.0</td>\n",
              "      <td>1</td>\n",
              "      <td>0</td>\n",
              "      <td>2</td>\n",
              "      <td>6.0</td>\n",
              "      <td>1</td>\n",
              "      <td>2</td>\n",
              "      <td>1</td>\n",
              "    </tr>\n",
              "    <tr>\n",
              "      <th>909455</th>\n",
              "      <td>47.0</td>\n",
              "      <td>1</td>\n",
              "      <td>1</td>\n",
              "      <td>3</td>\n",
              "      <td>7.0</td>\n",
              "      <td>1</td>\n",
              "      <td>2</td>\n",
              "      <td>2</td>\n",
              "    </tr>\n",
              "  </tbody>\n",
              "</table>\n",
              "<p>909456 rows × 8 columns</p>\n",
              "</div>"
            ],
            "text/plain": [
              "         age  gender  hand  nav skills  sleep  edu  commute  env\n",
              "0       68.0       0     0           1    8.0    1        0    2\n",
              "1       18.0       1     1           2    7.0    0        0    1\n",
              "2       18.0       1     1           3    7.0    0        2    2\n",
              "3       21.0       0     0           2    7.0    1        1    1\n",
              "4       36.0       1     0           3    5.0    1        1    0\n",
              "...      ...     ...   ...         ...    ...  ...      ...  ...\n",
              "909451  50.0       1     1           2    6.0    0        2    0\n",
              "909452  68.0       1     0           2    8.0    1        1    2\n",
              "909453  59.0       0     0           3    7.0    0        0    2\n",
              "909454  48.0       1     0           2    6.0    1        2    1\n",
              "909455  47.0       1     1           3    7.0    1        2    2\n",
              "\n",
              "[909456 rows x 8 columns]"
            ]
          },
          "metadata": {},
          "execution_count": 13
        }
      ]
    },
    {
      "cell_type": "code",
      "metadata": {
        "colab": {
          "base_uri": "https://localhost:8080/",
          "height": 392
        },
        "id": "V76eleCvwKp2",
        "outputId": "ae753597-b031-4738-9791-33819fcbefba"
      },
      "source": [
        "# Increase the size of the heatmap.\n",
        "sns.set(font_scale=1.8)\n",
        "plt.figure(figsize=(16, 6))\n",
        "# Store heatmap object in a variable to easily access it when you want to include more features (such as title).\n",
        "# Set the range of values to be displayed on the colormap from -1 to 1, and set the annotation to True to display the correlation values on the heatmap.\n",
        "heatmap = sns.heatmap(df_model.corr('spearman'), vmin=-1, vmax=1, annot=True, annot_kws={\"size\":18}, cmap='BrBG')\n",
        "# Give a title to the heatmap. Pad defines the distance of the title from the top of the heatmap.\n",
        "#heatmap.set_title('Correlation Heatmap', fontdict={'fontsize':15}, pad=12);"
      ],
      "execution_count": 14,
      "outputs": [
        {
          "output_type": "display_data",
          "data": {
            "image/png": "[encoded data removed]",
            "text/plain": [
              "<Figure size 1152x432 with 2 Axes>"
            ]
          },
          "metadata": {}
        }
      ]
    },
    {
      "cell_type": "markdown",
      "metadata": {
        "id": "5Jh9bENI0amB"
      },
      "source": [
        "#Step 2. Evaluate the “factorability” of our dataset."
      ]
    },
    {
      "cell_type": "code",
      "metadata": {
        "colab": {
          "base_uri": "https://localhost:8080/"
        },
        "id": "b7RLrNexwKyk",
        "outputId": "050243d9-0845-4525-c739-5222ed874216"
      },
      "source": [
        "!pip install factor_analyzer==0.2.3\n",
        "#!pip install factor_analyzer"
      ],
      "execution_count": 15,
      "outputs": [
        {
          "output_type": "stream",
          "name": "stdout",
          "text": [
            "Requirement already satisfied: factor_analyzer==0.2.3 in /usr/local/lib/python3.7/dist-packages (0.2.3)\n",
            "Requirement already satisfied: pandas in /usr/local/lib/python3.7/dist-packages (from factor_analyzer==0.2.3) (1.1.5)\n",
            "Requirement already satisfied: numpy in /usr/local/lib/python3.7/dist-packages (from factor_analyzer==0.2.3) (1.19.5)\n",
            "Requirement already satisfied: scipy in /usr/local/lib/python3.7/dist-packages (from factor_analyzer==0.2.3) (1.4.1)\n",
            "Requirement already satisfied: python-dateutil>=2.7.3 in /usr/local/lib/python3.7/dist-packages (from pandas->factor_analyzer==0.2.3) (2.8.2)\n",
            "Requirement already satisfied: pytz>=2017.2 in /usr/local/lib/python3.7/dist-packages (from pandas->factor_analyzer==0.2.3) (2018.9)\n",
            "Requirement already satisfied: six>=1.5 in /usr/local/lib/python3.7/dist-packages (from python-dateutil>=2.7.3->pandas->factor_analyzer==0.2.3) (1.15.0)\n"
          ]
        }
      ]
    },
    {
      "cell_type": "code",
      "metadata": {
        "id": "sI7rppX2NYwX"
      },
      "source": [
        "from factor_analyzer import FactorAnalyzer"
      ],
      "execution_count": 16,
      "outputs": []
    },
    {
      "cell_type": "code",
      "metadata": {
        "colab": {
          "base_uri": "https://localhost:8080/"
        },
        "id": "rFADeGNS0d0A",
        "outputId": "2d5cfd3f-8e91-491f-9a28-a3d386e34c27"
      },
      "source": [
        "# adequacy test\n",
        "#checks whether or not the observed variables intercorrelate at all using the observed correlation matrix against the identity matrix. If the test found statistically insignificant, you should not employ a factor analysis.\n",
        "from factor_analyzer.factor_analyzer import calculate_bartlett_sphericity\n",
        "chi_square_value,p_value=calculate_bartlett_sphericity(df_model)\n",
        "chi_square_value, p_value"
      ],
      "execution_count": 17,
      "outputs": [
        {
          "output_type": "execute_result",
          "data": {
            "text/plain": [
              "(153861.94341524306, 0.0)"
            ]
          },
          "metadata": {},
          "execution_count": 17
        }
      ]
    },
    {
      "cell_type": "code",
      "metadata": {
        "colab": {
          "base_uri": "https://localhost:8080/"
        },
        "id": "z78RmT290d2o",
        "outputId": "2ed4b23b-799a-4f8f-c669-2216929d5971"
      },
      "source": [
        "from factor_analyzer.factor_analyzer import calculate_kmo\n",
        "kmo_all,kmo_model=calculate_kmo(df_model)\n",
        "\n",
        "kmo_model"
      ],
      "execution_count": 18,
      "outputs": [
        {
          "output_type": "execute_result",
          "data": {
            "text/plain": [
              "0.5184296957550112"
            ]
          },
          "metadata": {},
          "execution_count": 18
        }
      ]
    },
    {
      "cell_type": "code",
      "metadata": {
        "id": "kyZbgYFJ0d6m"
      },
      "source": [
        "# Create factor analysis object and perform factor analysis\n",
        "fa = FactorAnalyzer()\n",
        "#fa.fit(df_model4_standardized)\n",
        "fa.analyze(df_model, 8, rotation=None, method='ml') # 'minres' , 'principal'\n",
        "\n",
        "eigen_values, vectors = fa.get_eigenvalues()\n",
        "# Check Eigenvalues\n",
        "#ev, v = fa.get_eigenvalues()\n",
        "#ev"
      ],
      "execution_count": 19,
      "outputs": []
    },
    {
      "cell_type": "code",
      "metadata": {
        "colab": {
          "base_uri": "https://localhost:8080/",
          "height": 290
        },
        "id": "zrJfPZJW0d9Y",
        "outputId": "a8b17a4a-f017-4804-a4dc-fab029b6f026"
      },
      "source": [
        "eigen_values \n",
        "# Eigenvalues represent the total amount of variance that can be explained by a given principal component. \n",
        "# Eigenvalues are also the sum of squared component loadings across all items for each component, which represent the amount of variance in each item that can be explained by the principal component."
      ],
      "execution_count": 20,
      "outputs": [
        {
          "output_type": "execute_result",
          "data": {
            "text/html": [
              "<div>\n",
              "<style scoped>\n",
              "    .dataframe tbody tr th:only-of-type {\n",
              "        vertical-align: middle;\n",
              "    }\n",
              "\n",
              "    .dataframe tbody tr th {\n",
              "        vertical-align: top;\n",
              "    }\n",
              "\n",
              "    .dataframe thead th {\n",
              "        text-align: right;\n",
              "    }\n",
              "</style>\n",
              "<table border=\"1\" class=\"dataframe\">\n",
              "  <thead>\n",
              "    <tr style=\"text-align: right;\">\n",
              "      <th></th>\n",
              "      <th>Original_Eigenvalues</th>\n",
              "    </tr>\n",
              "  </thead>\n",
              "  <tbody>\n",
              "    <tr>\n",
              "      <th>0</th>\n",
              "      <td>1.348814</td>\n",
              "    </tr>\n",
              "    <tr>\n",
              "      <th>1</th>\n",
              "      <td>1.272872</td>\n",
              "    </tr>\n",
              "    <tr>\n",
              "      <th>2</th>\n",
              "      <td>1.041719</td>\n",
              "    </tr>\n",
              "    <tr>\n",
              "      <th>3</th>\n",
              "      <td>0.989787</td>\n",
              "    </tr>\n",
              "    <tr>\n",
              "      <th>4</th>\n",
              "      <td>0.947114</td>\n",
              "    </tr>\n",
              "    <tr>\n",
              "      <th>5</th>\n",
              "      <td>0.906132</td>\n",
              "    </tr>\n",
              "    <tr>\n",
              "      <th>6</th>\n",
              "      <td>0.790397</td>\n",
              "    </tr>\n",
              "    <tr>\n",
              "      <th>7</th>\n",
              "      <td>0.703166</td>\n",
              "    </tr>\n",
              "  </tbody>\n",
              "</table>\n",
              "</div>"
            ],
            "text/plain": [
              "   Original_Eigenvalues\n",
              "0              1.348814\n",
              "1              1.272872\n",
              "2              1.041719\n",
              "3              0.989787\n",
              "4              0.947114\n",
              "5              0.906132\n",
              "6              0.790397\n",
              "7              0.703166"
            ]
          },
          "metadata": {},
          "execution_count": 20
        }
      ]
    },
    {
      "cell_type": "markdown",
      "metadata": {
        "id": "y1sNE6tn03Db"
      },
      "source": [
        "Here, you can see only 3-factors eigenvalues are greater than one. It means we need to choose only 3 factors (or unobserved variables).\n",
        "\n"
      ]
    },
    {
      "cell_type": "code",
      "metadata": {
        "colab": {
          "base_uri": "https://localhost:8080/",
          "height": 290
        },
        "id": "hN-RV8Lq0yZ5",
        "outputId": "9ea121c8-fe20-4cf0-c80d-47afa10bf2b7"
      },
      "source": [
        "vectors \n",
        "# Eigenvectors represent a weight for each eigenvalue."
      ],
      "execution_count": 21,
      "outputs": [
        {
          "output_type": "execute_result",
          "data": {
            "text/html": [
              "<div>\n",
              "<style scoped>\n",
              "    .dataframe tbody tr th:only-of-type {\n",
              "        vertical-align: middle;\n",
              "    }\n",
              "\n",
              "    .dataframe tbody tr th {\n",
              "        vertical-align: top;\n",
              "    }\n",
              "\n",
              "    .dataframe thead th {\n",
              "        text-align: right;\n",
              "    }\n",
              "</style>\n",
              "<table border=\"1\" class=\"dataframe\">\n",
              "  <thead>\n",
              "    <tr style=\"text-align: right;\">\n",
              "      <th></th>\n",
              "      <th>Common_Factor_Eigenvalues</th>\n",
              "    </tr>\n",
              "  </thead>\n",
              "  <tbody>\n",
              "    <tr>\n",
              "      <th>0</th>\n",
              "      <td>0.483425</td>\n",
              "    </tr>\n",
              "    <tr>\n",
              "      <th>1</th>\n",
              "      <td>0.402388</td>\n",
              "    </tr>\n",
              "    <tr>\n",
              "      <th>2</th>\n",
              "      <td>0.121644</td>\n",
              "    </tr>\n",
              "    <tr>\n",
              "      <th>3</th>\n",
              "      <td>0.027296</td>\n",
              "    </tr>\n",
              "    <tr>\n",
              "      <th>4</th>\n",
              "      <td>0.013958</td>\n",
              "    </tr>\n",
              "    <tr>\n",
              "      <th>5</th>\n",
              "      <td>-0.006009</td>\n",
              "    </tr>\n",
              "    <tr>\n",
              "      <th>6</th>\n",
              "      <td>-0.084745</td>\n",
              "    </tr>\n",
              "    <tr>\n",
              "      <th>7</th>\n",
              "      <td>-0.158582</td>\n",
              "    </tr>\n",
              "  </tbody>\n",
              "</table>\n",
              "</div>"
            ],
            "text/plain": [
              "   Common_Factor_Eigenvalues\n",
              "0                   0.483425\n",
              "1                   0.402388\n",
              "2                   0.121644\n",
              "3                   0.027296\n",
              "4                   0.013958\n",
              "5                  -0.006009\n",
              "6                  -0.084745\n",
              "7                  -0.158582"
            ]
          },
          "metadata": {},
          "execution_count": 21
        }
      ]
    },
    {
      "cell_type": "code",
      "metadata": {
        "colab": {
          "base_uri": "https://localhost:8080/",
          "height": 322
        },
        "id": "Y7OQoL3r0yt-",
        "outputId": "625d4908-e62c-4f50-897b-2048a23b0471"
      },
      "source": [
        "# Create scree plot using matplotlib\n",
        "plt.scatter(range(1,df_model.shape[1]+1),eigen_values)\n",
        "plt.plot(range(1,df_model.shape[1]+1),eigen_values)\n",
        "plt.title('Scree Plot')\n",
        "plt.xlabel('Factors')\n",
        "plt.ylabel('Eigenvalue')\n",
        "plt.grid()\n",
        "plt.show()"
      ],
      "execution_count": 24,
      "outputs": [
        {
          "output_type": "display_data",
          "data": {
            "image/png": "[encoded data removed]",
            "text/plain": [
              "<Figure size 432x288 with 1 Axes>"
            ]
          },
          "metadata": {}
        }
      ]
    },
    {
      "cell_type": "markdown",
      "metadata": {
        "id": "LvvpEPIu0_ch"
      },
      "source": [
        "#Step 3. Exploratory Factor Analysis (Traditional Approach)"
      ]
    },
    {
      "cell_type": "markdown",
      "metadata": {
        "id": "luf1Fm-11LgW"
      },
      "source": [
        "Factor analysis for 3 factors\n",
        "\n",
        "The factor loading is a matrix which shows the relationship of each variable to the underlying factor. It shows the correlation coefficient for observed variable and factor. It shows the variance explained by the observed variables."
      ]
    },
    {
      "cell_type": "code",
      "metadata": {
        "id": "DKa0mg8E0yy1"
      },
      "source": [
        "# Create factor analysis object and perform factor analysis\n",
        "fa = FactorAnalyzer()\n",
        "#fa.analyze(df_model4_standardized, 3, rotation=\"varimax\")\n",
        "fa.analyze(df_model, 3, rotation=\"oblimin\", method='ml')\n",
        "#fa.analyze(df_model4_standardized, 3, rotation=\"oblimax\")\n",
        "#fa.analyze(df_model4_standardized, 3, rotation=\"promax\")\n",
        "#fa.analyze(df_model4_standardized, 3, rotation=\"quartimin\")\n",
        "#fa.analyze(df_model4_standardized, 3, rotation=\"quartimax\")\n",
        "#fa.analyze(df_model4_standardized, 3, rotation=\"equamax\")"
      ],
      "execution_count": 27,
      "outputs": []
    },
    {
      "cell_type": "code",
      "metadata": {
        "colab": {
          "base_uri": "https://localhost:8080/",
          "height": 290
        },
        "id": "Wst60YZx1Qms",
        "outputId": "1faef206-cf7b-4816-bcdc-cea467333828"
      },
      "source": [
        "fa.loadings # The eigenvector times the square root of the eigenvalue gives the \n",
        "# component loadings which can be interpreted as the correlation of each item with the principal component."
      ],
      "execution_count": 28,
      "outputs": [
        {
          "output_type": "execute_result",
          "data": {
            "text/html": [
              "<div>\n",
              "<style scoped>\n",
              "    .dataframe tbody tr th:only-of-type {\n",
              "        vertical-align: middle;\n",
              "    }\n",
              "\n",
              "    .dataframe tbody tr th {\n",
              "        vertical-align: top;\n",
              "    }\n",
              "\n",
              "    .dataframe thead th {\n",
              "        text-align: right;\n",
              "    }\n",
              "</style>\n",
              "<table border=\"1\" class=\"dataframe\">\n",
              "  <thead>\n",
              "    <tr style=\"text-align: right;\">\n",
              "      <th></th>\n",
              "      <th>Factor1</th>\n",
              "      <th>Factor2</th>\n",
              "      <th>Factor3</th>\n",
              "    </tr>\n",
              "  </thead>\n",
              "  <tbody>\n",
              "    <tr>\n",
              "      <th>age</th>\n",
              "      <td>0.018957</td>\n",
              "      <td>0.639839</td>\n",
              "      <td>-0.030712</td>\n",
              "    </tr>\n",
              "    <tr>\n",
              "      <th>gender</th>\n",
              "      <td>0.202499</td>\n",
              "      <td>-0.080337</td>\n",
              "      <td>0.181847</td>\n",
              "    </tr>\n",
              "    <tr>\n",
              "      <th>hand</th>\n",
              "      <td>0.002223</td>\n",
              "      <td>-0.023539</td>\n",
              "      <td>-0.010315</td>\n",
              "    </tr>\n",
              "    <tr>\n",
              "      <th>nav skills</th>\n",
              "      <td>0.997577</td>\n",
              "      <td>0.003927</td>\n",
              "      <td>-0.000595</td>\n",
              "    </tr>\n",
              "    <tr>\n",
              "      <th>sleep</th>\n",
              "      <td>0.048861</td>\n",
              "      <td>-0.312510</td>\n",
              "      <td>-0.293192</td>\n",
              "    </tr>\n",
              "    <tr>\n",
              "      <th>edu</th>\n",
              "      <td>0.010248</td>\n",
              "      <td>0.225124</td>\n",
              "      <td>0.132620</td>\n",
              "    </tr>\n",
              "    <tr>\n",
              "      <th>commute</th>\n",
              "      <td>0.062557</td>\n",
              "      <td>-0.182779</td>\n",
              "      <td>0.347786</td>\n",
              "    </tr>\n",
              "    <tr>\n",
              "      <th>env</th>\n",
              "      <td>-0.016347</td>\n",
              "      <td>-0.076656</td>\n",
              "      <td>0.115028</td>\n",
              "    </tr>\n",
              "  </tbody>\n",
              "</table>\n",
              "</div>"
            ],
            "text/plain": [
              "             Factor1   Factor2   Factor3\n",
              "age         0.018957  0.639839 -0.030712\n",
              "gender      0.202499 -0.080337  0.181847\n",
              "hand        0.002223 -0.023539 -0.010315\n",
              "nav skills  0.997577  0.003927 -0.000595\n",
              "sleep       0.048861 -0.312510 -0.293192\n",
              "edu         0.010248  0.225124  0.132620\n",
              "commute     0.062557 -0.182779  0.347786\n",
              "env        -0.016347 -0.076656  0.115028"
            ]
          },
          "metadata": {},
          "execution_count": 28
        }
      ]
    },
    {
      "cell_type": "code",
      "metadata": {
        "colab": {
          "base_uri": "https://localhost:8080/",
          "height": 138
        },
        "id": "LzBgiMKE1TNv",
        "outputId": "409a69ac-4f35-451d-852f-2f96a7758b4d"
      },
      "source": [
        "fa.get_factor_variance()"
      ],
      "execution_count": 29,
      "outputs": [
        {
          "output_type": "execute_result",
          "data": {
            "text/html": [
              "<div>\n",
              "<style scoped>\n",
              "    .dataframe tbody tr th:only-of-type {\n",
              "        vertical-align: middle;\n",
              "    }\n",
              "\n",
              "    .dataframe tbody tr th {\n",
              "        vertical-align: top;\n",
              "    }\n",
              "\n",
              "    .dataframe thead th {\n",
              "        text-align: right;\n",
              "    }\n",
              "</style>\n",
              "<table border=\"1\" class=\"dataframe\">\n",
              "  <thead>\n",
              "    <tr style=\"text-align: right;\">\n",
              "      <th></th>\n",
              "      <th>Factor1</th>\n",
              "      <th>Factor2</th>\n",
              "      <th>Factor3</th>\n",
              "    </tr>\n",
              "  </thead>\n",
              "  <tbody>\n",
              "    <tr>\n",
              "      <th>SS Loadings</th>\n",
              "      <td>1.043204</td>\n",
              "      <td>0.604045</td>\n",
              "      <td>0.271854</td>\n",
              "    </tr>\n",
              "    <tr>\n",
              "      <th>Proportion Var</th>\n",
              "      <td>0.130400</td>\n",
              "      <td>0.075506</td>\n",
              "      <td>0.033982</td>\n",
              "    </tr>\n",
              "    <tr>\n",
              "      <th>Cumulative Var</th>\n",
              "      <td>0.130400</td>\n",
              "      <td>0.205906</td>\n",
              "      <td>0.239888</td>\n",
              "    </tr>\n",
              "  </tbody>\n",
              "</table>\n",
              "</div>"
            ],
            "text/plain": [
              "                 Factor1   Factor2   Factor3\n",
              "SS Loadings     1.043204  0.604045  0.271854\n",
              "Proportion Var  0.130400  0.075506  0.033982\n",
              "Cumulative Var  0.130400  0.205906  0.239888"
            ]
          },
          "metadata": {},
          "execution_count": 29
        }
      ]
    },
    {
      "cell_type": "markdown",
      "metadata": {
        "id": "_tzSOSdX1XeE"
      },
      "source": [
        "The lesser the variance of a latent variable, the better it can be predicted via observable variables.\n",
        "\n",
        "Total 24.5% cumulative Variance explained by the 3 factors. Low variance explained means that the items qw have are not sufficient to explain the model. We should have additional items, since the once we have produced not enough variance for your dependent variable."
      ]
    },
    {
      "cell_type": "code",
      "metadata": {
        "colab": {
          "base_uri": "https://localhost:8080/"
        },
        "id": "1m8Hezvi1VfL",
        "outputId": "36f93b78-6731-461c-cbac-1b756b67549e"
      },
      "source": [
        "fa.phi # correlation among factors"
      ],
      "execution_count": 30,
      "outputs": [
        {
          "output_type": "execute_result",
          "data": {
            "text/plain": [
              "array([[ 1.        , -0.00362488,  0.12477274],\n",
              "       [-0.00362488,  1.        , -0.03334208],\n",
              "       [ 0.12477274, -0.03334208,  1.        ]])"
            ]
          },
          "metadata": {},
          "execution_count": 30
        }
      ]
    }
  ]
}