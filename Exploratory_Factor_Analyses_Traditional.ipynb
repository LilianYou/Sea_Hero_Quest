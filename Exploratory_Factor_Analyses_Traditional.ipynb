{
  "nbformat": 4,
  "nbformat_minor": 0,
  "metadata": {
    "colab": {
      "name": "Exploratory_Factor_Analyses_Traditional.ipynb",
      "provenance": [],
      "collapsed_sections": []
    },
    "kernelspec": {
      "name": "python3",
      "display_name": "Python 3"
    },
    "language_info": {
      "name": "python"
    }
  },
  "cells": [
    {
      "cell_type": "markdown",
      "metadata": {
        "id": "GfxjSgHJ71iV"
      },
      "source": [
        "## Detecting Latent Factors in Demographic Information\n",
        "\n",
        "### read data"
      ]
    },
    {
      "cell_type": "code",
      "metadata": {
        "id": "v0KOmPux77K9",
        "colab": {
          "base_uri": "https://localhost:8080/"
        },
        "outputId": "11a78177-0af6-4f5f-ce56-edac772a3487"
      },
      "source": [
        "from google.colab import drive\n",
        "import pandas as pd\n",
        "import numpy as np\n",
        "import seaborn as sns\n",
        "import matplotlib.pyplot as plt\n",
        "drive.mount('/content/drive')\n"
      ],
      "execution_count": null,
      "outputs": [
        {
          "output_type": "stream",
          "name": "stdout",
          "text": [
            "Mounted at /content/drive\n"
          ]
        }
      ]
    },
    {
      "cell_type": "code",
      "metadata": {
        "id": "W4Z2S74v9nrd"
      },
      "source": [
        "df_raw = pd.read_csv('/content/drive/My Drive/SHQ/Data/2019user_cleaned.csv')"
      ],
      "execution_count": null,
      "outputs": []
    },
    {
      "cell_type": "code",
      "metadata": {
        "id": "XHFB-uCL_i8E",
        "colab": {
          "base_uri": "https://localhost:8080/"
        },
        "outputId": "6db843f9-1990-48be-8cbc-0444883ae58e"
      },
      "source": [
        "df_raw.info()"
      ],
      "execution_count": null,
      "outputs": [
        {
          "output_type": "stream",
          "name": "stdout",
          "text": [
            "<class 'pandas.core.frame.DataFrame'>\n",
            "RangeIndex: 909456 entries, 0 to 909455\n",
            "Data columns (total 10 columns):\n",
            " #   Column             Non-Null Count   Dtype  \n",
            "---  ------             --------------   -----  \n",
            " 0   uuid               909456 non-null  object \n",
            " 1   age                909456 non-null  float64\n",
            " 2   education          909456 non-null  object \n",
            " 3   gender             909456 non-null  object \n",
            " 4   hand               909456 non-null  object \n",
            " 5   home_environment   909456 non-null  object \n",
            " 6   location           909456 non-null  object \n",
            " 7   navigating_skills  909456 non-null  object \n",
            " 8   sleep              909456 non-null  float64\n",
            " 9   travel_time        909456 non-null  object \n",
            "dtypes: float64(2), object(8)\n",
            "memory usage: 69.4+ MB\n"
          ]
        }
      ]
    },
    {
      "cell_type": "code",
      "metadata": {
        "colab": {
          "base_uri": "https://localhost:8080/",
          "height": 300
        },
        "id": "i7x-UmguU2e_",
        "outputId": "bd780d4f-be17-4833-f674-afdf3c00fcd7"
      },
      "source": [
        "df_raw.describe()"
      ],
      "execution_count": null,
      "outputs": [
        {
          "output_type": "execute_result",
          "data": {
            "text/html": [
              "<div>\n",
              "<style scoped>\n",
              "    .dataframe tbody tr th:only-of-type {\n",
              "        vertical-align: middle;\n",
              "    }\n",
              "\n",
              "    .dataframe tbody tr th {\n",
              "        vertical-align: top;\n",
              "    }\n",
              "\n",
              "    .dataframe thead th {\n",
              "        text-align: right;\n",
              "    }\n",
              "</style>\n",
              "<table border=\"1\" class=\"dataframe\">\n",
              "  <thead>\n",
              "    <tr style=\"text-align: right;\">\n",
              "      <th></th>\n",
              "      <th>age</th>\n",
              "      <th>sleep</th>\n",
              "    </tr>\n",
              "  </thead>\n",
              "  <tbody>\n",
              "    <tr>\n",
              "      <th>count</th>\n",
              "      <td>909456.000000</td>\n",
              "      <td>909456.000000</td>\n",
              "    </tr>\n",
              "    <tr>\n",
              "      <th>mean</th>\n",
              "      <td>35.515352</td>\n",
              "      <td>7.097244</td>\n",
              "    </tr>\n",
              "    <tr>\n",
              "      <th>std</th>\n",
              "      <td>15.296664</td>\n",
              "      <td>1.333995</td>\n",
              "    </tr>\n",
              "    <tr>\n",
              "      <th>min</th>\n",
              "      <td>18.000000</td>\n",
              "      <td>1.000000</td>\n",
              "    </tr>\n",
              "    <tr>\n",
              "      <th>25%</th>\n",
              "      <td>21.000000</td>\n",
              "      <td>6.000000</td>\n",
              "    </tr>\n",
              "    <tr>\n",
              "      <th>50%</th>\n",
              "      <td>32.000000</td>\n",
              "      <td>7.000000</td>\n",
              "    </tr>\n",
              "    <tr>\n",
              "      <th>75%</th>\n",
              "      <td>48.000000</td>\n",
              "      <td>8.000000</td>\n",
              "    </tr>\n",
              "    <tr>\n",
              "      <th>max</th>\n",
              "      <td>70.000000</td>\n",
              "      <td>12.000000</td>\n",
              "    </tr>\n",
              "  </tbody>\n",
              "</table>\n",
              "</div>"
            ],
            "text/plain": [
              "                 age          sleep\n",
              "count  909456.000000  909456.000000\n",
              "mean       35.515352       7.097244\n",
              "std        15.296664       1.333995\n",
              "min        18.000000       1.000000\n",
              "25%        21.000000       6.000000\n",
              "50%        32.000000       7.000000\n",
              "75%        48.000000       8.000000\n",
              "max        70.000000      12.000000"
            ]
          },
          "metadata": {},
          "execution_count": 8
        }
      ]
    },
    {
      "cell_type": "code",
      "metadata": {
        "id": "KELFMJOkVQmP"
      },
      "source": [
        "df = df_raw.copy()"
      ],
      "execution_count": null,
      "outputs": []
    },
    {
      "cell_type": "markdown",
      "metadata": {
        "id": "rn54R1hVxkZO"
      },
      "source": [
        "# Confirmatory Factor Analysis"
      ]
    },
    {
      "cell_type": "code",
      "metadata": {
        "id": "-xCXY54px1gX",
        "colab": {
          "base_uri": "https://localhost:8080/"
        },
        "outputId": "0b27dbb3-f859-4246-b2b8-c30e89e003fb"
      },
      "source": [
        "pip install factor_analyzer==0.2.3"
      ],
      "execution_count": null,
      "outputs": [
        {
          "output_type": "stream",
          "name": "stdout",
          "text": [
            "Collecting factor_analyzer==0.2.3\n",
            "  Downloading factor_analyzer-0.2.3-py2.py3-none-any.whl (23 kB)\n",
            "Requirement already satisfied: pandas in /usr/local/lib/python3.7/dist-packages (from factor_analyzer==0.2.3) (1.1.5)\n",
            "Requirement already satisfied: numpy in /usr/local/lib/python3.7/dist-packages (from factor_analyzer==0.2.3) (1.19.5)\n",
            "Requirement already satisfied: scipy in /usr/local/lib/python3.7/dist-packages (from factor_analyzer==0.2.3) (1.4.1)\n",
            "Requirement already satisfied: pytz>=2017.2 in /usr/local/lib/python3.7/dist-packages (from pandas->factor_analyzer==0.2.3) (2018.9)\n",
            "Requirement already satisfied: python-dateutil>=2.7.3 in /usr/local/lib/python3.7/dist-packages (from pandas->factor_analyzer==0.2.3) (2.8.2)\n",
            "Requirement already satisfied: six>=1.5 in /usr/local/lib/python3.7/dist-packages (from python-dateutil>=2.7.3->pandas->factor_analyzer==0.2.3) (1.15.0)\n",
            "Installing collected packages: factor-analyzer\n",
            "Successfully installed factor-analyzer-0.2.3\n"
          ]
        }
      ]
    },
    {
      "cell_type": "code",
      "metadata": {
        "id": "YYS2n6Gyxjo8"
      },
      "source": [
        "import pandas as pd\n",
        "from sklearn.datasets import load_iris\n",
        "from factor_analyzer import FactorAnalyzer\n",
        "import matplotlib.pyplot as plt"
      ],
      "execution_count": null,
      "outputs": []
    },
    {
      "cell_type": "markdown",
      "metadata": {
        "id": "lHjvfGfMndHa"
      },
      "source": [
        "## Step 1. Bivariate Correlation"
      ]
    },
    {
      "cell_type": "code",
      "metadata": {
        "colab": {
          "base_uri": "https://localhost:8080/",
          "height": 423
        },
        "id": "fx8YrbGzx6hj",
        "outputId": "f9993593-d7fc-466d-c31b-550749282cf9"
      },
      "source": [
        "df"
      ],
      "execution_count": null,
      "outputs": [
        {
          "output_type": "execute_result",
          "data": {
            "text/html": [
              "<div>\n",
              "<style scoped>\n",
              "    .dataframe tbody tr th:only-of-type {\n",
              "        vertical-align: middle;\n",
              "    }\n",
              "\n",
              "    .dataframe tbody tr th {\n",
              "        vertical-align: top;\n",
              "    }\n",
              "\n",
              "    .dataframe thead th {\n",
              "        text-align: right;\n",
              "    }\n",
              "</style>\n",
              "<table border=\"1\" class=\"dataframe\">\n",
              "  <thead>\n",
              "    <tr style=\"text-align: right;\">\n",
              "      <th></th>\n",
              "      <th>uuid</th>\n",
              "      <th>age</th>\n",
              "      <th>education</th>\n",
              "      <th>gender</th>\n",
              "      <th>hand</th>\n",
              "      <th>home_environment</th>\n",
              "      <th>location</th>\n",
              "      <th>navigating_skills</th>\n",
              "      <th>sleep</th>\n",
              "      <th>travel_time</th>\n",
              "    </tr>\n",
              "  </thead>\n",
              "  <tbody>\n",
              "    <tr>\n",
              "      <th>0</th>\n",
              "      <td>30a73f52-9bfd-4310-b284-58a896428c0a</td>\n",
              "      <td>68.0</td>\n",
              "      <td>secondary</td>\n",
              "      <td>f</td>\n",
              "      <td>right</td>\n",
              "      <td>city</td>\n",
              "      <td>CA</td>\n",
              "      <td>bad</td>\n",
              "      <td>8.0</td>\n",
              "      <td>less-30-mins</td>\n",
              "    </tr>\n",
              "    <tr>\n",
              "      <th>1</th>\n",
              "      <td>e1cecc23-b523-42f8-9b58-520ae053b48e</td>\n",
              "      <td>18.0</td>\n",
              "      <td>tertiary</td>\n",
              "      <td>m</td>\n",
              "      <td>left</td>\n",
              "      <td>mixed</td>\n",
              "      <td>SK</td>\n",
              "      <td>good</td>\n",
              "      <td>7.0</td>\n",
              "      <td>less-30-mins</td>\n",
              "    </tr>\n",
              "    <tr>\n",
              "      <th>2</th>\n",
              "      <td>630e35e4-5e01-4031-9cfa-e555e06ca152</td>\n",
              "      <td>18.0</td>\n",
              "      <td>tertiary</td>\n",
              "      <td>m</td>\n",
              "      <td>left</td>\n",
              "      <td>city</td>\n",
              "      <td>CZ</td>\n",
              "      <td>very-good</td>\n",
              "      <td>7.0</td>\n",
              "      <td>hour-plus</td>\n",
              "    </tr>\n",
              "    <tr>\n",
              "      <th>3</th>\n",
              "      <td>01a3a9d6-e579-40fc-ab44-085bdb397a83</td>\n",
              "      <td>21.0</td>\n",
              "      <td>secondary</td>\n",
              "      <td>f</td>\n",
              "      <td>right</td>\n",
              "      <td>suburbs</td>\n",
              "      <td>GB</td>\n",
              "      <td>good</td>\n",
              "      <td>7.0</td>\n",
              "      <td>30-mins-to-1-hour</td>\n",
              "    </tr>\n",
              "    <tr>\n",
              "      <th>4</th>\n",
              "      <td>65ce6dcb-6668-445d-9c2f-479f83e73ba5</td>\n",
              "      <td>36.0</td>\n",
              "      <td>secondary</td>\n",
              "      <td>m</td>\n",
              "      <td>right</td>\n",
              "      <td>rural</td>\n",
              "      <td>CA</td>\n",
              "      <td>very-good</td>\n",
              "      <td>5.0</td>\n",
              "      <td>30-mins-to-1-hour</td>\n",
              "    </tr>\n",
              "    <tr>\n",
              "      <th>...</th>\n",
              "      <td>...</td>\n",
              "      <td>...</td>\n",
              "      <td>...</td>\n",
              "      <td>...</td>\n",
              "      <td>...</td>\n",
              "      <td>...</td>\n",
              "      <td>...</td>\n",
              "      <td>...</td>\n",
              "      <td>...</td>\n",
              "      <td>...</td>\n",
              "    </tr>\n",
              "    <tr>\n",
              "      <th>909451</th>\n",
              "      <td>65f025b9-0c49-4c91-9a62-39a4176275bc</td>\n",
              "      <td>50.0</td>\n",
              "      <td>tertiary</td>\n",
              "      <td>m</td>\n",
              "      <td>left</td>\n",
              "      <td>rural</td>\n",
              "      <td>DE</td>\n",
              "      <td>good</td>\n",
              "      <td>6.0</td>\n",
              "      <td>hour-plus</td>\n",
              "    </tr>\n",
              "    <tr>\n",
              "      <th>909452</th>\n",
              "      <td>3d8fbb2c-c658-4305-a97a-23d25d36843f</td>\n",
              "      <td>68.0</td>\n",
              "      <td>secondary</td>\n",
              "      <td>m</td>\n",
              "      <td>right</td>\n",
              "      <td>city</td>\n",
              "      <td>GB</td>\n",
              "      <td>good</td>\n",
              "      <td>8.0</td>\n",
              "      <td>30-mins-to-1-hour</td>\n",
              "    </tr>\n",
              "    <tr>\n",
              "      <th>909453</th>\n",
              "      <td>c7588ab8-cdaa-48fa-9e1c-e81a36d085c4</td>\n",
              "      <td>59.0</td>\n",
              "      <td>tertiary</td>\n",
              "      <td>f</td>\n",
              "      <td>right</td>\n",
              "      <td>city</td>\n",
              "      <td>SK</td>\n",
              "      <td>very-good</td>\n",
              "      <td>7.0</td>\n",
              "      <td>less-30-mins</td>\n",
              "    </tr>\n",
              "    <tr>\n",
              "      <th>909454</th>\n",
              "      <td>f810f840-63b0-422b-8fc9-c160113bc481</td>\n",
              "      <td>48.0</td>\n",
              "      <td>secondary</td>\n",
              "      <td>m</td>\n",
              "      <td>right</td>\n",
              "      <td>suburbs</td>\n",
              "      <td>GB</td>\n",
              "      <td>good</td>\n",
              "      <td>6.0</td>\n",
              "      <td>hour-plus</td>\n",
              "    </tr>\n",
              "    <tr>\n",
              "      <th>909455</th>\n",
              "      <td>884104c6-5f35-4e02-8f54-e28618cff129</td>\n",
              "      <td>47.0</td>\n",
              "      <td>secondary</td>\n",
              "      <td>m</td>\n",
              "      <td>left</td>\n",
              "      <td>city</td>\n",
              "      <td>MX</td>\n",
              "      <td>very-good</td>\n",
              "      <td>7.0</td>\n",
              "      <td>hour-plus</td>\n",
              "    </tr>\n",
              "  </tbody>\n",
              "</table>\n",
              "<p>909456 rows × 10 columns</p>\n",
              "</div>"
            ],
            "text/plain": [
              "                                        uuid   age  ... sleep        travel_time\n",
              "0       30a73f52-9bfd-4310-b284-58a896428c0a  68.0  ...   8.0       less-30-mins\n",
              "1       e1cecc23-b523-42f8-9b58-520ae053b48e  18.0  ...   7.0       less-30-mins\n",
              "2       630e35e4-5e01-4031-9cfa-e555e06ca152  18.0  ...   7.0          hour-plus\n",
              "3       01a3a9d6-e579-40fc-ab44-085bdb397a83  21.0  ...   7.0  30-mins-to-1-hour\n",
              "4       65ce6dcb-6668-445d-9c2f-479f83e73ba5  36.0  ...   5.0  30-mins-to-1-hour\n",
              "...                                      ...   ...  ...   ...                ...\n",
              "909451  65f025b9-0c49-4c91-9a62-39a4176275bc  50.0  ...   6.0          hour-plus\n",
              "909452  3d8fbb2c-c658-4305-a97a-23d25d36843f  68.0  ...   8.0  30-mins-to-1-hour\n",
              "909453  c7588ab8-cdaa-48fa-9e1c-e81a36d085c4  59.0  ...   7.0       less-30-mins\n",
              "909454  f810f840-63b0-422b-8fc9-c160113bc481  48.0  ...   6.0          hour-plus\n",
              "909455  884104c6-5f35-4e02-8f54-e28618cff129  47.0  ...   7.0          hour-plus\n",
              "\n",
              "[909456 rows x 10 columns]"
            ]
          },
          "metadata": {},
          "execution_count": 12
        }
      ]
    },
    {
      "cell_type": "code",
      "metadata": {
        "id": "OqN5Tq9Yx6p6"
      },
      "source": [
        "df_model = df.copy()"
      ],
      "execution_count": null,
      "outputs": []
    },
    {
      "cell_type": "code",
      "metadata": {
        "colab": {
          "base_uri": "https://localhost:8080/",
          "height": 423
        },
        "id": "o1yZy1-DX8hl",
        "outputId": "54835d37-7864-4254-c82f-9e51f94420a6"
      },
      "source": [
        "df_model"
      ],
      "execution_count": null,
      "outputs": [
        {
          "output_type": "execute_result",
          "data": {
            "text/html": [
              "<div>\n",
              "<style scoped>\n",
              "    .dataframe tbody tr th:only-of-type {\n",
              "        vertical-align: middle;\n",
              "    }\n",
              "\n",
              "    .dataframe tbody tr th {\n",
              "        vertical-align: top;\n",
              "    }\n",
              "\n",
              "    .dataframe thead th {\n",
              "        text-align: right;\n",
              "    }\n",
              "</style>\n",
              "<table border=\"1\" class=\"dataframe\">\n",
              "  <thead>\n",
              "    <tr style=\"text-align: right;\">\n",
              "      <th></th>\n",
              "      <th>age</th>\n",
              "      <th>gender</th>\n",
              "      <th>hand</th>\n",
              "      <th>navigating_skills</th>\n",
              "      <th>sleep</th>\n",
              "      <th>edu_level</th>\n",
              "      <th>commute_level</th>\n",
              "      <th>home_env</th>\n",
              "    </tr>\n",
              "  </thead>\n",
              "  <tbody>\n",
              "    <tr>\n",
              "      <th>0</th>\n",
              "      <td>68.0</td>\n",
              "      <td>0</td>\n",
              "      <td>0</td>\n",
              "      <td>1</td>\n",
              "      <td>8.0</td>\n",
              "      <td>0</td>\n",
              "      <td>0</td>\n",
              "      <td>2</td>\n",
              "    </tr>\n",
              "    <tr>\n",
              "      <th>1</th>\n",
              "      <td>18.0</td>\n",
              "      <td>1</td>\n",
              "      <td>1</td>\n",
              "      <td>2</td>\n",
              "      <td>7.0</td>\n",
              "      <td>1</td>\n",
              "      <td>0</td>\n",
              "      <td>1</td>\n",
              "    </tr>\n",
              "    <tr>\n",
              "      <th>2</th>\n",
              "      <td>18.0</td>\n",
              "      <td>1</td>\n",
              "      <td>1</td>\n",
              "      <td>3</td>\n",
              "      <td>7.0</td>\n",
              "      <td>1</td>\n",
              "      <td>2</td>\n",
              "      <td>2</td>\n",
              "    </tr>\n",
              "    <tr>\n",
              "      <th>3</th>\n",
              "      <td>21.0</td>\n",
              "      <td>0</td>\n",
              "      <td>0</td>\n",
              "      <td>2</td>\n",
              "      <td>7.0</td>\n",
              "      <td>0</td>\n",
              "      <td>1</td>\n",
              "      <td>1</td>\n",
              "    </tr>\n",
              "    <tr>\n",
              "      <th>4</th>\n",
              "      <td>36.0</td>\n",
              "      <td>1</td>\n",
              "      <td>0</td>\n",
              "      <td>3</td>\n",
              "      <td>5.0</td>\n",
              "      <td>0</td>\n",
              "      <td>1</td>\n",
              "      <td>0</td>\n",
              "    </tr>\n",
              "    <tr>\n",
              "      <th>...</th>\n",
              "      <td>...</td>\n",
              "      <td>...</td>\n",
              "      <td>...</td>\n",
              "      <td>...</td>\n",
              "      <td>...</td>\n",
              "      <td>...</td>\n",
              "      <td>...</td>\n",
              "      <td>...</td>\n",
              "    </tr>\n",
              "    <tr>\n",
              "      <th>909451</th>\n",
              "      <td>50.0</td>\n",
              "      <td>1</td>\n",
              "      <td>1</td>\n",
              "      <td>2</td>\n",
              "      <td>6.0</td>\n",
              "      <td>1</td>\n",
              "      <td>2</td>\n",
              "      <td>0</td>\n",
              "    </tr>\n",
              "    <tr>\n",
              "      <th>909452</th>\n",
              "      <td>68.0</td>\n",
              "      <td>1</td>\n",
              "      <td>0</td>\n",
              "      <td>2</td>\n",
              "      <td>8.0</td>\n",
              "      <td>0</td>\n",
              "      <td>1</td>\n",
              "      <td>2</td>\n",
              "    </tr>\n",
              "    <tr>\n",
              "      <th>909453</th>\n",
              "      <td>59.0</td>\n",
              "      <td>0</td>\n",
              "      <td>0</td>\n",
              "      <td>3</td>\n",
              "      <td>7.0</td>\n",
              "      <td>1</td>\n",
              "      <td>0</td>\n",
              "      <td>2</td>\n",
              "    </tr>\n",
              "    <tr>\n",
              "      <th>909454</th>\n",
              "      <td>48.0</td>\n",
              "      <td>1</td>\n",
              "      <td>0</td>\n",
              "      <td>2</td>\n",
              "      <td>6.0</td>\n",
              "      <td>0</td>\n",
              "      <td>2</td>\n",
              "      <td>1</td>\n",
              "    </tr>\n",
              "    <tr>\n",
              "      <th>909455</th>\n",
              "      <td>47.0</td>\n",
              "      <td>1</td>\n",
              "      <td>1</td>\n",
              "      <td>3</td>\n",
              "      <td>7.0</td>\n",
              "      <td>0</td>\n",
              "      <td>2</td>\n",
              "      <td>2</td>\n",
              "    </tr>\n",
              "  </tbody>\n",
              "</table>\n",
              "<p>909456 rows × 8 columns</p>\n",
              "</div>"
            ],
            "text/plain": [
              "         age  gender  hand  ...  edu_level  commute_level  home_env\n",
              "0       68.0       0     0  ...          0              0         2\n",
              "1       18.0       1     1  ...          1              0         1\n",
              "2       18.0       1     1  ...          1              2         2\n",
              "3       21.0       0     0  ...          0              1         1\n",
              "4       36.0       1     0  ...          0              1         0\n",
              "...      ...     ...   ...  ...        ...            ...       ...\n",
              "909451  50.0       1     1  ...          1              2         0\n",
              "909452  68.0       1     0  ...          0              1         2\n",
              "909453  59.0       0     0  ...          1              0         2\n",
              "909454  48.0       1     0  ...          0              2         1\n",
              "909455  47.0       1     1  ...          0              2         2\n",
              "\n",
              "[909456 rows x 8 columns]"
            ]
          },
          "metadata": {},
          "execution_count": 21
        }
      ]
    },
    {
      "cell_type": "code",
      "metadata": {
        "id": "XkssINr9atpi",
        "colab": {
          "base_uri": "https://localhost:8080/",
          "height": 290
        },
        "outputId": "9319dece-2fe0-4f36-f93c-07f21fb893a2"
      },
      "source": [
        "df_model.corr(method= 'spearman')"
      ],
      "execution_count": null,
      "outputs": [
        {
          "output_type": "execute_result",
          "data": {
            "text/html": [
              "<div>\n",
              "<style scoped>\n",
              "    .dataframe tbody tr th:only-of-type {\n",
              "        vertical-align: middle;\n",
              "    }\n",
              "\n",
              "    .dataframe tbody tr th {\n",
              "        vertical-align: top;\n",
              "    }\n",
              "\n",
              "    .dataframe thead th {\n",
              "        text-align: right;\n",
              "    }\n",
              "</style>\n",
              "<table border=\"1\" class=\"dataframe\">\n",
              "  <thead>\n",
              "    <tr style=\"text-align: right;\">\n",
              "      <th></th>\n",
              "      <th>age</th>\n",
              "      <th>gender</th>\n",
              "      <th>hand</th>\n",
              "      <th>navigating_skills</th>\n",
              "      <th>sleep</th>\n",
              "      <th>edu_level</th>\n",
              "      <th>commute_level</th>\n",
              "      <th>home_env</th>\n",
              "    </tr>\n",
              "  </thead>\n",
              "  <tbody>\n",
              "    <tr>\n",
              "      <th>age</th>\n",
              "      <td>1.000000</td>\n",
              "      <td>-0.038304</td>\n",
              "      <td>-0.017071</td>\n",
              "      <td>0.033042</td>\n",
              "      <td>-0.215235</td>\n",
              "      <td>0.213479</td>\n",
              "      <td>-0.120294</td>\n",
              "      <td>-0.049480</td>\n",
              "    </tr>\n",
              "    <tr>\n",
              "      <th>gender</th>\n",
              "      <td>-0.038304</td>\n",
              "      <td>1.000000</td>\n",
              "      <td>0.031973</td>\n",
              "      <td>0.226121</td>\n",
              "      <td>-0.044463</td>\n",
              "      <td>-0.016046</td>\n",
              "      <td>0.098331</td>\n",
              "      <td>0.046558</td>\n",
              "    </tr>\n",
              "    <tr>\n",
              "      <th>hand</th>\n",
              "      <td>-0.017071</td>\n",
              "      <td>0.031973</td>\n",
              "      <td>1.000000</td>\n",
              "      <td>0.001885</td>\n",
              "      <td>0.005509</td>\n",
              "      <td>-0.012204</td>\n",
              "      <td>-0.012994</td>\n",
              "      <td>-0.014665</td>\n",
              "    </tr>\n",
              "    <tr>\n",
              "      <th>navigating_skills</th>\n",
              "      <td>0.033042</td>\n",
              "      <td>0.226121</td>\n",
              "      <td>0.001885</td>\n",
              "      <td>1.000000</td>\n",
              "      <td>0.005942</td>\n",
              "      <td>0.034311</td>\n",
              "      <td>0.104755</td>\n",
              "      <td>0.000013</td>\n",
              "    </tr>\n",
              "    <tr>\n",
              "      <th>sleep</th>\n",
              "      <td>-0.215235</td>\n",
              "      <td>-0.044463</td>\n",
              "      <td>0.005509</td>\n",
              "      <td>0.005942</td>\n",
              "      <td>1.000000</td>\n",
              "      <td>-0.112959</td>\n",
              "      <td>-0.051843</td>\n",
              "      <td>0.006560</td>\n",
              "    </tr>\n",
              "    <tr>\n",
              "      <th>edu_level</th>\n",
              "      <td>0.213479</td>\n",
              "      <td>-0.016046</td>\n",
              "      <td>-0.012204</td>\n",
              "      <td>0.034311</td>\n",
              "      <td>-0.112959</td>\n",
              "      <td>1.000000</td>\n",
              "      <td>0.013472</td>\n",
              "      <td>0.007699</td>\n",
              "    </tr>\n",
              "    <tr>\n",
              "      <th>commute_level</th>\n",
              "      <td>-0.120294</td>\n",
              "      <td>0.098331</td>\n",
              "      <td>-0.012994</td>\n",
              "      <td>0.104755</td>\n",
              "      <td>-0.051843</td>\n",
              "      <td>0.013472</td>\n",
              "      <td>1.000000</td>\n",
              "      <td>0.058622</td>\n",
              "    </tr>\n",
              "    <tr>\n",
              "      <th>home_env</th>\n",
              "      <td>-0.049480</td>\n",
              "      <td>0.046558</td>\n",
              "      <td>-0.014665</td>\n",
              "      <td>0.000013</td>\n",
              "      <td>0.006560</td>\n",
              "      <td>0.007699</td>\n",
              "      <td>0.058622</td>\n",
              "      <td>1.000000</td>\n",
              "    </tr>\n",
              "  </tbody>\n",
              "</table>\n",
              "</div>"
            ],
            "text/plain": [
              "                        age    gender  ...  commute_level  home_env\n",
              "age                1.000000 -0.038304  ...      -0.120294 -0.049480\n",
              "gender            -0.038304  1.000000  ...       0.098331  0.046558\n",
              "hand              -0.017071  0.031973  ...      -0.012994 -0.014665\n",
              "navigating_skills  0.033042  0.226121  ...       0.104755  0.000013\n",
              "sleep             -0.215235 -0.044463  ...      -0.051843  0.006560\n",
              "edu_level          0.213479 -0.016046  ...       0.013472  0.007699\n",
              "commute_level     -0.120294  0.098331  ...       1.000000  0.058622\n",
              "home_env          -0.049480  0.046558  ...       0.058622  1.000000\n",
              "\n",
              "[8 rows x 8 columns]"
            ]
          },
          "metadata": {},
          "execution_count": 21
        }
      ]
    },
    {
      "cell_type": "code",
      "metadata": {
        "id": "gWAXCouJSjx-"
      },
      "source": [
        "df_model = df_model.rename(columns = {\"age\": \"age\", \"gender\": \"gender\", \"hand\":\"hand\", \"navigating_skills\": \"nav skills\", \"sleep\": \"sleep\", \"edu_level\": \"edu\", \"commute_level\":\"commute\", \"home_env\":\"env\"})\n"
      ],
      "execution_count": null,
      "outputs": []
    },
    {
      "cell_type": "code",
      "metadata": {
        "colab": {
          "base_uri": "https://localhost:8080/",
          "height": 392
        },
        "id": "YSDhUAVvLcph",
        "outputId": "36aaafcd-7e87-415b-b4f0-c24486308ae3"
      },
      "source": [
        "# Increase the size of the heatmap.\n",
        "sns.set(font_scale=1.8)\n",
        "plt.figure(figsize=(16, 6))\n",
        "# Store heatmap object in a variable to easily access it when you want to include more features (such as title).\n",
        "# Set the range of values to be displayed on the colormap from -1 to 1, and set the annotation to True to display the correlation values on the heatmap.\n",
        "heatmap = sns.heatmap(df_model.corr('spearman'), vmin=-1, vmax=1, annot=True, annot_kws={\"size\":18}, cmap='BrBG')\n",
        "# Give a title to the heatmap. Pad defines the distance of the title from the top of the heatmap.\n",
        "#heatmap.set_title('Correlation Heatmap', fontdict={'fontsize':15}, pad=12);\n",
        "\n"
      ],
      "execution_count": null,
      "outputs": [
        {
          "output_type": "display_data",
          "data": {
            "image/png": "[encoded data removed]",
            "text/plain": [
              "<Figure size 1152x432 with 2 Axes>"
            ]
          },
          "metadata": {}
        }
      ]
    },
    {
      "cell_type": "markdown",
      "metadata": {
        "id": "g-3YvAwT52A8"
      },
      "source": [
        "## Step 2. Evaluate the “factorability” of our dataset."
      ]
    },
    {
      "cell_type": "code",
      "metadata": {
        "id": "k_elXiuTmgwK",
        "colab": {
          "base_uri": "https://localhost:8080/"
        },
        "outputId": "0ebf82c5-a3fb-4a3d-d6cf-66c338281209"
      },
      "source": [
        "#!pip install factor_analyzer==0.2.3\n",
        "!pip install factor_analyzer"
      ],
      "execution_count": null,
      "outputs": [
        {
          "output_type": "stream",
          "name": "stdout",
          "text": [
            "Requirement already satisfied: factor_analyzer in /usr/local/lib/python3.7/dist-packages (0.2.3)\n",
            "Requirement already satisfied: numpy in /usr/local/lib/python3.7/dist-packages (from factor_analyzer) (1.19.5)\n",
            "Requirement already satisfied: pandas in /usr/local/lib/python3.7/dist-packages (from factor_analyzer) (1.1.5)\n",
            "Requirement already satisfied: scipy in /usr/local/lib/python3.7/dist-packages (from factor_analyzer) (1.4.1)\n",
            "Requirement already satisfied: pytz>=2017.2 in /usr/local/lib/python3.7/dist-packages (from pandas->factor_analyzer) (2018.9)\n",
            "Requirement already satisfied: python-dateutil>=2.7.3 in /usr/local/lib/python3.7/dist-packages (from pandas->factor_analyzer) (2.8.2)\n",
            "Requirement already satisfied: six>=1.5 in /usr/local/lib/python3.7/dist-packages (from python-dateutil>=2.7.3->pandas->factor_analyzer) (1.15.0)\n"
          ]
        }
      ]
    },
    {
      "cell_type": "code",
      "metadata": {
        "colab": {
          "base_uri": "https://localhost:8080/"
        },
        "id": "pUMYW9gs5pFp",
        "outputId": "062ffeb9-ee33-4f0a-fead-c2985329ed69"
      },
      "source": [
        "# adequacy test\n",
        "#checks whether or not the observed variables intercorrelate at all using the observed correlation matrix against the identity matrix. If the test found statistically insignificant, you should not employ a factor analysis.\n",
        "from factor_analyzer.factor_analyzer import calculate_bartlett_sphericity\n",
        "chi_square_value,p_value=calculate_bartlett_sphericity(df_model4)\n",
        "chi_square_value, p_value"
      ],
      "execution_count": null,
      "outputs": [
        {
          "output_type": "execute_result",
          "data": {
            "text/plain": [
              "(153861.94341524306, 0.0)"
            ]
          },
          "metadata": {},
          "execution_count": 40
        }
      ]
    },
    {
      "cell_type": "markdown",
      "metadata": {
        "id": "YTqhUJrxcATn"
      },
      "source": [
        "In this Bartlett ’s test, the p-value is 0. The test was statistically significant, indicating that the observed correlation matrix is not an identity matrix."
      ]
    },
    {
      "cell_type": "markdown",
      "metadata": {
        "id": "JJy3F5Bncbu5"
      },
      "source": [
        "Kaiser-Meyer-Olkin (KMO) Test measures the suitability of data for factor analysis. It determines the adequacy for each observed variable and for the complete model. KMO estimates the proportion of variance among all the observed variable. Lower proportion id more suitable for factor analysis. KMO values range between 0 and 1. Value of KMO less than 0.6 is considered inadequate."
      ]
    },
    {
      "cell_type": "code",
      "metadata": {
        "id": "g-keW_fG8ZJy",
        "colab": {
          "base_uri": "https://localhost:8080/"
        },
        "outputId": "15bc719c-02e7-47ed-86d5-e51b33e66dc7"
      },
      "source": [
        "from factor_analyzer.factor_analyzer import calculate_kmo\n",
        "kmo_all,kmo_model=calculate_kmo(df_model4)\n",
        "\n",
        "kmo_model"
      ],
      "execution_count": null,
      "outputs": [
        {
          "output_type": "execute_result",
          "data": {
            "text/plain": [
              "0.5184296957550112"
            ]
          },
          "metadata": {},
          "execution_count": 41
        }
      ]
    },
    {
      "cell_type": "code",
      "metadata": {
        "id": "fHto9Xf_cM3s"
      },
      "source": [
        "# Create factor analysis object and perform factor analysis\n",
        "fa = FactorAnalyzer()\n",
        "#fa.fit(df_model4_standardized)\n",
        "fa.analyze(df_model4_standardized, 8, rotation=None, method='ml') # 'minres' , 'principal'\n",
        "\n",
        "eigen_values, vectors = fa.get_eigenvalues()\n",
        "# Check Eigenvalues\n",
        "#ev, v = fa.get_eigenvalues()\n",
        "#ev"
      ],
      "execution_count": null,
      "outputs": []
    },
    {
      "cell_type": "code",
      "metadata": {
        "colab": {
          "base_uri": "https://localhost:8080/",
          "height": 290
        },
        "id": "RHV0G8x7eDJj",
        "outputId": "332b50c5-bd31-4439-9c84-8c79803e782d"
      },
      "source": [
        "eigen_values \n",
        "# Eigenvalues represent the total amount of variance that can be explained by a given principal component. \n",
        "# Eigenvalues are also the sum of squared component loadings across all items for each component, which represent the amount of variance in each item that can be explained by the principal component."
      ],
      "execution_count": null,
      "outputs": [
        {
          "output_type": "execute_result",
          "data": {
            "text/html": [
              "<div>\n",
              "<style scoped>\n",
              "    .dataframe tbody tr th:only-of-type {\n",
              "        vertical-align: middle;\n",
              "    }\n",
              "\n",
              "    .dataframe tbody tr th {\n",
              "        vertical-align: top;\n",
              "    }\n",
              "\n",
              "    .dataframe thead th {\n",
              "        text-align: right;\n",
              "    }\n",
              "</style>\n",
              "<table border=\"1\" class=\"dataframe\">\n",
              "  <thead>\n",
              "    <tr style=\"text-align: right;\">\n",
              "      <th></th>\n",
              "      <th>Original_Eigenvalues</th>\n",
              "    </tr>\n",
              "  </thead>\n",
              "  <tbody>\n",
              "    <tr>\n",
              "      <th>0</th>\n",
              "      <td>1.348814</td>\n",
              "    </tr>\n",
              "    <tr>\n",
              "      <th>1</th>\n",
              "      <td>1.272872</td>\n",
              "    </tr>\n",
              "    <tr>\n",
              "      <th>2</th>\n",
              "      <td>1.041719</td>\n",
              "    </tr>\n",
              "    <tr>\n",
              "      <th>3</th>\n",
              "      <td>0.989787</td>\n",
              "    </tr>\n",
              "    <tr>\n",
              "      <th>4</th>\n",
              "      <td>0.947114</td>\n",
              "    </tr>\n",
              "    <tr>\n",
              "      <th>5</th>\n",
              "      <td>0.906132</td>\n",
              "    </tr>\n",
              "    <tr>\n",
              "      <th>6</th>\n",
              "      <td>0.790397</td>\n",
              "    </tr>\n",
              "    <tr>\n",
              "      <th>7</th>\n",
              "      <td>0.703166</td>\n",
              "    </tr>\n",
              "  </tbody>\n",
              "</table>\n",
              "</div>"
            ],
            "text/plain": [
              "   Original_Eigenvalues\n",
              "0              1.348814\n",
              "1              1.272872\n",
              "2              1.041719\n",
              "3              0.989787\n",
              "4              0.947114\n",
              "5              0.906132\n",
              "6              0.790397\n",
              "7              0.703166"
            ]
          },
          "metadata": {},
          "execution_count": 43
        }
      ]
    },
    {
      "cell_type": "markdown",
      "metadata": {
        "id": "TB2rNkOhjGVc"
      },
      "source": [
        "Here, you can see only 3-factors eigenvalues are greater than one. It means we need to choose only 3 factors (or unobserved variables).\n",
        "\n"
      ]
    },
    {
      "cell_type": "code",
      "metadata": {
        "colab": {
          "base_uri": "https://localhost:8080/",
          "height": 290
        },
        "id": "n2c53S9heF_U",
        "outputId": "c68d0d64-729f-4f48-88ed-7dd86a1367d2"
      },
      "source": [
        "vectors \n",
        "# Eigenvectors represent a weight for each eigenvalue. "
      ],
      "execution_count": null,
      "outputs": [
        {
          "output_type": "execute_result",
          "data": {
            "text/html": [
              "<div>\n",
              "<style scoped>\n",
              "    .dataframe tbody tr th:only-of-type {\n",
              "        vertical-align: middle;\n",
              "    }\n",
              "\n",
              "    .dataframe tbody tr th {\n",
              "        vertical-align: top;\n",
              "    }\n",
              "\n",
              "    .dataframe thead th {\n",
              "        text-align: right;\n",
              "    }\n",
              "</style>\n",
              "<table border=\"1\" class=\"dataframe\">\n",
              "  <thead>\n",
              "    <tr style=\"text-align: right;\">\n",
              "      <th></th>\n",
              "      <th>Common_Factor_Eigenvalues</th>\n",
              "    </tr>\n",
              "  </thead>\n",
              "  <tbody>\n",
              "    <tr>\n",
              "      <th>0</th>\n",
              "      <td>0.483425</td>\n",
              "    </tr>\n",
              "    <tr>\n",
              "      <th>1</th>\n",
              "      <td>0.402388</td>\n",
              "    </tr>\n",
              "    <tr>\n",
              "      <th>2</th>\n",
              "      <td>0.121644</td>\n",
              "    </tr>\n",
              "    <tr>\n",
              "      <th>3</th>\n",
              "      <td>0.027296</td>\n",
              "    </tr>\n",
              "    <tr>\n",
              "      <th>4</th>\n",
              "      <td>0.013958</td>\n",
              "    </tr>\n",
              "    <tr>\n",
              "      <th>5</th>\n",
              "      <td>-0.006009</td>\n",
              "    </tr>\n",
              "    <tr>\n",
              "      <th>6</th>\n",
              "      <td>-0.084745</td>\n",
              "    </tr>\n",
              "    <tr>\n",
              "      <th>7</th>\n",
              "      <td>-0.158582</td>\n",
              "    </tr>\n",
              "  </tbody>\n",
              "</table>\n",
              "</div>"
            ],
            "text/plain": [
              "   Common_Factor_Eigenvalues\n",
              "0                   0.483425\n",
              "1                   0.402388\n",
              "2                   0.121644\n",
              "3                   0.027296\n",
              "4                   0.013958\n",
              "5                  -0.006009\n",
              "6                  -0.084745\n",
              "7                  -0.158582"
            ]
          },
          "metadata": {},
          "execution_count": 44
        }
      ]
    },
    {
      "cell_type": "code",
      "metadata": {
        "colab": {
          "base_uri": "https://localhost:8080/",
          "height": 295
        },
        "id": "d4tJEssdjRhj",
        "outputId": "d7c94435-5f17-4747-dae6-e60a65203922"
      },
      "source": [
        "# Create scree plot using matplotlib\n",
        "plt.scatter(range(1,df_model4_standardized.shape[1]+1),eigen_values)\n",
        "plt.plot(range(1,df_model4_standardized.shape[1]+1),eigen_values)\n",
        "plt.title('Scree Plot')\n",
        "plt.xlabel('Factors')\n",
        "plt.ylabel('Eigenvalue')\n",
        "plt.grid()\n",
        "plt.show()"
      ],
      "execution_count": null,
      "outputs": [
        {
          "output_type": "display_data",
          "data": {
            "image/png": "[encoded data removed]",
            "text/plain": [
              "<Figure size 432x288 with 1 Axes>"
            ]
          },
          "metadata": {
            "needs_background": "light"
          }
        }
      ]
    },
    {
      "cell_type": "markdown",
      "metadata": {
        "id": "rE-6ax4zjxw7"
      },
      "source": [
        "# Step 3. Exploratory Factor Analysis (Traditional Approach)\n"
      ]
    },
    {
      "cell_type": "markdown",
      "metadata": {
        "id": "07Uu25bsm9sZ"
      },
      "source": [
        "Factor analysis for 3 factors"
      ]
    },
    {
      "cell_type": "markdown",
      "metadata": {
        "id": "UAlx8YlznEEb"
      },
      "source": [
        "The factor loading is a matrix which shows the relationship of each variable to the underlying factor. It shows the correlation coefficient for observed variable and factor. It shows the variance explained by the observed variables."
      ]
    },
    {
      "cell_type": "code",
      "metadata": {
        "id": "ge2VWM7Aj0nZ"
      },
      "source": [
        "# Create factor analysis object and perform factor analysis\n",
        "fa = FactorAnalyzer()\n",
        "#fa.analyze(df_model4_standardized, 3, rotation=\"varimax\")\n",
        "fa.analyze(df_model4_standardized, 3, rotation=\"oblimin\", method='ml')\n",
        "#fa.analyze(df_model4_standardized, 3, rotation=\"oblimax\")\n",
        "#fa.analyze(df_model4_standardized, 3, rotation=\"promax\")\n",
        "#fa.analyze(df_model4_standardized, 3, rotation=\"quartimin\")\n",
        "#fa.analyze(df_model4_standardized, 3, rotation=\"quartimax\")\n",
        "#fa.analyze(df_model4_standardized, 3, rotation=\"equamax\")"
      ],
      "execution_count": null,
      "outputs": []
    },
    {
      "cell_type": "code",
      "metadata": {
        "colab": {
          "base_uri": "https://localhost:8080/",
          "height": 297
        },
        "id": "DaN5IJ-l6uhH",
        "outputId": "3bb431e4-b8ae-4eff-b3ba-75b8f92fe0c3"
      },
      "source": [
        "fa.loadings # The eigenvector times the square root of the eigenvalue gives the \n",
        "# component loadings which can be interpreted as the correlation of each item with the principal component. "
      ],
      "execution_count": null,
      "outputs": [
        {
          "output_type": "execute_result",
          "data": {
            "text/html": [
              "<div>\n",
              "<style scoped>\n",
              "    .dataframe tbody tr th:only-of-type {\n",
              "        vertical-align: middle;\n",
              "    }\n",
              "\n",
              "    .dataframe tbody tr th {\n",
              "        vertical-align: top;\n",
              "    }\n",
              "\n",
              "    .dataframe thead th {\n",
              "        text-align: right;\n",
              "    }\n",
              "</style>\n",
              "<table border=\"1\" class=\"dataframe\">\n",
              "  <thead>\n",
              "    <tr style=\"text-align: right;\">\n",
              "      <th></th>\n",
              "      <th>Factor1</th>\n",
              "      <th>Factor2</th>\n",
              "      <th>Factor3</th>\n",
              "    </tr>\n",
              "  </thead>\n",
              "  <tbody>\n",
              "    <tr>\n",
              "      <th>age</th>\n",
              "      <td>0.024677</td>\n",
              "      <td>0.616779</td>\n",
              "      <td>-0.010862</td>\n",
              "    </tr>\n",
              "    <tr>\n",
              "      <th>gender</th>\n",
              "      <td>0.202940</td>\n",
              "      <td>-0.123705</td>\n",
              "      <td>0.169484</td>\n",
              "    </tr>\n",
              "    <tr>\n",
              "      <th>hand</th>\n",
              "      <td>0.001592</td>\n",
              "      <td>-0.022684</td>\n",
              "      <td>-0.012608</td>\n",
              "    </tr>\n",
              "    <tr>\n",
              "      <th>navigating_skills</th>\n",
              "      <td>0.997768</td>\n",
              "      <td>0.005025</td>\n",
              "      <td>-0.001689</td>\n",
              "    </tr>\n",
              "    <tr>\n",
              "      <th>sleep</th>\n",
              "      <td>0.045045</td>\n",
              "      <td>-0.287162</td>\n",
              "      <td>-0.340146</td>\n",
              "    </tr>\n",
              "    <tr>\n",
              "      <th>edu_level</th>\n",
              "      <td>0.008775</td>\n",
              "      <td>0.245736</td>\n",
              "      <td>0.179171</td>\n",
              "    </tr>\n",
              "    <tr>\n",
              "      <th>commute_level</th>\n",
              "      <td>0.067282</td>\n",
              "      <td>-0.243141</td>\n",
              "      <td>0.333189</td>\n",
              "    </tr>\n",
              "    <tr>\n",
              "      <th>home_env</th>\n",
              "      <td>-0.017160</td>\n",
              "      <td>-0.123543</td>\n",
              "      <td>0.122726</td>\n",
              "    </tr>\n",
              "  </tbody>\n",
              "</table>\n",
              "</div>"
            ],
            "text/plain": [
              "                    Factor1   Factor2   Factor3\n",
              "age                0.024677  0.616779 -0.010862\n",
              "gender             0.202940 -0.123705  0.169484\n",
              "hand               0.001592 -0.022684 -0.012608\n",
              "navigating_skills  0.997768  0.005025 -0.001689\n",
              "sleep              0.045045 -0.287162 -0.340146\n",
              "edu_level          0.008775  0.245736  0.179171\n",
              "commute_level      0.067282 -0.243141  0.333189\n",
              "home_env          -0.017160 -0.123543  0.122726"
            ]
          },
          "metadata": {},
          "execution_count": 38
        }
      ]
    },
    {
      "cell_type": "code",
      "metadata": {
        "colab": {
          "base_uri": "https://localhost:8080/",
          "height": 142
        },
        "id": "MIOkOIR-6-7X",
        "outputId": "bf083181-6079-432e-cb52-7234c59f93e3"
      },
      "source": [
        "fa.get_factor_variance()\n"
      ],
      "execution_count": null,
      "outputs": [
        {
          "output_type": "execute_result",
          "data": {
            "text/html": [
              "<div>\n",
              "<style scoped>\n",
              "    .dataframe tbody tr th:only-of-type {\n",
              "        vertical-align: middle;\n",
              "    }\n",
              "\n",
              "    .dataframe tbody tr th {\n",
              "        vertical-align: top;\n",
              "    }\n",
              "\n",
              "    .dataframe thead th {\n",
              "        text-align: right;\n",
              "    }\n",
              "</style>\n",
              "<table border=\"1\" class=\"dataframe\">\n",
              "  <thead>\n",
              "    <tr style=\"text-align: right;\">\n",
              "      <th></th>\n",
              "      <th>Factor1</th>\n",
              "      <th>Factor2</th>\n",
              "      <th>Factor3</th>\n",
              "    </tr>\n",
              "  </thead>\n",
              "  <tbody>\n",
              "    <tr>\n",
              "      <th>SS Loadings</th>\n",
              "      <td>1.044264</td>\n",
              "      <td>0.613487</td>\n",
              "      <td>0.302883</td>\n",
              "    </tr>\n",
              "    <tr>\n",
              "      <th>Proportion Var</th>\n",
              "      <td>0.130533</td>\n",
              "      <td>0.076686</td>\n",
              "      <td>0.037860</td>\n",
              "    </tr>\n",
              "    <tr>\n",
              "      <th>Cumulative Var</th>\n",
              "      <td>0.130533</td>\n",
              "      <td>0.207219</td>\n",
              "      <td>0.245079</td>\n",
              "    </tr>\n",
              "  </tbody>\n",
              "</table>\n",
              "</div>"
            ],
            "text/plain": [
              "                 Factor1   Factor2   Factor3\n",
              "SS Loadings     1.044264  0.613487  0.302883\n",
              "Proportion Var  0.130533  0.076686  0.037860\n",
              "Cumulative Var  0.130533  0.207219  0.245079"
            ]
          },
          "metadata": {
            "tags": []
          },
          "execution_count": 52
        }
      ]
    },
    {
      "cell_type": "markdown",
      "metadata": {
        "id": "SBmPb0n8Il6f"
      },
      "source": [
        "The lesser the variance of a latent variable, the better it can be predicted via observable variables."
      ]
    },
    {
      "cell_type": "markdown",
      "metadata": {
        "id": "Bk69bxBDodOv"
      },
      "source": [
        "Total 24.5% cumulative Variance explained by the 3 factors. Low variance explained means that the items qw have are not sufficient to explain the model. We should have additional items, since the once we have produced not enough variance for your dependent variable."
      ]
    },
    {
      "cell_type": "code",
      "metadata": {
        "colab": {
          "base_uri": "https://localhost:8080/"
        },
        "id": "VHTQAxJf-aC9",
        "outputId": "72cbcdf4-ebcb-4153-ef8a-4013d3c116ca"
      },
      "source": [
        "fa.phi # correlation among factors"
      ],
      "execution_count": null,
      "outputs": [
        {
          "output_type": "execute_result",
          "data": {
            "text/plain": [
              "array([[ 1.        , -0.01968637,  0.10978533],\n",
              "       [-0.01968637,  1.        ,  0.08871248],\n",
              "       [ 0.10978533,  0.08871248,  1.        ]])"
            ]
          },
          "metadata": {
            "tags": []
          },
          "execution_count": 53
        }
      ]
    },
    {
      "cell_type": "code",
      "metadata": {
        "id": "3Ewdtrf42i-k"
      },
      "source": [
        "df_model4_standardized.to_csv('/content/drive/My Drive/SHQ/Data/cfa_test_df2.csv', index=False)"
      ],
      "execution_count": null,
      "outputs": []
    },
    {
      "cell_type": "code",
      "metadata": {
        "id": "uYA32r1re8Hm",
        "colab": {
          "base_uri": "https://localhost:8080/"
        },
        "outputId": "0523212a-f677-4b47-86e1-cb265fbbb606"
      },
      "source": [
        "df_model4_standardized.info()"
      ],
      "execution_count": null,
      "outputs": [
        {
          "output_type": "stream",
          "name": "stdout",
          "text": [
            "<class 'pandas.core.frame.DataFrame'>\n",
            "RangeIndex: 909456 entries, 0 to 909455\n",
            "Data columns (total 8 columns):\n",
            " #   Column             Non-Null Count   Dtype  \n",
            "---  ------             --------------   -----  \n",
            " 0   age                909456 non-null  float64\n",
            " 1   gender             909456 non-null  int64  \n",
            " 2   hand               909456 non-null  int64  \n",
            " 3   navigating_skills  909456 non-null  int64  \n",
            " 4   sleep              909456 non-null  float64\n",
            " 5   edu_level          909456 non-null  int64  \n",
            " 6   commute_level      909456 non-null  int64  \n",
            " 7   home_env           909456 non-null  int64  \n",
            "dtypes: float64(2), int64(6)\n",
            "memory usage: 55.5 MB\n"
          ]
        }
      ]
    },
    {
      "cell_type": "code",
      "metadata": {
        "id": "CnQQYO7NrJGP"
      },
      "source": [
        "algo2 = AgglomerativeClustering(n_clusters = 4)\n",
        "y_pred = algo2.fit_predict(X_scaled)"
      ],
      "execution_count": null,
      "outputs": []
    },
    {
      "cell_type": "code",
      "metadata": {
        "id": "0mEhHS22rQMU"
      },
      "source": [
        "mglearn.discrete_scatter(X_scaled[:, 0], X_scaled[:,1], y_pred)\n",
        "plt.legend([\"cluster 0\", \"cluster 1\", \"cluster 2\", \"cluster 3\"], loc = 'best')\n",
        "plt.xlabel(\"Feature 0\")\n",
        "plt.ylabel(\"Feature 1\")"
      ],
      "execution_count": null,
      "outputs": []
    }
  ]
}