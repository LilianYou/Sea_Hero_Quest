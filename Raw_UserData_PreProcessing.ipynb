{
  "nbformat": 4,
  "nbformat_minor": 0,
  "metadata": {
    "kernelspec": {
      "display_name": "Python 3",
      "language": "python",
      "name": "python3"
    },
    "language_info": {
      "codemirror_mode": {
        "name": "ipython",
        "version": 3
      },
      "file_extension": ".py",
      "mimetype": "text/x-python",
      "name": "python",
      "nbconvert_exporter": "python",
      "pygments_lexer": "ipython3",
      "version": "3.7.6"
    },
    "colab": {
      "provenance": [],
      "collapsed_sections": [],
      "include_colab_link": true
    }
  },
  "cells": [
    {
      "cell_type": "markdown",
      "metadata": {
        "id": "view-in-github",
        "colab_type": "text"
      },
      "source": [
        "<a href=\"https://colab.research.google.com/github/LilianYou/Sea_Hero_Quest/blob/main/Raw_UserData_PreProcessing.ipynb\" target=\"_parent\"><img src=\"https://colab.research.google.com/assets/colab-badge.svg\" alt=\"Open In Colab\"/></a>"
      ]
    },
    {
      "cell_type": "markdown",
      "metadata": {
        "id": "L4CTtHYFkVeV"
      },
      "source": [
        "# User Data Pre-Processing\n",
        "\n",
        "- variable meanings are documented in shq_variables.html\n",
        "- The following codes are used to remove invalid rows and clean up typos"
      ]
    },
    {
      "cell_type": "code",
      "metadata": {
        "id": "N_d2QlbTkVec"
      },
      "source": [
        "# import library and show all the rows when print out the whole dataframe\n",
        "import pandas as pd\n",
        "import matplotlib.pyplot as plt\n",
        "import seaborn as sns\n",
        "pd.set_option('display.max_rows', None)"
      ],
      "execution_count": 1,
      "outputs": []
    },
    {
      "cell_type": "markdown",
      "metadata": {
        "id": "WH2pvE0nkVed"
      },
      "source": [
        "### Revert Json to CSV"
      ]
    },
    {
      "cell_type": "code",
      "metadata": {
        "id": "f0FaLvzJkVee"
      },
      "source": [
        "#df = pd.read_json(r'2019-12-16-latest-users.json',lines=True)\n",
        "#df.to_csv(r'2019-12-16-latest-users.csv', index = None)"
      ],
      "execution_count": null,
      "outputs": []
    },
    {
      "cell_type": "markdown",
      "metadata": {
        "id": "UUdb90pwkVef"
      },
      "source": [
        "### Raw Data Info"
      ]
    },
    {
      "cell_type": "code",
      "source": [
        "from google.colab import drive\n",
        "drive.mount('/content/drive')"
      ],
      "metadata": {
        "colab": {
          "base_uri": "https://localhost:8080/"
        },
        "id": "JKBeW3df4Jlo",
        "outputId": "26cc845d-8420-4539-920f-1f9240803efb"
      },
      "execution_count": 2,
      "outputs": [
        {
          "output_type": "stream",
          "name": "stdout",
          "text": [
            "Mounted at /content/drive\n"
          ]
        }
      ]
    },
    {
      "cell_type": "code",
      "source": [
        "cd /content/drive/MyDrive/Data"
      ],
      "metadata": {
        "colab": {
          "base_uri": "https://localhost:8080/"
        },
        "id": "OI7BVubRh5-s",
        "outputId": "ec6dc8c3-fe16-4f5a-ba12-f26c0de18ef9"
      },
      "execution_count": 3,
      "outputs": [
        {
          "output_type": "stream",
          "name": "stdout",
          "text": [
            "/content/drive/.shortcut-targets-by-id/1pS1W_QFv_TreubUVne2-kLNgsBSGwhhw/Data\n"
          ]
        }
      ]
    },
    {
      "cell_type": "code",
      "metadata": {
        "id": "6pfqNW2MkVef",
        "outputId": "acdcc27b-c6dc-41ba-b180-0f48bbdfe7a8",
        "colab": {
          "base_uri": "https://localhost:8080/",
          "height": 206
        }
      },
      "source": [
        "user_df = pd.read_csv('2019-12-16-latest-users.csv')\n",
        "user_df.head()"
      ],
      "execution_count": 4,
      "outputs": [
        {
          "output_type": "execute_result",
          "data": {
            "text/plain": [
              "                                   uuid                  stored_at  \\\n",
              "0  66857759-5d93-4635-914f-b643e34a7519  2018-04-11 13:37:03+00:00   \n",
              "1  2d51b872-d192-4392-851e-e693d4576980  2016-06-22 07:43:52+00:00   \n",
              "2  01d4e1af-2691-4312-b3f2-9b27c28e7578  2016-05-16 11:27:24+00:00   \n",
              "3  30a73f52-9bfd-4310-b284-58a896428c0a  2017-08-30 22:47:44+00:00   \n",
              "4  e1cecc23-b523-42f8-9b58-520ae053b48e  2016-07-31 23:36:48+00:00   \n",
              "\n",
              "  activity_recent  activityrecent   age    education gender   hand  \\\n",
              "0             NaN             NaN  16.0  high-school      m  right   \n",
              "1             NaN             NaN   NaN          NaN    NaN    NaN   \n",
              "2             NaN             NaN  99.0          NaN      m    NaN   \n",
              "3             NaN             NaN  68.0      college      f  right   \n",
              "4             NaN             NaN  18.0  high-school      m   left   \n",
              "\n",
              "  home_environment location navigating_skills  sleep        travel_time  \n",
              "0          suburbs       US         very-good    6.0  30-mins-to-1-hour  \n",
              "1              NaN      NaN               NaN    NaN                NaN  \n",
              "2              NaN       LB               NaN    NaN                NaN  \n",
              "3             city       CA               bad    8.0       less-30-mins  \n",
              "4            mixed       SK              good    7.0       less-30-mins  "
            ],
            "text/html": [
              "\n",
              "  <div id=\"df-db033795-87b1-4ab1-8c0d-dfda2a45ae23\">\n",
              "    <div class=\"colab-df-container\">\n",
              "      <div>\n",
              "<style scoped>\n",
              "    .dataframe tbody tr th:only-of-type {\n",
              "        vertical-align: middle;\n",
              "    }\n",
              "\n",
              "    .dataframe tbody tr th {\n",
              "        vertical-align: top;\n",
              "    }\n",
              "\n",
              "    .dataframe thead th {\n",
              "        text-align: right;\n",
              "    }\n",
              "</style>\n",
              "<table border=\"1\" class=\"dataframe\">\n",
              "  <thead>\n",
              "    <tr style=\"text-align: right;\">\n",
              "      <th></th>\n",
              "      <th>uuid</th>\n",
              "      <th>stored_at</th>\n",
              "      <th>activity_recent</th>\n",
              "      <th>activityrecent</th>\n",
              "      <th>age</th>\n",
              "      <th>education</th>\n",
              "      <th>gender</th>\n",
              "      <th>hand</th>\n",
              "      <th>home_environment</th>\n",
              "      <th>location</th>\n",
              "      <th>navigating_skills</th>\n",
              "      <th>sleep</th>\n",
              "      <th>travel_time</th>\n",
              "    </tr>\n",
              "  </thead>\n",
              "  <tbody>\n",
              "    <tr>\n",
              "      <th>0</th>\n",
              "      <td>66857759-5d93-4635-914f-b643e34a7519</td>\n",
              "      <td>2018-04-11 13:37:03+00:00</td>\n",
              "      <td>NaN</td>\n",
              "      <td>NaN</td>\n",
              "      <td>16.0</td>\n",
              "      <td>high-school</td>\n",
              "      <td>m</td>\n",
              "      <td>right</td>\n",
              "      <td>suburbs</td>\n",
              "      <td>US</td>\n",
              "      <td>very-good</td>\n",
              "      <td>6.0</td>\n",
              "      <td>30-mins-to-1-hour</td>\n",
              "    </tr>\n",
              "    <tr>\n",
              "      <th>1</th>\n",
              "      <td>2d51b872-d192-4392-851e-e693d4576980</td>\n",
              "      <td>2016-06-22 07:43:52+00:00</td>\n",
              "      <td>NaN</td>\n",
              "      <td>NaN</td>\n",
              "      <td>NaN</td>\n",
              "      <td>NaN</td>\n",
              "      <td>NaN</td>\n",
              "      <td>NaN</td>\n",
              "      <td>NaN</td>\n",
              "      <td>NaN</td>\n",
              "      <td>NaN</td>\n",
              "      <td>NaN</td>\n",
              "      <td>NaN</td>\n",
              "    </tr>\n",
              "    <tr>\n",
              "      <th>2</th>\n",
              "      <td>01d4e1af-2691-4312-b3f2-9b27c28e7578</td>\n",
              "      <td>2016-05-16 11:27:24+00:00</td>\n",
              "      <td>NaN</td>\n",
              "      <td>NaN</td>\n",
              "      <td>99.0</td>\n",
              "      <td>NaN</td>\n",
              "      <td>m</td>\n",
              "      <td>NaN</td>\n",
              "      <td>NaN</td>\n",
              "      <td>LB</td>\n",
              "      <td>NaN</td>\n",
              "      <td>NaN</td>\n",
              "      <td>NaN</td>\n",
              "    </tr>\n",
              "    <tr>\n",
              "      <th>3</th>\n",
              "      <td>30a73f52-9bfd-4310-b284-58a896428c0a</td>\n",
              "      <td>2017-08-30 22:47:44+00:00</td>\n",
              "      <td>NaN</td>\n",
              "      <td>NaN</td>\n",
              "      <td>68.0</td>\n",
              "      <td>college</td>\n",
              "      <td>f</td>\n",
              "      <td>right</td>\n",
              "      <td>city</td>\n",
              "      <td>CA</td>\n",
              "      <td>bad</td>\n",
              "      <td>8.0</td>\n",
              "      <td>less-30-mins</td>\n",
              "    </tr>\n",
              "    <tr>\n",
              "      <th>4</th>\n",
              "      <td>e1cecc23-b523-42f8-9b58-520ae053b48e</td>\n",
              "      <td>2016-07-31 23:36:48+00:00</td>\n",
              "      <td>NaN</td>\n",
              "      <td>NaN</td>\n",
              "      <td>18.0</td>\n",
              "      <td>high-school</td>\n",
              "      <td>m</td>\n",
              "      <td>left</td>\n",
              "      <td>mixed</td>\n",
              "      <td>SK</td>\n",
              "      <td>good</td>\n",
              "      <td>7.0</td>\n",
              "      <td>less-30-mins</td>\n",
              "    </tr>\n",
              "  </tbody>\n",
              "</table>\n",
              "</div>\n",
              "      <button class=\"colab-df-convert\" onclick=\"convertToInteractive('df-db033795-87b1-4ab1-8c0d-dfda2a45ae23')\"\n",
              "              title=\"Convert this dataframe to an interactive table.\"\n",
              "              style=\"display:none;\">\n",
              "        \n",
              "  <svg xmlns=\"http://www.w3.org/2000/svg\" height=\"24px\"viewBox=\"0 0 24 24\"\n",
              "       width=\"24px\">\n",
              "    <path d=\"M0 0h24v24H0V0z\" fill=\"none\"/>\n",
              "    <path d=\"M18.56 5.44l.94 2.06.94-2.06 2.06-.94-2.06-.94-.94-2.06-.94 2.06-2.06.94zm-11 1L8.5 8.5l.94-2.06 2.06-.94-2.06-.94L8.5 2.5l-.94 2.06-2.06.94zm10 10l.94 2.06.94-2.06 2.06-.94-2.06-.94-.94-2.06-.94 2.06-2.06.94z\"/><path d=\"M17.41 7.96l-1.37-1.37c-.4-.4-.92-.59-1.43-.59-.52 0-1.04.2-1.43.59L10.3 9.45l-7.72 7.72c-.78.78-.78 2.05 0 2.83L4 21.41c.39.39.9.59 1.41.59.51 0 1.02-.2 1.41-.59l7.78-7.78 2.81-2.81c.8-.78.8-2.07 0-2.86zM5.41 20L4 18.59l7.72-7.72 1.47 1.35L5.41 20z\"/>\n",
              "  </svg>\n",
              "      </button>\n",
              "      \n",
              "  <style>\n",
              "    .colab-df-container {\n",
              "      display:flex;\n",
              "      flex-wrap:wrap;\n",
              "      gap: 12px;\n",
              "    }\n",
              "\n",
              "    .colab-df-convert {\n",
              "      background-color: #E8F0FE;\n",
              "      border: none;\n",
              "      border-radius: 50%;\n",
              "      cursor: pointer;\n",
              "      display: none;\n",
              "      fill: #1967D2;\n",
              "      height: 32px;\n",
              "      padding: 0 0 0 0;\n",
              "      width: 32px;\n",
              "    }\n",
              "\n",
              "    .colab-df-convert:hover {\n",
              "      background-color: #E2EBFA;\n",
              "      box-shadow: 0px 1px 2px rgba(60, 64, 67, 0.3), 0px 1px 3px 1px rgba(60, 64, 67, 0.15);\n",
              "      fill: #174EA6;\n",
              "    }\n",
              "\n",
              "    [theme=dark] .colab-df-convert {\n",
              "      background-color: #3B4455;\n",
              "      fill: #D2E3FC;\n",
              "    }\n",
              "\n",
              "    [theme=dark] .colab-df-convert:hover {\n",
              "      background-color: #434B5C;\n",
              "      box-shadow: 0px 1px 3px 1px rgba(0, 0, 0, 0.15);\n",
              "      filter: drop-shadow(0px 1px 2px rgba(0, 0, 0, 0.3));\n",
              "      fill: #FFFFFF;\n",
              "    }\n",
              "  </style>\n",
              "\n",
              "      <script>\n",
              "        const buttonEl =\n",
              "          document.querySelector('#df-db033795-87b1-4ab1-8c0d-dfda2a45ae23 button.colab-df-convert');\n",
              "        buttonEl.style.display =\n",
              "          google.colab.kernel.accessAllowed ? 'block' : 'none';\n",
              "\n",
              "        async function convertToInteractive(key) {\n",
              "          const element = document.querySelector('#df-db033795-87b1-4ab1-8c0d-dfda2a45ae23');\n",
              "          const dataTable =\n",
              "            await google.colab.kernel.invokeFunction('convertToInteractive',\n",
              "                                                     [key], {});\n",
              "          if (!dataTable) return;\n",
              "\n",
              "          const docLinkHtml = 'Like what you see? Visit the ' +\n",
              "            '<a target=\"_blank\" href=https://colab.research.google.com/notebooks/data_table.ipynb>data table notebook</a>'\n",
              "            + ' to learn more about interactive tables.';\n",
              "          element.innerHTML = '';\n",
              "          dataTable['output_type'] = 'display_data';\n",
              "          await google.colab.output.renderOutput(dataTable, element);\n",
              "          const docLink = document.createElement('div');\n",
              "          docLink.innerHTML = docLinkHtml;\n",
              "          element.appendChild(docLink);\n",
              "        }\n",
              "      </script>\n",
              "    </div>\n",
              "  </div>\n",
              "  "
            ]
          },
          "metadata": {},
          "execution_count": 4
        }
      ]
    },
    {
      "cell_type": "markdown",
      "metadata": {
        "id": "-lVgvEuakVei"
      },
      "source": [
        "### Drop useless columns"
      ]
    },
    {
      "cell_type": "code",
      "metadata": {
        "id": "a59dqaY0kVei",
        "outputId": "398d1d69-35e4-4d40-9891-dd1ef01255b2",
        "colab": {
          "base_uri": "https://localhost:8080/"
        }
      },
      "source": [
        "# drop the variables useless to the demographical analysis\n",
        "user_drop = user_df.copy() #store check points\n",
        "user_drop = user_drop.drop(['stored_at','activity_recent','activityrecent'],axis=1)\n",
        "user_drop.info()"
      ],
      "execution_count": 6,
      "outputs": [
        {
          "output_type": "stream",
          "name": "stdout",
          "text": [
            "<class 'pandas.core.frame.DataFrame'>\n",
            "RangeIndex: 3936867 entries, 0 to 3936866\n",
            "Data columns (total 10 columns):\n",
            " #   Column             Dtype  \n",
            "---  ------             -----  \n",
            " 0   uuid               object \n",
            " 1   age                float64\n",
            " 2   education          object \n",
            " 3   gender             object \n",
            " 4   hand               object \n",
            " 5   home_environment   object \n",
            " 6   location           object \n",
            " 7   navigating_skills  object \n",
            " 8   sleep              float64\n",
            " 9   travel_time        object \n",
            "dtypes: float64(2), object(8)\n",
            "memory usage: 300.4+ MB\n"
          ]
        }
      ]
    },
    {
      "cell_type": "markdown",
      "metadata": {
        "id": "cXH1E-GFkVej"
      },
      "source": [
        "### Drop rows with NA"
      ]
    },
    {
      "cell_type": "code",
      "metadata": {
        "id": "4Hs9bLvtkVek"
      },
      "source": [
        "user_drop = user_drop.dropna()"
      ],
      "execution_count": 7,
      "outputs": []
    },
    {
      "cell_type": "code",
      "metadata": {
        "id": "7ebmK_9RkVek",
        "colab": {
          "base_uri": "https://localhost:8080/"
        },
        "outputId": "0e90b9a6-152b-4f11-aec9-f04dbfd80311"
      },
      "source": [
        "user_drop.info()"
      ],
      "execution_count": 8,
      "outputs": [
        {
          "output_type": "stream",
          "name": "stdout",
          "text": [
            "<class 'pandas.core.frame.DataFrame'>\n",
            "Int64Index: 1085236 entries, 0 to 3936863\n",
            "Data columns (total 10 columns):\n",
            " #   Column             Non-Null Count    Dtype  \n",
            "---  ------             --------------    -----  \n",
            " 0   uuid               1085236 non-null  object \n",
            " 1   age                1085236 non-null  float64\n",
            " 2   education          1085236 non-null  object \n",
            " 3   gender             1085236 non-null  object \n",
            " 4   hand               1085236 non-null  object \n",
            " 5   home_environment   1085236 non-null  object \n",
            " 6   location           1085236 non-null  object \n",
            " 7   navigating_skills  1085236 non-null  object \n",
            " 8   sleep              1085236 non-null  float64\n",
            " 9   travel_time        1085236 non-null  object \n",
            "dtypes: float64(2), object(8)\n",
            "memory usage: 91.1+ MB\n"
          ]
        }
      ]
    },
    {
      "cell_type": "code",
      "metadata": {
        "scrolled": true,
        "id": "mhn5jFuAkVel",
        "colab": {
          "base_uri": "https://localhost:8080/",
          "height": 300
        },
        "outputId": "f971d2df-0af6-4d9d-ad7c-63cace9e548e"
      },
      "source": [
        "user_drop.describe()"
      ],
      "execution_count": 9,
      "outputs": [
        {
          "output_type": "execute_result",
          "data": {
            "text/plain": [
              "                age         sleep\n",
              "count  1.085236e+06  1.085236e+06\n",
              "mean   3.490453e+01  7.269704e+00\n",
              "std    1.744085e+01  1.740011e+00\n",
              "min    1.600000e+01  1.000000e+00\n",
              "25%    1.900000e+01  6.000000e+00\n",
              "50%    3.000000e+01  7.000000e+00\n",
              "75%    4.700000e+01  8.000000e+00\n",
              "max    1.820000e+02  7.400000e+01"
            ],
            "text/html": [
              "\n",
              "  <div id=\"df-d18b9add-fd43-4597-b539-0cbabaff21c9\">\n",
              "    <div class=\"colab-df-container\">\n",
              "      <div>\n",
              "<style scoped>\n",
              "    .dataframe tbody tr th:only-of-type {\n",
              "        vertical-align: middle;\n",
              "    }\n",
              "\n",
              "    .dataframe tbody tr th {\n",
              "        vertical-align: top;\n",
              "    }\n",
              "\n",
              "    .dataframe thead th {\n",
              "        text-align: right;\n",
              "    }\n",
              "</style>\n",
              "<table border=\"1\" class=\"dataframe\">\n",
              "  <thead>\n",
              "    <tr style=\"text-align: right;\">\n",
              "      <th></th>\n",
              "      <th>age</th>\n",
              "      <th>sleep</th>\n",
              "    </tr>\n",
              "  </thead>\n",
              "  <tbody>\n",
              "    <tr>\n",
              "      <th>count</th>\n",
              "      <td>1.085236e+06</td>\n",
              "      <td>1.085236e+06</td>\n",
              "    </tr>\n",
              "    <tr>\n",
              "      <th>mean</th>\n",
              "      <td>3.490453e+01</td>\n",
              "      <td>7.269704e+00</td>\n",
              "    </tr>\n",
              "    <tr>\n",
              "      <th>std</th>\n",
              "      <td>1.744085e+01</td>\n",
              "      <td>1.740011e+00</td>\n",
              "    </tr>\n",
              "    <tr>\n",
              "      <th>min</th>\n",
              "      <td>1.600000e+01</td>\n",
              "      <td>1.000000e+00</td>\n",
              "    </tr>\n",
              "    <tr>\n",
              "      <th>25%</th>\n",
              "      <td>1.900000e+01</td>\n",
              "      <td>6.000000e+00</td>\n",
              "    </tr>\n",
              "    <tr>\n",
              "      <th>50%</th>\n",
              "      <td>3.000000e+01</td>\n",
              "      <td>7.000000e+00</td>\n",
              "    </tr>\n",
              "    <tr>\n",
              "      <th>75%</th>\n",
              "      <td>4.700000e+01</td>\n",
              "      <td>8.000000e+00</td>\n",
              "    </tr>\n",
              "    <tr>\n",
              "      <th>max</th>\n",
              "      <td>1.820000e+02</td>\n",
              "      <td>7.400000e+01</td>\n",
              "    </tr>\n",
              "  </tbody>\n",
              "</table>\n",
              "</div>\n",
              "      <button class=\"colab-df-convert\" onclick=\"convertToInteractive('df-d18b9add-fd43-4597-b539-0cbabaff21c9')\"\n",
              "              title=\"Convert this dataframe to an interactive table.\"\n",
              "              style=\"display:none;\">\n",
              "        \n",
              "  <svg xmlns=\"http://www.w3.org/2000/svg\" height=\"24px\"viewBox=\"0 0 24 24\"\n",
              "       width=\"24px\">\n",
              "    <path d=\"M0 0h24v24H0V0z\" fill=\"none\"/>\n",
              "    <path d=\"M18.56 5.44l.94 2.06.94-2.06 2.06-.94-2.06-.94-.94-2.06-.94 2.06-2.06.94zm-11 1L8.5 8.5l.94-2.06 2.06-.94-2.06-.94L8.5 2.5l-.94 2.06-2.06.94zm10 10l.94 2.06.94-2.06 2.06-.94-2.06-.94-.94-2.06-.94 2.06-2.06.94z\"/><path d=\"M17.41 7.96l-1.37-1.37c-.4-.4-.92-.59-1.43-.59-.52 0-1.04.2-1.43.59L10.3 9.45l-7.72 7.72c-.78.78-.78 2.05 0 2.83L4 21.41c.39.39.9.59 1.41.59.51 0 1.02-.2 1.41-.59l7.78-7.78 2.81-2.81c.8-.78.8-2.07 0-2.86zM5.41 20L4 18.59l7.72-7.72 1.47 1.35L5.41 20z\"/>\n",
              "  </svg>\n",
              "      </button>\n",
              "      \n",
              "  <style>\n",
              "    .colab-df-container {\n",
              "      display:flex;\n",
              "      flex-wrap:wrap;\n",
              "      gap: 12px;\n",
              "    }\n",
              "\n",
              "    .colab-df-convert {\n",
              "      background-color: #E8F0FE;\n",
              "      border: none;\n",
              "      border-radius: 50%;\n",
              "      cursor: pointer;\n",
              "      display: none;\n",
              "      fill: #1967D2;\n",
              "      height: 32px;\n",
              "      padding: 0 0 0 0;\n",
              "      width: 32px;\n",
              "    }\n",
              "\n",
              "    .colab-df-convert:hover {\n",
              "      background-color: #E2EBFA;\n",
              "      box-shadow: 0px 1px 2px rgba(60, 64, 67, 0.3), 0px 1px 3px 1px rgba(60, 64, 67, 0.15);\n",
              "      fill: #174EA6;\n",
              "    }\n",
              "\n",
              "    [theme=dark] .colab-df-convert {\n",
              "      background-color: #3B4455;\n",
              "      fill: #D2E3FC;\n",
              "    }\n",
              "\n",
              "    [theme=dark] .colab-df-convert:hover {\n",
              "      background-color: #434B5C;\n",
              "      box-shadow: 0px 1px 3px 1px rgba(0, 0, 0, 0.15);\n",
              "      filter: drop-shadow(0px 1px 2px rgba(0, 0, 0, 0.3));\n",
              "      fill: #FFFFFF;\n",
              "    }\n",
              "  </style>\n",
              "\n",
              "      <script>\n",
              "        const buttonEl =\n",
              "          document.querySelector('#df-d18b9add-fd43-4597-b539-0cbabaff21c9 button.colab-df-convert');\n",
              "        buttonEl.style.display =\n",
              "          google.colab.kernel.accessAllowed ? 'block' : 'none';\n",
              "\n",
              "        async function convertToInteractive(key) {\n",
              "          const element = document.querySelector('#df-d18b9add-fd43-4597-b539-0cbabaff21c9');\n",
              "          const dataTable =\n",
              "            await google.colab.kernel.invokeFunction('convertToInteractive',\n",
              "                                                     [key], {});\n",
              "          if (!dataTable) return;\n",
              "\n",
              "          const docLinkHtml = 'Like what you see? Visit the ' +\n",
              "            '<a target=\"_blank\" href=https://colab.research.google.com/notebooks/data_table.ipynb>data table notebook</a>'\n",
              "            + ' to learn more about interactive tables.';\n",
              "          element.innerHTML = '';\n",
              "          dataTable['output_type'] = 'display_data';\n",
              "          await google.colab.output.renderOutput(dataTable, element);\n",
              "          const docLink = document.createElement('div');\n",
              "          docLink.innerHTML = docLinkHtml;\n",
              "          element.appendChild(docLink);\n",
              "        }\n",
              "      </script>\n",
              "    </div>\n",
              "  </div>\n",
              "  "
            ]
          },
          "metadata": {},
          "execution_count": 9
        }
      ]
    },
    {
      "cell_type": "markdown",
      "metadata": {
        "id": "vMV781b6kVel"
      },
      "source": [
        "- **As shown in the summary table above, there are some invalid age values and sleep times**\n",
        "- **Given that the minimum age value can be input is 16, 16 is also a suspicious value for age**\n",
        "- **people older than 70 but also into playing video game are not representative**\n",
        "- **select age range 19 - 70**\n",
        "- **daily sleep hour larger than 13 hours or shorter than 2 hours (3sd away from the mean: 7.3 & based on previous sleep study) is suspicious**"
      ]
    },
    {
      "cell_type": "code",
      "metadata": {
        "id": "0R-AVo-RkVem"
      },
      "source": [
        "user_clean = user_drop.copy()"
      ],
      "execution_count": 10,
      "outputs": []
    },
    {
      "cell_type": "code",
      "source": [
        "user_clean = user_clean[(user_clean['sleep'] < 13) & (user_clean['sleep'] >2) ]"
      ],
      "metadata": {
        "id": "hypHi8-ujYjv"
      },
      "execution_count": 11,
      "outputs": []
    },
    {
      "cell_type": "code",
      "source": [
        "user_clean.info()"
      ],
      "metadata": {
        "colab": {
          "base_uri": "https://localhost:8080/"
        },
        "id": "8glT1hrYjZq7",
        "outputId": "a052895d-08f1-420a-e7eb-26f14a08bdbb"
      },
      "execution_count": 12,
      "outputs": [
        {
          "output_type": "stream",
          "name": "stdout",
          "text": [
            "<class 'pandas.core.frame.DataFrame'>\n",
            "Int64Index: 1066550 entries, 0 to 3936863\n",
            "Data columns (total 10 columns):\n",
            " #   Column             Non-Null Count    Dtype  \n",
            "---  ------             --------------    -----  \n",
            " 0   uuid               1066550 non-null  object \n",
            " 1   age                1066550 non-null  float64\n",
            " 2   education          1066550 non-null  object \n",
            " 3   gender             1066550 non-null  object \n",
            " 4   hand               1066550 non-null  object \n",
            " 5   home_environment   1066550 non-null  object \n",
            " 6   location           1066550 non-null  object \n",
            " 7   navigating_skills  1066550 non-null  object \n",
            " 8   sleep              1066550 non-null  float64\n",
            " 9   travel_time        1066550 non-null  object \n",
            "dtypes: float64(2), object(8)\n",
            "memory usage: 89.5+ MB\n"
          ]
        }
      ]
    },
    {
      "cell_type": "code",
      "metadata": {
        "id": "t0BwoqpUkVeq",
        "colab": {
          "base_uri": "https://localhost:8080/"
        },
        "outputId": "c0e1ab19-6652-4af9-945a-9df4eb0d6734"
      },
      "source": [
        "user_clean = user_clean[user_clean['age'] <= 70]\n",
        "user_clean = user_clean[user_clean['age'] > 18 ]\n",
        "user_clean.info()"
      ],
      "execution_count": 13,
      "outputs": [
        {
          "output_type": "stream",
          "name": "stdout",
          "text": [
            "<class 'pandas.core.frame.DataFrame'>\n",
            "Int64Index: 797952 entries, 3 to 3936863\n",
            "Data columns (total 10 columns):\n",
            " #   Column             Non-Null Count   Dtype  \n",
            "---  ------             --------------   -----  \n",
            " 0   uuid               797952 non-null  object \n",
            " 1   age                797952 non-null  float64\n",
            " 2   education          797952 non-null  object \n",
            " 3   gender             797952 non-null  object \n",
            " 4   hand               797952 non-null  object \n",
            " 5   home_environment   797952 non-null  object \n",
            " 6   location           797952 non-null  object \n",
            " 7   navigating_skills  797952 non-null  object \n",
            " 8   sleep              797952 non-null  float64\n",
            " 9   travel_time        797952 non-null  object \n",
            "dtypes: float64(2), object(8)\n",
            "memory usage: 67.0+ MB\n"
          ]
        }
      ]
    },
    {
      "cell_type": "code",
      "metadata": {
        "scrolled": false,
        "id": "UI7o2TGIkVes",
        "colab": {
          "base_uri": "https://localhost:8080/"
        },
        "outputId": "76575d67-96dd-4cd9-f058-792025e7a675"
      },
      "source": [
        "user_clean[\"home_environment\"].value_counts()/user_clean.shape[0]"
      ],
      "execution_count": 14,
      "outputs": [
        {
          "output_type": "execute_result",
          "data": {
            "text/plain": [
              "suburbs    0.317779\n",
              "city       0.307189\n",
              "mixed      0.203512\n",
              "rural      0.171518\n",
              "City       0.000003\n",
              "Name: home_environment, dtype: float64"
            ]
          },
          "metadata": {},
          "execution_count": 14
        }
      ]
    },
    {
      "cell_type": "code",
      "metadata": {
        "id": "UZ4VQPcUkVes",
        "colab": {
          "base_uri": "https://localhost:8080/"
        },
        "outputId": "37c90f25-3d7a-4137-dd82-f8e45311137f"
      },
      "source": [
        "user_clean[\"gender\"].value_counts()/user_clean.shape[0]"
      ],
      "execution_count": 15,
      "outputs": [
        {
          "output_type": "execute_result",
          "data": {
            "text/plain": [
              "m    0.522674\n",
              "f    0.477313\n",
              "o    0.000010\n",
              "M    0.000003\n",
              "Name: gender, dtype: float64"
            ]
          },
          "metadata": {},
          "execution_count": 15
        }
      ]
    },
    {
      "cell_type": "code",
      "metadata": {
        "id": "3BJOV9bZkVes",
        "colab": {
          "base_uri": "https://localhost:8080/"
        },
        "outputId": "97a2bd54-783f-4667-c020-514dd4979d81"
      },
      "source": [
        "user_clean[\"hand\"].value_counts()/user_clean.shape[0]"
      ],
      "execution_count": 16,
      "outputs": [
        {
          "output_type": "execute_result",
          "data": {
            "text/plain": [
              "right    0.900502\n",
              "left     0.099498\n",
              "Name: hand, dtype: float64"
            ]
          },
          "metadata": {},
          "execution_count": 16
        }
      ]
    },
    {
      "cell_type": "code",
      "metadata": {
        "id": "kvvKVlmskVet",
        "outputId": "9fee62bf-129f-49e4-bcd2-68d66b335044",
        "colab": {
          "base_uri": "https://localhost:8080/"
        }
      },
      "source": [
        "user_clean[\"education\"].value_counts()/user_clean.shape[0]"
      ],
      "execution_count": 17,
      "outputs": [
        {
          "output_type": "execute_result",
          "data": {
            "text/plain": [
              "university     0.426742\n",
              "college        0.267279\n",
              "high-school    0.248451\n",
              "unspecified    0.032981\n",
              "no-formal      0.024544\n",
              "College        0.000003\n",
              "Name: education, dtype: float64"
            ]
          },
          "metadata": {},
          "execution_count": 17
        }
      ]
    },
    {
      "cell_type": "code",
      "metadata": {
        "id": "UeXJW5DdkVeu",
        "colab": {
          "base_uri": "https://localhost:8080/"
        },
        "outputId": "6dc94228-fdef-44fe-8e59-1b71b01cdd97"
      },
      "source": [
        "user_clean[\"navigating_skills\"].value_counts()/user_clean.shape[0]"
      ],
      "execution_count": 18,
      "outputs": [
        {
          "output_type": "execute_result",
          "data": {
            "text/plain": [
              "good         0.546148\n",
              "very-good    0.318260\n",
              "bad          0.114878\n",
              "very-bad     0.020714\n",
              "Name: navigating_skills, dtype: float64"
            ]
          },
          "metadata": {},
          "execution_count": 18
        }
      ]
    },
    {
      "cell_type": "code",
      "metadata": {
        "id": "e5cNsnCBkVeu",
        "colab": {
          "base_uri": "https://localhost:8080/"
        },
        "outputId": "46801415-82a6-49c1-80fd-524dc18ca024"
      },
      "source": [
        "user_clean[\"travel_time\"].value_counts()/user_clean.shape[0]"
      ],
      "execution_count": 19,
      "outputs": [
        {
          "output_type": "execute_result",
          "data": {
            "text/plain": [
              "less-30-mins            0.399580\n",
              "30-mins-to-1-hour       0.346577\n",
              "hour-plus               0.253840\n",
              "Less than 30 minutes    0.000003\n",
              "Name: travel_time, dtype: float64"
            ]
          },
          "metadata": {},
          "execution_count": 19
        }
      ]
    },
    {
      "cell_type": "markdown",
      "metadata": {
        "id": "FNaZqUDkkVeu"
      },
      "source": [
        "- **As shown above, there are some typos**\n",
        "\n",
        "### Clean up typos"
      ]
    },
    {
      "cell_type": "code",
      "metadata": {
        "id": "cHdUOfRokVeu"
      },
      "source": [
        "user_clean['education'] = user_clean['education'].apply(lambda x: 'college' if x=='College' else x)\n",
        "user_clean['gender'] = user_clean['gender'].apply(lambda x: 'm' if x=='M' else x)\n",
        "user_clean['home_environment'] = user_clean['home_environment'].apply(lambda x: 'city' if x=='City' else x)\n",
        "user_clean['travel_time'] = user_clean['travel_time'].apply(lambda x: 'less-30-mins' if x=='Less than 30 minutes' else x)"
      ],
      "execution_count": 20,
      "outputs": []
    },
    {
      "cell_type": "markdown",
      "metadata": {
        "id": "pz0qDMcmkVeu"
      },
      "source": [
        "### Remove roles with useless levels"
      ]
    },
    {
      "cell_type": "code",
      "metadata": {
        "id": "dPwhj2SYkVev"
      },
      "source": [
        "# remove rows where gender == o\n",
        "user_clean = user_clean[user_clean['gender'] != 'o']"
      ],
      "execution_count": 21,
      "outputs": []
    },
    {
      "cell_type": "code",
      "metadata": {
        "id": "3YAaK9J_kVev",
        "outputId": "4e6eb969-c623-496e-cea4-3e8402393c23",
        "colab": {
          "base_uri": "https://localhost:8080/"
        }
      },
      "source": [
        "user_clean.info()"
      ],
      "execution_count": 22,
      "outputs": [
        {
          "output_type": "stream",
          "name": "stdout",
          "text": [
            "<class 'pandas.core.frame.DataFrame'>\n",
            "Int64Index: 797944 entries, 3 to 3936863\n",
            "Data columns (total 10 columns):\n",
            " #   Column             Non-Null Count   Dtype  \n",
            "---  ------             --------------   -----  \n",
            " 0   uuid               797944 non-null  object \n",
            " 1   age                797944 non-null  float64\n",
            " 2   education          797944 non-null  object \n",
            " 3   gender             797944 non-null  object \n",
            " 4   hand               797944 non-null  object \n",
            " 5   home_environment   797944 non-null  object \n",
            " 6   location           797944 non-null  object \n",
            " 7   navigating_skills  797944 non-null  object \n",
            " 8   sleep              797944 non-null  float64\n",
            " 9   travel_time        797944 non-null  object \n",
            "dtypes: float64(2), object(8)\n",
            "memory usage: 67.0+ MB\n"
          ]
        }
      ]
    },
    {
      "cell_type": "code",
      "source": [
        "# remove rows where education == unspecified\n",
        "user_clean = user_clean[user_clean['education'] != 'unspecified']\n",
        "user_clean.info()"
      ],
      "metadata": {
        "id": "583M66orkO_W",
        "colab": {
          "base_uri": "https://localhost:8080/"
        },
        "outputId": "3c04c4ef-ac83-445c-f403-b22f49b33e39"
      },
      "execution_count": 26,
      "outputs": [
        {
          "output_type": "stream",
          "name": "stdout",
          "text": [
            "<class 'pandas.core.frame.DataFrame'>\n",
            "Int64Index: 771628 entries, 3 to 3936863\n",
            "Data columns (total 10 columns):\n",
            " #   Column             Non-Null Count   Dtype  \n",
            "---  ------             --------------   -----  \n",
            " 0   uuid               771628 non-null  object \n",
            " 1   age                771628 non-null  float64\n",
            " 2   education          771628 non-null  object \n",
            " 3   gender             771628 non-null  object \n",
            " 4   hand               771628 non-null  object \n",
            " 5   home_environment   771628 non-null  object \n",
            " 6   location           771628 non-null  object \n",
            " 7   navigating_skills  771628 non-null  object \n",
            " 8   sleep              771628 non-null  float64\n",
            " 9   travel_time        771628 non-null  object \n",
            "dtypes: float64(2), object(8)\n",
            "memory usage: 64.8+ MB\n"
          ]
        }
      ]
    },
    {
      "cell_type": "code",
      "metadata": {
        "id": "LnzlGFj0kVev",
        "outputId": "effffce4-b0a9-497b-f02c-d907e3fd4670",
        "colab": {
          "base_uri": "https://localhost:8080/"
        }
      },
      "source": [
        "user_clean[\"gender\"].value_counts()/user_clean.shape[0]"
      ],
      "execution_count": 24,
      "outputs": [
        {
          "output_type": "execute_result",
          "data": {
            "text/plain": [
              "m    0.524158\n",
              "f    0.475842\n",
              "Name: gender, dtype: float64"
            ]
          },
          "metadata": {},
          "execution_count": 24
        }
      ]
    },
    {
      "cell_type": "code",
      "metadata": {
        "id": "fYCth9zjkVew",
        "colab": {
          "base_uri": "https://localhost:8080/"
        },
        "outputId": "7acb8138-8be4-46f1-c0e1-02b5c9c83d31"
      },
      "source": [
        "user_clean[\"education\"].value_counts()/user_clean.shape[0]"
      ],
      "execution_count": 25,
      "outputs": [
        {
          "output_type": "execute_result",
          "data": {
            "text/plain": [
              "university     0.441299\n",
              "college        0.276399\n",
              "high-school    0.256922\n",
              "no-formal      0.025380\n",
              "Name: education, dtype: float64"
            ]
          },
          "metadata": {},
          "execution_count": 25
        }
      ]
    },
    {
      "cell_type": "markdown",
      "source": [
        "### Check no curvilinear relationship between age and sleep"
      ],
      "metadata": {
        "id": "AL4svmxlREgt"
      }
    },
    {
      "cell_type": "code",
      "source": [
        "p1 = sns.regplot(x='age', y='sleep', data=user_clean,line_kws={'color': 'r'},scatter_kws={'alpha':0.005},lowess=True)"
      ],
      "metadata": {
        "colab": {
          "base_uri": "https://localhost:8080/",
          "height": 279
        },
        "id": "2z44nSWFAPzq",
        "outputId": "c42c931d-9898-4c28-bced-1c9dbcc6d222"
      },
      "execution_count": 27,
      "outputs": [
        {
          "output_type": "display_data",
          "data": {
            "text/plain": [
              "<Figure size 432x288 with 1 Axes>"
            ],
            "image/png": "[encoded data removed]"
          },
          "metadata": {
            "needs_background": "light"
          }
        }
      ]
    },
    {
      "cell_type": "markdown",
      "metadata": {
        "id": "j_9gqKcIkVew"
      },
      "source": [
        "### Explore CSV File"
      ]
    },
    {
      "cell_type": "code",
      "metadata": {
        "id": "3V5jvFhMkVew"
      },
      "source": [
        "user_clean.to_csv(\"2019user_cleaned_3121970.csv\",index=False)"
      ],
      "execution_count": null,
      "outputs": []
    }
  ]
}